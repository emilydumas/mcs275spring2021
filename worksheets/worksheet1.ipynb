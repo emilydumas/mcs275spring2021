{
 "cells": [
  {
   "cell_type": "markdown",
   "metadata": {},
   "source": [
    "# Worksheet 1\n",
    "\n",
    "## MCS 275 Spring 2021 - Emily Dumas"
   ]
  },
  {
   "cell_type": "markdown",
   "metadata": {},
   "source": [
    "## Instructions:\n",
    "* Future worksheets will focus exclusively on coding problems that give you practice with recent lecture material.\n",
    "* This first worksheet is a bit different, because it also guides you through some basic setup tasks (software installation etc.) you'll need to finish in order to work on course material.\n",
    "* You've already completed a course that involves Python programming, but for some of you it may have been a while ago, or it may have even used Python 2 (an older language we don't discuss in this course).  For this reason, we assume nothing about your setup and lay out every aspect of the setup you may need to do.  You may have already done most or all of this, especially if you took MCS 260 in Fall 2020.  But read through everything closely, because you should know what we assume you can do from now on.\n",
    "* The second part of this worksheet contains coding exercises to get your existing Python skills warmed up.  We'll start learning new stuff in week 2."
   ]
  },
  {
   "cell_type": "markdown",
   "metadata": {},
   "source": [
    "## Part I: Setting up a development enviroment"
   ]
  },
  {
   "cell_type": "markdown",
   "metadata": {},
   "source": [
    "The tasks in this part of the worksheet expand on the Getting Started steps listed in the course web page.\n",
    "\n",
    "Almost any computer with a web browser can access an on-campus Windows 10 computer that has all the necessary software installed, through [UIC Technology Solutions' Virtual Computer Lab service](https://accc.uic.edu/services/teaching-learning/learning-environments/virtual-computer-lab/).\n",
    "\n",
    "However, you will have a better experience if you can install the software necessary to develop programs on your own device.  (For example, many common keyboard shortcuts don't work in the virtual lab.)\n",
    "\n",
    "The steps below guide you through the process of installing the necessary software on your computer.  Work on them in today's discussion so that the TA can offer assistance if you encounter problems."
   ]
  },
  {
   "cell_type": "markdown",
   "metadata": {},
   "source": [
    "### 1. Install Python"
   ]
  },
  {
   "cell_type": "markdown",
   "metadata": {},
   "source": [
    "You'll need Python 3, version 3.6 or higher, installed on your computer to develop code for MCS 275.  The recommended method of installation depends on your platform:\n",
    "* Windows:  Install from the Microsoft Store (https://www.microsoft.com/en-us/p/python-38/9mssztt1n39l )\n",
    "* MacOS: In the latest version of MacOS, Python 3 will be pre-installed; check by running the command python3 in a terminal.  If it is not already installed, we recommend installing using homebrew; here are sample instructions: https://wsvincent.com/install-python3-mac/\n",
    "* Linux: Use your distribution package manager to find and install the latest version of Python 3, and confirm that it is version 3.6 or newer."
   ]
  },
  {
   "cell_type": "markdown",
   "metadata": {},
   "source": [
    "### 2. Open a terminal"
   ]
  },
  {
   "cell_type": "markdown",
   "metadata": {},
   "source": [
    "We'll do almost everything in MCS 275 using a text- and keyboard-based interface to your operating system.  This takes the form of a *terminal*.  The exact name will depend on your operating system.  Test that you can find and open this program on your computer:\n",
    "* Windows: The terminal we support for MCS 275 is Windows Powershell.  It is installed by default in Windows 7, 8, and 10.\n",
    "* MacOS: The terminal application is simply called \"Terminal\", and is installed by default.\n",
    "* Linux: The name and method of starting a terminal application depends on the distribution.  In Ubuntu, the application menu will contain an entry simply called \"Terminal\".\n",
    "\n",
    "Once you have a terminal open, check that you can list the files in the current directory with the command\n",
    "```\n",
    "ls\n",
    "```\n",
    "\n",
    "Retrieve the name of the current directory with the command\n",
    "```\n",
    "pwd\n",
    "```"
   ]
  },
  {
   "cell_type": "markdown",
   "metadata": {},
   "source": [
    "### 3. Determine your interpreter name\n",
    "\n",
    "Now that you know how to start a terminal, you need to determine how to start Python 3 (version 3.6 or later), which you have installed at this point, from within the terminal.\n",
    "\n",
    "Most likely, one of these commands can be intered into the terminal to start Python 3:\n",
    "```\n",
    "python\n",
    "python3\n",
    "```\n",
    "\n",
    "It is possible that one of these commands might start a different programming language (Python 2), so it's important to look at what is printed when you run the command and find the one that opens Python 3.  Here is what it will look like in the Virtual Lab:\n",
    "\n",
    "```\n",
    "PS C:\\windows\\system32\\WindowsPowerShell\\v1.0> python\n",
    "Python 3.9.1 (tags/v3.9.1:1e5d33e, Dec  7 2020, 17:08:21) [MSC v.1927 64 bit (AMD64)] on win32\n",
    "Type \"help\", \"copyright\", \"credits\" or \"license\" for more information.\n",
    ">>>\n",
    "```\n",
    "\n",
    "Note that this shows Python version 3.9.1.\n",
    "\n",
    "At the `>>>` prompt that Python displays, you can type\n",
    "```\n",
    "exit()\n",
    "```\n",
    "to quit Python and go back to the terminal.\n",
    "\n",
    "The command you use to run Python 3 is your **interpreter name**.  Make note of it, because you'll use it a lot.  Since it will be different for each student, the instructions for subsequent tasks require you to know your interpreter name."
   ]
  },
  {
   "cell_type": "markdown",
   "metadata": {},
   "source": [
    "### 4. Install Microsoft Visual Studio Code\n",
    "\n",
    "You'll need a programming text editor to work on MCS 275 assignments.  The one we support directly in the course, and which we ask everyone to install, is\n",
    "\n",
    "* [Microsoft Visual Studio Code](https://code.visualstudio.com/)\n",
    "\n",
    "This is a free program available for Windows, MacOS, and Linux.\n",
    "\n",
    "Install it using the instructions at the link above.\n",
    "\n",
    "(It is already installed in the Virtual Computer Lab.)\n",
    "\n",
    "After installing it, figure out how to start VS code, for example by using an icon on the desktop, the start menu, or whatever method your operating system uses to launch applications."
   ]
  },
  {
   "cell_type": "markdown",
   "metadata": {},
   "source": [
    "### 5. Write a short program in VS code\n",
    "\n",
    "Create a new file in VS code and paste the following text into it:\n",
    "\n",
    "```\n",
    "import sys\n",
    "print(\"Hello world!\")\n",
    "print(\"This program is running under Python \" + sys.version)\n",
    "```\n",
    "\n",
    "Save it with a filename `hello.py`.  When you save it, make note of where it ends up.  On Windows or MacOS, the default save location may be the Desktop, or the Documents folder.\n",
    "\n",
    "After you've saved the file, you can get a definitive answer about exactly where the file is stored on your computer as follows:  Right-click on the filename tab in the visual studio code window, and select \"Copy path\" from the menu that pops up.  Now, you can paste (Control-V) the filename into another application, such as the terminal. Try this.  The filename might look something like\n",
    "```\n",
    "C:\\Users\\ddumas\\Desktop\\hello.py\n",
    "```\n",
    "on Windows, or\n",
    "```\n",
    "/home/ddumas/Desktop/hello.py\n",
    "```\n",
    "on Linux.  The key point is that it shows the full name of the directory (e.g. `C:\\Users\\ddumas\\Desktop\\`) that contains the file."
   ]
  },
  {
   "cell_type": "markdown",
   "metadata": {},
   "source": [
    "### 6. Run your program in the terminal\n",
    "\n",
    "VS code has a button that can run a Python program.  We don't recommend using it at all in this course, as it is essential for you to learn how to navigate directories and how to launch Python scripts in the terminal.  We'll also write a lot of programs that deal with command line arguments, which can't be run using that button.\n",
    "\n",
    "Open the terminal and change the working directory to the one containing the file `hello.py` you created in task 5.  The `cd` command is used to do this.  For example, for the instructor's Windows 10 computer, the command to change directory is\n",
    "```\n",
    "cd C:\\Users\\ddumas\\Desktop\n",
    "```\n",
    "In general, the directory will be the initial part of the full path you get from VS code's \"Copy path\" menu option, all the way up to the last \"/\" or \"\\\" that appears in the path.\n",
    "\n",
    "Confirm that you're in the right directory by asking for a list of files.  The terminal command for this is\n",
    "\n",
    "```\n",
    "ls\n",
    "```\n",
    "\n",
    "You should see `hello.py` in the output of that command.\n",
    "\n",
    "Once you're in the right directory, run the script `hello.py` using a command that consists of the interpreter name followed by the filename `hello.py`.  That means it will probably be one of these:\n",
    "\n",
    "```\n",
    "python hello.py\n",
    "python3 hello.py\n",
    "```\n",
    "\n",
    "If this works, you should see output similar to\n",
    "```\n",
    "Hello world.\n",
    "This program is running under Python 3.8.5 (default, Jul 28 2020, 12:59:40) \n",
    "[GCC 9.3.0]\n",
    "```\n",
    "(This output was from a linux computer, and yours may differ a bit.  They key point is the Python version, which is 3.8.5 in the example above.)"
   ]
  },
  {
   "cell_type": "markdown",
   "metadata": {},
   "source": [
    "## Part II: Python Calisthenics\n",
    "\n",
    "This section gives a series of exercises (of roughly increasing complexity) in which you'll write programs that are based on things you are expected to have seen in a prerequisite course.  We'll talk about these in Lectures 2-3 as well, and the first quiz will cover the same kind of review material."
   ]
  },
  {
   "cell_type": "markdown",
   "metadata": {},
   "source": [
    "### 7. Squares\n",
    "\n",
    "Create a simple program `squares.py` that prints the squares of the first 10 positive integers, so its output should look like\n",
    "```\n",
    "1\n",
    "4\n",
    "9\n",
    "...\n",
    "100\n",
    "```\n",
    "\n",
    "Then, add a feature to this program where it accepts an optional command line argument which is the largest integer whose square should be printed (while 10 remains the default if no argument is given).  Recall that command line arguments appear in the list `sys.argv` which is accessible after you import the `sys` module.\n",
    "\n",
    "Thus, for example, your modified program would print just\n",
    "```\n",
    "1\n",
    "4\n",
    "9\n",
    "```\n",
    "if run with the command\n",
    "```\n",
    "python squares.py 3\n",
    "```"
   ]
  },
  {
   "cell_type": "markdown",
   "metadata": {},
   "source": [
    "### 8. Getting to know our coding standards\n",
    "\n",
    "Now that you've written a simple program from scratch, and have a full Python setup working, it's time to get acquainted with some code style rules.\n",
    "\n",
    "All code you submit for credit needs to follow the rules described in the coding standards document on the course web page.  These rules enforce good coding practices and ensure your programs are readable to both humans and computers.\n",
    "\n",
    "**Read that document now.**  Take your time, and ask the TA for help if you are unsure about any part of it.\n",
    "\n",
    "Then, take the program below (which works!) and fix it so that it does the same thing but complies with the MCS 275 rules.  (Note: The rules say you need to add a declaration stating that the program is your own work, or that it is derived solely from a template provided by the instructor.  That's because all graded work in MCS 275 is done individually.  Since this is a worksheet, collaboration is allowed, and in this case your declaration should instead list your collaborators.)\n",
    "\n",
    "```\n",
    "# Program that doesn't follow MCS 275 coding guidelines\n",
    "# Please fix me.\n",
    "def thing(x):\n",
    " return \"{} is one greater than {}\".format(x,x-1)\n",
    "\n",
    "def thing2(x):\n",
    " return \"{} is one less than {}\".format(x,x+1)\n",
    "\n",
    "L = list(range(5))\n",
    "LL = [ x+5 for x in L ]\n",
    "L3 = [ 10*x for x in LL ]\n",
    "\n",
    "for i in range(len(L3)):\n",
    "      m = 'Some things that are true:\\n' + thing(L3[i]) + \"\\n\" + thing2(L3[i]) + '\\n\\n'\n",
    "      print(m)\n",
    "```"
   ]
  },
  {
   "cell_type": "markdown",
   "metadata": {},
   "source": [
    "### 8. First two digits of squares\n",
    "\n",
    "Let's write a slightly more complex program now that uses more Python concepts.\n",
    "\n",
    "Consider the squares of all the 4-digit positive integers (the numbers 1000, 1001, ..., 9999).\n",
    "\n",
    "What pairs of digits can appear as the first two digits in one of these numbers?  For example, since `2187*2187=4782969`, we know that `47` is one of the possibilites.  What are the others?  Do you get all two-digit combinations this way?\n",
    "\n",
    "Write a program that answers this question, and which also determines how many times each two-digit combination arises in the list of squares of 1000...9999.\n",
    "\n",
    "Have it print the result in a format like this:\n",
    "```\n",
    "There are NN two-digits combinations that appear as the first two digits of squares of the integers from 1000 to 9999.  Here is a table of them, with the number of times each one occurs:\n",
    "\n",
    "Digits  Number of times\n",
    "-----------------------\n",
    "10      XXX\n",
    "11      YYY\n",
    "...\n",
    "```\n",
    "\n",
    "Here is the recommended structure for your program:\n",
    "* Make a dictionary that has all the two-character strings corresponding to pairs of digits as keys, and the integer 0 as each value.\n",
    "\n",
    "* Use a for loop to iterate over integers from 1000 to 9999. In the body of the loop, square the integer, convert it to a string, and extract the first two characters into a string.  Then use this as a key in the dictionary, and increment the associated value.\n",
    "\n",
    "(You are welcome---even encouraged---to think about a purely theoretical solution to this problem, but I also want you to get the coding practice that will come from exhaustively enumerating the squares and checking the digits.)\n"
   ]
  },
  {
   "cell_type": "markdown",
   "metadata": {},
   "source": [
    "### 9. Chess board text file\n",
    "\n",
    "Write a program `board.py` that expects two command line arguments.  The first, `sys.argv[1]`, will be the the output filename.  The second will be a positive integer which we'll call `N`.\n",
    "\n",
    "The program should open the output file for writing, and then write lines of text to that file that create an 8x8 chess board.  The white squares should be represented by `NxN` blocks of the character `#`, and the black squares should be filled with spaces.\n",
    "\n",
    "So, for example, the command\n",
    "```\n",
    "python board.py board1.txt 1\n",
    "```\n",
    "should result in a file `board1.txt` being created that contains the following text, exactly:\n",
    "```\n",
    "# # # # \n",
    " # # # #\n",
    "# # # # \n",
    " # # # #\n",
    "# # # # \n",
    " # # # #\n",
    "# # # # \n",
    " # # # #\n",
    "```\n",
    "while the command\n",
    "```\n",
    "python board.py board2.txt 2\n",
    "```\n",
    "should result in a file `board2.txt` being created that contains the following text, exactly:\n",
    "```\n",
    "##  ##  ##  ##  \n",
    "##  ##  ##  ##  \n",
    "  ##  ##  ##  ##\n",
    "  ##  ##  ##  ##\n",
    "##  ##  ##  ##  \n",
    "##  ##  ##  ##  \n",
    "  ##  ##  ##  ##\n",
    "  ##  ##  ##  ##\n",
    "##  ##  ##  ##  \n",
    "##  ##  ##  ##  \n",
    "  ##  ##  ##  ##\n",
    "  ##  ##  ##  ##\n",
    "##  ##  ##  ##  \n",
    "##  ##  ##  ##  \n",
    "  ##  ##  ##  ##\n",
    "  ##  ##  ##  ##\n",
    "```\n",
    "\n",
    "Recommended structure of your program:\n",
    "\n",
    "There are only two different lines of text that appear in the file, but each appears many times.\n",
    "\n",
    "First, generate both of the lines of text you'll need, then use a loop to print them the right number of times and in the right order.\n",
    "\n",
    "To generate the line, you can use the fact that multiplication of a string by an integer will repeat the string a certain number of times.  For example, `\"foo\"*3` evaluates to `\"foofoofoo\"`.\n",
    "\n",
    "Put the part of the program that writes the chess board to a file into a function which accepts a file object as its only argument.  That function should expect the file to already be opened for writing.\n",
    "\n",
    "Then, the main program would parse the command line arguments, open the output file, and call the function that saves the board."
   ]
  },
  {
   "cell_type": "markdown",
   "metadata": {},
   "source": [
    "## Bonus round"
   ]
  },
  {
   "cell_type": "markdown",
   "metadata": {},
   "source": [
    "Work on this more challenging exercise if you finish the rest of the worksheet before discussion ends."
   ]
  },
  {
   "cell_type": "markdown",
   "metadata": {},
   "source": [
    "### 10. Parse grade statements\n",
    "\n",
    "Write a program that reads a text file specified as a command line argument which contains statements written in the following format\n",
    "```\n",
    "Student ddumas scored 1 out of 23 on CoordinationTest.\n",
    "Student ncomaneci scored 23 out of 23 on CoordinationTest.\n",
    "Student enoether scored 11 out of 10 on AlgebraQuiz.\n",
    "```\n",
    "That is, the lines are all of the form\n",
    "```\n",
    "Student NAME scored POINTS out of MAXPOINTS on NAME_OF_ASSESSMENT.\n",
    "```\n",
    "where the all-caps items are placeholders that in the actual lines will be replaced by an integer (for POINTS or MAXPOINTS) or a string with no spaces (for NAME or NAME_OF_ASSESSMENT).\n",
    "\n",
    "The program should compute the percentage score for each student on each assessment and store them in a dictionary (with the name of the assessment as a key).  Then, it should print the scores for each assessment in increasing order, as percentages.\n",
    "\n",
    "For example, the input above would give output:\n",
    "```\n",
    "Scores on CoordinationTest:\n",
    "ddumas 4.3%\n",
    "ncomaneci 100.0%\n",
    "\n",
    "Scores on AlgebraQuiz:\n",
    "enoether 110.0%\n",
    "```"
   ]
  },
  {
   "cell_type": "markdown",
   "metadata": {},
   "source": [
    "### 11. Robust grade statement parser\n",
    "\n",
    "Modify the solution to problem 10 to be tolerant of lines in the input text file that don't follow the specified format.  In particular, it should be able to determine if a given line is in the correct format.\n",
    "\n",
    "If a malformed line is found, it should print an error message and proceed.\n",
    "\n",
    "This requires several stages of error checking; for example, required parts of the input line might be missing, or the integer point values might be invalid integer literals, or the total number of points on the assignment might be zero (preventing the computation of a percentage)."
   ]
  }
 ],
 "metadata": {
  "kernelspec": {
   "display_name": "Python 3",
   "language": "python",
   "name": "python3"
  },
  "language_info": {
   "codemirror_mode": {
    "name": "ipython",
    "version": 3
   },
   "file_extension": ".py",
   "mimetype": "text/x-python",
   "name": "python",
   "nbconvert_exporter": "python",
   "pygments_lexer": "ipython3",
   "version": "3.8.5"
  }
 },
 "nbformat": 4,
 "nbformat_minor": 4
}
