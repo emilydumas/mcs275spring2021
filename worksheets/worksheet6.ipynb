{
 "cells": [
  {
   "cell_type": "markdown",
   "metadata": {},
   "source": [
    "# Worksheet 6\n",
    "\n",
    "## MCS 275 Spring 2021 - David Dumas\n",
    "### Worksheet by Jennifer Vaccaro"
   ]
  },
  {
   "cell_type": "markdown",
   "metadata": {},
   "source": [
    "### Instructions:\n",
    "\n",
    "In your breakout room groups, read the instructions for the following problems and write the functions/scripts to solve them. Each problem has multiple parts, where the first step involves writing a recursive function, and later parts involve modifying the function to highlight features of recursive functions and sequences. Depending on time, you may wish to complete all of problem 1, the first parts of 2-5, and then the second parts of whichever 2-5 you found most interesting. \n",
    "\n",
    "Some problems involve counting recursive steps, tracking function runtime, or memoization. [Here](https://github.com/emilydumas/mcs275spring2021/blob/master/samplecode/recursion/decs.py) is a decorator module that you may download and import to help implement these features.\n",
    "\n",
    "Here are links to relevant recent lectures:\n",
    "* [Lecture 12 - Recursion](http://dumas.io/teaching/2021/spring/mcs275/slides/lecture12.html)\n",
    "* [Lecture 13 - Recursion vs iteration](http://dumas.io/teaching/2021/spring/mcs275/slides/lecture13.html)\n",
    "* [Lecture 14 - Recursion vs iteration II](http://dumas.io/teaching/2021/spring/mcs275/slides/lecture14.html)\n"
   ]
  },
  {
   "cell_type": "markdown",
   "metadata": {},
   "source": [
    "## 1. Great sequence and decorators\n",
    "\n",
    "Let's define a sequence of Great numbers $\\{G_n\\}_{n\\geq0}$ as follows: \n",
    "\n",
    "* Base cases: $G_0 = 1$, $G_1 = 3$, $G_2 = 5$\n",
    "* Recursive step: $G_n = G_{n-1} - 3*G_{n-3}$\n",
    "\n",
    "So the first several Great numbers are 1,3,5,2,-7,-22,-28,-8.\n",
    "\n",
    "Write a function great(n) that calculates the nth Great number recursively. That is, the function great should call itself for some inputs n.\n",
    "\n",
    "Test cases:"
   ]
  },
  {
   "cell_type": "code",
   "execution_count": 3,
   "metadata": {},
   "outputs": [
    {
     "name": "stdout",
     "output_type": "stream",
     "text": [
      "The 1st Great number is 3\n",
      "The 3rd Great number is 2\n",
      "The 10th Great number is 164\n"
     ]
    }
   ],
   "source": [
    "print(\"The 1st Great number is\",great(1))\n",
    "print(\"The 3rd Great number is\",great(3))\n",
    "print(\"The 10th Great number is\",great(10))"
   ]
  },
  {
   "cell_type": "markdown",
   "metadata": {},
   "source": [
    "For the second part of this problem, you will use memoization. Memo-izing a function allows you to \"save\" previous pairs of inputs and outputs as base cases, so you can use less recursive depth.\n",
    "\n",
    "For example, suppose you calculate great(3) and then calculate great(6). Fince $G_6$ = $G_5$ - 3*$G_3$, and you have already calculated $G_3$, your function could incorporate the previously calculated value as a base case.\n",
    "\n",
    "Write another function great\\_memo(n) that uses the memoization decorator from decs.py. Compare the performance of both great functions for inputs 1,10,20,30."
   ]
  },
  {
   "cell_type": "code",
   "execution_count": 6,
   "metadata": {
    "tags": []
   },
   "outputs": [
    {
     "name": "stdout",
     "output_type": "stream",
     "text": [
      "The 1st Great number is 3 3\n",
      "The 10th Great number is 164 164\n",
      "The 50th Great number is -22828 -22828\n",
      "The 50th Great number is -124723 -124723\n"
     ]
    }
   ],
   "source": [
    "\n",
    "print(\"The 1st Great number is\",great(1), great_memo(1))\n",
    "print(\"The 10th Great number is\",great(10), great_memo(10))\n",
    "print(\"The 50th Great number is\",great(20), great_memo(20))\n",
    "print(\"The 50th Great number is\",great(30), great_memo(30))"
   ]
  },
  {
   "cell_type": "markdown",
   "metadata": {},
   "source": [
    "## 2. Prime Factorization\n",
    "\n",
    "A prime number is an integer whose only divisors are 1 and itself. Primes include $2,3,5,7,11,...$ \n",
    "\n",
    "By the Fundamental Theorem of Algebra, every positive integer $n\\geq 2$ can be factored into a product of primes. The collection of primes is called the unique prime factorization, since it is unique up to reordering.\n",
    "\n",
    "For example,\n",
    "* $ 10 = 2*5$\n",
    "* $ 30 = 2*3*5$\n",
    "* $ 45 = 3*3*5$\n",
    "* $ 64 = 2*2*2*2*2*2$ (Note that the same prime may appear multiple times.)\n",
    "\n",
    "Write a recursive function pf(n) that, given an integer $n \\geq 2$, returns a list representing the prime factorization. Note that the list can contain the same prime repeated multiple times.\n",
    "\n",
    "When solving this problem, consider the following...\n",
    "* What are the base cases? (For what inputs will pf(n) return a list with one entry?)\n",
    "* What is the recursive step? (How do we break pf(n) into pieces which incorporate pf called on a smaller input?)\n",
    "\n",
    "Test cases:"
   ]
  },
  {
   "cell_type": "code",
   "execution_count": 29,
   "metadata": {},
   "outputs": [
    {
     "name": "stdout",
     "output_type": "stream",
     "text": [
      "The prime factorization of 15 is [5, 3]\n",
      "The prime factorization of 81 is [3, 3, 3, 3]\n",
      "The prime factorization of 17 is [17]\n"
     ]
    }
   ],
   "source": [
    "print(\"The prime factorization of 15 is\", pf(15))\n",
    "print(\"The prime factorization of 81 is\", pf(81))\n",
    "print(\"The prime factorization of 17 is\", pf(17))"
   ]
  },
  {
   "cell_type": "markdown",
   "metadata": {},
   "source": [
    "The greatest common denominator $gcd(a,b)$ is the largest integer that evenly divides both $a$ and $b$. One way to calculate the gcd is to use the product of all common prime factors of $a$ and $b$. If $a$ and $b$ share no prime factors, then $gcd(a,b) = 1$.\n",
    "\n",
    "Write a function gcd(a,b) that calculates the greatest common divisor and calls your function pf. (The function does not need to be recursive.)\n",
    "\n",
    "As an added challenge, can you improve the performance of pf and gcd using memoization?"
   ]
  },
  {
   "cell_type": "code",
   "execution_count": 34,
   "metadata": {},
   "outputs": [
    {
     "name": "stdout",
     "output_type": "stream",
     "text": [
      "5\n",
      "1\n",
      "11\n",
      "120\n"
     ]
    }
   ],
   "source": [
    "print(gcd(5,500))\n",
    "print(gcd(17,83))\n",
    "print(gcd(330,11))\n",
    "print(gcd(360,240))"
   ]
  },
  {
   "cell_type": "markdown",
   "metadata": {},
   "source": [
    "## 3. Palindrome Sandwiches\n",
    "\n",
    "A palindrome is a string that is the same forwards and backwards.\n",
    "\n",
    "A palindrome sandwich is a string of the form $AB\\bar A$ where\n",
    "* $A$ is a string\n",
    "* $B$ is a string of length 3, and \n",
    "* $\\bar A$ is $A$ backwards. \n",
    "\n",
    "That is to say $A\\bar A$ is a palindrome, but $A$, $B$ and $\\bar A$ need not be palindromes. $A$ and $\\bar A$ must be non-empty, so the shortest palindrome sandwich has length 5.\n",
    "\n",
    "Examples:\n",
    "* \"racecar\" is a palindrome sandwich where $A$=\"ra\", $B$=\"cec\", and $\\bar A$=\"ar\".\n",
    "* \"noHATon\" is a palindrome sandwich where $A$=\"no\", $B$=\"HAT\", and $\\bar A$=\"on\".\n",
    "\n",
    "Non-examples:\n",
    "* \"goodBYEgood\" is NOT a palindrome sandwich, since \"good\" is not \"good\" backwards.\n",
    "* \"squirrel\" is NOT an palindrome sandwich, since it does not have odd length.\n",
    "\n",
    "Write a recursive function is\\_palindrome\\_sandwich(s) which determines whether s is an palindrome sandwich. \n",
    "\n",
    "When solving this problem, consider the following...\n",
    "* How do you isolate $A$, $B$, and $\\bar A$? \n",
    "* What would be the base case? \n",
    "* What would be the recursive step?\n",
    "\n",
    "Test cases:\n"
   ]
  },
  {
   "cell_type": "code",
   "execution_count": 38,
   "metadata": {},
   "outputs": [
    {
     "name": "stdout",
     "output_type": "stream",
     "text": [
      "True\n",
      "True\n",
      "True\n",
      "False\n",
      "False\n"
     ]
    }
   ],
   "source": [
    "print(is_palindrome_sandwich(\"racecar\"))\n",
    "print(is_palindrome_sandwich(\"noHATon\"))\n",
    "print(is_palindrome_sandwich(\"racecarCATracecar\"))\n",
    "print(is_palindrome_sandwich(\"goodBYEgood\"))\n",
    "print(is_palindrome_sandwich(\"squirrel\"))"
   ]
  },
  {
   "cell_type": "markdown",
   "metadata": {},
   "source": [
    "Next, a palindrome MULTIsandwich is a palindrome sandwich $AB\\bar A$ where \n",
    "* $A$ is a string or a palindrome sandwich\n",
    "* $B$ is a string of length 3\n",
    "* $\\bar A$ is $A$ backwards. (If $A$ is a palindrome sandwich, then so is $\\bar A$.) \n",
    "\n",
    "The \"level\" of the multisandwich is the number of nested palindrome sandwiches. Non-sandwiches have level 0, and \"simple\" palindrome sandwiches have level 1.\n",
    "\n",
    "Examples:\n",
    "\n",
    "* \"racecarGO!racecar\" has level 2, since \"racecar\"+\"GO!\"+\"racecar\" is a palindrome sandwich, and \"ra\"+\"cec\"+\"ar\" is also a palindrome sandwich, but \"ra\" is not a palindrome sandwich since it has length less than 5.\n",
    "* \"alexa---axela\" has level 2, since \"alexa\"+\"---\"+\"alexa\" is a palindrome sandwich and \"a\"+\"lex\"+\"a\" is also a palindrome sandwich, but \"a\" is not a palindrome sandwich since it has length less than 5. \n",
    "* \"helloBYEolleh\" has level 1, since \"hello\"+\"BYE\"+\"olleh\" is a palindrome sandwich, but \"h\"+\"ell\"+\"o\" is not a palindrome sandwich since \"h\"!=\"o\".\n",
    "\n",
    "Nonexamples:\n",
    "\n",
    "* \"barkDOGbark\" is NOT a palindrome sandwich, so it has level 0.\n",
    "* \"laptop\" is NOT a palindrome sandwich, so it has level 0.\n",
    "\n",
    "Write a recursive function palindrome_multisandwich(s) which determines whether s is a palindrome multisandwich, and what level it is. It should first check whether s is a palindrome sandwich, then whether $A$ is a palindrome sandwich, and so on. The function should return an integer, with 0 representing \"not a palindrome sandwich\", 1 representing a \"simple\" palindrome sandwich, etc.\n",
    "\n",
    "This function may call is_palindrome_sandwich from the previous part. Once again, first define the base case and the recursive step.\n",
    "\n",
    "Test cases:"
   ]
  },
  {
   "cell_type": "code",
   "execution_count": 44,
   "metadata": {},
   "outputs": [
    {
     "name": "stdout",
     "output_type": "stream",
     "text": [
      "3\n",
      "2\n",
      "1\n",
      "0\n",
      "0\n"
     ]
    }
   ],
   "source": [
    "print(palindrome_multisandwich(\"racecarGO!racecar---racecar!OGracecar\"))\n",
    "print(palindrome_multisandwich(\"alexa---axela\"))\n",
    "print(palindrome_multisandwich(\"helloBYEolleh\"))\n",
    "print(palindrome_multisandwich(\"barkDOGbark\"))\n",
    "print(palindrome_multisandwich(\"laptop\"))"
   ]
  },
  {
   "cell_type": "markdown",
   "metadata": {},
   "source": [
    "## 4. Cantor set darts\n",
    "\n",
    "Consider the following sequence...\n",
    "* $C_0 = [0,1]$ the closed interval from 0 to 1\n",
    "* $C_1 = [0,1/3] \\cup [2/3, 1]$ the union of two closed intervals\n",
    "* $C_2 = [0,1/9] \\cup [2/9,1/3] \\cup [2/3,7/9] \\cup [8/9,1]$ the union of four closed intervals\n",
    "* $C_n = [0,(1/3)^{n}] \\cup ... \\cup [1-(1/3)^{n},1]$ the union of $2^{n}$ closed intervals\n",
    "\n",
    "Then the 2/3 Cantor set is the intersection of all $C_n$ from $n=0$ to infinity. Here is a [link](https://en.wikipedia.org/wiki/Cantor_set) for more information about the Cantor set.\n",
    "\n",
    "Your goal is to write a recursive function cantor_dart_throw(x) that, given a float input x, returns True or False whether x is in the Cantor set.\n",
    "\n",
    "(Suggestion: Define a default argument \"interval=None\". Within the function, check if interval is None, and in that case set interval=\\[0,1\\]. If x is outside interval, or in the middle third, return False. If x is inside the the 1st or 3rd third and within 4 decimal places of an interval endpoint, return True. Otherwise, return cantor_dart_throw(x, new_interval) with new_interval defined as the appropriate third.)\n",
    "\n",
    "Test cases:"
   ]
  },
  {
   "cell_type": "code",
   "execution_count": null,
   "metadata": {},
   "outputs": [],
   "source": [
    "print(\"Does Cantor set contain 15? \", cantor_dart_throw(15))\n",
    "print(\"Does Cantor set contain 0? \", cantor_dart_throw(0.000000))\n",
    "print(\"Does Cantor set contain 1/9? \", cantor_dart_attempt(1/9))\n",
    "print(\"Does Cantor set contain 1/2? \", cantor_dart_attempt(1/2))"
   ]
  },
  {
   "cell_type": "markdown",
   "metadata": {},
   "source": [
    "For second part of this problem, you will want to determine how many recursive steps were required to get you an answer of True/False. You can modify cantor_dart_throw to use the count_calls decorator from decs.py. \n",
    "\n",
    "Then, find an input x that requires at least 10 calls. Can you find one that returns True and one that returns False? What is the maximum depth of recursion possible in your program?\n",
    "\n",
    "Test cases:"
   ]
  },
  {
   "cell_type": "code",
   "execution_count": null,
   "metadata": {},
   "outputs": [],
   "source": [
    "print(\"Does Cantor set contain 15? \", cantor_dart_attempt(15))\n",
    "print(\"Does Cantor set contain 0.1? \", cantor_dart_attempt(0.1))\n",
    "print(\"Does Cantor set contain 1/27? \", cantor_dart_attempt(1/27))\n",
    "print(\"Does Cantor set contain 1/2? \", cantor_dart_attempt(1/2))"
   ]
  },
  {
   "cell_type": "markdown",
   "metadata": {},
   "source": [
    "## 5. Create your own recursive sequence\n",
    "\n",
    "Consider the Fibonacci sequence $F_n$ defined in a lecture example, or the Great number sequence $G_n$ defined in Problem 1.\n",
    "\n",
    "Create a numerical recursive sequence $R_n$ using the following rules:\n",
    "\n",
    "* $R_n$ is a sequence defined on all $n\\geq 0$\n",
    "* Define several base cases $R_0$, ..., $R_{k-1}$ with $k\\geq3$\n",
    "* Define your recursive step. $R_n$ should be calculated based on at least 3 previous steps within the range of your $k$ base cases. You can add, multiply, subtract, etc.\n",
    "\n",
    "Encode your recursive sequence with a recursive function recursive(n)."
   ]
  },
  {
   "cell_type": "code",
   "execution_count": 2,
   "metadata": {},
   "outputs": [],
   "source": [
    "# Write your own test cases here! Check your base cases first, then a few cases that call the recursive step."
   ]
  },
  {
   "cell_type": "markdown",
   "metadata": {},
   "source": [
    "Next, without changing your recursive step, can you choose base cases $R_0$, ..., $R_{k-1}$ such that...\n",
    "\n",
    "* For $n=0,1,...,100$, $R_n$ appears to approach positive infinity.\n",
    "* For $n=0,1,...,100$, $R_n$ appears to approach negative infinity.\n",
    "* Within $n=0,1,...,100$, $R_n$ has a cycle of size $k$ or greater.\n",
    "* For $n=0,1,...,100$, the ratio $R_n / R_{n+1}$ appears to approach a constant value."
   ]
  },
  {
   "cell_type": "code",
   "execution_count": null,
   "metadata": {},
   "outputs": [],
   "source": [
    "# Here's some test code to help you observe the values and ratios\n",
    "\n",
    "# Prints values R_0, R_5, R_10, ..., R_100 \n",
    "for n in range(21):\n",
    "    r_5n = recursive(5*n)\n",
    "    print(\"recursive({}) = {}\".format(5*n, r_5n))\n",
    "\n",
    "# Prints ratios R_5/R_4, R_10/R_9, ..., R_100/R_99\n",
    "r_n_minus_1 = recursive(0)\n",
    "for n in range(1,21):\n",
    "    r_5n = recursive(5*n)\n",
    "    r_5n_minus_1 = recursive(5*n-1)\n",
    "    print(\"ratio ({}/{}) = {}\".format(5*n, 5*n-1, r_5n/r_5n_minus_1))"
   ]
  }
 ],
 "metadata": {
  "kernelspec": {
   "display_name": "Python 3",
   "language": "python",
   "name": "python3"
  },
  "language_info": {
   "codemirror_mode": {
    "name": "ipython",
    "version": 3
   },
   "file_extension": ".py",
   "mimetype": "text/x-python",
   "name": "python",
   "nbconvert_exporter": "python",
   "pygments_lexer": "ipython3",
   "version": "3.8.5"
  }
 },
 "nbformat": 4,
 "nbformat_minor": 2
}