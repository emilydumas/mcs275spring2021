{
 "cells": [
  {
   "cell_type": "markdown",
   "metadata": {},
   "source": [
    "# Worksheet 5\n",
    "\n",
    "## MCS 275 Spring 2021 - Emily Dumas"
   ]
  },
  {
   "cell_type": "markdown",
   "metadata": {},
   "source": [
    "## Save these puzzles for discussion!\n",
    "\n",
    "For most worksheets, we encourage doing some work before discussion.  This one is a rare exception.  It contains a collection of puzzles, and figuring them out ahead of time will make discussion less valuable.\n",
    "\n",
    "## Topics\n",
    "\n",
    "The main topics of this worksheet are:\n",
    "* Debugging Python programs using `print(...)`\n",
    "* Debugging Python programs using `pdb`.\n",
    "\n",
    "The main references for these topics are:\n",
    "* [Lecture 11](https://www.dumas.io/teaching/2021/spring/mcs275/slides/lecture11.html)\n",
    "* [pdb documentation](https://docs.python.org/3/library/pdb.html)\n",
    "* [pdb tutorial](https://www.digitalocean.com/community/tutorials/how-to-use-the-python-debugger) from DigitalOcean\n",
    "\n",
    "## Instructions\n",
    "\n",
    "* **It is important to get some practice with both worksheet topics during discussion.** Most problems are presented without any suggestion of which debugging method to use.  If you find yourself taking a long time to complete a problem using `print(...)` debugging, you might consider switching to the next one and using `pdb`.\n",
    "\n",
    "* Do not expect to be prepared for Quiz 5 unless you are able to start programs in `pdb`, step through them, and inspect values of variables."
   ]
  },
  {
   "cell_type": "markdown",
   "metadata": {},
   "source": [
    "### 1. Broken vending machine\n",
    "\n",
    "Download the Python program linked below. \n",
    "\n",
    "* [vend.py](https://raw.githubusercontent.com/emilydumas/mcs275spring2021/master/samplecode/debugging/worksheet/vend.py)\n",
    "\n",
    "It simulates a vending machine, and is similar to a project assigned in MCS 260 in Fall 2020.  Run it, use the \"help\" command in its text interface to learn about the available commands, and try them out.\n",
    "\n",
    "This script has a bug which affects certain purchases.  For example, try starting the script and depositing \\$1.15 as four quarters, one dime, and one nickel, and then selecting item 4 (costing \\$1.10).  The expected behavior would be: The item is purchased, and \\$0.05 is given in change.  Instead, the script will get stuck (and may require you to press Control-C in the terminal to exit).\n",
    "\n",
    "Debug the program using an active debugging technique (`print(...)` or `pdb`) and find the cause of the infinite loop that prevents the program from executing as intended.  Devise and test a fix."
   ]
  },
  {
   "cell_type": "markdown",
   "metadata": {},
   "source": [
    "### 2. Misbehaving function\n",
    "\n",
    "The function below is supposed to compute the character histogram of a string, with the option to update an existing histogram so that a large text can be processed in chunks.  However, it doesn't work: As you'll see form the example code, it doesn't start from a blank histogram in some cases.  Why not?\n",
    "\n",
    "Use debugging techniques to find the first place where the behavior of the function differs from the documented intention of the programmer."
   ]
  },
  {
   "cell_type": "code",
   "execution_count": 5,
   "metadata": {
    "scrolled": true
   },
   "outputs": [
    {
     "name": "stdout",
     "output_type": "stream",
     "text": [
      "Histogram of 'first line example':\n",
      "{'f': 1, 'i': 2, 'r': 1, 's': 1, 't': 1, 'l': 2, 'n': 1, 'e': 3, 'x': 1, 'a': 1, 'm': 1, 'p': 1}\n",
      "Histogram of previous line and 'renewed interest in debugging':\n",
      "{'f': 1, 'i': 5, 'r': 3, 's': 2, 't': 3, 'l': 2, 'n': 5, 'e': 9, 'x': 1, 'a': 1, 'm': 1, 'p': 1, 'w': 1, 'd': 2, 'b': 1, 'u': 1, 'g': 3}\n",
      "Histogram of the word 'Mississippi':\n",
      "{'f': 1, 'i': 9, 'r': 3, 's': 6, 't': 3, 'l': 2, 'n': 5, 'e': 9, 'x': 1, 'a': 1, 'm': 1, 'p': 3, 'w': 1, 'd': 2, 'b': 1, 'u': 1, 'g': 3, 'M': 1}\n"
     ]
    }
   ],
   "source": [
    "\"\"\"Histogram example for debugging\"\"\"\n",
    "# MCS 275 Spring 2021 - Emily Dumas\n",
    "\n",
    "def update_char_histogram(s,hist = dict()):\n",
    "    \"\"\"Take a string `s` and look at the non-space characters in it. If `hist` is not given,\n",
    "    compose a histogram of the characters in `s` and return it.  If `hist` is given, assume it contains\n",
    "    a histogram of another part of the same text, and update it to take into account the text in `s`.\"\"\"\n",
    "    for c in s:\n",
    "        if c.isspace():\n",
    "            continue\n",
    "        if c not in hist:\n",
    "            hist[c] = 0\n",
    "        hist[c] += 1\n",
    "    return hist\n",
    "\n",
    "\n",
    "print(\"Histogram of 'first line example':\")\n",
    "h = update_char_histogram(\"first line example\") # no hist given, so start from scratch\n",
    "print(h)\n",
    "print(\"Histogram of previous line and 'renewed interest in debugging':\")\n",
    "h = update_char_histogram(\"renewed interest in debugging\",h)\n",
    "print(h)\n",
    "print(\"Histogram of the word 'Mississippi':\") # no hist given, so start from scratch\n",
    "h = update_char_histogram(\"Mississippi\")\n",
    "print(h) # Unexpected output here; why isn't the default argument of dict() honored?"
   ]
  },
  {
   "cell_type": "markdown",
   "metadata": {},
   "source": [
    "### 3. Tic-tac-toe too easily won\n",
    "\n",
    "Download the program:\n",
    "\n",
    "* [ttt.py](https://raw.githubusercontent.com/emilydumas/mcs275spring2021/master/samplecode/debugging/worksheet/ttt.py)\n",
    "\n",
    "It is a tic-tac-toe game: two players take turns placing 'X' or 'O' on a 3x3 board.  The first player to get 3 in a row horizontally, vertically, or diagonally wins.\n",
    "\n",
    "But this game has a strange bug: No matter where the first player puts their 'X', they win.\n",
    "\n",
    "Use debugging techniques to find the first place where the behavior of the program differs from the programmer's intention, and to fix it.\n",
    "\n",
    "Note: This example was based on a collection of unintuitive Python language behaviors collected by \n",
    "Satwik Kansal.  The URL for that source document is included below, but be warned, it contains spoilers for this problem (and some crude language).  Opening the page is not recommended until after discussion is over:\n",
    "* `https://github.com/satwikkansal/wtfpython#-a-tic-tac-toe-where-x-wins-in-the-first-attempt`"
   ]
  },
  {
   "cell_type": "markdown",
   "metadata": {},
   "source": [
    "### 4. A semi-chaotic sequence\n",
    "\n",
    "Download the program:\n",
    "\n",
    "* [hof.py](https://raw.githubusercontent.com/emilydumas/mcs275spring2021/master/samplecode/debugging/worksheet/hof.py)\n",
    "\n",
    "This program prints the first 1,000,000 terms of a sequence of integers. It does not have docstrings, which may make exploring the code in a debugger more of a challenge.\n",
    "\n",
    "In this program, the list of integers from the sequence is stored in the `computed_terms` list.\n",
    "\n",
    "Use the debugger (`pdb`) to answer the following questions about this program:\n",
    "\n",
    "1. When `computed_terms` first has length four, the last element of that list is computed as a sum of previous terms from the list.  Which ones?\n",
    "1. The first time the function `reducer` is called, what is the value of `t` in the main program?\n",
    "1. What is the first four-digit number printed by the program?\n",
    "    1. This will take so many iterations that you won't want to do it by hand.  Instead, I suggest adding a check for a four-digit answer to the program that raises an Exception when one is found.  Then use `pdb` to do post mortem analysis on that exception.\n",
    "    1. Which of the two `return` statements in function `reducer` is executed when calculating that term in the sequence?"
   ]
  },
  {
   "cell_type": "markdown",
   "metadata": {},
   "source": [
    "### 5. Unexpected exception competition\n",
    "\n",
    "Working with the other members of your breakout room, write a Python program that looks like it will work but which actually exits with an exception. Your goal to should to make something that will pass a casual inspection by your peers, creating the impression that the program would do a certain thing, while actually containing a hidden bug. The program's docstring should describe its desired (not actual) behavior.  Try to conceal the circumstances leading to the exception, so that even the traceback shown on exit doesn't immediately reveal the true source of the problem.  Follow these rules:\n",
    "\n",
    "* Do not use any web searches!\n",
    "* The program must be completely contained in one `.py` file, and not depend on any modules other than the Python standard library.\n",
    "* The program should not modify any files on the computer where it is run.\n",
    "\n",
    "When you are done, use the Zoom \"Ask for help\" function, and give your code to the TA. She will swap your buggy programs, and you will try to solve another team's problem.\n",
    "\n",
    "Your task is to run the program in `pdb` and to use post-mortem analysis to determine the complete cause of the exception, including what the software author may have intended. Then we will rejoin the Main Room, and each group will explain the other team's bug. Don't just say \"the list was empty, and element 0 was requested, producing IndexError\"; you'll want to explain exactly how the program's operation led to that circumstance. "
   ]
  }
 ],
 "metadata": {
  "kernelspec": {
   "display_name": "Python 3",
   "language": "python",
   "name": "python3"
  },
  "language_info": {
   "codemirror_mode": {
    "name": "ipython",
    "version": 3
   },
   "file_extension": ".py",
   "mimetype": "text/x-python",
   "name": "python",
   "nbconvert_exporter": "python",
   "pygments_lexer": "ipython3",
   "version": "3.8.5"
  }
 },
 "nbformat": 4,
 "nbformat_minor": 4
}