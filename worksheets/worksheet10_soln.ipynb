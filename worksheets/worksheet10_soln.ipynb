{
 "cells": [
  {
   "cell_type": "markdown",
   "metadata": {},
   "source": [
    "# Worksheet 10 Solutions\n",
    "\n",
    "## MCS 275 Spring 2021 - Emily Dumas\n",
    "### Solutions by Jennifer Vaccaro"
   ]
  },
  {
   "cell_type": "markdown",
   "metadata": {},
   "source": [
    "## Topics\n",
    "\n",
    "The main topics of this worksheet are:\n",
    "* Pillow\n",
    "* numpy\n",
    "\n",
    "The problems are labeled according to which of these topics they cover.  Make sure to get some practice with each topic.\n",
    "\n",
    "The main references for these topics are:\n",
    "* [Lecture 24](http://dumas.io/teaching/2021/spring/mcs275/slides/lecture24.html)\n",
    "* [Lecture 25](http://dumas.io/teaching/2021/spring/mcs275/slides/lecture25.html)\n",
    "* [Lecture 26](http://dumas.io/teaching/2021/spring/mcs275/slides/lecture26.html)\n",
    "* [Pillow tutorial](https://pillow.readthedocs.io/en/stable/handbook/tutorial.html)\n",
    "* Chapter 2 of [VanderPlas](https://jakevdp.github.io/PythonDataScienceHandbook/)\n",
    "\n",
    "## Instructions\n",
    "\n",
    "* Problem 1 is handled differently than the others:\n",
    "    * Tuesday discussion students: Problem 1 will be presented as an example at the start of discussion\n",
    "    * Thursday discussion students: Please complete Problem 1 before discussion and bring your solution\n",
    "* For the other problems:\n",
    "    * Work on these problems in discussion."
   ]
  },
  {
   "cell_type": "markdown",
   "metadata": {},
   "source": [
    "### 1.  Made to order (Pillow and numpy)\n",
    "\n",
    "#### A. Here is a 256x256 PNG image:\n",
    "\n",
    "![colorful image](ws9prob1goal.png)\n",
    "\n",
    "Make a Python script that uses Pillow to create an image that is identical to this one (or as close as you can get).\n",
    "\n"
   ]
  },
  {
   "cell_type": "code",
   "execution_count": 1,
   "metadata": {},
   "outputs": [],
   "source": [
    "# MCS 275 Worksheet 10 Problem 1a\n",
    "# Jennifer Vaccaro\n",
    "# I completed this work in collaboration with the Tuesday discussion\n",
    "\n",
    "from PIL import Image\n",
    "\n",
    "# Create a white image\n",
    "img = Image.new(\"RGB\",(8,8),(255,255,255))\n",
    "\n",
    "for i in range(8):\n",
    "    for j in range(8):\n",
    "        # light blue\n",
    "        if i%4 == j%4:\n",
    "            img.putpixel((i,j),(0,255,255))\n",
    "        # magenta\n",
    "        if (i+2)%4 == j%4:\n",
    "            img.putpixel((i,j),(255,0,255))\n",
    "        # dark blue\n",
    "        if i%4 == (-j-1)%4:\n",
    "            img.putpixel((i,j),(0,0,255))\n",
    "\n",
    "# Resize the image without smoothing between pixels\n",
    "img = img.resize((255,255),Image.NEAREST)\n",
    "img.save(\"tuesday.png\")"
   ]
  },
  {
   "cell_type": "markdown",
   "metadata": {},
   "source": [
    "#### B. Here is a 16x16 numpy matrix of integers (dtype int64):\n",
    "\n",
    "```\n",
    "array([[-1, -1, -1, -1, -1, -1, -1, -1, -1, -1, -1, -1, -1, -1, -1, -1],\n",
    "       [20, -1, 30, -1, 40, -1, 50, -1, 60, -1, 70, -1, 80, -1, 90, -1],\n",
    "       [-1, -1, -1, -1, -1, -1, -1, -1, -1, -1, -1, -1, -1, -1, -1, -1],\n",
    "       [-1, -1, -1, -1, -1, -1, -1, -1, -1, -1, -1, -1, -1, -1, -1, -1],\n",
    "       [-1, 10, -1, -1, 10, -1, -1, 10, -1, -1, 10, -1, -1, 10, -1, -1],\n",
    "       [20, 10, 30, -1, 40, -1, 50, 10, 60, -1, 70, -1, 80, 10, 90, -1],\n",
    "       [-1, 10, -1, -1, 10, -1, -1, 10, -1, -1, 10, -1, -1, 10, -1, -1],\n",
    "       [-1, 10, -1, -1, 10, -1, -1, 10, -1, -1, 10, -1, -1, 10, -1, -1],\n",
    "       [-1, 10, -1, -1, 10, -1, -1, 10, -1, -1, 10, -1, -1, 10, -1, -1],\n",
    "       [20, 10, 30, -1, 40, -1, 50, 10, 60, -1, 70, -1, 80, 10, 90, -1],\n",
    "       [-1, 10, -1, -1, 10, -1, -1, 10, -1, -1, 10, -1, -1, 10, -1, -1],\n",
    "       [-1, 10, -1, -1, 10, -1, -1, 10, -1, -1, 10, -1, -1, 10, -1, -1],\n",
    "       [-1, -1, -1, -1, -1, -1, -1, -1, -1, -1, -1, -1, -1, -1, -1, -1],\n",
    "       [20, -1, 30, -1, 40, -1, 50, -1, 60, -1, 70, -1, 80, -1, 90, -1],\n",
    "       [-1, -1, -1, -1, -1, -1, -1, -1, -1, -1, -1, -1, -1, -1, -1, -1],\n",
    "       [-1, -1, -1, -1, -1, -1, -1, -1, -1, -1, -1, -1, -1, -1, -1, -1]])\n",
    "```\n",
    "Find a way to produce this matrix and store it in a variable named `A`. \n",
    "\n",
    "This is easy to do if you just copy the matrix into your source code.  But you can do it with much less code using `numpy` indexing.  (You'll want to examine the matrix carefully to spot all the patterns!) What's the shortest way to do it?  I was able to do it in 3 lines, 70 characters total, including newline characters (but not counting the line that imports `numpy`).  Can you do better?"
   ]
  },
  {
   "cell_type": "code",
   "execution_count": 2,
   "metadata": {},
   "outputs": [
    {
     "name": "stdout",
     "output_type": "stream",
     "text": [
      "[[-1 -1 -1 -1 -1 -1 -1 -1 -1 -1 -1 -1 -1 -1 -1 -1]\n",
      " [20 -1 30 -1 40 -1 50 -1 60 -1 70 -1 80 -1 90 -1]\n",
      " [-1 -1 -1 -1 -1 -1 -1 -1 -1 -1 -1 -1 -1 -1 -1 -1]\n",
      " [-1 -1 -1 -1 -1 -1 -1 -1 -1 -1 -1 -1 -1 -1 -1 -1]\n",
      " [-1 10 -1 -1 10 -1 -1 10 -1 -1 10 -1 -1 10 -1 -1]\n",
      " [20 10 30 -1 40 -1 50 10 60 -1 70 -1 80 10 90 -1]\n",
      " [-1 10 -1 -1 10 -1 -1 10 -1 -1 10 -1 -1 10 -1 -1]\n",
      " [-1 10 -1 -1 10 -1 -1 10 -1 -1 10 -1 -1 10 -1 -1]\n",
      " [-1 10 -1 -1 10 -1 -1 10 -1 -1 10 -1 -1 10 -1 -1]\n",
      " [20 10 30 -1 40 -1 50 10 60 -1 70 -1 80 10 90 -1]\n",
      " [-1 10 -1 -1 10 -1 -1 10 -1 -1 10 -1 -1 10 -1 -1]\n",
      " [-1 10 -1 -1 10 -1 -1 10 -1 -1 10 -1 -1 10 -1 -1]\n",
      " [-1 -1 -1 -1 -1 -1 -1 -1 -1 -1 -1 -1 -1 -1 -1 -1]\n",
      " [20 -1 30 -1 40 -1 50 -1 60 -1 70 -1 80 -1 90 -1]\n",
      " [-1 -1 -1 -1 -1 -1 -1 -1 -1 -1 -1 -1 -1 -1 -1 -1]\n",
      " [-1 -1 -1 -1 -1 -1 -1 -1 -1 -1 -1 -1 -1 -1 -1 -1]]\n"
     ]
    }
   ],
   "source": [
    "# MCS 275 Worksheet 10 Problem 1b\n",
    "# Jennifer Vaccaro\n",
    "# I completed this work in collaboration with the Tuesday discussion\n",
    "\n",
    "import numpy as np\n",
    "\n",
    "# The matrix is mostly filled with -1s\n",
    "A = np.full((16,16),-1)\n",
    "# Then there are columns of 10s, spaced by 3\n",
    "A[4:12,1:14:3] = 10\n",
    "# Finally, there are rows with increasing multiples of 10\n",
    "A[1::4,::2] = np.arange(20,95,10)\n",
    "# Print out A to check\n",
    "print(A)"
   ]
  },
  {
   "cell_type": "markdown",
   "metadata": {},
   "source": [
    "## 2. Needle in a haystack, part 1 (Pillow)\n",
    "\n",
    "Download and extract this zip file:\n",
    "* [haystacks.zip](https://dumas.io/teaching/2021/spring/mcs275/data/haystacks.zip)\n",
    "\n",
    "It contains 1024 image files in two directories (`haystack1` and `haystack2`).  If you look at them, they all appear to contain black and white \"static\".  These files are used in this problem and the next one.\n",
    "\n",
    "Let's say that a pixel is **bluish** if its blue component is larger than its red or green components.  So, for example, (62,30,62) is not bluish, but (5,6,7) is bluish.\n",
    "\n",
    "The files in directory `haystack1` are numbered `000` to `511`.  They are PNG image files, all of the same size.  Among all of these image files, there is only a single bluish pixel.  Which file is it in, and at what location?"
   ]
  },
  {
   "cell_type": "code",
   "execution_count": 3,
   "metadata": {},
   "outputs": [
    {
     "name": "stdout",
     "output_type": "stream",
     "text": [
      "Bluish pixel found at (20,21) in file haystacks/haystack1/img275.png\n"
     ]
    }
   ],
   "source": [
    "# MCS 275 Worksheet 10 Problem 2\n",
    "# Jennifer Vaccaro\n",
    "# I completed this work on my own, in accordance with the syllabus.\n",
    "from PIL import Image\n",
    "\n",
    "# directory string\n",
    "d = \"haystacks/haystack1/\"\n",
    "\n",
    "for i in range(512):\n",
    "    # Make a filename with padded 0s on the left of i\n",
    "    iname = \"{}img{:03d}.png\".format(d,i)\n",
    "        # Open the image file\n",
    "    img = Image.open(iname)\n",
    "    w, h = img.size\n",
    "    # Iterate through the pixels and check whether any is bluish\n",
    "    for x in range(w):\n",
    "        for y in range(h):\n",
    "            r,g,b = img.getpixel((x,y))\n",
    "            if r<b and g<b:\n",
    "                print(\"Bluish pixel found at ({},{}) in file {}\".format(x,y,iname))\n",
    "                # There's only one bluish pixel, so now we are done\n",
    "                exit()"
   ]
  },
  {
   "cell_type": "markdown",
   "metadata": {},
   "source": [
    "## 3. Needle in a haystack, part 2 (Pillow)\n",
    "\n",
    "This is a more complex version of the previous problem.  Only work on it if you will still have enough time to do the numpy problems below.  (If unsure, skip ahead for now and come back to this later.)\n",
    "\n",
    "The files in directory `haystack2` have 36-character filenames (plus an extension \".png\"), and have varying sizes.  They contain a secret message, which you can decode as follows:\n",
    "\n",
    "Examine all of the image files in alphabetical order.  In each one, look for bluish pixels.  There may be no bluish pixels at all, or a single one, or many of them.  Whenever a bluish pixel is found, let (x,y) be its position and let r be the remainder of dividing x+y by 36.  Take the character in the filename that appears at index r.  If that character is a digit, ignore it.  Otherwise, add that character to the end of the message.\n",
    "\n",
    "*Hint: It may be helpful to use `os.listdir` from the `os` module.  It takes a directory name and returns a list of filenames in that directory.*"
   ]
  },
  {
   "cell_type": "code",
   "execution_count": null,
   "metadata": {},
   "outputs": [],
   "source": [
    "# MCS 275 Worksheet 10 Problem 3\n",
    "# Jennifer Vaccaro\n",
    "# I completed this work on my own, in accordance with the syllabus.\n",
    "\n",
    "import os\n",
    "from PIL import Image\n",
    "\n",
    "# Create empty string to store the secret message\n",
    "message = \"\"\n",
    "# Navigate to the correct directory\n",
    "os.chdir(\"haystacks\")\n",
    "os.chdir(\"haystack2\")\n",
    "\n",
    "# Iterate through the pngs in the directory\n",
    "for f in os.listdir():\n",
    "    img = Image.open(f)\n",
    "    w, h = img.size\n",
    "\n",
    "    # Iterate through the pixels and check whether any is bluish\n",
    "    for x in range(w):\n",
    "        for y in range(h):\n",
    "            r,g,b = img.getpixel((x,y))\n",
    "\n",
    "            # If pixel is bluish, get the associated character.\n",
    "            if r<b and g<b:\n",
    "                remainder = (x+y) % 36\n",
    "                # Only add to the message if the character isnt a digit\n",
    "                if not f[remainder].isdigit():\n",
    "                    message += f[remainder]\n",
    "# Print out the secret message\n",
    "print(\"Secret message!\")\n",
    "print(message)"
   ]
  },
  {
   "cell_type": "markdown",
   "metadata": {},
   "source": [
    "### 4. Max, Min, Mean and RMS (numpy)\n",
    "\n",
    "Download and unzip this file to obtain a single CSV file:\n",
    "\n",
    "* [ws9series.zip](https://dumas.io/teaching/2021/spring/mcs275/data/ws9series.zip)\n",
    "\n",
    "It has no header row.  There are 30 rows of data, each of which has 10,000 fields which are floating-point numbers.\n",
    "\n",
    "Read the file and put each line into a numpy vector. Then, compute the following four quantities related to the entries in that vector:\n",
    "* The maximum of the entries\n",
    "* The minimum of the entries\n",
    "* The average (arithmetic mean) of the entries\n",
    "* The square root of the sum of the squares of the entries (sometimes called the RMS or root mean square, or in mathematics, the $\\ell^2$ norm)\n",
    "\n",
    "Write these rowwise summary statistics to an output CSV file that has the following header row:\n",
    "```\n",
    "max,min,mean,RMS\n",
    "```\n",
    "which is then followed by 30 lines, one for each line in the input file.\n",
    "\n",
    "Once you have a row of the input file converted to a numpy array, there shouldn't be any need for explicit iteration over its entries.  \n",
    "\n",
    "*Hint: Reading a row of the CSV in the usual way will give you a list of strings.  You need to convert those to floats before asking numpy to create an array out of them.*"
   ]
  },
  {
   "cell_type": "code",
   "execution_count": 2,
   "metadata": {},
   "outputs": [],
   "source": [
    "# MCS 275 Worksheet 10 Problem 4\n",
    "# Jennifer Vaccaro\n",
    "# I completed this work on my own, in accordance with the syllabus.\n",
    "\n",
    "import csv\n",
    "import numpy as np\n",
    "\n",
    "# Set the read and write file names\n",
    "in_file = \"ws9series/series.csv\"\n",
    "summary_file = \"summary.csv\"\n",
    "\n",
    "# Open the in_file and create a csv reader object\n",
    "with open(in_file, \"rt\", newline=\"\") as fin:\n",
    "    rdr = csv.reader(fin)\n",
    "    \n",
    "    # Open the summary_file and create a csv DictWriter object\n",
    "    with open(summary_file, \"w\", newline=\"\") as fout:\n",
    "        writer = csv.DictWriter(fout,fieldnames=[\"max\",\"min\",\"mean\",\"RMS\"])\n",
    "        \n",
    "        # Write the header row, since we set the fieldnames\n",
    "        writer.writeheader()\n",
    "        \n",
    "        # Read through the input csv reader\n",
    "        for row in rdr:\n",
    "            # Make row a list of floats\n",
    "            row = [float(val) for val in row]\n",
    "            arr = np.array(row)\n",
    "            d = {}\n",
    "            # Calculate all of the summary statistics\n",
    "            d[\"max\"] = np.max(arr)\n",
    "            d[\"min\"] = np.min(arr)\n",
    "            d[\"mean\"] = np.mean(arr)\n",
    "            d[\"RMS\"] = np.linalg.norm(arr) # Thanks Marcus for finding this function!\n",
    "            # Write them to the summary file\n",
    "            writer.writerow(d)"
   ]
  },
  {
   "cell_type": "markdown",
   "metadata": {},
   "source": [
    "Another way to find the RMS, not using `np.linalg`, would be to take the dot product of the array with itself, e.g."
   ]
  },
  {
   "cell_type": "code",
   "execution_count": null,
   "metadata": {},
   "outputs": [],
   "source": [
    "            d[\"RMS\"] = np.sqrt( arr.dot(arr) )"
   ]
  },
  {
   "cell_type": "markdown",
   "metadata": {},
   "source": [
    "\n",
    "## 5. Impact crater (numpy)\n",
    "\n",
    "Write a function `crater(n)` that takes a single argument, an integer `n`, and returns a numpy array of shape (n,n) whose entry at position (i,j) is equal to\n",
    "$$ \\sin \\left ( \\frac{\\pi i}{n-1} \\right ) \\sin \\left ( \\frac{\\pi j}{n-1} \\right ) $$\n",
    "unless that quantity is larger than 0.7, in which case the entry should instead have the value 0.\n",
    "\n",
    "Use numpy arrays, and try to avoid loops.\n",
    "\n",
    "**Hint: numpy as the constant $\\pi$ built in as `np.pi`**"
   ]
  },
  {
   "cell_type": "code",
   "execution_count": 4,
   "metadata": {},
   "outputs": [
    {
     "name": "stdout",
     "output_type": "stream",
     "text": [
      "[[0.    0.    0.    0.    0.    0.    0.    0.    0.    0.    0.    0.   ]\n",
      " [0.    0.079 0.152 0.213 0.256 0.279 0.279 0.256 0.213 0.152 0.079 0.   ]\n",
      " [0.    0.152 0.292 0.409 0.492 0.535 0.535 0.492 0.409 0.292 0.152 0.   ]\n",
      " [0.    0.213 0.409 0.571 0.687 0.    0.    0.687 0.571 0.409 0.213 0.   ]\n",
      " [0.    0.256 0.492 0.687 0.    0.    0.    0.    0.687 0.492 0.256 0.   ]\n",
      " [0.    0.279 0.535 0.    0.    0.    0.    0.    0.    0.535 0.279 0.   ]\n",
      " [0.    0.279 0.535 0.    0.    0.    0.    0.    0.    0.535 0.279 0.   ]\n",
      " [0.    0.256 0.492 0.687 0.    0.    0.    0.    0.687 0.492 0.256 0.   ]\n",
      " [0.    0.213 0.409 0.571 0.687 0.    0.    0.687 0.571 0.409 0.213 0.   ]\n",
      " [0.    0.152 0.292 0.409 0.492 0.535 0.535 0.492 0.409 0.292 0.152 0.   ]\n",
      " [0.    0.079 0.152 0.213 0.256 0.279 0.279 0.256 0.213 0.152 0.079 0.   ]\n",
      " [0.    0.    0.    0.    0.    0.    0.    0.    0.    0.    0.    0.   ]]\n"
     ]
    }
   ],
   "source": [
    "# MCS 275 Worksheet 10 Problem 5\n",
    "# Jennifer Vaccaro\n",
    "# I completed this work on my own, in accordance with the syllabus.\n",
    "\n",
    "import numpy as np\n",
    "\n",
    "def sinsin(n,i,j):\n",
    "    \"\"\"Calls the product sine function defined on the worksheet, \n",
    "    either on a scalar or on a numpy array\n",
    "    n: the size of the crater\n",
    "    i: the x coordinate(s)\n",
    "    j: the y coordinate(s)\"\"\"\n",
    "    return np.sin(np.pi*i/(n-1))*np.sin(np.pi*j/(n-1))\n",
    "\n",
    "def crater(n):\n",
    "    \"\"\"Returns a crater numpy array of size n\"\"\"\n",
    "    # Create an n-by-n numpy array of coordinates\n",
    "    x = np.arange(0,n,1)\n",
    "    y = np.arange(0,n,1)\n",
    "    xx,yy = np.meshgrid(x,y)\n",
    "    # Create a new numpy array which calls the function\n",
    "    arr = sinsin(n,xx,yy)\n",
    "    arr[arr>0.7] = 0 #mask any values >0.7 with zeros\n",
    "    return arr\n",
    "\n",
    "if __name__==\"__main__\":\n",
    "    # Make the crater numpy array print nicely\n",
    "    np.set_printoptions(precision=3,suppress=True)\n",
    "    print(crater(12))"
   ]
  },
  {
   "cell_type": "markdown",
   "metadata": {},
   "source": [
    "Also, can you explain the name of this problem?"
   ]
  },
  {
   "cell_type": "markdown",
   "metadata": {},
   "source": [
    "The array slopes upward at an increasing rate, then cuts down to 0 in the middle. So interpretted as a greyscale image, it resembles a crater from an impact."
   ]
  }
 ],
 "metadata": {
  "kernelspec": {
   "display_name": "Python 3",
   "language": "python",
   "name": "python3"
  },
  "language_info": {
   "codemirror_mode": {
    "name": "ipython",
    "version": 3
   },
   "file_extension": ".py",
   "mimetype": "text/x-python",
   "name": "python",
   "nbconvert_exporter": "python",
   "pygments_lexer": "ipython3",
   "version": "3.8.5"
  }
 },
 "nbformat": 4,
 "nbformat_minor": 4
}