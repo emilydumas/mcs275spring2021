{
 "cells": [
  {
   "cell_type": "markdown",
   "metadata": {},
   "source": [
    "# Worksheet 8\n",
    "\n",
    "## MCS 275 Spring 2021 - Emily Dumas"
   ]
  },
  {
   "cell_type": "markdown",
   "metadata": {},
   "source": [
    "## Topics\n",
    "\n",
    "The main topics of this worksheet are:\n",
    "* Trees\n",
    "* Binary search trees\n",
    "\n",
    "The main references for these topics are:\n",
    "* [Lecture 19 - Trees](http://dumas.io/teaching/2021/spring/mcs275/slides/lecture19.html)\n",
    "* [Lecture 20 - BST](http://dumas.io/teaching/2021/spring/mcs275/slides/lecture20.html)\n",
    "* [Lecture 21 - Traversals](http://dumas.io/teaching/2021/spring/mcs275/slides/lecture21.html)\n",
    "* [Chapter 7 of Miller and Ranum](https://runestone.academy/runestone/books/published/pythonds/Trees/toctree.html)\n",
    "\n",
    "The most useful files from the sample code repository are:\n",
    "* [binary.py](https://github.com/emilydumas/mcs275spring2021/blob/master/samplecode/trees/binary.py)\n",
    "* [bst.py](https://github.com/emilydumas/mcs275spring2021/blob/master/samplecode/trees/bst.py) (but make sure you get the version after Lecture 21 which has the `insert()` method!)\n",
    "* [treevis.py](https://github.com/emilydumas/mcs275spring2021/blob/master/samplecode/trees/treevis.py)\n",
    "* [treeutil.py](https://github.com/emilydumas/mcs275spring2021/blob/master/samplecode/trees/treeutil.py)\n",
    "\n",
    "## Instructions\n",
    "\n",
    "* Problem 1 is handled differently than the others:\n",
    "    * Tuesday discussion students: Problem 1 will be presented as an example at the start of discussion\n",
    "    * Thursday discussion students: Please complete Problem 1 before discussion and bring your solution\n",
    "* For the other problems:\n",
    "    * Work on these problems in discussion."
   ]
  },
  {
   "cell_type": "markdown",
   "metadata": {},
   "source": [
    "### 1.  Node relationship\n",
    "\n",
    "Suppose you have two nodes of binary trees, given as `Node` objects from [binary.py](https://github.com/emilydumas/mcs275spring2021/blob/master/samplecode/trees/binary.py).  Let's call them `x` and `y`.  You might ask how they are related to one another, if it all.  In general, exactly one of the following statements will be true:\n",
    "1. The nodes are equal\n",
    "1. One of the nodes is an ancestor of the other\n",
    "1. The nodes lie in the same tree, but neither is an ancestor of the other\n",
    "1. The nodes do not lie in the same tree\n",
    "\n",
    "Write a function `node_relationship(x,y)` that takes two nodes and returns one of these strings:\n",
    "1. `\"equal\"`\n",
    "1. `\"ancestor\"`\n",
    "1. `\"cousin\"`\n",
    "1. `\"unrelated\"`\n",
    "\n",
    "according to which of the cases listed above describes the relationship between `x` and `y`.\n",
    "\n",
    "(Note that the use of \"cousin\" to describe case (3) doesn't fit the genealogical analogy perfectly, as it would also include the case of siblings.)\n",
    "\n",
    "Also, make test cases for your function that generate each of the possible answers.\n",
    "\n",
    "**You sould only use class `Node` from `binary.py`.  You should NOT use `bst.py` at all.**"
   ]
  },
  {
   "cell_type": "markdown",
   "metadata": {},
   "source": [
    "### Get ready to edit `bst.py`\n",
    "\n",
    "The rest of the worksheet focuses on adding features to the module `bst.py` from lecture.  To prepare for that, download these files and save them in a directory where you'll work on worksheet 8:\n",
    "* [bst.py](https://github.com/emilydumas/mcs275spring2021/blob/master/samplecode/trees/bst.py)\n",
    "* [binary.py](https://github.com/emilydumas/mcs275spring2021/blob/master/samplecode/trees/binary.py)\n",
    "* [treevis.py](https://github.com/emilydumas/mcs275spring2021/blob/master/samplecode/trees/treevis.py)\n",
    "* [treeutil.py](https://github.com/emilydumas/mcs275spring2021/blob/master/samplecode/trees/treeutil.py)"
   ]
  },
  {
   "cell_type": "markdown",
   "metadata": {},
   "source": [
    "### Know how to test your code\n",
    "\n",
    "It will be hard to test your code if you don't have any search trees to test it with.  To that end, I created a module `treeutil.py` (which you were asked to download above) that will generate random binary search trees on request.  It can also give a random node of the tree, or a random pair of nodes.\n",
    "\n",
    "Here are some quick examples of how to use it.  When you add new features to `bst.py`, it is probably a good idea to test them out on some randomly generated trees, and to print both the tree and the results your code gives, so you can do a visual check for correctness."
   ]
  },
  {
   "cell_type": "code",
   "execution_count": 6,
   "metadata": {},
   "outputs": [],
   "source": [
    "import sys\n",
    "sys.path.append('/home/ddumas/teaching/mcs275/public/samplecode/trees')"
   ]
  },
  {
   "cell_type": "code",
   "execution_count": 7,
   "metadata": {},
   "outputs": [
    {
     "name": "stdout",
     "output_type": "stream",
     "text": [
      "                  <6>                  \n",
      "\n",
      "        <0>                 <9>        \n",
      "\n",
      "             <3>                 <10>  \n",
      "\n"
     ]
    }
   ],
   "source": [
    "# Make and print a random tree with 5 nodes\n",
    "import treeutil\n",
    "import treevis\n",
    "\n",
    "T = treeutil.random_bst(nodes=5)\n",
    "treevis.treeprint(T)"
   ]
  },
  {
   "cell_type": "code",
   "execution_count": 11,
   "metadata": {},
   "outputs": [
    {
     "name": "stdout",
     "output_type": "stream",
     "text": [
      "                              <11>                             \n",
      "\n",
      "              <9>                             <15>             \n",
      "\n",
      "      <1>                                                      \n",
      "\n",
      "          <6>                                                  \n",
      "\n",
      "        <4>                                                    \n",
      "\n",
      "The node selected at random is: <11>\n"
     ]
    }
   ],
   "source": [
    "# Make a random tree and select one of its nodes\n",
    "import treeutil\n",
    "import treevis\n",
    "\n",
    "T,x = treeutil.random_bst_and_node(nodes=6)\n",
    "treevis.treeprint(T)\n",
    "print(\"I selected node:\",x)"
   ]
  },
  {
   "cell_type": "code",
   "execution_count": 15,
   "metadata": {},
   "outputs": [
    {
     "name": "stdout",
     "output_type": "stream",
     "text": [
      "              <11>             \n",
      "\n",
      "      <7>             <21>     \n",
      "\n",
      "  <0>             <19>         \n",
      "\n",
      "    <4>         <15>            \n",
      "\n",
      "I selected these two nodes: <11> <19>\n"
     ]
    }
   ],
   "source": [
    "# Make a random tree and select two of its nodes\n",
    "import treeutil\n",
    "import treevis\n",
    "\n",
    "# You can ask for two nodes that are always different (distinct=True)\n",
    "# or you can allow the possibility that they will be equal (distinct=False)\n",
    "T,x,y = treeutil.random_bst_and_node_pair(nodes=7,distinct=True)\n",
    "treevis.treeprint(T)\n",
    "print(\"I selected these two nodes:\",x,y)"
   ]
  },
  {
   "cell_type": "markdown",
   "metadata": {},
   "source": [
    "### 2. Minimum and maximum\n",
    "\n",
    "Add two new methods, `minimum` and `maximum` to the `BST` class for finding the node with the smallest or largest key (either in the whole tree, or in the subtree with a given node as its root).  Use the method definitions and docstrings given below, which also give a more detailed specification for how these methods should work."
   ]
  },
  {
   "cell_type": "code",
   "execution_count": null,
   "metadata": {},
   "outputs": [],
   "source": [
    "# These should go inside class `BST` in `bst.py`\n",
    "    def minimum(self,x=None):\n",
    "        \"\"\"In the subtree with root `x`, find and return a node with\n",
    "        the smallest key. If `x` is not specified, use `self.root`.\"\"\"\n",
    "        \n",
    "    def maximum(self,x=None):\n",
    "        \"\"\"In the subtree with root `x`, find and return a node with\n",
    "        the largest key. If `x` is not specified, use `self.root`.\"\"\""
   ]
  },
  {
   "cell_type": "markdown",
   "metadata": {},
   "source": [
    "### 3. Depth\n",
    "\n",
    "Add a method `depth` to the `BST` class that computes the depth of the tree (optionally starting at a certain node rather than the root)."
   ]
  },
  {
   "cell_type": "code",
   "execution_count": 2,
   "metadata": {},
   "outputs": [],
   "source": [
    "# This should go inside class `BST` in `bst.py`\n",
    "    def depth(self,x=None):\n",
    "        \"\"\"Return the length (in number of edges) of the longest descending\n",
    "        path starting from node `x`.  If `x` is not specified, use `self.root`\"\"\""
   ]
  },
  {
   "cell_type": "markdown",
   "metadata": {},
   "source": [
    "### 4. Interval of a node\n",
    "\n",
    "Suppose you are given a binary search tree `T` and a node `x` that has no children.  If you change the key of `x`, the tree may or may not be a binary search tree.\n",
    "\n",
    "Here's an example to illustrate this.  Consider this BST:\n",
    "```\n",
    "       <15>\n",
    "\n",
    "   <9>      <29>\n",
    "\n",
    "<5>  <12>\n",
    "```\n",
    "If `x` is the node with key 12, then changing the key to 13 still gives a binary search tree:\n",
    "```\n",
    "       <15>\n",
    "\n",
    "   <9>      <29>\n",
    "\n",
    "<5>  <13>\n",
    "```\n",
    "But if we change the key to 6, the result is not a binary search tree; the right subtree of the node with key 9 contains keys smaller than 9:\n",
    "```\n",
    "  !!NOT A BST!!\n",
    "       <15>\n",
    "\n",
    "   <9>      <29>\n",
    "\n",
    "<5>  <6>\n",
    "```\n",
    "And if we change the key to 18, the result is not a binary search tree.  The left subtree of the root node contains a node with key larger than 15:\n",
    "```\n",
    "  !!NOT A BST!!\n",
    "       <15>\n",
    "\n",
    "   <9>      <29>\n",
    "\n",
    "<5>  <18>\n",
    "```\n",
    "\n",
    "Now, if you look more closely at this example, you can convince yourself that the key 12 can be changed to any number in the closed interval $[9,15]$ while keeping the BST condition, but that anything outside of this range will result in a non-BST.  This is called the **interval** of the node.\n",
    "\n",
    "Add a method to `BST` that takes a node `x` with no children and returns a tuple `(kmin,kmax)` where `kmin` and `kmax` are the smallest and largest values (respectively) that the key of `x` could be changed to while keeping the BST condition.  In some cases, there may be no lower or upper limit, in which case the value `None` should be returned for `kmin`, `kmax`, or both.\n",
    "\n",
    "Use this method definition:"
   ]
  },
  {
   "cell_type": "code",
   "execution_count": null,
   "metadata": {},
   "outputs": [],
   "source": [
    "# This should go inside class `BST` in `bst.py`\n",
    "    def interval(self,x):\n",
    "        \"\"\"Given a node `x` with no children, return the minimum and maximum key values\n",
    "        that could be stored at `x` without violating the BST condition.  The value None\n",
    "        is used to indicate that the range of allowable values has no upper or lower\n",
    "        bound.\"\"\""
   ]
  },
  {
   "cell_type": "markdown",
   "metadata": {},
   "source": [
    "For example, in this tree:\n",
    "```\n",
    "       <15>\n",
    "\n",
    "   <9>      <29>\n",
    "\n",
    "<5>  <12>\n",
    "```\n",
    "the intervals are:\n",
    "```\n",
    "<15> : None,None\n",
    " <9> : None,15\n",
    " <5> : None,9\n",
    "<12> : 9,15\n",
    "<29> : 15,None\n",
    "```\n",
    "\n",
    "Finally, it may be helpful in this problem to recall that functions in Python can return multiple values, and if they do, the returned values are assembled into a tuple.  That means the two statements below do the same thing:"
   ]
  },
  {
   "cell_type": "code",
   "execution_count": null,
   "metadata": {},
   "outputs": [],
   "source": [
    "    return 1,2,3\n",
    "    return (1,2,3)"
   ]
  },
  {
   "cell_type": "markdown",
   "metadata": {},
   "source": [
    "### Challenge\n",
    "\n",
    "This is an extra activity to work on if you finish all the exercises above.  This won't be included in the worksheet solutions.\n",
    "\n",
    "Given a node `x` in a BST, you might want to know its **successor**, meaning the node whose key is larger than `x` but as small as possible given that condition.  (We'll assume in this problem that all nodes in the tree have distinct keys).\n",
    "\n",
    "It turns out that there is an efficient description of the successor as follows:\n",
    "* If `x` has a right child, then the successor is the smallest key in the right subtree of `x`\n",
    "* If `x` does not have a right child, but has a successor, then the successor is an ancestor of `x`.  If you visit these ancestors by traveling upward from `x`, then the first node you reach that is the left child of its parent is the successor.\n",
    "* If `x` has no right child, and if moving up from `x` to the root only ever visits nodes that are right children of their parents, then `x` is the maximum of the tree, so it has no successor.\n",
    "\n",
    "Write a method `successor(self,x)` of class `BST` that finds and returns the successor, or returns `None` if there is no successor."
   ]
  },
  {
   "cell_type": "markdown",
   "metadata": {},
   "source": [
    "### Revision history\n",
    "\n",
    "* 2021-02-27 - Initial publication"
   ]
  }
 ],
 "metadata": {
  "kernelspec": {
   "display_name": "Python 3",
   "language": "python",
   "name": "python3"
  },
  "language_info": {
   "codemirror_mode": {
    "name": "ipython",
    "version": 3
   },
   "file_extension": ".py",
   "mimetype": "text/x-python",
   "name": "python",
   "nbconvert_exporter": "python",
   "pygments_lexer": "ipython3",
   "version": "3.8.5"
  }
 },
 "nbformat": 4,
 "nbformat_minor": 4
}
