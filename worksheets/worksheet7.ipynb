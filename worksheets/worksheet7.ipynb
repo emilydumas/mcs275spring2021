{
 "cells": [
  {
   "cell_type": "markdown",
   "metadata": {},
   "source": [
    "# Worksheet 7\n",
    "\n",
    "## MCS 275 Spring 2021 - Emily Dumas"
   ]
  },
  {
   "cell_type": "markdown",
   "metadata": {},
   "source": [
    "## Topics\n",
    "\n",
    "The main topics of this worksheet are:\n",
    "* Recursion with backtracking, particularly using mazes\n",
    "* Mergesort and quicksort algorithms\n",
    "\n",
    "The main references for these topics are:\n",
    "* [Lecture 15 - Recursion with backtracking](http://dumas.io/teaching/2021/spring/mcs275/slides/lecture15.html)\n",
    "* [Lecture 16 - Mergesort](http://dumas.io/teaching/2021/spring/mcs275/slides/lecture16.html)\n",
    "* [Lecture 17 - Quicksort](http://dumas.io/teaching/2021/spring/mcs275/slides/lecture17.html)\n",
    "* [Lecture 18 - Comparison sorts](http://dumas.io/teaching/2021/spring/mcs275/slides/lecture18.html)\n",
    "* [maze.py](https://github.com/emilydumas/mcs275spring2021/blob/master/samplecode/recursion/maze.py)\n",
    "* [solvemaze.py](https://github.com/emilydumas/mcs275spring2021/blob/master/samplecode/recursion/solvemaze.py)\n",
    "* [mergesort.py](https://github.com/emilydumas/mcs275spring2021/blob/master/samplecode/recursion/mergesort.py)\n",
    "* [quicksort.py](https://github.com/emilydumas/mcs275spring2021/blob/master/samplecode/recursion/quicksort.py)\n",
    "\n",
    "\n",
    "## Instructions\n",
    "\n",
    "* The worksheet has two parts (Mazes and Sorting).  The problems about the maze module allow variations and extensions that could probably occupy an entire discussion.  However, please make sure to get some practice with the sorting material, too."
   ]
  },
  {
   "cell_type": "markdown",
   "metadata": {},
   "source": [
    "## I. Mazes"
   ]
  },
  {
   "cell_type": "markdown",
   "metadata": {},
   "source": [
    "### 1. Learn a little more about `maze.py`\n",
    "\n",
    "This problem involves reading and learning more about the module `maze` we discussed in Lecture 15.  You'll use the things you learn about here in subsequent problems.\n",
    "\n",
    "In [Lecture 15](http://dumas.io/teaching/2021/spring/mcs275/slides/lecture15.html) we discussed a minimal way of using the module:\n",
    "* Create a `Maze` object (e.g. with `M = maze.Maze(xsize=7,ysize=7)`\n",
    "* Set some squares to blocked (using `M.set_blocked` for individual squares, and/or `M.apply_border` which makes all of the edge squares blocked)\n",
    "* Set the start and goal (`M.start` and `M.goal`) locations\n",
    "* Use a recursive backtracking function to find a path from the start to the goal\n",
    "The function created in the last step can be found in [solvemaze.py](https://github.com/emilydumas/mcs275spring2021/blob/master/samplecode/recursion/solvemaze.py).\n",
    "\n",
    "The module `maze` has several other features:\n",
    "\n",
    "#### Saving a maze as SVG file\n",
    "\n",
    "`Maze` objects have a method `save_svg(filename)` that writes a graphical representation of the maze to a file in the SVG format.  This is a vector graphics format (scalable, not pixel-based) that can be viewed in most web browsers.\n",
    "\n",
    "This method also accepts an optional argument `highlight`, which if given should be a list of `(x,y)` pairs that indicate squares in the maze that should be higlighted in light blue.  For example,\n",
    "```\n",
    "mymaze.save_svg(\"cool.svg\",highlight=[ (2,1), (3,1), (4,1) ])\n",
    "```\n",
    "will save the maze to `cool.svg`, and highlight three squares in blue.\n",
    "\n",
    "The `highlight` argument is provided as a way to indicate the solution of a maze, or any other feature you might choose to display.\n",
    "\n",
    "#### Saving a maze as a PNG file\n",
    "\n",
    "For this feature, you need to install a module that isn't in Python's standard library.  The module `PIL` is from a package called *Pillow*, and is used to work with image files.  The following command should install it:\n",
    "```\n",
    "python3 -m pip install pillow\n",
    "```\n",
    "\n",
    "After installing Pillow, you can save a maze object as a PNG file (a bitmap graphics format supported by nearly every program that deals with images) using the `save_png` method.  Its arguments are:\n",
    "```\n",
    "save_png(filename,scale=1,highlight=[])\n",
    "```\n",
    "The argument `scale` is a positive integer controlling the width of each maze square in pixels.  The default, `scale=1`, will result in a tiny image file where each pixel is a maze square.  To get a reasonable size output image, try `scale=10` or `scale=30`.\n",
    "\n",
    "#### Random Mazes\n",
    "\n",
    "The class `PrimRandomMaze` inherits from `Maze` and automatically generates a random maze that has exactly one path from the start to the goal.  Its constructor takes only two arguments\n",
    "\n",
    "```\n",
    "PrimRandomMaze(xsize,ysize)\n",
    "```\n",
    "and both `xsize` and `ysize` must be **odd** numbers.  This random maze generator uses [Prim's algorithm](https://en.wikipedia.org/wiki/Prim%27s_algorithm), which is known for producing mazes of moderate difficulty, with many short dead ends."
   ]
  },
  {
   "cell_type": "markdown",
   "metadata": {},
   "source": [
    "### 2. Basic solved maze image\n",
    "\n",
    "Make a Python script that imports `maze` and `solvemaze` and uses them to do the following:\n",
    "\n",
    "* Accept one command line argument, an odd integer `n`\n",
    "* Generate a random maze of size `n` by `n`\n",
    "* Solve the maze by recursize backtracking\n",
    "* Write the solved maze (with solution highlighted) to a SVG file\n",
    "\n",
    "Test the program, loading the SVG file it produces in a web browser.\n",
    "\n",
    "Also try the same but with a PNG file as the output image type.\n",
    "\n",
    "If everything works, your images should look a bit like [this](https://dumas.io/teaching/2021/spring/mcs275/slides/images/example-maze-solved.png)."
   ]
  },
  {
   "cell_type": "markdown",
   "metadata": {},
   "source": [
    "### 2.5 Solution movie\n",
    "\n",
    "If you complete problem 2 quickly and want something to do before moving on, try this:  Modify the solver script so that it saves every path ever considered by `solvemaze()` (at any point in the recursion) to a separate image file.  Give them names like `path001.png`, `path002.png`, etc..  Run this on a maze of moderate size (e.g. 9x9) and flip through the images in your platform's image viewer to make a crude animation of the recursive process.\n",
    "\n",
    "(The suggested way to do this is to create a global variable to store paths that have been considered, and have each call to `solvemaze` append the path it was given to that list.)"
   ]
  },
  {
   "cell_type": "markdown",
   "metadata": {
    "scrolled": true
   },
   "source": [
    "### 3. Simple custom mazes\n",
    "\n",
    "Instead of using the `PrimRandomMaze` class to generate a maze, write your own subclass of `Maze` that creates a maze in which `start` and `goal` are set, the border is fully blocked, and so that it is possible to get from `start` to `goal`.  The constructor should create some obstacles between the start and goal, to make the maze more interesting.\n",
    "\n",
    "For example, you might make a class that simply places a large rectangle of blocked squares in the middle of the maze, so that a solution must either go along the top and right, or bottom and left.  Or you might make some walls coming out of the sides, so that a solution needs to turn back and forth several times.\n",
    "\n",
    "The key characteristics you are looking for are:\n",
    "\n",
    "* Ability to generate a maze of a given size (specified as arguments to the constructor)\n",
    "* Certainty that the maze always has a solution\n",
    "\n",
    "It's OK for the constructor to decide a size is too small or is otherwise unacceptable, and raise an exception.  But to keep things interesting, it *should* allow arbitrarily large mazes.\n",
    "\n",
    "Write a script that instantiates your class and then uses `solvemaze` to find a solution.  Save the solved maze to a SVG file."
   ]
  },
  {
   "cell_type": "markdown",
   "metadata": {},
   "source": [
    "### 4. Modifying maze solver\n",
    "\n",
    "Make a blank `n` by `n` maze and block the border (only).  Set the start to `(1,1)` and the goal to `(n-2,n-2)`.\n",
    "\n",
    "There are many paths from the start to the goal.  Which one will `solvemaze` find in this case, and why?  Test your hypothesis.\n",
    "\n",
    "The particular path it finds is distinguished by the order in which the recursive algorithm tries the neighbors of the current square.  Make a modified version of `solvemaze` that changes this order in each of the following ways:\n",
    "* The next square to add to the path is selected at random, from among the options available\n",
    "* The path tries to move in a straight line, before considering any movement that would constitute a turn\n",
    "* Of the next steps under consideration, choose the one closest to the goal \"as the crow flies\" (in terms of Euclidean plane distance)\n",
    "\n",
    "Trying these on a Prim random maze won't be very interesting, because it has only one solution.  But trying it on a fully open maze should show different results.  Save a few to image files."
   ]
  },
  {
   "cell_type": "markdown",
   "metadata": {},
   "source": [
    "### 5. All dead ends\n",
    "\n",
    "Let's say a square in a maze is a dead end if there is exactly one free neighbor.\n",
    "\n",
    "Write a recursive function and an iterative function to take a maze and identify all of its dead ends.  They should be returned as a list of `(x,y)` pairs.\n",
    "\n",
    "The recursive function should be a small modification of `solvemaze()` which---if you look carefully---already notices when it has reached a dead end.  However, you'll need to make changes so that it doesn't stop when it gets to the goal, but keeps going until every part of the maze has been explored.\n",
    "\n",
    "Make a script that will generate a random maze and then highlight all of its dead ends, saving the result to an image file."
   ]
  },
  {
   "cell_type": "markdown",
   "metadata": {},
   "source": [
    "## II. Sorting"
   ]
  },
  {
   "cell_type": "markdown",
   "metadata": {},
   "source": [
    "### 6. Merge sorted stacks\n",
    "\n",
    "Recall that a *stack* is a data structure that mimics a physical stack of items, where the only available operations are to remove the top item (`pop`) or add a new item to the top (`push`).\n",
    "\n",
    "In Python, you can simulate a stack using a list by limiting yourself to only calling the methods\n",
    "* `.pop()` for the stack pop operation, and\n",
    "* `.append(x)` for the stack push operation\n",
    "In this way, the end of the list becomes the top of the stack.\n",
    "\n",
    "In mergesort, the main step was to create a function that can merge two sorted lists.  We made a version of this that uses indexing by integers.  However, the algorithm for merging two sorted lists only ever needs to look at the \"next\" item from each of the lists, meaning it can also be implemented using stacks.\n",
    "\n",
    "Make a function `merge_sorted_stacks(A,B,S)` that takes two stacks `A` and `B` whose elements are in sorted order, with the top of each stack being the smallest element, and an initially empty stack `S`.  The function should merge the two stacks into a single reverse-sorted stack `S`.  It can destroy `A` and `B` as it does so.\n",
    "\n",
    "For example, it should function as follows:"
   ]
  },
  {
   "cell_type": "code",
   "execution_count": 8,
   "metadata": {},
   "outputs": [
    {
     "data": {
      "text/plain": [
       "[0, 1, 2, 3, 3, 4, 5, 6]"
      ]
     },
     "execution_count": 8,
     "metadata": {},
     "output_type": "execute_result"
    }
   ],
   "source": [
    "# Example with numbers\n",
    "# A list of numbers is a sorted stack if it is in descending order\n",
    "# meaning the top of stack (last element of the list) is the smallest.\n",
    "A = [5,3,1]\n",
    "B = [6,4,3,2,0]\n",
    "S = []\n",
    "merge_sorted_stacks(A,B,S)\n",
    "S  # will be a reverse sorted stack: top will be largest element"
   ]
  },
  {
   "cell_type": "code",
   "execution_count": 9,
   "metadata": {},
   "outputs": [
    {
     "data": {
      "text/plain": [
       "['aardvark', 'asp', 'kangaroo', 'newt', 'zebra']"
      ]
     },
     "execution_count": 9,
     "metadata": {},
     "output_type": "execute_result"
    }
   ],
   "source": [
    "# Example with strings\n",
    "# A list of strings is a sorted stack if it is in reverse alphabetical order\n",
    "# meaning the top of stack (last element of the list) is the earliest in \n",
    "# the Python string order\n",
    "S = []\n",
    "merge_sorted_stacks(\n",
    "    [\"zebra\",\"kangaroo\",\"aardvark\"],\n",
    "    [\"newt\",\"asp\"],\n",
    "    S)\n",
    "S"
   ]
  },
  {
   "cell_type": "markdown",
   "metadata": {},
   "source": [
    "### 7. Mergesort and quicksort timing comparison\n",
    "\n",
    "Which of the sorthing algorithms we implemented in lecture (contained in [mergesort.py](https://github.com/emilydumas/mcs275spring2021/blob/master/samplecode/recursion/mergesort.py) and [quicksort.py](https://github.com/emilydumas/mcs275spring2021/blob/master/samplecode/recursion/quicksort.py)) is faster for long lists of integers?  What about short lists?\n",
    "\n",
    "To investigate this, make a program that does the following things for N = 10, 100, 1_000, 10_000, 100_000, and 1_000_000:\n",
    "\n",
    "* Make a list `L` of N random integers between `1` and `10*N`\n",
    "* Make a copy of that list, e.g. with `L2 = [ x for x in L ]`.  Note that `L2 = L` will **not** work, because that would simply make `L` and `L2` two names that refer to the same list.\n",
    "* Sort `L` with quicksort, making note of how long it takes\n",
    "* Sort `L2` with mergesort, making note of how long it takes\n",
    "* Check that `L` and `L2` are now equal, raising an exception if they are not.  (This isn't strictly necessary, but it adds a consistency check that would probably detect if either sorting algorithm was broken.)\n",
    "\n",
    "Then, display the results as a table.  You can use whatever formatting you think would be most helpful, e.g.\n",
    "```\n",
    "N=1000  t_merge=0.1219s t_quick=0.4158s\n",
    "```\n",
    "\n",
    "What does this show?  Is one clearly faster?  By what ratio?  Does the ratio change very much with N?\n",
    "\n",
    "If you finish this quickly, there are lots of avenues for improvement and extension, such as:\n",
    "* Since there is a random element to this timing measurement, you cannot expect to see the same results every time.  Upgrade the program to automatically do several runs at each value of `N` and average the results.\n",
    "* Add another column that shows the time for Python's build-in `.sort()` method on the same list.\n",
    "* Make a separate comparison script which uses a list that is almost sorted; you can do this by starting with a random list, sorting it, and then choosing 5% of the elements to swap into random other positions.  Does this make a difference?\n",
    "* Challenge: Instead of using integers, make a custom subclass of `int` that adds an artificial 0.1s delay to any comparison by overriding the methods `__lt__(self, other)`, `__le__(self, other)`, `__eq__(self, other)`,\n",
    "`__ne__(self, other)`,\n",
    "`__gt__(self, other)`,\n",
    "`__ge__(self, other)`.  Now, swapping elements is fast but comparing them is slow.  Does this change the comparison substantially?\n",
    "\n",
    "(The worksheet solutions won't cover these extensions.)"
   ]
  },
  {
   "cell_type": "markdown",
   "metadata": {},
   "source": [
    "### 8. Quicksort with middle element pivot\n",
    "\n",
    "The quicksort implementation we discussed in lecture uses the last element of the list as a pivot.  However, this choice is an internal one made by the `partition` function.  As long as `partition` partitions the list and returns the index of the pivot, it can use any pivot it likes.\n",
    "\n",
    "Make a new version of `partition` that selects the element closest to the middle of the list as possible.  (Of course, it is operating on a slice of the list between `start` and `end`, so it will need to look at the middle of that *part*.)\n",
    "\n",
    "**Hint:** Maybe you can just pre-process the list so that the partition function from lecture, which uses the last element of the list as a pivot, does the right thing...\n",
    "\n",
    "Test your modified version of quicksort to confirm that it works properly."
   ]
  }
 ],
 "metadata": {
  "kernelspec": {
   "display_name": "Python 3",
   "language": "python",
   "name": "python3"
  },
  "language_info": {
   "codemirror_mode": {
    "name": "ipython",
    "version": 3
   },
   "file_extension": ".py",
   "mimetype": "text/x-python",
   "name": "python",
   "nbconvert_exporter": "python",
   "pygments_lexer": "ipython3",
   "version": "3.8.5"
  }
 },
 "nbformat": 4,
 "nbformat_minor": 4
}
