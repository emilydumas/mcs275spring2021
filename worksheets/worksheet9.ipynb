{
 "cells": [
  {
   "cell_type": "markdown",
   "metadata": {},
   "source": [
    "# Worksheet 9\n",
    "\n",
    "## MCS 275 Spring 2021 - Emily Dumas"
   ]
  },
  {
   "cell_type": "markdown",
   "metadata": {},
   "source": [
    "## Topics\n",
    "\n",
    "The main topics of this worksheet are:\n",
    "* Tree traversals\n",
    "* Set and defaultdict\n",
    "* CSV and JSON\n",
    "\n",
    "The main references for these topics are:\n",
    "* [Lecture 21 - Traversals](http://dumas.io/teaching/2021/spring/mcs275/slides/lecture21.html)\n",
    "* [Lecture 22 - set and defaultdict](http://dumas.io/teaching/2021/spring/mcs275/slides/lecture22.html)\n",
    "* [Lecture 23 - CSV and JSON](http://dumas.io/teaching/2021/spring/mcs275/slides/lecture23.html)\n",
    "\n",
    "The most useful files from the sample code repository are:\n",
    "* [binary.py](https://github.com/emilydumas/mcs275spring2021/blob/master/samplecode/trees/binary.py)\n",
    "* [bst.py](https://github.com/emilydumas/mcs275spring2021/blob/master/samplecode/trees/bst.py)\n",
    "* [treevis.py](https://github.com/emilydumas/mcs275spring2021/blob/master/samplecode/trees/treevis.py)\n",
    "* [treeutil.py](https://github.com/emilydumas/mcs275spring2021/blob/master/samplecode/trees/treeutil.py)\n",
    "\n",
    "## Instructions\n",
    "\n",
    "* Problem 1 is handled differently than the others:\n",
    "    * Tuesday discussion students: Problem 1 will be presented as an example at the start of discussion\n",
    "    * Thursday discussion students: Please complete Problem 1 before discussion and bring your solution\n",
    "* For the other problems:\n",
    "    * Work on these problems in discussion."
   ]
  },
  {
   "cell_type": "markdown",
   "metadata": {},
   "source": [
    "### 1.  BST copier\n",
    "\n",
    "Write a function `bst_copy(T)` that takes a `BST` object `T` (with integer keys) and returns a copy of it, created from scratch by instantiating a new `BST` object and inserting the keys from `T`."
   ]
  },
  {
   "cell_type": "code",
   "execution_count": 58,
   "metadata": {},
   "outputs": [
    {
     "name": "stdout",
     "output_type": "stream",
     "text": [
      "The original:\n",
      "          <6>          \n",
      "\n",
      "    <5>         <14>   \n",
      "\n",
      " <4>         <10>  <16>\n",
      "\n",
      "The copy:\n",
      "          <6>          \n",
      "\n",
      "    <5>         <14>   \n",
      "\n",
      " <4>         <10>  <16>\n",
      "\n",
      "Are they the same object? (Expect False.)\n",
      "False\n"
     ]
    }
   ],
   "source": [
    "import treeutil\n",
    "import treevis\n",
    "\n",
    "T = treeutil.random_bst(6)\n",
    "T2 = bst_copy(T)\n",
    "print(\"The original:\")\n",
    "treevis.treeprint(T)\n",
    "print(\"The copy:\")\n",
    "treevis.treeprint(T2)\n",
    "print(\"Are they the same object? (Expect False.)\")\n",
    "print(T==T2)  # Since we didn't define an __eq__ method, this will return False\n",
    "              # unless T and T2 are different names for a single object"
   ]
  },
  {
   "cell_type": "markdown",
   "metadata": {},
   "source": [
    "### 2. Accidentally quadratic\n",
    "\n",
    "Here is a function that takes two strings and returns the set of characters that appear in both strings."
   ]
  },
  {
   "cell_type": "code",
   "execution_count": 118,
   "metadata": {},
   "outputs": [],
   "source": [
    "def common_chars(s1,s2):\n",
    "    \"\"\"Return a set of all characters that are present in both\n",
    "    strings `s1` and `s2`.\"\"\"\n",
    "    common = set()\n",
    "    for c1 in s1:\n",
    "        if c1 in s2:\n",
    "            common.add(c1)\n",
    "    return common"
   ]
  },
  {
   "cell_type": "markdown",
   "metadata": {},
   "source": [
    "It works.  Here's a simple example:"
   ]
  },
  {
   "cell_type": "code",
   "execution_count": 49,
   "metadata": {},
   "outputs": [
    {
     "data": {
      "text/plain": [
       "{'c', 'e', 'i', 'm', 's', 't'}"
      ]
     },
     "execution_count": 49,
     "metadata": {},
     "output_type": "execute_result"
    }
   ],
   "source": [
    "common_chars(\"mathematics\",\"computer science\")"
   ]
  },
  {
   "cell_type": "markdown",
   "metadata": {},
   "source": [
    "However, this function is actually quite slow.  Here's an example that generates two strings that each have `50,000` characters, runs `common_chars` on them, and prints the total time."
   ]
  },
  {
   "cell_type": "code",
   "execution_count": 50,
   "metadata": {},
   "outputs": [
    {
     "name": "stdout",
     "output_type": "stream",
     "text": [
      "Common characters:\n",
      "{'w', 'n', 't', 'f', 'r', 'm', 'z', 'q', 'p', 'e', 'i', 'u', 'l', 'o', 'k', 'd', 'g', 'h', 'v', 's', 'j'}\n",
      "\n",
      "Running time: 15.94 seconds\n"
     ]
    }
   ],
   "source": [
    "import random\n",
    "import time\n",
    "\n",
    "s1 = ''.join([ random.choice([\"edfghijklmnopqrstuvwxyzzzzzzzzzzzzzzzz\"]) for _ in range(50000) ])\n",
    "s2 = ''.join([ random.choice([\"abcedfghijklmnopqrstuvw\"]) for _ in range(50000) ]) + 'z'\n",
    "\n",
    "t_start = time.time()\n",
    "both = common_chars(s1,s2)\n",
    "t_end = time.time()\n",
    "\n",
    "print(\"Common characters:\")\n",
    "print(both)\n",
    "print(\"\\nRunning time: {:.2f} seconds\".format(t_end-t_start))"
   ]
  },
  {
   "cell_type": "markdown",
   "metadata": {},
   "source": [
    "If you try this yourself, you might get a slightly different time, but it will probably take more than 10 seconds.\n",
    "\n",
    "First, what is going on here?  It should be possible to compare millions of characters for equality per second, and there are only 100,000 characters you need to look at, right?\n",
    "\n",
    "Second, can you fix it?  (It is possible to make this function shorter, clearer, and so that it takes less than 0.05 seconds.)"
   ]
  },
  {
   "cell_type": "markdown",
   "metadata": {},
   "source": [
    "### 3. Nobel prize winners data\n",
    "\n",
    "Download the JSON file of data about Nobel laureates from\n",
    "\n",
    "http://api.nobelprize.org/v1/laureate.json\n",
    "\n",
    "Write a Python program that reads this file and uses `defaultdict` to make and print a histogram of the institutional affiliations that appear in each prize category (e.g. in chemistry, how many nobel laureates have their institutional affiliation as \"University of California\"?  in peace, what institutional affiliation is listed for the largest number of laureates?)\n",
    "\n",
    "Poking around in the JSON data to figure out where the relevant information is stored will be the first step.  I suggest loading it into an object in the REPL and then exploring the list of keys, taking the value associated to one of those keys and listing its keys, etc.."
   ]
  },
  {
   "cell_type": "markdown",
   "metadata": {},
   "source": [
    "### 4. CSV merge\n",
    "\n",
    "Write a program to merge any number of CSV files, so that each row in any of the input files becomes a row in the output file.  All of the input CSV files will have header rows.  If the CSV files have the same columns, this is of course easy.  But you should also handle the general case, where some columns may exist in multiple files, and others may be unique to a single file.  The output file should contain one column for each distinct column name that appears in any of the input files.\n",
    "\n",
    "Arrange it so your program `csvmerge.py` accepts all the input filenames as command line arguments.  The last command line argument is the name of the output file that should be created.\n",
    "\n",
    "For example, you might use a command like\n",
    "```\n",
    "python3 csvmerge.py a.csv b.csv c.csv out.csv\n",
    "```\n",
    "with `a.csv` containing:\n",
    "```\n",
    "name,age,favorite\n",
    "Melissa,52,vanilla\n",
    "Jonah,24,strawberry\n",
    "```\n",
    "and `b.csv` containing:\n",
    "```\n",
    "name,major\n",
    "Josefina,falconry\n",
    "David,phrenology\n",
    "```\n",
    "and `c.csv` containing:\n",
    "```\n",
    "age,major\n",
    "5,bubbles\n",
    "11,chess\n",
    "```\n",
    "In which case the program should create `out.csv` containing:\n",
    "```\n",
    "name,age,favorite,major\n",
    "Melissa,52,vanilla,\n",
    "Jonah,24,strawberry,\n",
    "Josefina,,,falconry\n",
    "David,,,phrenology\n",
    ",5,,bubbles\n",
    ",11,,chess\n",
    "```"
   ]
  },
  {
   "cell_type": "markdown",
   "metadata": {},
   "source": [
    "### 5. USPS facilities data conversion\n",
    "\n",
    "Download and unzip this CSV file listing facilities (mostly post offices) owned by the USPS in the 50 states:\n",
    "* [usps_facilities.zip](https://dumas.io/teaching/2021/spring/mcs275/data/usps_facilities.zip)\n",
    "\n",
    "Take a look at the file to get a sense of how it is structured.  (You may need to look back at it later to determine which column headings are relevant to the tasks below.)\n",
    "\n",
    "Now, write a program that uses the `csv` module to read this file and process it into a hierarchy of summary data that is written to a JSON file (using the `json` module).  The output should have the following hierarchy:\n",
    "\n",
    "* At the top level, there is one key for each 2-letter state abbreviation (e.g. \"IL\")\n",
    "    * The value associated to a state abbreviation is an object whose keys are the names of postal districts that have facilities in that state (e.g. \"Central Illinois\")\n",
    "        * The value associated to a postal district is an object whose keys and values are as follows:\n",
    "            * key \"total facilities\" with value the number of facilities in that state and postal district\n",
    "            * key \"post offices\" with value the number of facilities in that state and postal district that have facility type (column `FDB Facility Type (All)`) equal to `Post Office`.\n",
    "\n",
    "For example, the output file might begin\n",
    "```\n",
    "{ \"IL\": { \"Central Illinois\": { \"total facilities\": 165, \"post offices\": 144 }, ... \n",
    "```"
   ]
  },
  {
   "cell_type": "markdown",
   "metadata": {},
   "source": [
    "### 6. Kafkaesque *and* Tolstoyesque\n",
    "\n",
    "What words appear in both *War and Peace* by Leo Tolstoy and *The Metamorphosis* by Franz Kafka?\n",
    "\n",
    "Answer this for the english translations of these novels available as UTF-8 plain text from Project Gutenberg:\n",
    "* [War and Peace](http://www.gutenberg.org/files/2600/2600-0.txt)\n",
    "* [Metamorphosis](http://www.gutenberg.org/cache/epub/5200/pg5200.txt)\n",
    "\n",
    "(You should look at the files in a browser to see the format; there is a header and a footer, with the actual text in between.)\n",
    "\n",
    "Counting words is tricky, and there are a lot of edge cases, so let's impose these rules:\n",
    "* A word means a maximal block of consecutive characters that are alphabetic\n",
    "    * A character `c` is considered alphabetic if `c.isalpha()` returns `True`.  The method `isalpha` of class `str` is documented [here](https://docs.python.org/3/library/stdtypes.html#str.isalpha)\n",
    "* Words are considered the same if they differ only in capitalization\n",
    "* Chapter headings and roman numerals count as words (to save you the trouble of devising code to recognize and exclude these)\n",
    "\n",
    "These files contain accented characters and various exotic punctuation (e.g. proper start and end quotation marks, not just the symmetric ones on your keyboard).  As a result, to find words and ignore punctuation it will be easiest to use a positive test (`.isalpha` decides what is a letter) instead of a negative one (e.g. a hard-coded list of punctuation characters to convert to spaces before splitting).\n",
    "\n",
    "*Having finished the last exercise of the worksheet, you can now wake from these troubled dreams to find yourself transformed into a more skilled programmer.*"
   ]
  },
  {
   "cell_type": "markdown",
   "metadata": {},
   "source": [
    "### Extra for self study: One line tree\n",
    "\n",
    "This is an elaboration of a comment from lecture.  It doesn't ask you to do much except experiment with an interesting construction.  I learned of this from [Harold Cooper](https://gist.github.com/hrldcpr/2012250).\n",
    "\n",
    "The following one-line function lets you create hierarchies of dictionaries in Python using defaultdict:"
   ]
  },
  {
   "cell_type": "code",
   "execution_count": 124,
   "metadata": {},
   "outputs": [],
   "source": [
    "# Adapted from https://gist.github.com/hrldcpr/2012250 by Harold Cooper\n",
    "from collections import defaultdict\n",
    "\n",
    "def autohierarchy():\n",
    "    return defaultdict(autohierarchy)"
   ]
  },
  {
   "cell_type": "markdown",
   "metadata": {},
   "source": [
    "Here's an example of how you can use it.  Basically, you just attempt to access keys to create them!  You can even access a key of a nested dictionary, and all the surrounding dictionaries will be created."
   ]
  },
  {
   "cell_type": "code",
   "execution_count": 120,
   "metadata": {},
   "outputs": [
    {
     "name": "stdout",
     "output_type": "stream",
     "text": [
      "Adding stuff\n",
      "Ok, added the stuff\n"
     ]
    }
   ],
   "source": [
    "tasks = autohierarchy()\n",
    "print(\"Adding stuff\")\n",
    "tasks[\"home\"][\"maintenance\"][\"demagnetize rain gutters\"]\n",
    "tasks[\"home\"][\"maintenance\"][\"replace missing front door\"]\n",
    "tasks[\"home\"][\"cleaning\"][\"load dishwasher\"]\n",
    "tasks[\"home\"][\"cleaning\"][\"run dishwasher\"]\n",
    "tasks[\"home\"][\"cleaning\"][\"empty dishwasher\"]\n",
    "tasks[\"school\"][\"mcs 275\"][\"project 3\"]\n",
    "print(\"Ok, added the stuff\")"
   ]
  },
  {
   "cell_type": "markdown",
   "metadata": {},
   "source": [
    "Now if you print one of these objects, it looks ugly.  But if you convert it to JSON, it looks nice."
   ]
  },
  {
   "cell_type": "code",
   "execution_count": 121,
   "metadata": {},
   "outputs": [
    {
     "name": "stdout",
     "output_type": "stream",
     "text": [
      "Ugly, but has all the stuff we intended:\n",
      "defaultdict(<function autohierarchy at 0x7f7edc493e50>, {'home': defaultdict(<function autohierarchy at 0x7f7edc493e50>, {'maintenance': defaultdict(<function autohierarchy at 0x7f7edc493e50>, {'demagnetize rain gutters': defaultdict(<function autohierarchy at 0x7f7edc493e50>, {}), 'replace missing front door': defaultdict(<function autohierarchy at 0x7f7edc493e50>, {})}), 'cleaning': defaultdict(<function autohierarchy at 0x7f7edc493e50>, {'load dishwasher': defaultdict(<function autohierarchy at 0x7f7edc493e50>, {}), 'run dishwasher': defaultdict(<function autohierarchy at 0x7f7edc493e50>, {}), 'empty dishwasher': defaultdict(<function autohierarchy at 0x7f7edc493e50>, {})})}), 'school': defaultdict(<function autohierarchy at 0x7f7edc493e50>, {'mcs 275': defaultdict(<function autohierarchy at 0x7f7edc493e50>, {'project 3': defaultdict(<function autohierarchy at 0x7f7edc493e50>, {})})})})\n",
      "\n",
      "Nicer:\n",
      "{\n",
      "    \"home\": {\n",
      "        \"maintenance\": {\n",
      "            \"demagnetize rain gutters\": {},\n",
      "            \"replace missing front door\": {}\n",
      "        },\n",
      "        \"cleaning\": {\n",
      "            \"load dishwasher\": {},\n",
      "            \"run dishwasher\": {},\n",
      "            \"empty dishwasher\": {}\n",
      "        }\n",
      "    },\n",
      "    \"school\": {\n",
      "        \"mcs 275\": {\n",
      "            \"project 3\": {}\n",
      "        }\n",
      "    }\n",
      "}\n"
     ]
    }
   ],
   "source": [
    "import json\n",
    "\n",
    "print(\"Ugly, but has all the stuff we intended:\")\n",
    "print(tasks)\n",
    "print()\n",
    "print(\"Nicer:\")\n",
    "print(json.dumps(tasks, indent=4))"
   ]
  },
  {
   "cell_type": "markdown",
   "metadata": {},
   "source": [
    "Can you figure out how and why this works?\n",
    "\n",
    "How might you write a function to convert one of these `autohierarchy` objects to a collection of nested `dict`s so that they print nicely without using the `json` module?"
   ]
  },
  {
   "cell_type": "markdown",
   "metadata": {},
   "source": [
    "### Revision history\n",
    "\n",
    "* 2021-03-09 - Initial publication"
   ]
  }
 ],
 "metadata": {
  "kernelspec": {
   "display_name": "Python 3",
   "language": "python",
   "name": "python3"
  },
  "language_info": {
   "codemirror_mode": {
    "name": "ipython",
    "version": 3
   },
   "file_extension": ".py",
   "mimetype": "text/x-python",
   "name": "python",
   "nbconvert_exporter": "python",
   "pygments_lexer": "ipython3",
   "version": "3.8.5"
  }
 },
 "nbformat": 4,
 "nbformat_minor": 4
}
