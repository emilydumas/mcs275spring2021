{
 "cells": [
  {
   "cell_type": "markdown",
   "metadata": {},
   "source": [
    "# Worksheet 4\n",
    "\n",
    "## MCS 275 Spring 2021 - Emily Dumas"
   ]
  },
  {
   "cell_type": "markdown",
   "metadata": {},
   "source": [
    "## Topics\n",
    "\n",
    "The main topics of this worksheet are:\n",
    "* Variadic functions (lecture 7) in problems 1, 2\n",
    "* Argument unpacking (lecture 7) in problem 3\n",
    "* Decorators (lecture 8) in problems 4,5\n",
    "* Context managers (lecture 9) in problems 6,7\n",
    "\n",
    "**It is important to get some practice with each topic during discussion.** If you find any one topic taking a long time, it would be a good idea to move ahead.\n",
    "\n",
    "## Instructions\n",
    "\n",
    "Complete these coding exercises.  Each one asks you to write one or more programs or modules.  Even though these are not collected, you should get into the habit of following the [coding standards](https://dumas.io/teaching/2021/spring/mcs275/doc/codestd.pdf) that apply to all graded work in MCS 275."
   ]
  },
  {
   "cell_type": "markdown",
   "metadata": {},
   "source": [
    "### 1. Most bits set\n",
    "\n",
    "Here is a function that takes an integer and determines how many of the bits in its binary expansion are equal to 1 (such a bit is also called \"set\").  There are other ways to do this; the one shown below was chosen for its code simplicity."
   ]
  },
  {
   "cell_type": "code",
   "execution_count": 4,
   "metadata": {},
   "outputs": [],
   "source": [
    "def bits_set(n):\n",
    "    \"\"\"Return the number of 1 bits when `n` is represented in binary\"\"\"\n",
    "    return bin(n).count(\"1\")\n",
    "\n",
    "# Example: bits_set(9) returns 2 because 9 = 0b1001 which has two bits set to 1."
   ]
  },
  {
   "cell_type": "markdown",
   "metadata": {},
   "source": [
    "Write a function `most_bits_set(...)` that accepts any number of integers as positional arguments.  The function should determine which of the arguments have the most bits equal to 1.  Among arguments that have this maximum number of bits equal to 1, the function should return the one that appears earliest in the argument list.  \n",
    "\n",
    "In creating this function, you are encouraged to use the function `bits_set` given above.\n",
    "\n",
    "Examples of the expected behavior of `most_bits_set`:"
   ]
  },
  {
   "cell_type": "code",
   "execution_count": 3,
   "metadata": {},
   "outputs": [
    {
     "data": {
      "text/plain": [
       "0"
      ]
     },
     "execution_count": 3,
     "metadata": {},
     "output_type": "execute_result"
    }
   ],
   "source": [
    "most_bits_set(0)"
   ]
  },
  {
   "cell_type": "code",
   "execution_count": 9,
   "metadata": {},
   "outputs": [
    {
     "data": {
      "text/plain": [
       "9"
      ]
     },
     "execution_count": 9,
     "metadata": {},
     "output_type": "execute_result"
    }
   ],
   "source": [
    "# 9 is the only one with 2 bits set, so it is returned\n",
    "most_bits_set(8,9,0,4)"
   ]
  },
  {
   "cell_type": "code",
   "execution_count": 12,
   "metadata": {},
   "outputs": [
    {
     "data": {
      "text/plain": [
       "7"
      ]
     },
     "execution_count": 12,
     "metadata": {},
     "output_type": "execute_result"
    }
   ],
   "source": [
    "# 7,14,13 all have 3 bits set, which is the maximum seen here\n",
    "# (9 has only 2 bits set, and 2 has only 1 bit set)\n",
    "# Therefore 7 is returned\n",
    "most_bits_set(2,7,14,9,13)"
   ]
  },
  {
   "cell_type": "markdown",
   "metadata": {},
   "source": [
    "### 2. kwarg name with longest value\n",
    "\n",
    "Write a function `kwarg_name_with_longest_value(...)` which accepts any number of keyword arguments (a.k.a. kwargs).  Every value passed as a keyword argument is expected to be a sequence, such as a string, list, or tuple.  Note that sequences allow computation of length using len().  The function should determine which argument has the maximum length, and return the name of that argument.  If several keyword arguments share the maximum length, it is acceptable to return any one of their names.\n",
    "\n",
    "Example:"
   ]
  },
  {
   "cell_type": "code",
   "execution_count": 17,
   "metadata": {
    "scrolled": true
   },
   "outputs": [
    {
     "data": {
      "text/plain": [
       "'b'"
      ]
     },
     "execution_count": 17,
     "metadata": {},
     "output_type": "execute_result"
    }
   ],
   "source": [
    "kwarg_name_with_longest_value(alpha=\"air\",b=\"Tornado\",c=\"cat\")"
   ]
  },
  {
   "cell_type": "code",
   "execution_count": 18,
   "metadata": {},
   "outputs": [
    {
     "data": {
      "text/plain": [
       "'a'"
      ]
     },
     "execution_count": 18,
     "metadata": {},
     "output_type": "execute_result"
    }
   ],
   "source": [
    "# It is acceptable for this to return 'a' or 'b'\n",
    "kwarg_name_with_longest_value(a=\"finite\",b=\"robots\",c=[2,3,4])"
   ]
  },
  {
   "cell_type": "markdown",
   "metadata": {},
   "source": [
    "### 3. Printing powers of 2 less than n\n",
    "\n",
    "Write a function `powers_2_less(n)` that prints the powers of 2 that are less than n, all on one line separated by spaces, with no commas or brackets.  Use the following specific structure to achieve this:\n",
    "* Make a list of all such powers of 2\n",
    "* Use a single call to print(), where the list is unpacked into a sequence of arguments\n",
    "\n",
    "Examples:"
   ]
  },
  {
   "cell_type": "code",
   "execution_count": 24,
   "metadata": {},
   "outputs": [
    {
     "name": "stdout",
     "output_type": "stream",
     "text": [
      "Powers of 2 less than 100: 1 2 4 8 16 32 64\n"
     ]
    }
   ],
   "source": [
    "powers_2_less(100)"
   ]
  },
  {
   "cell_type": "code",
   "execution_count": 25,
   "metadata": {},
   "outputs": [
    {
     "name": "stdout",
     "output_type": "stream",
     "text": [
      "Powers of 2 less than 128: 1 2 4 8 16 32 64\n"
     ]
    }
   ],
   "source": [
    "powers_2_less(128)"
   ]
  },
  {
   "cell_type": "code",
   "execution_count": 26,
   "metadata": {},
   "outputs": [
    {
     "name": "stdout",
     "output_type": "stream",
     "text": [
      "Powers of 2 less than 129: 1 2 4 8 16 32 64 128\n"
     ]
    }
   ],
   "source": [
    "powers_2_less(129)"
   ]
  },
  {
   "cell_type": "code",
   "execution_count": 27,
   "metadata": {},
   "outputs": [
    {
     "name": "stdout",
     "output_type": "stream",
     "text": [
      "Powers of 2 less than 10000: 1 2 4 8 16 32 64 128 256 512 1024 2048 4096 8192\n"
     ]
    }
   ],
   "source": [
    "powers_2_less(10000)"
   ]
  },
  {
   "cell_type": "markdown",
   "metadata": {},
   "source": [
    "### 4. Timing decorator\n",
    "\n",
    "Here is a short program that computes the squares of the integers 1...1_000_000 and then prints how long the calculation took."
   ]
  },
  {
   "cell_type": "code",
   "execution_count": 47,
   "metadata": {},
   "outputs": [
    {
     "name": "stdout",
     "output_type": "stream",
     "text": [
      "Running time: 0.2264 seconds\n"
     ]
    }
   ],
   "source": [
    "import time\n",
    "\n",
    "t_start = time.time() # Time since 0:00 Jan 1 1970 UTC, in seconds\n",
    "million_squares = [ (x+1)**2 for x in range(1_000_000) ]\n",
    "t_end = time.time()\n",
    "print(\"Running time: {:.4f} seconds\".format(t_end - t_start))"
   ]
  },
  {
   "cell_type": "markdown",
   "metadata": {},
   "source": [
    "Using the code above as a reference, write a decorator called `timing` that, when applied to a function, makes every call to that function print how long it took for the function to complete.  The function's return value, if any, should still be returned.  And the decorator should work with functions that take arguments.\n",
    "\n",
    "Examples of how this should work:"
   ]
  },
  {
   "cell_type": "code",
   "execution_count": 49,
   "metadata": {},
   "outputs": [],
   "source": [
    "@timing\n",
    "def squares_of_first(n):\n",
    "    \"\"\"Return a list of the squares of 1, 2, ...,n\"\"\"\n",
    "    return [ (x+1)**2 for x in range(n) ]\n",
    "\n",
    "@timing\n",
    "def print_greeting(name=\"friend\",salutation=\"Hello\"):\n",
    "    \"\"\"Print a customizable greeting\"\"\"\n",
    "    print(\"{}, {}.  It is nice to see you.\".format(salutation,name))"
   ]
  },
  {
   "cell_type": "code",
   "execution_count": 50,
   "metadata": {},
   "outputs": [
    {
     "name": "stdout",
     "output_type": "stream",
     "text": [
      "Running time: 0.0000 seconds\n"
     ]
    },
    {
     "data": {
      "text/plain": [
       "[1, 4, 9, 16, 25, 36, 49, 64, 81, 100]"
      ]
     },
     "execution_count": 50,
     "metadata": {},
     "output_type": "execute_result"
    }
   ],
   "source": [
    "squares_of_first(10)"
   ]
  },
  {
   "cell_type": "code",
   "execution_count": 51,
   "metadata": {},
   "outputs": [
    {
     "name": "stdout",
     "output_type": "stream",
     "text": [
      "Running time: 0.0493 seconds\n"
     ]
    }
   ],
   "source": [
    "x=squares_of_first(100_000) # assign so the value is not printed!"
   ]
  },
  {
   "cell_type": "code",
   "execution_count": 53,
   "metadata": {},
   "outputs": [
    {
     "name": "stdout",
     "output_type": "stream",
     "text": [
      "Howdy, Anushka.  It is nice to see you.\n",
      "Running time: 0.0001 seconds\n"
     ]
    }
   ],
   "source": [
    "print_greeting(name=\"Anushka\",salutation=\"Howdy\")"
   ]
  },
  {
   "cell_type": "code",
   "execution_count": 54,
   "metadata": {},
   "outputs": [
    {
     "name": "stdout",
     "output_type": "stream",
     "text": [
      "Greetings, friend.  It is nice to see you.\n",
      "Running time: 0.0003 seconds\n"
     ]
    }
   ],
   "source": [
    "print_greeting(salutation=\"Greetings\")"
   ]
  },
  {
   "cell_type": "markdown",
   "metadata": {},
   "source": [
    "### 5. One argument limit decorator\n",
    "\n",
    "Write a decorator `unary` that ensures a function only ever receives one positional argument, and never receives any keyword arguments.  Any extra arguments (positional arguments after the first, or any keyword arguments at all) should simply be ignored.  If no arguments are given, then the decorator is allowed to do anything (e.g. raise an exception)."
   ]
  },
  {
   "cell_type": "code",
   "execution_count": 56,
   "metadata": {},
   "outputs": [],
   "source": [
    "@unary\n",
    "def show(x):\n",
    "    \"\"\"Display a single value\"\"\"\n",
    "    print(\"Value:\",x)\n",
    "\n",
    "@unary\n",
    "def square(x):\n",
    "    \"\"\"Return the square of x\"\"\"\n",
    "    return x*x"
   ]
  },
  {
   "cell_type": "code",
   "execution_count": 57,
   "metadata": {},
   "outputs": [
    {
     "name": "stdout",
     "output_type": "stream",
     "text": [
      "Value: 50\n"
     ]
    }
   ],
   "source": [
    "show(50)"
   ]
  },
  {
   "cell_type": "code",
   "execution_count": 58,
   "metadata": {},
   "outputs": [
    {
     "name": "stdout",
     "output_type": "stream",
     "text": [
      "Value: Hello everyone\n"
     ]
    }
   ],
   "source": [
    "show(\"Hello everyone\")"
   ]
  },
  {
   "cell_type": "code",
   "execution_count": 59,
   "metadata": {},
   "outputs": [
    {
     "name": "stdout",
     "output_type": "stream",
     "text": [
      "Value: 3\n"
     ]
    }
   ],
   "source": [
    "show(3,4,5,6,7)"
   ]
  },
  {
   "cell_type": "code",
   "execution_count": 60,
   "metadata": {},
   "outputs": [
    {
     "name": "stdout",
     "output_type": "stream",
     "text": [
      "Value: 5\n"
     ]
    }
   ],
   "source": [
    "show(5,6,7,8,appreciated=\"GvR\")"
   ]
  },
  {
   "cell_type": "code",
   "execution_count": 63,
   "metadata": {},
   "outputs": [
    {
     "data": {
      "text/plain": [
       "25"
      ]
     },
     "execution_count": 63,
     "metadata": {},
     "output_type": "execute_result"
    }
   ],
   "source": [
    "square(5,x=0)"
   ]
  },
  {
   "cell_type": "code",
   "execution_count": 61,
   "metadata": {},
   "outputs": [
    {
     "data": {
      "text/plain": [
       "144"
      ]
     },
     "execution_count": 61,
     "metadata": {},
     "output_type": "execute_result"
    }
   ],
   "source": [
    "square(12,20)"
   ]
  },
  {
   "cell_type": "markdown",
   "metadata": {},
   "source": [
    "Note: Silently dropping arguments is usually not a good idea, so this decorator is more of a concept exercise than a model to emulate in your future programs!"
   ]
  },
  {
   "cell_type": "markdown",
   "metadata": {},
   "source": [
    "### 6. Convert file I/O to use context managers\n",
    "\n",
    "The code shown below creates a file, fills it with data, and then reads it back.\n",
    "\n",
    "Convert this code to using context managers instead of manual cleanup."
   ]
  },
  {
   "cell_type": "code",
   "execution_count": 69,
   "metadata": {},
   "outputs": [
    {
     "name": "stdout",
     "output_type": "stream",
     "text": [
      "The largest square appearing in the file is: 961\n"
     ]
    }
   ],
   "source": [
    "outfile = open(\"mcs275ws4prob6data.txt\",\"w\") # delete if it exists!\n",
    "outfile.write(\"{} {}\\n\".format(\"i\",\"i**2\"))\n",
    "for i in range(32):\n",
    "    outfile.write(\"{} {}\\n\".format(i,i**2))\n",
    "outfile.close()\n",
    "\n",
    "infile = open(\"mcs275ws4prob6data.txt\",\"r\")\n",
    "max_seen = -1\n",
    "for line in infile:\n",
    "    fields = line.strip().split(\" \")\n",
    "    if len(fields) != 2:\n",
    "        continue\n",
    "    try:\n",
    "        x = int(fields[1])\n",
    "    except ValueError:\n",
    "        # first line doesn't contain an integer\n",
    "        # just skip it\n",
    "        continue\n",
    "    if x > max_seen:\n",
    "        max_seen = x\n",
    "infile.close()\n",
    "print(\"The largest square appearing in the file is:\",max_seen)\n",
    "        "
   ]
  },
  {
   "cell_type": "markdown",
   "metadata": {},
   "source": [
    "Secondary activity: Determine exactly how the second loop in this code works, and what formatting variations it will tolerate."
   ]
  },
  {
   "cell_type": "markdown",
   "metadata": {},
   "source": [
    "## 7. Custom context manager\n",
    "\n",
    "Here is a function that returns the abbreviated current weekday as a string (e.g. `\"Mon\"`, `\"Tue\"`, ...)."
   ]
  },
  {
   "cell_type": "code",
   "execution_count": 99,
   "metadata": {},
   "outputs": [],
   "source": [
    "import datetime\n",
    "\n",
    "def current_weekday():\n",
    "    \"\"\"Abbreviated weekday name\"\"\"\n",
    "    now = datetime.datetime.now()\n",
    "    return now.strftime(\"%a\")"
   ]
  },
  {
   "cell_type": "markdown",
   "metadata": {},
   "source": [
    "Write a class `NotOnMonday` that creates a context manager to ensure that a block of code does not start or end on  a Monday.\n",
    "\n",
    "The constructor should accept no arguments; in fact, no constructor is needed.  The function of the context manager should be:\n",
    "* Setup upon entering a with-block: Check to see if it is Monday.  If it is, print a message and wait until it is no longer Monday.  (Repeatedly wait 5 seconds and check again, until the day is no longer Monday.)\n",
    "* Cleanup upon leaving a with-block: Check to see if it is Monday.  If it is,  print a message and wait until it is no longer Monday.  (Repeatedly wait 5 seconds and check again, until the day is no longer Monday.)\n",
    "\n",
    "Notice that this decorator checks the day of week in both setup and cleanup phases; this matters because the day might change during execution of the with-block.\n",
    "\n",
    "Your class should use `current_weekday()` defined above to get the weekday.  That way, you can temporarily change `current_weekday()` to return something else (e.g. return `\"Mon\"` all the time, or return `\"Mon\"` the first time it is called, and `\"Tue\"` every other time, ...) for testing purposes.\n",
    "\n",
    "Example of use:"
   ]
  },
  {
   "cell_type": "code",
   "execution_count": 100,
   "metadata": {},
   "outputs": [
    {
     "name": "stdout",
     "output_type": "stream",
     "text": [
      "It is not Monday!\n"
     ]
    }
   ],
   "source": [
    "# The sample output was obtained on a Saturday using the actual day of week\n",
    "with NotOnMonday():\n",
    "    print(\"It is not Monday!\")"
   ]
  },
  {
   "cell_type": "code",
   "execution_count": 102,
   "metadata": {},
   "outputs": [
    {
     "name": "stdout",
     "output_type": "stream",
     "text": [
      "Waiting for it to not be Monday...\n",
      "It is not Monday!\n"
     ]
    }
   ],
   "source": [
    "# An example that shows what would happen if current_weekday() returned \"Mon\" the first time,\n",
    "# and then returned \"Tue\" for each subsequent call\n",
    "with NotOnMonday():\n",
    "    print(\"It is not Monday!\")"
   ]
  },
  {
   "cell_type": "code",
   "execution_count": 104,
   "metadata": {},
   "outputs": [
    {
     "name": "stdout",
     "output_type": "stream",
     "text": [
      "It is not Monday!\n",
      "Waiting for it to not be Monday...\n"
     ]
    }
   ],
   "source": [
    "# An example that shows what would happen if current_weekday() returned \"Tue\" the first time,\n",
    "# \"Mon\" the second time, and \"Tue\" all subsequent times it is called.\n",
    "with NotOnMonday():\n",
    "    print(\"It is not Monday!\")"
   ]
  }
 ],
 "metadata": {
  "kernelspec": {
   "display_name": "Python 3",
   "language": "python",
   "name": "python3"
  },
  "language_info": {
   "codemirror_mode": {
    "name": "ipython",
    "version": 3
   },
   "file_extension": ".py",
   "mimetype": "text/x-python",
   "name": "python",
   "nbconvert_exporter": "python",
   "pygments_lexer": "ipython3",
   "version": "3.8.5"
  }
 },
 "nbformat": 4,
 "nbformat_minor": 4
}
