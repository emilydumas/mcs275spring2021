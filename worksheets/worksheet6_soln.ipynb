{
 "cells": [
  {
   "cell_type": "markdown",
   "metadata": {},
   "source": [
    "# Worksheet 6 Solutions\n",
    "\n",
    "## MCS 275 Spring 2021 - Emily Dumas\n",
    "### Worksheet and Solutions by Jennifer Vaccaro"
   ]
  },
  {
   "cell_type": "markdown",
   "metadata": {},
   "source": [
    "### Instructions:\n",
    "\n",
    "In your breakout room groups, read the instructions for the following problems and write the functions/scripts to solve them. Each problem has multiple parts, where the first step involves writing a recursive function, and later parts involve modifying the function to highlight features of recursive functions and sequences. Depending on time, you may wish to complete all of problem 1, the first parts of 2-5, and then the second parts of whichever 2-5 you found most interesting. \n",
    "\n",
    "Some problems involve counting recursive steps, tracking function runtime, or memoization. [Here](https://github.com/emilydumas/mcs275spring2021/blob/master/samplecode/recursion/decs.py) is a decorator module that you may download and import to help implement these features.\n",
    "\n",
    "Here are links to relevant recent lectures:\n",
    "* [Lecture 12 - Recursion](http://dumas.io/teaching/2021/spring/mcs275/slides/lecture12.html)\n",
    "* [Lecture 13 - Recursion vs iteration](http://dumas.io/teaching/2021/spring/mcs275/slides/lecture13.html)\n",
    "* [Lecture 14 - Recursion vs iteration II](http://dumas.io/teaching/2021/spring/mcs275/slides/lecture14.html)\n"
   ]
  },
  {
   "cell_type": "markdown",
   "metadata": {},
   "source": [
    "## 1. Great sequence and decorators\n",
    "\n",
    "Let's define a sequence of Great numbers $\\{G_n\\}_{n\\geq0}$ as follows: \n",
    "\n",
    "* Base cases: $G_0 = 1$, $G_1 = 3$, $G_2 = 5$\n",
    "* Recursive step: $G_n = G_{n-1} - 3*G_{n-3}$\n",
    "\n",
    "So the first several Great numbers are 1,3,5,2,-7,-22,-28,-8.\n",
    "\n",
    "Write a function great(n) that calculates the nth Great number recursively. That is, the function great should call itself for some inputs n."
   ]
  },
  {
   "cell_type": "code",
   "execution_count": 1,
   "metadata": {},
   "outputs": [],
   "source": [
    "# MCS 275 Week 6 Problem 1\n",
    "# Jennifer Vaccaro\n",
    "# I developed this solution myself, in accordance with the rules in the syllabus.\n",
    "\n",
    "def great(n):\n",
    "    \"\"\"Recursive function returning the nth number from the \n",
    "    Great sequence\"\"\"\n",
    "    # Base cases G_0, G_1, and G_2\n",
    "    if n==0:\n",
    "        return 1\n",
    "    if n==1:\n",
    "        return 3\n",
    "    if n == 2:\n",
    "        return 5\n",
    "    # Recursive step if n > 2, which uses previous G values\n",
    "    return great(n-1) - 3*great(n-3)"
   ]
  },
  {
   "cell_type": "code",
   "execution_count": 2,
   "metadata": {},
   "outputs": [
    {
     "output_type": "stream",
     "name": "stdout",
     "text": [
      "The 1st Great number is 3\nThe 3rd Great number is 2\nThe 10th Great number is 164\n"
     ]
    }
   ],
   "source": [
    "print(\"The 1st Great number is\",great(1))\n",
    "print(\"The 3rd Great number is\",great(3))\n",
    "print(\"The 10th Great number is\",great(10))"
   ]
  },
  {
   "cell_type": "markdown",
   "metadata": {},
   "source": [
    "For the second part of this problem, you will use memoization. Memo-izing a function allows you to \"save\" previous pairs of inputs and outputs as base cases, so you can use less recursive depth.\n",
    "\n",
    "For example, suppose you calculate great(3) and then calculate great(6). Fince $G_6$ = $G_5$ - 3*$G_3$, and you have already calculated $G_3$, your function could incorporate the previously calculated value as a base case.\n",
    "\n",
    "Write another function great\\_memo(n) that uses the memoization decorator from decs.py. Compare the performance of both great functions for inputs 1,10,20,30."
   ]
  },
  {
   "cell_type": "code",
   "execution_count": 3,
   "metadata": {},
   "outputs": [],
   "source": [
    "# MCS 275 Week 6 Problem 1\n",
    "# Jennifer Vaccaro\n",
    "# I developed this solution myself, in accordance with the rules in the syllabus.\n",
    "\n",
    "import decs # Use the professor's decorator module.\n",
    "\n",
    "@decs.memoize # This decorator stores recent input/output pairs in a dictionary, so essentially adds all previously calculated great numbers as base cases.\n",
    "def great_memo(n):\n",
    "    \"\"\"Calculates the nth Great number, and caches the result to reduce recursive depth.\"\"\"\n",
    "    # Same logic as great(n)\n",
    "    if n==0:\n",
    "        return 1\n",
    "    if n==1:\n",
    "        return 3\n",
    "    if n == 2:\n",
    "        return 5\n",
    "    return great_memo(n-1) - 3*great_memo(n-3) "
   ]
  },
  {
   "cell_type": "code",
   "execution_count": 4,
   "metadata": {
    "tags": []
   },
   "outputs": [
    {
     "output_type": "stream",
     "name": "stdout",
     "text": [
      "The 1st Great number is 3 3\nThe 10th Great number is 164 164\nThe 20th Great number is -22828 -22828\nThe 30th Great number is -124723 -124723\n"
     ]
    }
   ],
   "source": [
    "\n",
    "print(\"The 1st Great number is\",great(1), great_memo(1))\n",
    "print(\"The 10th Great number is\",great(10), great_memo(10))\n",
    "print(\"The 20th Great number is\",great(20), great_memo(20))\n",
    "print(\"The 30th Great number is\",great(30), great_memo(30))"
   ]
  },
  {
   "cell_type": "markdown",
   "metadata": {},
   "source": [
    "## 2. Prime Factorization\n",
    "\n",
    "A prime number is an integer whose only divisors are 1 and itself. Primes include $2,3,5,7,11,...$ \n",
    "\n",
    "By the Fundamental Theorem of Algebra, every positive integer $n\\geq 2$ can be factored into a product of primes. The collection of primes is called the unique prime factorization, since it is unique up to reordering.\n",
    "\n",
    "For example,\n",
    "* $ 10 = 2*5$\n",
    "* $ 30 = 2*3*5$\n",
    "* $ 45 = 3*3*5$\n",
    "* $ 64 = 2*2*2*2*2*2$ (Note that the same prime may appear multiple times.)\n",
    "\n",
    "Write a recursive function pf(n) that, given an integer $n \\geq 2$, returns a list representing the prime factorization. Note that the list can contain the same prime repeated multiple times.\n",
    "\n",
    "When solving this problem, consider the following...\n",
    "* What are the base cases? (For what inputs will pf(n) return a list with one entry?)\n",
    "* What is the recursive step? (How do we break pf(n) into pieces which incorporate pf called on a smaller input?)"
   ]
  },
  {
   "cell_type": "code",
   "execution_count": 5,
   "metadata": {},
   "outputs": [],
   "source": [
    "# MCS 275 Week 6 Problem 2\n",
    "# Jennifer Vaccaro\n",
    "# I developed this solution myself, in accordance with the rules in the syllabus.\n",
    "\n",
    "def pf(n):\n",
    "    \"\"\"Returns the prime factorization of a positive integer n\"\"\"\n",
    "    if n==0 or n==1:\n",
    "        return [] # If n < 2, then n has no prime factors.\n",
    "    for i in range(2,n): # Check each integer up to n\n",
    "        if n % i == 0:  # if i divides n evenly, then i is a prime factor of n. This is because if i is composite, then we would reach a factor of i before checking i. So only prime factors would satisfy this conditional.\n",
    "            return pf(n//i) + [i] #return the prime factorization of the integer quotient.\n",
    "    return [n] # The \"base case\" is that n is prime."
   ]
  },
  {
   "cell_type": "code",
   "execution_count": 6,
   "metadata": {},
   "outputs": [
    {
     "output_type": "stream",
     "name": "stdout",
     "text": [
      "The prime factorization of 15 is [5, 3]\nThe prime factorization of 81 is [3, 3, 3, 3]\nThe prime factorization of 17 is [17]\n"
     ]
    }
   ],
   "source": [
    "print(\"The prime factorization of 15 is\", pf(15))\n",
    "print(\"The prime factorization of 81 is\", pf(81))\n",
    "print(\"The prime factorization of 17 is\", pf(17))"
   ]
  },
  {
   "cell_type": "markdown",
   "metadata": {},
   "source": [
    "The greatest common denominator $gcd(a,b)$ is the largest integer that evenly divides both $a$ and $b$. One way to calculate the gcd is to use the product of all common prime factors of $a$ and $b$. If $a$ and $b$ share no prime factors, then $gcd(a,b) = 1$.\n",
    "\n",
    "Write a function gcd(a,b) that calculates the greatest common divisor and calls your function pf. (The function does not need to be recursive.)\n",
    "\n",
    "As an added challenge, can you improve the performance of pf and gcd using memoization?"
   ]
  },
  {
   "cell_type": "code",
   "execution_count": 7,
   "metadata": {},
   "outputs": [],
   "source": [
    "# MCS 275 Week 6 Problem 2\n",
    "# Jennifer Vaccaro\n",
    "# I developed this solution myself, in accordance with the rules in the syllabus.\n",
    "\n",
    "def gcd(a,b):\n",
    "    \"\"\"Returns the gcd of two positive integers a and b using the\n",
    "    product of their shared factors.\"\"\"\n",
    "    gcd_ab = 1 # If they share no prime factors, then gcd(a,b)==1\n",
    "    b_factors = pf(b)\n",
    "    for f in pf(a): # Check each factor f of a\n",
    "        if f in b_factors: # Check if f is also a factor of b\n",
    "            gcd_ab *= f # multiply gcd_ab by f\n",
    "            b_factors.pop(b_factors.index(f)) # Remove the factor from b_factors, so that it isn't double counted when matched with factors of a\n",
    "    return gcd_ab"
   ]
  },
  {
   "cell_type": "code",
   "execution_count": 8,
   "metadata": {},
   "outputs": [
    {
     "output_type": "stream",
     "name": "stdout",
     "text": [
      "5\n1\n11\n120\n"
     ]
    }
   ],
   "source": [
    "print(gcd(5,500))\n",
    "print(gcd(17,83))\n",
    "print(gcd(330,11))\n",
    "print(gcd(360,240))"
   ]
  },
  {
   "cell_type": "markdown",
   "metadata": {},
   "source": [
    "## 3. Palindrome Sandwiches\n",
    "\n",
    "A palindrome is a string that is the same forwards and backwards.\n",
    "\n",
    "A palindrome sandwich is a string of the form $AB\\bar A$ where\n",
    "* $A$ is a string\n",
    "* $B$ is a string of length 3, and \n",
    "* $\\bar A$ is $A$ backwards. \n",
    "\n",
    "That is to say $A\\bar A$ is a palindrome, but $A$, $B$ and $\\bar A$ need not be palindromes. $A$ and $\\bar A$ must be non-empty, so the shortest palindrome sandwich has length 5.\n",
    "\n",
    "Examples:\n",
    "* \"racecar\" is a palindrome sandwich where $A$=\"ra\", $B$=\"cec\", and $\\bar A$=\"ar\".\n",
    "* \"noHATon\" is a palindrome sandwich where $A$=\"no\", $B$=\"HAT\", and $\\bar A$=\"on\".\n",
    "\n",
    "Non-examples:\n",
    "* \"goodBYEgood\" is NOT a palindrome sandwich, since \"good\" is not \"good\" backwards.\n",
    "* \"squirrel\" is NOT an palindrome sandwich, since it does not have odd length.\n",
    "\n",
    "Write a recursive function is\\_palindrome\\_sandwich(s) which determines whether s is an palindrome sandwich. \n",
    "\n",
    "When solving this problem, consider the following...\n",
    "* How do you isolate $A$, $B$, and $\\bar A$? \n",
    "* What would be the base case? \n",
    "* What would be the recursive step?\n"
   ]
  },
  {
   "cell_type": "code",
   "execution_count": 9,
   "metadata": {},
   "outputs": [],
   "source": [
    "# MCS 275 Week 6 Problem 3\n",
    "# Jennifer Vaccaro\n",
    "# I developed this solution myself, in accordance with the rules in the syllabus.\n",
    "\n",
    "def is_palindrome_sandwich(s):\n",
    "    \"\"\"Using recursion, checks that s is a palindrome sandwich, that is, that s=A+B+~A where\n",
    "    A is a string\n",
    "    B has length 3\n",
    "    ~A is A backwards.\"\"\"\n",
    "    len_s = len(s)\n",
    "    if len_s < 5 or len_s % 2 == 0:\n",
    "        return False # Base case: If even length of length <5, return False\n",
    "    if s[0] == s[-1]:\n",
    "        if len_s == 5:\n",
    "            return True # Base case: is a string aBa, return True\n",
    "        return is_palindrome_sandwich(s[1:-1]) # If length odd and >5, check if the inner string is a palindrome sandwich.\n",
    "    return False # if s[0] != s[-1], return False"
   ]
  },
  {
   "cell_type": "code",
   "execution_count": 10,
   "metadata": {},
   "outputs": [
    {
     "output_type": "stream",
     "name": "stdout",
     "text": [
      "True\nTrue\nTrue\nFalse\nFalse\n"
     ]
    }
   ],
   "source": [
    "print(is_palindrome_sandwich(\"racecar\"))\n",
    "print(is_palindrome_sandwich(\"noHATon\"))\n",
    "print(is_palindrome_sandwich(\"racecarCATracecar\"))\n",
    "print(is_palindrome_sandwich(\"goodBYEgood\"))\n",
    "print(is_palindrome_sandwich(\"squirrel\"))"
   ]
  },
  {
   "cell_type": "markdown",
   "metadata": {},
   "source": [
    "Next, a palindrome MULTIsandwich is a palindrome sandwich $AB\\bar A$ where \n",
    "* $A$ is a string or a palindrome sandwich\n",
    "* $B$ is a string of length 3\n",
    "* $\\bar A$ is $A$ backwards. (If $A$ is a palindrome sandwich, then so is $\\bar A$.) \n",
    "\n",
    "The \"level\" of the multisandwich is the number of nested palindrome sandwiches. Non-sandwiches have level 0, and \"simple\" palindrome sandwiches have level 1.\n",
    "\n",
    "Examples:\n",
    "\n",
    "* \"racecarGO!racecar\" has level 2, since \"racecar\"+\"GO!\"+\"racecar\" is a palindrome sandwich, and \"ra\"+\"cec\"+\"ar\" is also a palindrome sandwich, but \"ra\" is not a palindrome sandwich since it has length less than 5.\n",
    "* \"alexa---axela\" has level 2, since \"alexa\"+\"---\"+\"alexa\" is a palindrome sandwich and \"a\"+\"lex\"+\"a\" is also a palindrome sandwich, but \"a\" is not a palindrome sandwich since it has length less than 5. \n",
    "* \"helloBYEolleh\" has level 1, since \"hello\"+\"BYE\"+\"olleh\" is a palindrome sandwich, but \"h\"+\"ell\"+\"o\" is not a palindrome sandwich since \"h\"!=\"o\".\n",
    "\n",
    "Nonexamples:\n",
    "\n",
    "* \"barkDOGbark\" is NOT a palindrome sandwich, so it has level 0.\n",
    "* \"laptop\" is NOT a palindrome sandwich, so it has level 0.\n",
    "\n",
    "Write a recursive function palindrome_multisandwich(s) which determines whether s is a palindrome multisandwich, and what level it is. It should first check whether s is a palindrome sandwich, then whether $A$ is a palindrome sandwich, and so on. The function should return an integer, with 0 representing \"not a palindrome sandwich\", 1 representing a \"simple\" palindrome sandwich, etc.\n",
    "\n",
    "This function may call is_palindrome_sandwich from the previous part. Once again, first define the base case and the recursive step."
   ]
  },
  {
   "cell_type": "code",
   "execution_count": 11,
   "metadata": {},
   "outputs": [],
   "source": [
    "# MCS 275 Week 6 Problem 3\n",
    "# Jennifer Vaccaro\n",
    "# I developed this solution myself, in accordance with the rules in the syllabus.\n",
    "\n",
    "def palindrome_multisandwich(s):\n",
    "    \"\"\"Returns the number of nested palindrome sandwiches of s\"\"\"\n",
    "    if not is_palindrome_sandwich(s):\n",
    "        return 0 # Base case is s NOT a palindrome sandwich\n",
    "    # If a is a palindrom sandwich, then isolate the block for A and check that\n",
    "    len_A = (len(s)-3)//2\n",
    "    A = s[:len_A]\n",
    "    return 1 + palindrome_multisandwich(A) # recursive step is checking the multisandwich level of A, and adding 1 since s is a sandwich."
   ]
  },
  {
   "cell_type": "code",
   "execution_count": 12,
   "metadata": {},
   "outputs": [
    {
     "output_type": "stream",
     "name": "stdout",
     "text": [
      "3\n2\n1\n0\n0\n"
     ]
    }
   ],
   "source": [
    "print(palindrome_multisandwich(\"racecarGO!racecar---racecar!OGracecar\"))\n",
    "print(palindrome_multisandwich(\"alexa---axela\"))\n",
    "print(palindrome_multisandwich(\"helloBYEolleh\"))\n",
    "print(palindrome_multisandwich(\"barkDOGbark\"))\n",
    "print(palindrome_multisandwich(\"laptop\"))"
   ]
  },
  {
   "cell_type": "markdown",
   "metadata": {},
   "source": [
    "## 4. Cantor set darts\n",
    "\n",
    "Consider the following sequence...\n",
    "* $C_0 = [0,1]$ the closed interval from 0 to 1\n",
    "* $C_1 = [0,1/3] \\cup [2/3, 1]$ the union of two closed intervals\n",
    "* $C_2 = [0,1/9] \\cup [2/9,1/3] \\cup [2/3,7/9] \\cup [8/9,1]$ the union of four closed intervals\n",
    "* $C_n = [0,(1/3)^{n}] \\cup ... \\cup [1-(1/3)^{n},1]$ the union of $2^{n}$ closed intervals\n",
    "\n",
    "Then the 2/3 Cantor set is the intersection of all $C_n$ from $n=0$ to infinity. Here is a [link](https://en.wikipedia.org/wiki/Cantor_set) for more information about the Cantor set.\n",
    "\n",
    "Your goal is to write a recursive function cantor_dart_throw(x) that, given a float input x, returns True or False whether x is in the Cantor set.\n",
    "\n",
    "(Suggestion: Define a default argument \"interval=None\". Within the function, check if interval is None, and in that case set interval=\\[0,1\\]. If x is outside interval, or in the middle third, return False. If x is inside the the 1st or 3rd third and within 4 decimal places of an interval endpoint, return True. Otherwise, return cantor_dart_throw(x, new_interval) with new_interval defined as the appropriate third.)"
   ]
  },
  {
   "cell_type": "code",
   "execution_count": 13,
   "metadata": {},
   "outputs": [],
   "source": [
    "# MCS 275 Week 6 Problem 4\n",
    "# Jennifer Vaccaro\n",
    "# I developed this solution myself, in accordance with the rules in the syllabus.\n",
    "\n",
    "def cantor_dart_throw(x,interval=None, calls=1):\n",
    "    \"\"\"Recursively checks whether x is in the Cantor set.\"\"\"\n",
    "    if interval == None:\n",
    "        interval = [0,1]\n",
    "    start = interval[0]\n",
    "    end = interval[1]\n",
    "    if x<start or x>end:\n",
    "        return False # Base case, x outside the interval ==> False\n",
    "    one_third = start + (end-start)*1/3\n",
    "    two_third = start + (end-start)*2/3\n",
    "    if x>=start and x<=one_third:\n",
    "        if x-start < 10**-5: # x \"float equals\" start\n",
    "            return True\n",
    "        return cantor_dart_throw(x,[start,one_third]) # check x on the new interval\n",
    "    if x>one_third and x<two_third:\n",
    "        return False # Base case, x in middle third ==> False\n",
    "    if x>=two_third and x<=end:\n",
    "        if end-x < 10**-5: # x \"float equals\" end\n",
    "            return True\n",
    "        return cantor_dart_throw(x,[two_third,end]) # Check x on the new interval"
   ]
  },
  {
   "cell_type": "code",
   "execution_count": 14,
   "metadata": {},
   "outputs": [],
   "source": [
    "print(\"Does Cantor set contain 15? \", cantor_dart_throw(15))\n",
    "print(\"Does Cantor set contain 0?\", cantor_dart_throw(0))\n",
    "print(\"Does Cantor set contain 1/9?\", cantor_dart_throw(1/9))\n",
    "print(\"Does Cantor set contain 1/2?\", cantor_dart_throw(1/2))"
   ]
  },
  {
   "cell_type": "markdown",
   "metadata": {},
   "source": [
    "For second part of this problem, you will want to determine how many recursive steps were required to get you an answer of True/False. You can modify cantor_dart_throw to use the count_calls decorator from decs.py. \n",
    "\n",
    "Then, find an input x that requires at least 10 calls. Can you find one that returns True and one that returns False? What is the maximum depth of recursion possible in your program?"
   ]
  },
  {
   "cell_type": "code",
   "execution_count": null,
   "metadata": {},
   "outputs": [],
   "source": [
    "# MCS 275 Week 6 Problem 4\n",
    "# Jennifer Vaccaro\n",
    "# I developed this solution myself, in accordance with the rules in the syllabus.\n",
    "\n",
    "def cantor_dart_throw(x,interval=None, calls=1): # pass the interval and call count down.\n",
    "    \"\"\"Recursively checks whether x is in the Cantor set, and prints out the number of calls that were made before returning.\"\"\"\n",
    "    if interval == None:\n",
    "        interval = [0,1]\n",
    "    start = interval[0]\n",
    "    end = interval[1]\n",
    "    if x<start or x>end:\n",
    "        print(\"CALLS:\",calls)\n",
    "        return False # Base case, x outside the interval ==> False\n",
    "    one_third = start + (end-start)*1/3\n",
    "    two_third = start + (end-start)*2/3\n",
    "    if x>=start and x<=one_third:\n",
    "        if x-start < 10**-5: # x \"float equals\" start\n",
    "            print(\"CALLS:\",calls)\n",
    "            return True\n",
    "        return cantor_dart_throw(x,[start,one_third], calls+1) # check x on the new interval\n",
    "    if x>one_third and x<two_third:\n",
    "        print(\"CALLS:\",calls)\n",
    "        return False # Base case, x in middle third ==> False\n",
    "    if x>=two_third and x<=end:\n",
    "        if end-x < 10**-5: # x \"float equals\" end\n",
    "            print(\"CALLS:\",calls)\n",
    "            return True\n",
    "        return cantor_dart_throw(x,[two_third,end], calls+1) # Check x on the new interval"
   ]
  },
  {
   "cell_type": "code",
   "execution_count": null,
   "metadata": {},
   "outputs": [],
   "source": [
    "print(\"Does Cantor set contain 15? \", cantor_dart_throw(15))\n",
    "print(\"Does Cantor set contain 0.1? \", cantor_dart_throw(0.1))\n",
    "print(\"Does Cantor set contain 1/27? \", cantor_dart_throw(1/27))\n",
    "print(\"Does Cantor set contain 1/2? \", cantor_dart_throw(1/2))"
   ]
  },
  {
   "cell_type": "markdown",
   "metadata": {},
   "source": [
    "## 5. Create your own recursive sequence\n",
    "\n",
    "Consider the Fibonacci sequence $F_n$ defined in a lecture example, or the Great number sequence $G_n$ defined in Problem 1.\n",
    "\n",
    "Create a numerical recursive sequence $R_n$ using the following rules:\n",
    "\n",
    "* $R_n$ is a sequence defined on all $n\\geq 0$\n",
    "* Define several base cases $R_0$, ..., $R_{k-1}$ with $k\\geq3$\n",
    "* Define your recursive step. $R_n$ should be calculated based on at least 3 previous steps within the range of your $k$ base cases. You can add, multiply, subtract, etc.\n",
    "\n",
    "Encode your recursive sequence with a recursive function recursive(n)."
   ]
  },
  {
   "cell_type": "code",
   "execution_count": null,
   "metadata": {},
   "outputs": [],
   "source": [
    "# MCS 275 Week 6 Problem 5\n",
    "# Jennifer Vaccaro\n",
    "# I developed this solution myself, in accordance with the rules in the syllabus.\n",
    "\n",
    "def recursive(n):\n",
    "    \"\"\"Returns the nth value of a recursive sequence where...\n",
    "    R_0 = 1\n",
    "    R_1 = 1\n",
    "    R_2 = 1\n",
    "    R_n = R_{n-1} + R_{n-2} + R_{n-3}\n",
    "    Note: your recursive sequence may look different, but it should have base cases and a recursive step.\"\"\"\n",
    "    # Base cases\n",
    "    if n == 0:\n",
    "        return 1\n",
    "    if n == 1:\n",
    "        return 1\n",
    "    if n == 2:\n",
    "        return 1\n",
    "    # Recursive step\n",
    "    return recursive(n-1) + recursive(n-2) + recursive(n-3) "
   ]
  },
  {
   "cell_type": "code",
   "execution_count": 2,
   "metadata": {},
   "outputs": [],
   "source": [
    "# Write your own test cases here! Check your base cases first, then a few cases that call the recursive step.\n",
    "print(recursive(0))\n",
    "print(recursive(1))\n",
    "print(recursive(2))\n",
    "print(recursive(5))\n"
   ]
  },
  {
   "cell_type": "markdown",
   "metadata": {},
   "source": [
    "Next, without changing your recursive step, can you choose base cases $R_0$, ..., $R_{k-1}$ such that...\n",
    "\n",
    "* For $n=0,1,...,100$, $R_n$ appears to approach positive infinity.\n",
    "* For $n=0,1,...,100$, $R_n$ appears to approach negative infinity.\n",
    "* Within $n=0,1,...,100$, $R_n$ has a cycle of size $k$ or greater.\n",
    "* For $n=0,1,...,100$, the ratio $R_n / R_{n+1}$ appears to approach a constant value."
   ]
  },
  {
   "source": [
    "Answers for the example recursive sequence.\n",
    "\n",
    "* With the values $R_0=1, R_1=1, and R_2=1, R_n$ approaches positive infinity.\n",
    "* With the values $R_0=-1, R_1=-1, and R_2=-1, R_n$ approaches negative infinity.\n",
    "* With the values $R_0=2, R_1=-4, R_2=2$ has a cycle of length 6, which is greater than 3.\n",
    "* With the values $R_0=1, R_1=1, and R_2=1,$ the ratio $R_n/R_{n+1}$ approaches ~0.543689.\n"
   ],
   "cell_type": "markdown",
   "metadata": {}
  },
  {
   "cell_type": "code",
   "execution_count": null,
   "metadata": {},
   "outputs": [],
   "source": []
  }
 ],
 "metadata": {
  "kernelspec": {
   "display_name": "Python 3",
   "language": "python",
   "name": "python3"
  },
  "language_info": {
   "codemirror_mode": {
    "name": "ipython",
    "version": 3
   },
   "file_extension": ".py",
   "mimetype": "text/x-python",
   "name": "python",
   "nbconvert_exporter": "python",
   "pygments_lexer": "ipython3",
   "version": "3.8.5"
  }
 },
 "nbformat": 4,
 "nbformat_minor": 2
}