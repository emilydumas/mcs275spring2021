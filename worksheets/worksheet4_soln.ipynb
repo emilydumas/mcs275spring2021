{
 "cells": [
  {
   "cell_type": "markdown",
   "metadata": {},
   "source": [
    "# Worksheet 4 Solutions\n",
    "\n",
    "## MCS 275 Spring 2021 - Emily Dumas\n",
    "### Solutions by Jennifer Vaccaro"
   ]
  },
  {
   "cell_type": "markdown",
   "metadata": {},
   "source": [
    "## Topics\n",
    "\n",
    "The main topics of this worksheet are:\n",
    "* Variadic functions (lecture 7) in problems 1, 2\n",
    "* Argument unpacking (lecture 7) in problem 3\n",
    "* Decorators (lecture 8) in problems 4,5\n",
    "* Context managers (lecture 9) in problems 6,7\n",
    "\n",
    "**It is important to get some practice with each topic during discussion.** If you find any one topic taking a long time, it would be a good idea to move ahead.\n",
    "\n",
    "## Instructions\n",
    "\n",
    "Complete these coding exercises.  Each one asks you to write one or more programs or modules.  Even though these are not collected, you should get into the habit of following the [coding standards](https://dumas.io/teaching/2021/spring/mcs275/doc/codestd.pdf) that apply to all graded work in MCS 275."
   ]
  },
  {
   "cell_type": "markdown",
   "metadata": {},
   "source": [
    "### 1. Most bits set\n",
    "\n",
    "Here is a function that takes an integer and determines how many of the bits in its binary expansion are equal to 1 (such a bit is also called \"set\").  There are other ways to do this; the one shown below was chosen for its code simplicity."
   ]
  },
  {
   "cell_type": "code",
   "execution_count": 1,
   "metadata": {},
   "outputs": [],
   "source": [
    "def bits_set(n):\n",
    "    \"\"\"Return the number of 1 bits when `n` is represented in binary\"\"\"\n",
    "    return bin(n).count(\"1\")\n",
    "\n",
    "# Example: bits_set(9) returns 2 because 9 = 0b1001 which has two bits set to 1."
   ]
  },
  {
   "cell_type": "markdown",
   "metadata": {},
   "source": [
    "Write a function `most_bits_set(...)` that accepts any number of integers as positional arguments.  The function should determine which of the arguments have the most bits equal to 1.  Among arguments that have this maximum number of bits equal to 1, the function should return the one that appears earliest in the argument list.  \n",
    "\n",
    "In creating this function, you are encouraged to use the function `bits_set` given above."
   ]
  },
  {
   "cell_type": "code",
   "execution_count": 2,
   "metadata": {},
   "outputs": [],
   "source": [
    "# Worksheet 4 Problem 1 SOLN\n",
    "# J Vaccaro\n",
    "# This code was written in accordance with the rules in the syllabus.\n",
    "\n",
    "def most_bits_set(*args):\n",
    "    \"\"\"Return the argument with the most bits set\"\"\"\n",
    "    most_bits = -1\n",
    "    for arg in args: # Iterate through args, which are an iterable like a tuple\n",
    "        bits = bits_set(arg)\n",
    "        if bits>most_bits: # Replace only if bits exceeds most_bits, so returns the first arg with that number of bits.\n",
    "            most_bits_arg = arg\n",
    "            most_bits = bits\n",
    "    return most_bits_arg # raises Exception if no input argument"
   ]
  },
  {
   "cell_type": "code",
   "execution_count": 3,
   "metadata": {},
   "outputs": [
    {
     "output_type": "execute_result",
     "data": {
      "text/plain": [
       "0"
      ]
     },
     "metadata": {},
     "execution_count": 3
    }
   ],
   "source": [
    "most_bits_set(0)"
   ]
  },
  {
   "cell_type": "code",
   "execution_count": 4,
   "metadata": {},
   "outputs": [
    {
     "output_type": "execute_result",
     "data": {
      "text/plain": [
       "9"
      ]
     },
     "metadata": {},
     "execution_count": 4
    }
   ],
   "source": [
    "# 9 is the only one with 2 bits set, so it is returned\n",
    "most_bits_set(8,9,0,4)"
   ]
  },
  {
   "cell_type": "code",
   "execution_count": 5,
   "metadata": {},
   "outputs": [
    {
     "output_type": "execute_result",
     "data": {
      "text/plain": [
       "7"
      ]
     },
     "metadata": {},
     "execution_count": 5
    }
   ],
   "source": [
    "# 7,14,13 all have 3 bits set, which is the maximum seen here\n",
    "# (9 has only 2 bits set, and 2 has only 1 bit set)\n",
    "# Therefore 7 is returned\n",
    "most_bits_set(2,7,14,9,13)"
   ]
  },
  {
   "cell_type": "markdown",
   "metadata": {},
   "source": [
    "### 2. kwarg name with longest value\n",
    "\n",
    "Write a function `kwarg_name_with_longest_value(...)` which accepts any number of keyword arguments (a.k.a. kwargs).  Every value passed as a keyword argument is expected to be a sequence, such as a string, list, or tuple.  Note that sequences allow computation of length using len().  The function should determine which argument has the maximum length, and return the name of that argument.  If several keyword arguments share the maximum length, it is acceptable to return any one of their names."
   ]
  },
  {
   "cell_type": "code",
   "execution_count": 6,
   "metadata": {},
   "outputs": [],
   "source": [
    "# Worksheet 4 Problem 2 SOLN\n",
    "# J Vaccaro\n",
    "# This code was written in accordance with the rules in the syllabus.\n",
    "\n",
    "def kwarg_name_with_longest_value(**kwargs):\n",
    "    \"\"\"Returns the kwarg key with the longest name value\"\"\"\n",
    "    longest_length = 0\n",
    "    longest_key = \"\"\n",
    "    for key, value in kwargs.items(): # iterate through kwargs, which is like a dictionary of key-value pairs\n",
    "        value_length = len(value)\n",
    "        if value_length > longest_length:\n",
    "            longest_key = key\n",
    "            longest_length = value_length\n",
    "    return longest_key # If no arguments given, returns an empty string"
   ]
  },
  {
   "cell_type": "code",
   "execution_count": 7,
   "metadata": {
    "scrolled": true
   },
   "outputs": [
    {
     "output_type": "execute_result",
     "data": {
      "text/plain": [
       "'b'"
      ]
     },
     "metadata": {},
     "execution_count": 7
    }
   ],
   "source": [
    "kwarg_name_with_longest_value(alpha=\"air\",b=\"Tornado\",c=\"cat\")"
   ]
  },
  {
   "cell_type": "code",
   "execution_count": 8,
   "metadata": {},
   "outputs": [
    {
     "output_type": "execute_result",
     "data": {
      "text/plain": [
       "'a'"
      ]
     },
     "metadata": {},
     "execution_count": 8
    }
   ],
   "source": [
    "# It is acceptable for this to return 'a' or 'b'\n",
    "kwarg_name_with_longest_value(a=\"finite\",b=\"robots\",c=[2,3,4])"
   ]
  },
  {
   "cell_type": "markdown",
   "metadata": {},
   "source": [
    "### 3. Printing powers of 2 less than n\n",
    "\n",
    "Write a function `powers_2_less(n)` that prints the powers of 2 that are less than n, all on one line separated by spaces, with no commas or brackets.  Use the following specific structure to achieve this:\n",
    "* Make a list of all such powers of 2\n",
    "* Use a single call to print(), where the list is unpacked into a sequence of arguments"
   ]
  },
  {
   "cell_type": "code",
   "execution_count": 9,
   "metadata": {},
   "outputs": [],
   "source": [
    "# Worksheet 4 Problem 3 SOLN\n",
    "# J Vaccaro\n",
    "# This code was written in accordance with the rules in the syllabus.\n",
    "\n",
    "def powers_2_less(n):\n",
    "    \"\"\"Print out all of the powers of 2 less than n\"\"\"\n",
    "    # Create the powers list using a list comprehension\n",
    "    powers_list = [2**i for i in range(n) if 2**i < n]\n",
    "    # Since print is a variadic fxn, can use the argument unpacking from powers_list. Other solutions would use join or replace\n",
    "    print(\"Powers of 2 less than {}:\".format(n),*powers_list)"
   ]
  },
  {
   "cell_type": "code",
   "execution_count": 10,
   "metadata": {},
   "outputs": [
    {
     "output_type": "stream",
     "name": "stdout",
     "text": [
      "Powers of 2 less than 100: 1 2 4 8 16 32 64\n"
     ]
    }
   ],
   "source": [
    "powers_2_less(100)"
   ]
  },
  {
   "cell_type": "code",
   "execution_count": 11,
   "metadata": {},
   "outputs": [
    {
     "output_type": "stream",
     "name": "stdout",
     "text": [
      "Powers of 2 less than 128: 1 2 4 8 16 32 64\n"
     ]
    }
   ],
   "source": [
    "powers_2_less(128)"
   ]
  },
  {
   "cell_type": "code",
   "execution_count": 12,
   "metadata": {},
   "outputs": [
    {
     "output_type": "stream",
     "name": "stdout",
     "text": [
      "Powers of 2 less than 129: 1 2 4 8 16 32 64 128\n"
     ]
    }
   ],
   "source": [
    "powers_2_less(129)"
   ]
  },
  {
   "cell_type": "code",
   "execution_count": 13,
   "metadata": {},
   "outputs": [
    {
     "output_type": "stream",
     "name": "stdout",
     "text": [
      "Powers of 2 less than 10000: 1 2 4 8 16 32 64 128 256 512 1024 2048 4096 8192\n"
     ]
    }
   ],
   "source": [
    "powers_2_less(10000)"
   ]
  },
  {
   "cell_type": "markdown",
   "metadata": {},
   "source": [
    "### 4. Timing decorator\n",
    "\n",
    "Here is a short program that computes the squares of the integers 1...1_000_000 and then prints how long the calculation took."
   ]
  },
  {
   "cell_type": "code",
   "execution_count": 47,
   "metadata": {},
   "outputs": [
    {
     "name": "stdout",
     "output_type": "stream",
     "text": [
      "Running time: 0.2264 seconds\n"
     ]
    }
   ],
   "source": [
    "import time\n",
    "\n",
    "t_start = time.time() # Time since 0:00 Jan 1 1970 UTC, in seconds\n",
    "million_squares = [ (x+1)**2 for x in range(1_000_000) ]\n",
    "t_end = time.time()\n",
    "print(\"Running time: {:.4f} seconds\".format(t_end - t_start))"
   ]
  },
  {
   "cell_type": "markdown",
   "metadata": {},
   "source": [
    "Using the code above as a reference, write a decorator called `timing` that, when applied to a function, makes every call to that function print how long it took for the function to complete.  The function's return value, if any, should still be returned.  And the decorator should work with functions that take arguments.\n"
   ]
  },
  {
   "cell_type": "code",
   "execution_count": 28,
   "metadata": {},
   "outputs": [],
   "source": [
    "# Worksheet 4 Problem 4 SOLN\n",
    "# J Vaccaro\n",
    "# This code was written in accordance with the rules in the syllabus.\n",
    "\n",
    "import time\n",
    "\n",
    "def timing(f):\n",
    "    \"\"\"Decorator for displaying how long a function took to run in seconds\"\"\"\n",
    "\n",
    "    def inner(*args, **kwargs):\n",
    "        \"\"\"Measures and prints the execution time of f, and returns the output.\"\"\"\n",
    "        t_start = time.time() # Time since 0:00 Jan 1 1970 UTC, in seconds\n",
    "        ret = f(*args, **kwargs) # Save the output to a variable\n",
    "        t_end = time.time()\n",
    "        print(\"Running time: {:.4f} seconds\".format(t_end - t_start))\n",
    "        return ret # return the output from f\n",
    "\n",
    "    return inner"
   ]
  },
  {
   "cell_type": "code",
   "execution_count": 29,
   "metadata": {},
   "outputs": [],
   "source": [
    "@timing\n",
    "def squares_of_first(n):\n",
    "    \"\"\"Return a list of the squares of 1, 2, ...,n\"\"\"\n",
    "    return [ (x+1)**2 for x in range(n) ]\n",
    "\n",
    "@timing\n",
    "def print_greeting(name=\"friend\",salutation=\"Hello\"):\n",
    "    \"\"\"Print a customizable greeting\"\"\"\n",
    "    print(\"{}, {}.  It is nice to see you.\".format(salutation,name))"
   ]
  },
  {
   "cell_type": "code",
   "execution_count": 30,
   "metadata": {},
   "outputs": [
    {
     "output_type": "stream",
     "name": "stdout",
     "text": [
      "Running time: 0.0000 seconds\n"
     ]
    },
    {
     "output_type": "execute_result",
     "data": {
      "text/plain": [
       "[1, 4, 9, 16, 25, 36, 49, 64, 81, 100]"
      ]
     },
     "metadata": {},
     "execution_count": 30
    }
   ],
   "source": [
    "squares_of_first(10)"
   ]
  },
  {
   "cell_type": "code",
   "execution_count": 31,
   "metadata": {},
   "outputs": [
    {
     "output_type": "stream",
     "name": "stdout",
     "text": [
      "Running time: 0.0369 seconds\n"
     ]
    }
   ],
   "source": [
    "x=squares_of_first(100_000) # assign so the value is not printed!"
   ]
  },
  {
   "cell_type": "code",
   "execution_count": 32,
   "metadata": {},
   "outputs": [
    {
     "output_type": "stream",
     "name": "stdout",
     "text": [
      "Howdy, Anushka.  It is nice to see you.\nRunning time: 0.0010 seconds\n"
     ]
    }
   ],
   "source": [
    "print_greeting(name=\"Anushka\",salutation=\"Howdy\")"
   ]
  },
  {
   "cell_type": "code",
   "execution_count": 33,
   "metadata": {},
   "outputs": [
    {
     "output_type": "stream",
     "name": "stdout",
     "text": [
      "Greetings, friend.  It is nice to see you.\nRunning time: 0.0000 seconds\n"
     ]
    }
   ],
   "source": [
    "print_greeting(salutation=\"Greetings\")"
   ]
  },
  {
   "cell_type": "markdown",
   "metadata": {},
   "source": [
    "### 5. One argument limit decorator\n",
    "\n",
    "Write a decorator `unary` that ensures a function only ever receives one positional argument, and never receives any keyword arguments.  Any extra arguments (positional arguments after the first, or any keyword arguments at all) should simply be ignored.  If no arguments are given, then the decorator is allowed to do anything (e.g. raise an exception)."
   ]
  },
  {
   "cell_type": "code",
   "execution_count": 34,
   "metadata": {},
   "outputs": [],
   "source": [
    "# Worksheet 4 Problem 5 SOLN\n",
    "# J Vaccaro\n",
    "# This code was written in accordance with the rules in the syllabus.\n",
    "\n",
    "def unary(f, *argv, **kwargs):\n",
    "    \"\"\"Decorator for only calling a function with its first (non-keyword) argument\"\"\"\n",
    "\n",
    "    def inner(*args, **kwargs):\n",
    "        \"\"\"Returns f evaluated at args[0], ignores kwargs\"\"\"\n",
    "        return f(args[0])\n",
    "\n",
    "    return inner"
   ]
  },
  {
   "cell_type": "code",
   "execution_count": 35,
   "metadata": {},
   "outputs": [],
   "source": [
    "@unary\n",
    "def show(x):\n",
    "    \"\"\"Display a single value\"\"\"\n",
    "    print(\"Value:\",x)\n",
    "\n",
    "@unary\n",
    "def square(x):\n",
    "    \"\"\"Return the square of x\"\"\"\n",
    "    return x*x"
   ]
  },
  {
   "cell_type": "code",
   "execution_count": 36,
   "metadata": {},
   "outputs": [
    {
     "output_type": "stream",
     "name": "stdout",
     "text": [
      "Value: 50\n"
     ]
    }
   ],
   "source": [
    "show(50)"
   ]
  },
  {
   "cell_type": "code",
   "execution_count": 37,
   "metadata": {},
   "outputs": [
    {
     "output_type": "stream",
     "name": "stdout",
     "text": [
      "Value: Hello everyone\n"
     ]
    }
   ],
   "source": [
    "show(\"Hello everyone\")"
   ]
  },
  {
   "cell_type": "code",
   "execution_count": 38,
   "metadata": {},
   "outputs": [
    {
     "output_type": "stream",
     "name": "stdout",
     "text": [
      "Value: 3\n"
     ]
    }
   ],
   "source": [
    "show(3,4,5,6,7)"
   ]
  },
  {
   "cell_type": "code",
   "execution_count": 39,
   "metadata": {},
   "outputs": [
    {
     "output_type": "stream",
     "name": "stdout",
     "text": [
      "Value: 5\n"
     ]
    }
   ],
   "source": [
    "show(5,6,7,8,appreciated=\"GvR\")"
   ]
  },
  {
   "cell_type": "code",
   "execution_count": 40,
   "metadata": {},
   "outputs": [
    {
     "output_type": "execute_result",
     "data": {
      "text/plain": [
       "25"
      ]
     },
     "metadata": {},
     "execution_count": 40
    }
   ],
   "source": [
    "square(5,x=0)"
   ]
  },
  {
   "cell_type": "code",
   "execution_count": 41,
   "metadata": {},
   "outputs": [
    {
     "output_type": "execute_result",
     "data": {
      "text/plain": [
       "144"
      ]
     },
     "metadata": {},
     "execution_count": 41
    }
   ],
   "source": [
    "square(12,20)"
   ]
  },
  {
   "cell_type": "markdown",
   "metadata": {},
   "source": [
    "Note: Silently dropping arguments is usually not a good idea, so this decorator is more of a concept exercise than a model to emulate in your future programs!"
   ]
  },
  {
   "cell_type": "markdown",
   "metadata": {},
   "source": [
    "### 6. Convert file I/O to use context managers\n",
    "\n",
    "The code shown below creates a file, fills it with data, and then reads it back.\n",
    "\n",
    "Convert this code to using context managers instead of manual cleanup."
   ]
  },
  {
   "cell_type": "code",
   "execution_count": 69,
   "metadata": {},
   "outputs": [
    {
     "name": "stdout",
     "output_type": "stream",
     "text": [
      "The largest square appearing in the file is: 961\n"
     ]
    }
   ],
   "source": [
    "outfile = open(\"mcs275ws4prob6data.txt\",\"w\") # delete if it exists!\n",
    "outfile.write(\"{} {}\\n\".format(\"i\",\"i**2\"))\n",
    "for i in range(32):\n",
    "    outfile.write(\"{} {}\\n\".format(i,i**2))\n",
    "outfile.close()\n",
    "\n",
    "infile = open(\"mcs275ws4prob6data.txt\",\"r\")\n",
    "max_seen = -1\n",
    "for line in infile:\n",
    "    fields = line.strip().split(\" \")\n",
    "    if len(fields) != 2:\n",
    "        continue\n",
    "    try:\n",
    "        x = int(fields[1])\n",
    "    except ValueError:\n",
    "        # first line doesn't contain an integer\n",
    "        # just skip it\n",
    "        continue\n",
    "    if x > max_seen:\n",
    "        max_seen = x\n",
    "infile.close()\n",
    "print(\"The largest square appearing in the file is:\",max_seen)\n",
    "        "
   ]
  },
  {
   "cell_type": "code",
   "execution_count": 42,
   "metadata": {},
   "outputs": [
    {
     "output_type": "stream",
     "name": "stdout",
     "text": [
      "The largest square appearing in the file is: 961\n"
     ]
    }
   ],
   "source": [
    "# Worksheet 4 Problem 6 SOLN\n",
    "# J Vaccaro\n",
    "# This code was written in accordance with the rules in the syllabus.\n",
    "\n",
    "with open(\"mcs275ws4prob6data.txt\",\"w\") as outfile:\n",
    "    outfile.write(\"{} {}\\n\".format(\"i\",\"i**2\"))\n",
    "    for i in range(32):\n",
    "        outfile.write(\"{} {}\\n\".format(i,i**2))\n",
    "\n",
    "with open(\"mcs275ws4prob6data.txt\",\"r\") as infile:\n",
    "    max_seen = -1\n",
    "    for line in infile:\n",
    "        fields = line.strip().split(\" \")\n",
    "        if len(fields) != 2:\n",
    "            continue\n",
    "        try:\n",
    "            x = int(fields[1])\n",
    "        except ValueError:\n",
    "            # first line doesn't contain an integer\n",
    "            # just skip it\n",
    "            continue\n",
    "        if x > max_seen:\n",
    "            max_seen = x\n",
    "print(\"The largest square appearing in the file is:\",max_seen)"
   ]
  },
  {
   "cell_type": "markdown",
   "metadata": {},
   "source": [
    "Secondary activity: Determine exactly how the second loop in this code works, and what formatting variations it will tolerate."
   ]
  },
  {
   "source": [
    "## Answers\n",
    "\n",
    "- Additional whitespace at the beginning or end of the line\n",
    "- Skipping lines"
   ],
   "cell_type": "markdown",
   "metadata": {}
  },
  {
   "cell_type": "markdown",
   "metadata": {},
   "source": [
    "## 7. Custom context manager\n",
    "\n",
    "Here is a function that returns the abbreviated current weekday as a string (e.g. `\"Mon\"`, `\"Tue\"`, ...)."
   ]
  },
  {
   "cell_type": "code",
   "execution_count": 46,
   "metadata": {},
   "outputs": [],
   "source": [
    "import datetime\n",
    "\n",
    "def current_weekday():\n",
    "    \"\"\"Abbreviated weekday name\"\"\"\n",
    "    now = datetime.datetime.now()\n",
    "    return now.strftime(\"%a\")"
   ]
  },
  {
   "cell_type": "markdown",
   "metadata": {},
   "source": [
    "Write a class `NotOnMonday` that creates a context manager to ensure that a block of code does not start or end on  a Monday.\n",
    "\n",
    "The constructor should accept no arguments; in fact, no constructor is needed.  The function of the context manager should be:\n",
    "* Setup upon entering a with-block: Check to see if it is Monday.  If it is, print a message and wait until it is no longer Monday.  (Repeatedly wait 5 seconds and check again, until the day is no longer Monday.)\n",
    "* Cleanup upon leaving a with-block: Check to see if it is Monday.  If it is,  print a message and wait until it is no longer Monday.  (Repeatedly wait 5 seconds and check again, until the day is no longer Monday.)\n",
    "\n",
    "Notice that this decorator checks the day of week in both setup and cleanup phases; this matters because the day might change during execution of the with-block.\n",
    "\n",
    "Your class should use `current_weekday()` defined above to get the weekday.  That way, you can temporarily change `current_weekday()` to return something else (e.g. return `\"Mon\"` all the time, or return `\"Mon\"` the first time it is called, and `\"Tue\"` every other time, ...) for testing purposes.\n",
    "\n",
    "Example of use:"
   ]
  },
  {
   "cell_type": "code",
   "execution_count": 47,
   "metadata": {},
   "outputs": [],
   "source": [
    "# Worksheet 4 Problem 7 SOLN\n",
    "# J Vaccaro\n",
    "# This code was written in accordance with the rules in the syllabus.\n",
    "\n",
    "import time\n",
    "\n",
    "class NotOnMonday():\n",
    "    \"\"\"Custom context class only continues into context when today is not Monday\"\"\"\n",
    "\n",
    "    def __enter__(self):\n",
    "        \"\"\"Before entering context, and check if it's Monday every 5 seconds, only proceeding when it isn't\"\"\"\n",
    "        if current_weekday() == \"Mon\":\n",
    "            print(\"Waiting for it not to be Monday...\")\n",
    "            time.sleep(5)\n",
    "            while current_weekday() == \"Mon\":\n",
    "                time.sleep(5) # Waits for 5 seconds\n",
    "\n",
    "    def __exit__(self,exc_type,exc,tb):\n",
    "        \"\"\"Before exiting context, and check if it's Monday every 5 seconds, only proceeding when it isn't\"\"\"\n",
    "        if current_weekday() == \"Mon\":\n",
    "            print(\"Waiting for it not to be Monday...\")\n",
    "            time.sleep(5)\n",
    "            while current_weekday() == \"Mon\":\n",
    "                time.sleep(5)"
   ]
  },
  {
   "cell_type": "code",
   "execution_count": 48,
   "metadata": {},
   "outputs": [
    {
     "output_type": "stream",
     "name": "stdout",
     "text": [
      "It is not Monday!\n"
     ]
    }
   ],
   "source": [
    "# The sample output was obtained on a Saturday using the actual day of week\n",
    "with NotOnMonday():\n",
    "    print(\"It is not Monday!\")"
   ]
  },
  {
   "cell_type": "code",
   "execution_count": 59,
   "metadata": {},
   "outputs": [
    {
     "output_type": "stream",
     "name": "stdout",
     "text": [
      "Waiting for it not to be Monday...\n",
      "It is not Monday!\n"
     ]
    }
   ],
   "source": [
    "# An example that shows what would happen if current_weekday() returned \"Mon\" the first time,\n",
    "# and then returned \"Tue\" for each subsequent call\n",
    "days = [\"Mon\"]\n",
    "def current_weekday(): # \n",
    "    \"\"\"At each function call, returns an elt of days the Tue forever\"\"\"\n",
    "    if days:\n",
    "        return days.pop()\n",
    "    else:\n",
    "        return \"Tue\"\n",
    "\n",
    "with NotOnMonday():\n",
    "    print(\"It is not Monday!\")"
   ]
  },
  {
   "cell_type": "code",
   "execution_count": 60,
   "metadata": {},
   "outputs": [
    {
     "output_type": "stream",
     "name": "stdout",
     "text": [
      "It is not Monday!\nWaiting for it not to be Monday...\n"
     ]
    }
   ],
   "source": [
    "# An example that shows what would happen if current_weekday() returned \"Tue\" the first time,\n",
    "# \"Mon\" the second time, and \"Tue\" all subsequent times it is called.\n",
    "\n",
    "days = [\"Mon\", \"Tue\"] # will return Tue, Mon, then Tue forever\n",
    "\n",
    "with NotOnMonday():\n",
    "    print(\"It is not Monday!\")"
   ]
  }
 ],
 "metadata": {
  "kernelspec": {
   "display_name": "Python 3",
   "language": "python",
   "name": "python3"
  },
  "language_info": {
   "codemirror_mode": {
    "name": "ipython",
    "version": 3
   },
   "file_extension": ".py",
   "mimetype": "text/x-python",
   "name": "python",
   "nbconvert_exporter": "python",
   "pygments_lexer": "ipython3",
   "version": "3.8.5-final"
  }
 },
 "nbformat": 4,
 "nbformat_minor": 4
}