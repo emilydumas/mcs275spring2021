{
 "cells": [
  {
   "cell_type": "markdown",
   "metadata": {},
   "source": [
    "# Project 2\n",
    "\n",
    "## MCS 275 Spring 2021 - Emily Dumas"
   ]
  },
  {
   "cell_type": "markdown",
   "metadata": {},
   "source": [
    "## Instructions:\n",
    "\n",
    "### Deadline\n",
    "This project must be submitted to Gradescope by **6:00pm CST on Friday, February 26, 2021**.\n",
    "\n",
    "### Collaboration policy & academic honesty\n",
    "This project must be completed **individually**.  Seeking or giving aid on this assignment is prohibited; doing so constitutes academic misconduct which can have serious consequences.  The only resources you are allowed to consult are the ones listed below.  It is very important to follow these rules.  If you are unsure about whether something is allowed, ask.  The course syllabus contains more information about the course and university policies regarding academic honesty.\n",
    "\n",
    "### Resources you are allowed to consult\n",
    "* All documents and videos posted to the course web page (including lecture slides, lecture videos, the Python tour)\n",
    "* Course textbooks\n",
    "\n",
    "### What to do if these instructions are unclear\n",
    "Contact the instructor or TA by email, or visit office hours.\n",
    "\n",
    "### What to do if you're stuck\n",
    "Contact the instructor or TA by email, or visit office hours.\n",
    "\n",
    "### Grading breakdown\n",
    "\n",
    "This is a summary of how the 25 points on the project will be divided.\n",
    "\n",
    "| Points | Item |\n",
    "| --- | :--- |\n",
    "| 4.0 | manual code review |\n",
    "| 4.0 | autograder basic tests (files present, syntax, etc) |\n",
    "| 7.5 | autograder tests of `is_egg` |\n",
    "| 3.5 | autograder tests of `is_superegg_recursive` |\n",
    "| 3.5 | autograder tests of `is_superegg_iterative` |\n",
    "| 2.5 | autograder tests of `is_hyperegg` |\n",
    "| **25.0** | total |"
   ]
  },
  {
   "cell_type": "markdown",
   "metadata": {},
   "source": [
    "## Conceptual overview\n",
    "\n",
    "This project focuses on **recursion**, both as a programming tool and as a concept that is used in mathematical definitions.  This project is also more theoretical than Project 1.  Instead of providing long and highly detailed instructions for many classes and methods, this project asks you to write just a few functions that do more complicated things.\n",
    "\n",
    "The project is based on some definitions of types of strings, which were made up for this project.  You'll need to review the definitions below carefully to complete the project.\n",
    "\n",
    "### Eggs\n",
    "\n",
    "For the purposes of this assignment, we'll say that a string is an **egg** if its length is 3, and if the last two characters are equal.  Thus:\n",
    "* `\"egg\"` is an egg\n",
    "* `\"fee\"` is an egg\n",
    "* `\"755\"` is an egg\n",
    "* `\"888\"` is an egg (no requirement that the first character is different!)\n",
    "* `\"wit\"` is not an egg (last two characters not equal)\n",
    "* `\"stratospheric\"` is not an egg (length not equal to 3)\n",
    "* `\"id\"` is not an egg (length not equal to 3)\n",
    "* `\"x\"` is not an egg (length not equal to 3)\n",
    "* The empty string is not an egg (length not equal to 3)\n",
    "\n",
    "Note that another way to describe an egg is to say that it can be written as `A+B+B` where `A` and `B` are one-character strings.\n",
    "\n",
    "(The reason for the name is that \"egg\" is a common noun in English that is an example of this class of strings.)\n",
    "\n",
    "### Supereggs\n",
    "\n",
    "We say that a string is a **superegg** if it is possible to write the string as a concatenation `A + B + B` where `A` and `B` are nonempty strings satisfying:\n",
    "1. `A` is either a single character or is itself a superegg, and\n",
    "1. `B` is a single character\n",
    "\n",
    "Notice that this definition is recursive (supereggs are defined in terms of other supereggs).  Here are some examples.\n",
    "\n",
    "* Any egg is a superegg, because you can take `A` and `B` to be single characters\n",
    "* `\"abbcc\"` is a superegg, because you can write it as `A+B+B` with `A=\"abb\"` (which is an egg, and hence a superegg) and `B=\"C\"\n",
    "* `\"noooooo\"` is a superegg; it splits as `A+B+B` with `A=\"noooo\"` and `B=\"o\"`, so we just need to show that `\"noooo\"` is a superegg:\n",
    "    * `\"noooo\"` is a superegg because it splits as `A+B+B` with `A=\"noo\"` and `B=\"o\"`, and this `A` is an egg, hence a superegg.\n",
    "* `\"7225533\"` is a superegg (as you can check)\n",
    "* `\"waaa\"` is not a superegg.  If it was, then it would need to split as `A+B+B` with `A=\"wa\"`, but that is neither a superegg nor a single character.\n",
    "* `\"reconsidering\"` is not a superegg, because it doesn't end with two copies of the same character (whereas any superegg must, as `B` is a single character)\n",
    "* `\"foofee\"` is not a superegg, because it would need to split as `A+B+B` with `A=\"foof\"`, and `\"foof\"` is neither a single character nor a superegg (because it doesn't end with two copies of the same character).\n",
    "\n",
    "\n",
    "### Hypereggs\n",
    "\n",
    "We say that a string is a **hyperegg** if it is possible to write the string as a concatenation `A + B + B` where `A` and `B` are nonempty strings satisfying:\n",
    "1. `A` is either a single character or is itself a hyperegg, and\n",
    "1. `B` is either a single character or is itself a hyperegg\n",
    "\n",
    "Examples:\n",
    "* Any superegg is also a hyperegg, because you can take `B` to be a single character\n",
    "* As a special case of the example above, any egg is also a hyperegg\n",
    "* `\"fooss\"` is a hyperegg, taking `A=\"foo\"` (which is a hyperegg) and `B=\"s\"`\n",
    "* `\"alooloo\"` is a hyperegg, taking `A=\"a\"` and `B=\"loo\"` (which is a hyperegg)\n",
    "* `\"feefoofoo\"` is a hyperegg, taking `A=\"fee\"` (which is a hyperegg) and `B=\"foo\"` (which is a hyperegg)\n",
    "* `\"aseeseetoomiimiitoomiimii\"` is a hyperegg (you should check this!)\n",
    "* `\"gullability\"` is not a hyperegg, because there is no way to express it as `A+B+B` with `B` a nonempty string\n",
    "* `\"deedotdot\"` is not a hyperegg, because the only way to express it as `A+B+B` with `B` a nonempty string is to take `B=\"dot\"`, and `\"dot\"` is not a hyperegg; here's why:\n",
    "    * If `\"dot\"` were a hyperegg, then it would need to be expressed as `A+B+B` with `A` and `B` each being a single character, for otherwise the concatenation would have more than 3 characters.  But then it would follow that the last two characters are equal, which is not the case for `\"dot\"`.\n"
   ]
  },
  {
   "cell_type": "markdown",
   "metadata": {},
   "source": [
    "## What you need to do\n",
    "\n",
    "Create a module `eggs` (in a file `eggs.py`) that contains the four functions documented below.  Submit `eggs.py` to gradescope.\n",
    "\n",
    "* `is_egg(s)`\n",
    "    * Returns `True` if `s` is an egg, otherwise returns `False`.\n",
    "    * Implemented using any method you like.\n",
    "* `is_superegg_iterative(s)`\n",
    "    * Returns `True` if `s` is a superegg, otherwise returns `False`.\n",
    "    * **Must be purely iterative (i.e. no recursion allowed).**\n",
    "* `is_superegg_recursive(s)`\n",
    "    * Returns `True` if `s` is a superegg, otherwise returns `False`.\n",
    "    * **Must use recursion in an essential way (calling itself).**\n",
    "* `is_hyperegg(s)`\n",
    "    * Returns `True` if `s` is a hyperegg, otherwise returns `False`.\n",
    "    * **Must use recursion in an essential way (calling itself).**\n",
    "\n",
    "For all of these functions, you can assume that the only argument, `s`, is a string.  You do not need to do any checking to detect an argument of another type.\n",
    "\n",
    "Also, for functions that are required to use recursion, loops are permitted in the function body.  However, a purely iterative solution it not acceptable.\n",
    "\n",
    "To receive full credit, your code must also follow the additional requirements in the next section."
   ]
  },
  {
   "cell_type": "markdown",
   "metadata": {},
   "source": [
    "## Other requirements\n",
    "\n",
    "This section contains rules your code must follow, in addition to it needing to do everything documented in the previous section.\n",
    "\n",
    "### Coding standards\n",
    "\n",
    "Like everything you submit for credit in MCS 275, your code must follow the rules in the course [coding standards document](https://dumas.io/teaching/2021/spring/mcs275/doc/codestd.pdf).\n",
    "\n",
    "\n",
    "### No extra code in `eggs.py`\n",
    "\n",
    "The file `eggs.py` should define the necessary functions, and when imported as a module, it should not do anything else.  That is, running the Python REPL and typing\n",
    "```\n",
    ">>> import eggs\n",
    "```\n",
    "should succeed (no exceptions), should make the functions `eggs.is_hyperegg` etc. availabe, and should not print or do anything else.\n",
    "\n",
    "It *is* permissible to put some test code in `eggs.py` outside of all the function bodies as long as you put it inside a block that looks like this:\n",
    "```\n",
    "if __name__==\"__main__\":\n",
    "    # TEST CODE HERE\n",
    "```\n",
    "(The line containing `if` should not be indented at all.)  This allows you to create tests that will run when the file is executed as a script, e.g. with\n",
    "```\n",
    "python eggs.py\n",
    "```\n",
    "but which are not run when it is imported as a module.\n",
    "\n",
    "### No character set limitations\n",
    "\n",
    "Your functions should allow anything that Python considers to be a character to appear in the string.  You must not impose extra assumptions (e.g. assuming all of the characters will be in the set `A-Z`, `a-z`, or `0-9` would be an error).\n",
    "\n",
    "### Prohibited and allowed modules\n",
    "\n",
    "Code you submit for this project is not allowed to import the `re` module.  (That's a module that contains functions which perform pattern matching on strings, potentially allowing you to circumvent the difficult parts of this assignment.)\n",
    "\n",
    "**I don't think you will need to import any modules at all** in your solution, but the following modules are permitted if you find them useful for any reason (perhaps for testing):\n",
    "* `sys`\n",
    "* `os`\n",
    "* `math`\n",
    "* `random`\n",
    "\n",
    "**If you want to use a module that is not listed above, contact the instructor to request approval.**  If approval is given, the project description will be updated accordingly.  Submissions that import modules not listed on the project description will be penalized."
   ]
  },
  {
   "cell_type": "markdown",
   "metadata": {},
   "source": [
    "## Sample data\n",
    "\n",
    "It is strongly recommended that you test the functions in your `eggs` module against the following sample data.  Each is a text file containing one string per line.  You'll need to write your own Python script to read these files line by line and check whether your functions behave as expected on these inputs.\n",
    "\n",
    "Remember that when you read a line of text from a text file, it usually has a newline character at the end (which needs to be removed before you check whether it is an egg/superegg/hyperegg).  The recommended way to deal with this is to check for a newline character at the end of a line and remove it if present, e.g. using code like"
   ]
  },
  {
   "cell_type": "code",
   "execution_count": null,
   "metadata": {},
   "outputs": [],
   "source": [
    "# Suppose you've already read one line of text from the file\n",
    "# and stored it in a variable called `line`\n",
    "\n",
    "if line and line[-1] == \"\\n\":  # (`line` nonempty) and (`line` ends with \"\\n\")\n",
    "    # remove the trailing newline\n",
    "    line = line[:-1]\n",
    "\n",
    "# Now use `line`"
   ]
  },
  {
   "cell_type": "markdown",
   "metadata": {},
   "source": [
    "### Links to sample data files\n",
    "\n",
    "* [eggs.txt](https://dumas.io/teaching/2021/spring/mcs275/project2/eggs.txt) --- 1000 eggs, one per line\n",
    "* [not_eggs.txt](https://dumas.io/teaching/2021/spring/mcs275/project2/not_eggs.txt) --- 1000 strings that are not eggs, one per line.  (Some lines may be blank, because the empty string is not an egg.)\n",
    "* [supereggs.txt](https://dumas.io/teaching/2021/spring/mcs275/project2/supereggs.txt) --- 1000 supereggs, one per line\n",
    "* [not_supereggs.txt](https://dumas.io/teaching/2021/spring/mcs275/project2/not_supereggs.txt) --- 1000 strings that are not supereggs, one per line.  (Some lines may be blank, because the empty string is not a superegg.)\n",
    "* [hypereggs.txt](https://dumas.io/teaching/2021/spring/mcs275/project2/hypereggs.txt) --- 1000 supereggs, one per line\n",
    "* [not_hypereggs.txt](https://dumas.io/teaching/2021/spring/mcs275/project2/not_hypereggs.txt) --- 1000 strings that are not hypereggs, one per line.  (Some lines may be blank, because the empty string is not a hyperegg.)\n",
    "\n",
    "You'll want to download (save) these files, rather than just view them in your browser."
   ]
  },
  {
   "cell_type": "markdown",
   "metadata": {},
   "source": [
    "### A diagrammed hyperegg\n",
    "\n",
    "In response to a student question about Project 2, I created the following diagram showing that the string on line 643 of [hypereggs.txt](https://dumas.io/teaching/2021/spring/mcs275/project2/hypereggs.txt) is in fact a hyperegg:\n",
    "\n",
    "![hyperegg diagram](hyperegg.png)\n",
    "\n",
    "Each line above is a statement that it is a hyperegg, given what is known from the lines above it.  The colors highlight A, B, and B."
   ]
  },
  {
   "cell_type": "markdown",
   "metadata": {},
   "source": [
    "## Autograder available\n",
    "\n",
    "The autograder is available in Gradescope as of 2021-02-20."
   ]
  },
  {
   "cell_type": "markdown",
   "metadata": {},
   "source": [
    "## Revision History\n",
    "\n",
    "* 2021-02-24 Fixed typo in explanation of hyperegg example \"alooloo\"\n",
    "* 2021-02-23 Add hyperegg diagram\n",
    "* 2021-02-20 Add info about grading breakdown and autograder release\n",
    "* 2021-02-17 Sample data links added; New section about allowed/prohibited modules\n",
    "* 2021-02-11 Initial publication"
   ]
  }
 ],
 "metadata": {
  "kernelspec": {
   "display_name": "Python 3",
   "language": "python",
   "name": "python3"
  },
  "language_info": {
   "codemirror_mode": {
    "name": "ipython",
    "version": 3
   },
   "file_extension": ".py",
   "mimetype": "text/x-python",
   "name": "python",
   "nbconvert_exporter": "python",
   "pygments_lexer": "ipython3",
   "version": "3.8.5"
  }
 },
 "nbformat": 4,
 "nbformat_minor": 4
}
