{
 "cells": [
  {
   "cell_type": "markdown",
   "metadata": {},
   "source": [
    "# Project 1 Solution: Discussion\n",
    "\n",
    "## MCS 275 Spring 2021 - Emily Dumas"
   ]
  },
  {
   "cell_type": "markdown",
   "metadata": {},
   "source": [
    "## What this document contains\n",
    "\n",
    "A set of solutions to Project 1 was released on the course web site in the form of a module `tasks.py`.\n",
    "\n",
    "This document contains the entire source of the solutions, but with occasional breaks to discuss how the solution works, or other methods that might be considered.\n",
    "\n",
    "**Note:** Because the source code of the solution is split between multiple cells, it can't be used directly in this notebook.  If you want a version you can actually test, download the solution file `tasks.py` from the course web page."
   ]
  },
  {
   "cell_type": "markdown",
   "metadata": {},
   "source": [
    "## Solution code with commentary"
   ]
  },
  {
   "cell_type": "code",
   "execution_count": null,
   "metadata": {},
   "outputs": [],
   "source": [
    "\"Task classes for MCS 275 Spring 2021 Project 1\"\n",
    "# There is also a document containing discussion of\n",
    "# this solution.  Please read that for more info.\n",
    "# Emily Dumas\n",
    "\n",
    "\n",
    "class Task:\n",
    "    \"Base class for all task types\"\n",
    "    def __init__(self, description):\n",
    "        \"Initialize new Task\"\n",
    "        self.description = description\n",
    "        self.active = False\n",
    "\n",
    "    def next_time(self):\n",
    "        \"Return next time task must run (not supported in this base class)\"\n",
    "        raise NotImplementedError(\n",
    "            \"Task not intended to be instantiated directly\"\n",
    "        )\n",
    "    "
   ]
  },
  {
   "cell_type": "markdown",
   "metadata": {},
   "source": [
    "The method `next_time` was required to raise an exception.  Any exception type was acceptable, but since Python has a built-in exception type reserved for methods that are not supposed to be called, `NotImplementedError`, we use that one.  It would be equally valid to replace every instance of `NotImplementedError` with `Exception`."
   ]
  },
  {
   "cell_type": "code",
   "execution_count": null,
   "metadata": {},
   "outputs": [],
   "source": [
    "    def run(self):\n",
    "        \"Run the task\"\n",
    "        raise NotImplementedError(\n",
    "            \"Task not intended to be instantiated directly\"\n",
    "        )\n",
    "\n",
    "    def retire(self, t):\n",
    "        \"Retire task instances up to time t\"\n",
    "        raise NotImplementedError(\n",
    "            \"Task not intended to be instantiated directly\"\n",
    "        )\n",
    "\n",
    "\n",
    "class OneTimeTask(Task):\n",
    "    \"Task that runs once at a designated time\"\n",
    "    def __init__(self, description, t):\n",
    "        \"\"\"Initialize a new OneTimeTask with description `description`\n",
    "        and run time `t`\"\"\"\n",
    "        super().__init__(description)\n",
    "        self.active = True\n",
    "        self.t = t\n",
    "    "
   ]
  },
  {
   "cell_type": "markdown",
   "metadata": {},
   "source": [
    "It's probably worth pointing out at this point that in the constructor of `OneTimeTask`, attributes named `description` and `active` must be created.  However, the project description allows us to choose how to store the task's scheduled time (given as constructor argument `t`).  We choose to store it in an instance attribute also named `t`, but we could also have used a different name."
   ]
  },
  {
   "cell_type": "code",
   "execution_count": null,
   "metadata": {},
   "outputs": [],
   "source": [
    "    def next_time(self):\n",
    "        \"Return next time task must run\"\n",
    "        if not self.active:\n",
    "            raise Exception(\"Task is not active\")\n",
    "        return self.t"
   ]
  },
  {
   "cell_type": "markdown",
   "metadata": {},
   "source": [
    "This method is meant to be run, but may need to signal a problem that prevents it from returning a value.  Using `Exception` or a custom subclass meant for this purpose is the best option.  The `NotImplementedError` returned by some methods of `Task` and `RecurringTask` would not be appropriate here.  (However, *any* exception type was deemed acceptable in this assignment.)"
   ]
  },
  {
   "cell_type": "code",
   "execution_count": null,
   "metadata": {},
   "outputs": [],
   "source": [
    "    def run(self):\n",
    "        \"Run the task\"\n",
    "        print(\"run: class={} description=\\\"{}\\\" time={}\".format(\n",
    "            self.__class__.__name__,\n",
    "            self.description,\n",
    "            self.t\n",
    "        ))"
   ]
  },
  {
   "cell_type": "markdown",
   "metadata": {},
   "source": [
    "Using `self.__class__.__name__` here is a way to ensure the `run` method always prints a message that uses the current class name, even if this method is inherited by a subclass.  It isn't strictly necessary, because the project specifications do not involve `run` being inherited by any of the classes."
   ]
  },
  {
   "cell_type": "code",
   "execution_count": null,
   "metadata": {},
   "outputs": [],
   "source": [
    "    def retire(self, t):\n",
    "        \"Retire task if its running time is less than or equal to `t`\"\n",
    "        if t >= self.t:\n",
    "            self.active = False\n",
    "\n",
    "\n",
    "class RecurringTask(Task):\n",
    "    \"Base class for tasks that run more than once\"\n",
    "    def num_until(self, end):\n",
    "        \"How many times will the task run before time `end`?\"\n",
    "        raise NotImplementedError(\n",
    "            \"RecurringTask not intended to be instantiated directly\"\n",
    "        )\n",
    "\n",
    "\n",
    "class BoundedRecurringTask(RecurringTask):\n",
    "    \"Task that runs at times in a finite arithmetic progression\"\n",
    "    def __init__(self, description, start, gap, n):\n",
    "        \"\"\"Initialize a recurring task that runs first at time `start`, again at `start`+`gap`, \n",
    "        and so on, until it has run `n` times\"\"\"\n",
    "        super().__init__(description)\n",
    "        self.t_next = start\n",
    "        self.gap = gap\n",
    "        self.times_left = n\n",
    "        self.active = self.times_left > 0"
   ]
  },
  {
   "cell_type": "markdown",
   "metadata": {},
   "source": [
    "Here we choose to store `start` and `n` in instance attributes, but to give them slightly different names to reflect their ongoing role as the task execution proceeds.  We've decided to keep track of how many times the task still needs to run, and the next time it will run.  Each time an instance of the task is retied, `t_next` and `times_left` will be updated accordingly.\n",
    "\n",
    "Another approach would be to store a list of all the times the task will run, for example in an instance attribute `times`.  Then, the `retire` method would simply remove certain elements from that list, and `next_time` would return the first element of the list of times.\n",
    "\n",
    "However, while perfectly valid for this assignment, the approach based on a list of all times has two deficiencies:\n",
    "* It would make the implementation of `UnboundedRecurringTask` significantly different, since that class cannot store all of its scheduled times, and\n",
    "* It makes the expense of creating a `BoundedRecurringTask` (measured in time or memory) proportional to `n`, which is larger than necessary."
   ]
  },
  {
   "cell_type": "code",
   "execution_count": null,
   "metadata": {},
   "outputs": [],
   "source": [
    "    def run(self):\n",
    "        \"Run the task\"\n",
    "        if not self.active:\n",
    "            raise Exception(\"task is not active\")\n",
    "        print(\"run: class={} description=\\\"{}\\\" time={}\".format(\n",
    "            self.__class__.__name__,\n",
    "            self.description,\n",
    "            self.t_next\n",
    "        ))\n",
    "\n",
    "    def next_time(self):\n",
    "        \"Return next time task must run\"\n",
    "        if self.active:\n",
    "            return self.t_next\n",
    "        else:\n",
    "            raise Exception(\"task is not active\")\n",
    "\n",
    "    def num_until(self, end):\n",
    "        \"How many times will the task run before time `end`?\"\n",
    "        if end < self.t_next:\n",
    "            # The next instance is after `end`, so the answer is zero\n",
    "            return 0\n",
    "        # How many instances if the task ran forever\n",
    "        n = 1 + ((end-self.t_next) // self.gap)\n",
    "        # Actual number is clipped by self.times_left\n",
    "        return min(n,self.times_left)"
   ]
  },
  {
   "cell_type": "markdown",
   "metadata": {},
   "source": [
    "The mathematical expressions in `num_until` deserve some explanation.\n",
    "\n",
    "First, `end - self.t_next` is the number of units of time between the next task run time and the endpoint specified as an argument to `num_until`.  If this is less than `self.gap`, then of course the ask will only run once before `end`.  More generally, we need to know how many intervals of size `self.gap` can fit into the period between `self.t_next` and `end`, which is given by integer division.  That quotient indicates how many *additional* times the task will run, after the first one.  Hence we add one to get the actual number to be retired.\n",
    "\n",
    "So far, this logic hasn't considered the limit on the total number of times the task needs to run, so the last line of the function reduces the answer to `self.times_left` if it is too large.\n",
    "\n",
    "A number of students used an expression like\n",
    "```python\n",
    "int((end-self.t_next) / self.gap)\n",
    "```\n",
    "instead of\n",
    "```python\n",
    "(end-self.t_next) / self.gap\n",
    "```\n",
    "For moderate values of `end`, this will work.  However, these are not exactly equivalent.  Using true division (`/`) produces a float, and `int()` converts it back to an integer.  In Python, integers have no preset limit on their size, but floats do, so if `end-self.t_next` were an absolutely huge multiple of `self.gap`, the version with true division would fail.  For example, try these two expressions in the REPL:\n",
    "```python\n",
    "10**1000 / 2   # Fails; 10 to the power 1000 too large for a float\n",
    "10**1000 // 2  # Succeeds\n",
    "```\n",
    "In this project, it was indicated that time is an integer, so there is no need to introduce artificial limitations on its size.  (There was no grade penalty for use of true division, however.)"
   ]
  },
  {
   "cell_type": "code",
   "execution_count": null,
   "metadata": {},
   "outputs": [],
   "source": [
    "    def num_total(self):\n",
    "        \"How many times will the task run (excluding retired instances)?\"\n",
    "        return self.times_left\n",
    "\n",
    "    def retire(self, t):\n",
    "        \"Retire instances of the task up to and including time `t`\"\n",
    "        k = self.num_until(t)\n",
    "        self.t_next += k*self.gap\n",
    "        self.times_left -= k\n",
    "        self.active = self.times_left > 0"
   ]
  },
  {
   "cell_type": "markdown",
   "metadata": {},
   "source": [
    "Notice how having `retire` call `num_until` is a convenient way to find out how many instances need to be retired, significantly simplifying the math in this method."
   ]
  },
  {
   "cell_type": "code",
   "execution_count": null,
   "metadata": {},
   "outputs": [],
   "source": [
    "class UnboundedRecurringTask(RecurringTask):\n",
    "    \"Task that runs at times in an infinite arithmetic progression\"\n",
    "    def __init__(self, description, start, gap):\n",
    "        \"\"\"Initialize a recurring task that runs first at time `start`, again at `start+gap`, \n",
    "        `start+2*gap`, and so on, forever.\"\"\"\n",
    "        super().__init__(description)\n",
    "        self.t_next = start\n",
    "        self.gap = gap\n",
    "        self.active = True\n",
    "\n",
    "    def run(self):\n",
    "        \"Run the task\"\n",
    "        print(\"run: class={} description=\\\"{}\\\" time={}\".format(\n",
    "            self.__class__.__name__,\n",
    "            self.description,\n",
    "            self.t_next\n",
    "        ))\n",
    "\n",
    "    def next_time(self):\n",
    "        \"Return next time task must run\"\n",
    "        return self.t_next\n",
    "\n",
    "    def num_until(self, end):\n",
    "        \"How many times will the task run before time `end`?\"\n",
    "        if end < self.t_next:\n",
    "            # The next instance is after `end`, so the answer is zero\n",
    "            return 0\n",
    "        return 1 + ((end-self.t_next) // self.gap)"
   ]
  },
  {
   "cell_type": "markdown",
   "metadata": {},
   "source": [
    "This is just like `BoundedRecurringTask.num_until` except without the need to check a limit on the total number of times it will run."
   ]
  },
  {
   "cell_type": "code",
   "execution_count": null,
   "metadata": {},
   "outputs": [],
   "source": [
    "    def retire(self, t):\n",
    "        \"Retire instances of the task up to and including time `t`\"\n",
    "        k = self.num_until(t)\n",
    "        self.t_next += k*self.gap"
   ]
  },
  {
   "cell_type": "markdown",
   "metadata": {},
   "source": [
    "Here again, calling `num_until` inside `retire` makes it much simpler."
   ]
  },
  {
   "cell_type": "markdown",
   "metadata": {},
   "source": [
    "## Revision History\n",
    "\n",
    "* 2021-02-09 Initial publication"
   ]
  }
 ],
 "metadata": {
  "kernelspec": {
   "display_name": "Python 3",
   "language": "python",
   "name": "python3"
  },
  "language_info": {
   "codemirror_mode": {
    "name": "ipython",
    "version": 3
   },
   "file_extension": ".py",
   "mimetype": "text/x-python",
   "name": "python",
   "nbconvert_exporter": "python",
   "pygments_lexer": "ipython3",
   "version": "3.8.5"
  }
 },
 "nbformat": 4,
 "nbformat_minor": 4
}
