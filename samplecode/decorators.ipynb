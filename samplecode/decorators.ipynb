{
 "cells": [
  {
   "cell_type": "markdown",
   "metadata": {
    "id": "0fOP0IplVG8g"
   },
   "source": [
    "# MCS 275 Spring 2021 Lecture 8\n",
    "## Live coding decorator examples"
   ]
  },
  {
   "cell_type": "code",
   "execution_count": null,
   "metadata": {
    "id": "F6Rxx4HuVMnf"
   },
   "outputs": [],
   "source": [
    "# A higher-order function: It accepts a function as an argument\n",
    "def dotwice(f):\n",
    "    \"\"\"Call function f twice\"\"\"\n",
    "    f()\n",
    "    f()"
   ]
  },
  {
   "cell_type": "code",
   "execution_count": null,
   "metadata": {
    "id": "38XA6IP6VZGm"
   },
   "outputs": [],
   "source": [
    "def eureka():\n",
    "  \"\"\"Shout eureka\"\"\"\n",
    "  print(\"Eureka! I have discovered Python!\")"
   ]
  },
  {
   "cell_type": "code",
   "execution_count": null,
   "metadata": {
    "colab": {
     "base_uri": "https://localhost:8080/"
    },
    "id": "M1YkYRO7ViD9",
    "outputId": "a61e6537-f54c-40b8-db3b-c0cb12a5b8ea"
   },
   "outputs": [
    {
     "name": "stdout",
     "output_type": "stream",
     "text": [
      "Eureka! I have discovered Python!\n",
      "Eureka! I have discovered Python!\n"
     ]
    }
   ],
   "source": [
    "dotwice(eureka)"
   ]
  },
  {
   "cell_type": "code",
   "execution_count": null,
   "metadata": {
    "id": "7TJBcgneVxVe"
   },
   "outputs": [],
   "source": [
    "# The next line will NOT work, because eureka() evaluates to None\n",
    "# and None is not callable.\n",
    "dotwice(eureka())  # call eureka, get return value, pass that to dotwice\n"
   ]
  },
  {
   "cell_type": "code",
   "execution_count": null,
   "metadata": {
    "id": "HejpIx_lWJ45"
   },
   "outputs": [],
   "source": [
    "# This is basically what's wrong with the cell above\n",
    "# A non-callable object is being called\n",
    "275(\"this will fail\")"
   ]
  },
  {
   "cell_type": "code",
   "execution_count": null,
   "metadata": {
    "colab": {
     "base_uri": "https://localhost:8080/"
    },
    "id": "VVfIhrseWUCu",
    "outputId": "68c11ee8-ff7d-4cea-e8f6-b598e66d57f2"
   },
   "outputs": [
    {
     "name": "stdout",
     "output_type": "stream",
     "text": [
      "hello\n",
      "hello\n"
     ]
    }
   ],
   "source": [
    "def sayhello():\n",
    "  \"\"\"Say hello\"\"\"\n",
    "  print(\"hello\")\n",
    "\n",
    "dotwice(sayhello)"
   ]
  },
  {
   "cell_type": "code",
   "execution_count": null,
   "metadata": {
    "colab": {
     "base_uri": "https://localhost:8080/"
    },
    "id": "WcsA4ZIhWm4c",
    "outputId": "d639557d-cd27-4b26-b722-dc81281d5acd"
   },
   "outputs": [
    {
     "name": "stdout",
     "output_type": "stream",
     "text": [
      "hello\n",
      "hello\n"
     ]
    }
   ],
   "source": [
    "# lamba arg1,arg2: retval\n",
    "dotwice(lambda :print(\"hello\"))"
   ]
  },
  {
   "cell_type": "code",
   "execution_count": null,
   "metadata": {
    "id": "IgQU8ha6W_02"
   },
   "outputs": [],
   "source": [
    "# A version of dowtice that allows the function to be called\n",
    "# to accept arbitrary parameters\n",
    "\n",
    "def dotwice2(f,*args,**kwargs):\n",
    "    \"\"\"Call function f twice, allowing arguments to be passed\"\"\"\n",
    "    f(*args,**kwargs)\n",
    "    f(*args,**kwargs)"
   ]
  },
  {
   "cell_type": "code",
   "execution_count": null,
   "metadata": {
    "colab": {
     "base_uri": "https://localhost:8080/"
    },
    "id": "0tlX833IXRyc",
    "outputId": "ad23a86f-7efe-4a24-c57e-165982437bd6"
   },
   "outputs": [
    {
     "name": "stdout",
     "output_type": "stream",
     "text": [
      "hello my name is david!\n",
      "hello my name is david!\n"
     ]
    }
   ],
   "source": [
    "dotwice2(print,\"hello\",\"my name\",\"is\",\"david\",end=\"!\\n\")"
   ]
  },
  {
   "cell_type": "code",
   "execution_count": null,
   "metadata": {
    "colab": {
     "base_uri": "https://localhost:8080/"
    },
    "id": "8cw_dh4GXlBo",
    "outputId": "e316784a-6ce0-4827-face-05b85524a8b0"
   },
   "outputs": [
    {
     "name": "stdout",
     "output_type": "stream",
     "text": [
      "hello my name is david!\n",
      "hello my name is david!\n"
     ]
    }
   ],
   "source": [
    "# Previous cell equivalent to\n",
    "print(\"hello\",\"my name\",\"is\",\"david\",end=\"!\\n\")\n",
    "print(\"hello\",\"my name\",\"is\",\"david\",end=\"!\\n\")"
   ]
  },
  {
   "cell_type": "code",
   "execution_count": null,
   "metadata": {
    "id": "w0ZHZpJLXwoa"
   },
   "outputs": [],
   "source": [
    "def return_power(n):\n",
    "    def inner(x): # function inside a function!\n",
    "        \"\"\"Raise x to a power\"\"\"\n",
    "        return x**n\n",
    "    return inner"
   ]
  },
  {
   "cell_type": "code",
   "execution_count": null,
   "metadata": {
    "id": "PTKiYiuoYJZU"
   },
   "outputs": [],
   "source": [
    "pow2 = return_power(2)  # 2 goes into n, and inner gets defined & returned\n",
    "pow3 = return_power(3)  # 3 goes into n, and inner gets defined & returned"
   ]
  },
  {
   "cell_type": "code",
   "execution_count": null,
   "metadata": {
    "colab": {
     "base_uri": "https://localhost:8080/"
    },
    "id": "EeWz0BInYO-R",
    "outputId": "0d9e79cb-f325-4beb-a222-82562cf78ed4"
   },
   "outputs": [
    {
     "data": {
      "text/plain": [
       "1024"
      ]
     },
     "execution_count": 87,
     "metadata": {
      "tags": []
     },
     "output_type": "execute_result"
    }
   ],
   "source": [
    "# pow2 and pow3 are nice names, but you can use any name you like\n",
    "alice = return_power(10)\n",
    "\n",
    "alice(2)"
   ]
  },
  {
   "cell_type": "code",
   "execution_count": null,
   "metadata": {
    "id": "vNEyp-fsZfgJ"
   },
   "outputs": [],
   "source": [
    "# Let's make a function that turns functions into functions\n",
    "# In this case, it turns f into a new function that just calls f twice.\n",
    "def return_twice_doer(f):\n",
    "    \"\"\"Return a new function which calls f twice\"\"\"\n",
    "    def inner(*args,**kwargs):\n",
    "        \"\"\"Call a certain function twice\"\"\"\n",
    "        f(*args,**kwargs)\n",
    "        f(*args,**kwargs)\n",
    "    return inner"
   ]
  },
  {
   "cell_type": "code",
   "execution_count": null,
   "metadata": {
    "id": "qW7C8bm7Z_YK"
   },
   "outputs": [],
   "source": [
    "def eureka():\n",
    "  \"\"\"Shout eureka\"\"\"\n",
    "  print(\"Eureka! I have discovered Python!\")\n",
    "\n",
    "eureka_twice = return_twice_doer(eureka)"
   ]
  },
  {
   "cell_type": "code",
   "execution_count": null,
   "metadata": {
    "colab": {
     "base_uri": "https://localhost:8080/"
    },
    "id": "X6ovmJ3KixtH",
    "outputId": "72bde639-2f59-46fa-d4d0-8f681d67b7e1"
   },
   "outputs": [
    {
     "name": "stdout",
     "output_type": "stream",
     "text": [
      "Eureka! I have discovered Python!\n",
      "Eureka! I have discovered Python!\n"
     ]
    }
   ],
   "source": [
    "eureka_twice()"
   ]
  },
  {
   "cell_type": "code",
   "execution_count": null,
   "metadata": {
    "id": "ha6Gb7ULi1g-"
   },
   "outputs": [],
   "source": [
    "# Another way to use return_twice_doer is to \n",
    "# build a function and then REPLACE that with \n",
    "# the modified version created by return_twice_doer, e.g.\n",
    "\n",
    "def hi():\n",
    "  \"\"\"Informal greeting\"\"\"\n",
    "  print(\"Hi.\")\n",
    "\n",
    "# obliterate the original definition of `hi`\n",
    "# replacing it with a new function that prints \"Hi.\" twice\n",
    "hi = return_twice_doer(hi)"
   ]
  },
  {
   "cell_type": "code",
   "execution_count": null,
   "metadata": {
    "colab": {
     "base_uri": "https://localhost:8080/"
    },
    "id": "OjDjPn0ljNRc",
    "outputId": "45a16855-2843-4d3d-d747-e6a7d2f4604f"
   },
   "outputs": [
    {
     "name": "stdout",
     "output_type": "stream",
     "text": [
      "Hi.\n",
      "Hi.\n"
     ]
    }
   ],
   "source": [
    "hi()"
   ]
  },
  {
   "cell_type": "code",
   "execution_count": null,
   "metadata": {
    "id": "nRk9C-5wbpr0"
   },
   "outputs": [],
   "source": [
    "# Decorator syntax is just a shorthand for defining\n",
    "# and then immediately modifying a function\n",
    "# e.g.\n",
    "\n",
    "@return_twice_doer\n",
    "def hello():\n",
    "  \"\"\"Say hello\"\"\"\n",
    "  print(\"Hello.  I hope you are having a good week.\")\n",
    "\n",
    "# The block above is equivalent to the function definition without\n",
    "# @return_twice_doer followed by:\n",
    "# hello = return_twice_doer(hello)"
   ]
  },
  {
   "cell_type": "code",
   "execution_count": null,
   "metadata": {
    "id": "EkEXQ_iRagsi"
   },
   "outputs": [],
   "source": [
    "# The decorator has modified hello() so it actually runs twice!\n",
    "# hello()"
   ]
  },
  {
   "cell_type": "code",
   "execution_count": null,
   "metadata": {
    "id": "SDB4ABDmb_19"
   },
   "outputs": [],
   "source": [
    "# Another decorator example\n",
    "def fnlog(f):\n",
    "  \"\"\"Decorator that adds a message to each function call\"\"\"\n",
    "  def flogged(*args,**kwargs):\n",
    "    \"\"\"Call a function, but with a message before and after.\"\"\"\n",
    "    print(\"I am about to call {}.\".format(f.__name__))\n",
    "    ret = f(*args,**kwargs)\n",
    "    print(\"I just called {}.\".format(f.__name__))\n",
    "    return ret  # Whatever f returned, we return too\n",
    "  return flogged"
   ]
  },
  {
   "cell_type": "code",
   "execution_count": null,
   "metadata": {
    "id": "6cIENyF_ck3t"
   },
   "outputs": [],
   "source": [
    "# Using the fnlog decorator example\n",
    "\n",
    "@fnlog\n",
    "def goodbye():\n",
    "  \"\"\"Say goodbye\"\"\"\n",
    "  print(\"Bye!\")\n",
    "\n",
    "@fnlog\n",
    "def count_to(n):\n",
    "  \"\"\"Print the integers from 1 to n inclusive\"\"\"\n",
    "  for i in range(n):\n",
    "    print(i+1)\n",
    "\n",
    "@fnlog\n",
    "def square(x):\n",
    "  \"\"\"Square a number\"\"\"\n",
    "  return x*x"
   ]
  },
  {
   "cell_type": "code",
   "execution_count": null,
   "metadata": {
    "colab": {
     "base_uri": "https://localhost:8080/"
    },
    "id": "4xeMHbtXfixf",
    "outputId": "4196ddd6-1689-472c-a721-abf8720291d5"
   },
   "outputs": [
    {
     "name": "stdout",
     "output_type": "stream",
     "text": [
      "I am about to call goodbye.\n",
      "Bye!\n",
      "I just called goodbye.\n"
     ]
    }
   ],
   "source": [
    "goodbye()"
   ]
  },
  {
   "cell_type": "code",
   "execution_count": null,
   "metadata": {
    "colab": {
     "base_uri": "https://localhost:8080/"
    },
    "id": "cAH1jG4Pfg-5",
    "outputId": "7f31b473-bc5f-4b23-981b-b7cb9e2c60aa"
   },
   "outputs": [
    {
     "name": "stdout",
     "output_type": "stream",
     "text": [
      "I am about to call count_to.\n",
      "1\n",
      "2\n",
      "3\n",
      "4\n",
      "5\n",
      "I just called count_to.\n"
     ]
    }
   ],
   "source": [
    "count_to(5)"
   ]
  },
  {
   "cell_type": "code",
   "execution_count": null,
   "metadata": {
    "colab": {
     "base_uri": "https://localhost:8080/"
    },
    "id": "_Xg8xgcEctk7",
    "outputId": "2bd9b679-b99f-45f4-9ec7-37f297f4584c"
   },
   "outputs": [
    {
     "name": "stdout",
     "output_type": "stream",
     "text": [
      "I am about to call square.\n",
      "I just called square.\n"
     ]
    },
    {
     "data": {
      "text/plain": [
       "36"
      ]
     },
     "execution_count": 85,
     "metadata": {
      "tags": []
     },
     "output_type": "execute_result"
    }
   ],
   "source": [
    "square(6)"
   ]
  },
  {
   "cell_type": "markdown",
   "metadata": {
    "id": "E290YpIEju2g"
   },
   "source": [
    "### Decorators in the Python standard library"
   ]
  },
  {
   "cell_type": "code",
   "execution_count": null,
   "metadata": {
    "colab": {
     "base_uri": "https://localhost:8080/"
    },
    "id": "46COHYc4dqGe",
    "outputId": "07449905-e8c8-4e1e-959c-65c68b03c8d9"
   },
   "outputs": [
    {
     "name": "stdout",
     "output_type": "stream",
     "text": [
      "Computing 7*7 for the first time:\n",
      "49\n",
      "Computing 7*7 for the second time:\n",
      "49\n"
     ]
    }
   ],
   "source": [
    "import time\n",
    "import functools\n",
    "\n",
    "@functools.lru_cache(100)\n",
    "def slow_square(x):\n",
    "  \"\"\"Square x, but take a long time to do it\"\"\"\n",
    "  time.sleep(2)\n",
    "  return x*x\n",
    "\n",
    "# This will take a while, because it's the first time\n",
    "print(\"Computing 7*7 for the first time:\")\n",
    "print(slow_square(7))\n",
    "\n",
    "# But this will be quick, because the value is remembered\n",
    "# by the LRU cache decorator\n",
    "print(\"Computing 7*7 for the second time:\")\n",
    "print(slow_square(7))"
   ]
  }
 ],
 "metadata": {
  "colab": {
   "collapsed_sections": [],
   "name": "decorators.ipynb",
   "provenance": []
  },
  "kernelspec": {
   "display_name": "Python 3",
   "language": "python",
   "name": "python3"
  },
  "language_info": {
   "codemirror_mode": {
    "name": "ipython",
    "version": 3
   },
   "file_extension": ".py",
   "mimetype": "text/x-python",
   "name": "python",
   "nbconvert_exporter": "python",
   "pygments_lexer": "ipython3",
   "version": "3.8.5"
  }
 },
 "nbformat": 4,
 "nbformat_minor": 1
}
