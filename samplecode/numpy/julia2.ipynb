{
 "cells": [
  {
   "cell_type": "markdown",
   "metadata": {},
   "source": [
    "# Filled Julia sets: Comparing methods\n",
    "\n",
    "MCS 275 Spring 2021 Lecture 28 - Emily Dumas"
   ]
  },
  {
   "cell_type": "markdown",
   "metadata": {},
   "source": [
    "## Convention\n",
    "\n",
    "We'll compute the filled Julia set of $f(z) = z^2 + c$.  Previously, we only discussed $c=0$ and $c=-1$.\n",
    "\n",
    "This notebook shows three ways to do it, and all are set to make a 800x800 image with 2500 iterations.  The first method is extremely slow; to have it finish in a reasonable amount of time, you'll want to reduce `maxiter` to something like 500."
   ]
  },
  {
   "cell_type": "markdown",
   "metadata": {},
   "source": [
    "## Setup"
   ]
  },
  {
   "cell_type": "code",
   "execution_count": null,
   "metadata": {},
   "outputs": [],
   "source": [
    "import numpy as np\n",
    "from PIL import Image\n",
    "import time"
   ]
  },
  {
   "cell_type": "code",
   "execution_count": null,
   "metadata": {},
   "outputs": [],
   "source": [
    "# Some values of c to try\n",
    "\n",
    "c_circle = 0\n",
    "c_basilica = -1\n",
    "c_rabbit = -0.123 + 0.745j\n",
    "c_curly_snowflake = -0.4-0.582j  # my name for this!\n",
    "c_airplane = -1.75487766624669276"
   ]
  },
  {
   "cell_type": "markdown",
   "metadata": {},
   "source": [
    "## Using Python for loops"
   ]
  },
  {
   "cell_type": "code",
   "execution_count": null,
   "metadata": {},
   "outputs": [],
   "source": [
    "def escapes(c,a,n):\n",
    "    \"\"\"Determines if orbit of a under z->z^2+c escapes |z|<2 within\n",
    "    n iterations.\n",
    "    \"\"\"\n",
    "    for _ in range(n):\n",
    "        if abs(a) >= 2:\n",
    "            return True\n",
    "        a = a*a+c\n",
    "    return False\n",
    "\n",
    "def filled_julia_set_for(c,xmin=-1.8,xmax=1.8,ymin=-1.8,ymax=1.8,xres=500,yres=500,maxiter=100):\n",
    "    \"\"\"Create PIL image of the filled Julia set of z^2+c\"\"\"\n",
    "    x = np.linspace(xmin,xmax,xres)\n",
    "    y = np.linspace(ymin,ymax,yres)\n",
    "\n",
    "    xx, yy = np.meshgrid(x,y)\n",
    "    zz = xx + 1j*yy\n",
    "    \n",
    "    f = lambda z: escapes(c,z,maxiter)\n",
    "    \n",
    "    res = np.zeros_like(zz,dtype=\"bool\")\n",
    "    for i in range(len(x)):\n",
    "        for j in range(len(y)):\n",
    "            res[j,i] = f(zz[j,i])  # j is the row, and indexing is row,column\n",
    "    \n",
    "    return Image.fromarray( 255*res.astype(\"uint8\"), mode=\"L\" )"
   ]
  },
  {
   "cell_type": "code",
   "execution_count": null,
   "metadata": {},
   "outputs": [],
   "source": [
    "t_start = time.time()\n",
    "img = filled_julia_set_for(c_basilica,maxiter=2500,xres=800,yres=800)\n",
    "t_end = time.time()\n",
    "\n",
    "print(t_end-t_start,\"seconds\")\n",
    "img"
   ]
  },
  {
   "cell_type": "markdown",
   "metadata": {},
   "source": [
    "## Using numpy.vectorize\n",
    "\n",
    "This is the method we discussed in Lecture 27, but the code has been cleaned up a bit."
   ]
  },
  {
   "cell_type": "code",
   "execution_count": null,
   "metadata": {},
   "outputs": [],
   "source": [
    "def escapes(c,a,n):\n",
    "    \"\"\"Determines if orbit of a under z->z^2+c escapes |z|<2 within\n",
    "    n iterations.\n",
    "    \"\"\"\n",
    "    for _ in range(n):\n",
    "        if abs(a) >= 2:\n",
    "            return True\n",
    "        a = a*a+c\n",
    "    return False\n",
    "\n",
    "def filled_julia_set_vectorize(c,xmin=-1.8,xmax=1.8,ymin=-1.8,ymax=1.8,xres=500,yres=500,maxiter=100):\n",
    "    \"\"\"Create PIL image of the filled Julia set of z^2+c\"\"\"\n",
    "    x = np.linspace(xmin,xmax,xres)\n",
    "    y = np.linspace(ymin,ymax,yres)\n",
    "\n",
    "    xx, yy = np.meshgrid(x,y)\n",
    "    zz = xx + 1j*yy\n",
    "    \n",
    "    f = lambda z: escapes(c,z,maxiter)\n",
    "    \n",
    "    return Image.fromarray( 255*np.vectorize(f)(zz).astype(\"uint8\"), mode=\"L\" )"
   ]
  },
  {
   "cell_type": "code",
   "execution_count": null,
   "metadata": {},
   "outputs": [],
   "source": [
    "t_start = time.time()\n",
    "img = filled_julia_set_vectorize(c_curly_snowflake,maxiter=2500,xres=800,yres=800)\n",
    "t_end = time.time()\n",
    "\n",
    "print(t_end-t_start,\"seconds\")\n",
    "img"
   ]
  },
  {
   "cell_type": "markdown",
   "metadata": {},
   "source": [
    "## Using numpy ufuncs\n",
    "\n",
    "An even faster approach is to use numpy's overloading of the arithmetic operations to apply $z^2+c$ to each element of the grid simultaneously.\n",
    "\n",
    "If we do this naively, applying the function `maxiter` times to every point, many of the calculations will overflow.  To prevent this, we can use a mask (boolean array) to stop applying the function as soon as a point leaves $|z|<2$."
   ]
  },
  {
   "cell_type": "code",
   "execution_count": null,
   "metadata": {},
   "outputs": [],
   "source": [
    "def filled_julia_set_ufunc(c,xmin=-1.8,xmax=1.8,ymin=-1.8,ymax=1.8,xres=500,yres=500,maxiter=100):\n",
    "        \"\"\"Create PIL image of the filled Julia set of z^2+c\"\"\"\n",
    "        x = np.linspace(xmin,xmax,xres)\n",
    "        y = np.linspace(ymin,ymax,yres)\n",
    "\n",
    "        xx, yy = np.meshgrid(x,y)\n",
    "        zz = xx + 1j*yy\n",
    "    \n",
    "        m = np.ones_like(zz,dtype=\"bool\") # Mask: True means we are\n",
    "                                          # still applying f to that\n",
    "                                          # point in the grid.\n",
    "    \n",
    "        for _ in range(maxiter):\n",
    "            zz[m] = zz[m]**2 + c # apply z^2+c to each point where m is True\n",
    "            m[m] &= np.abs(zz[m])<2 # Set mask to False for any point\n",
    "                                    # that now has abs(z)>=2\n",
    "        \n",
    "        return Image.fromarray( 255*((np.abs(zz)>=2).astype(\"uint8\")), mode=\"L\" )"
   ]
  },
  {
   "cell_type": "code",
   "execution_count": null,
   "metadata": {},
   "outputs": [],
   "source": [
    "t_start = time.time()\n",
    "img = filled_julia_set_ufunc(c_curly_snowflake,maxiter=2500,xres=800,yres=800)\n",
    "t_end = time.time()\n",
    "\n",
    "print(t_end-t_start,\"seconds\")\n",
    "img"
   ]
  }
 ],
 "metadata": {
  "kernelspec": {
   "display_name": "Python 3",
   "language": "python",
   "name": "python3"
  },
  "language_info": {
   "codemirror_mode": {
    "name": "ipython",
    "version": 3
   },
   "file_extension": ".py",
   "mimetype": "text/x-python",
   "name": "python",
   "nbconvert_exporter": "python",
   "pygments_lexer": "ipython3",
   "version": "3.8.5"
  }
 },
 "nbformat": 4,
 "nbformat_minor": 4
}
