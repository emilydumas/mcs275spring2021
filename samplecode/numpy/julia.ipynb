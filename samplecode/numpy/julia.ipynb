{
 "cells": [
  {
   "cell_type": "markdown",
   "metadata": {},
   "source": [
    "# Filled Julia sets\n",
    "\n",
    "MCS 275 Spring 2021 Lecture 27 - Emily Dumas\n",
    "\n",
    "At the moment, this only contains the code I wrote during Lecture 27.  In the near future I may add some explanatory text.  The slides from Lecture 27 have more detail on the goals."
   ]
  },
  {
   "cell_type": "code",
   "execution_count": 2,
   "metadata": {},
   "outputs": [],
   "source": [
    "def g(x):\n",
    "    return x*x\n",
    "\n",
    "def f(x):\n",
    "    return x*x-1"
   ]
  },
  {
   "cell_type": "code",
   "execution_count": 3,
   "metadata": {},
   "outputs": [],
   "source": [
    "def orbit(func,a,n):\n",
    "    L = [a]\n",
    "    for _ in range(n):\n",
    "        L.append(func(L[-1]))\n",
    "    return L"
   ]
  },
  {
   "cell_type": "code",
   "execution_count": 4,
   "metadata": {},
   "outputs": [
    {
     "data": {
      "text/plain": [
       "[2, 4, 16, 256, 65536, 4294967296]"
      ]
     },
     "execution_count": 4,
     "metadata": {},
     "output_type": "execute_result"
    }
   ],
   "source": [
    "orbit(g,2,5)"
   ]
  },
  {
   "cell_type": "code",
   "execution_count": 5,
   "metadata": {},
   "outputs": [
    {
     "data": {
      "text/plain": [
       "[0, -1, 0, -1, 0, -1, 0, -1, 0]"
      ]
     },
     "execution_count": 5,
     "metadata": {},
     "output_type": "execute_result"
    }
   ],
   "source": [
    "orbit(f,0,8)  # 0 is in the filled Julia set"
   ]
  },
  {
   "cell_type": "code",
   "execution_count": 7,
   "metadata": {},
   "outputs": [
    {
     "data": {
      "text/plain": [
       "[1, 0, -1, 0, -1, 0, -1, 0, -1]"
      ]
     },
     "execution_count": 7,
     "metadata": {},
     "output_type": "execute_result"
    }
   ],
   "source": [
    "orbit(f,1,8) # 1 is in the filled Julia set"
   ]
  },
  {
   "cell_type": "code",
   "execution_count": 59,
   "metadata": {},
   "outputs": [
    {
     "data": {
      "text/plain": [
       "[1.5,\n",
       " 1.25,\n",
       " 0.5625,\n",
       " -0.68359375,\n",
       " -0.5326995849609375,\n",
       " -0.7162311521824449,\n",
       " -0.4870129366434074,\n",
       " -0.7628183995419644,\n",
       " -0.418108089320236,\n",
       " -0.8251856256449815,\n",
       " -0.31906868322890036,\n",
       " -0.8981951753825757,\n",
       " -0.19324542691946411,\n",
       " -0.962656204974714,\n",
       " -0.07329303102368134,\n",
       " -0.9946281316033617,\n",
       " -0.010714879823205736,\n",
       " -0.9998851913503742,\n",
       " -0.00022960411822547933,\n",
       " -0.9999999472819489,\n",
       " -1.0543609951785271e-07,\n",
       " -0.9999999999999889,\n",
       " -2.220446049250313e-14,\n",
       " -1.0,\n",
       " 0.0,\n",
       " -1.0,\n",
       " 0.0,\n",
       " -1.0,\n",
       " 0.0,\n",
       " -1.0,\n",
       " 0.0]"
      ]
     },
     "execution_count": 59,
     "metadata": {},
     "output_type": "execute_result"
    }
   ],
   "source": [
    "orbit(f,1.5,30)"
   ]
  },
  {
   "cell_type": "code",
   "execution_count": 11,
   "metadata": {},
   "outputs": [
    {
     "data": {
      "text/plain": [
       "[2,\n",
       " 3,\n",
       " 8,\n",
       " 63,\n",
       " 3968,\n",
       " 15745023,\n",
       " 247905749270528,\n",
       " 61457260521381894004129398783,\n",
       " 3776994870793005510047522464634252677140721938309041881088,\n",
       " 14265690253996672387291309349232388828298289458234016200317876247121873778287073518355813134107244701354409532063743,\n",
       " 203509918422975643131625101557493482417516581321177887486174612349689723637228095885608636916042736102424433936617827686729959884103612889121780011527849662844136145473332830301242513425767433130492258922182178369327277600615170048]"
      ]
     },
     "execution_count": 11,
     "metadata": {},
     "output_type": "execute_result"
    }
   ],
   "source": [
    "orbit(f,2,10)  # looks like 2 is not in the filled Julia set"
   ]
  },
  {
   "cell_type": "code",
   "execution_count": 12,
   "metadata": {},
   "outputs": [],
   "source": [
    "def bounded_orbit(func,a,maxiter=10):\n",
    "    z = a\n",
    "    for _ in range(maxiter):\n",
    "        if abs(z) >= 2:\n",
    "            return False\n",
    "        z = func(z)\n",
    "    return True"
   ]
  },
  {
   "cell_type": "code",
   "execution_count": 20,
   "metadata": {},
   "outputs": [
    {
     "data": {
      "text/plain": [
       "True"
      ]
     },
     "execution_count": 20,
     "metadata": {},
     "output_type": "execute_result"
    }
   ],
   "source": [
    "bounded_orbit(f,0.5+0.2j)"
   ]
  },
  {
   "cell_type": "code",
   "execution_count": 69,
   "metadata": {},
   "outputs": [],
   "source": [
    "import numpy as np\n",
    "\n",
    "x = np.linspace(-1.7,1.7,1500)\n",
    "y = np.linspace(-1.7,1.7,1500)\n",
    "\n",
    "xx, yy = np.meshgrid(x,y)"
   ]
  },
  {
   "cell_type": "code",
   "execution_count": 70,
   "metadata": {},
   "outputs": [],
   "source": [
    "zz = xx+1j*yy"
   ]
  },
  {
   "cell_type": "code",
   "execution_count": 71,
   "metadata": {},
   "outputs": [],
   "source": [
    "def f_bounded_orbit(a):\n",
    "    return bounded_orbit(f,a,maxiter=150)"
   ]
  },
  {
   "cell_type": "code",
   "execution_count": 72,
   "metadata": {},
   "outputs": [
    {
     "data": {
      "text/plain": [
       "True"
      ]
     },
     "execution_count": 72,
     "metadata": {},
     "output_type": "execute_result"
    }
   ],
   "source": [
    "f_bounded_orbit(0.2+0.3j)"
   ]
  },
  {
   "cell_type": "code",
   "execution_count": 73,
   "metadata": {},
   "outputs": [],
   "source": [
    "orbit_classification = np.vectorize(f_bounded_orbit)(zz)"
   ]
  },
  {
   "cell_type": "code",
   "execution_count": 65,
   "metadata": {},
   "outputs": [],
   "source": [
    "from PIL import Image"
   ]
  },
  {
   "cell_type": "code",
   "execution_count": 74,
   "metadata": {},
   "outputs": [
    {
     "data": {
      "image/png": "[encoded data removed]",
      "text/plain": [
       "<PIL.Image.Image image mode=L size=1500x1500 at 0x7F0C2446B4C0>"
      ]
     },
     "execution_count": 74,
     "metadata": {},
     "output_type": "execute_result"
    }
   ],
   "source": [
    "img = Image.fromarray(255*(1-orbit_classification.astype(\"uint8\")),mode=\"L\")\n",
    "img"
   ]
  },
  {
   "cell_type": "code",
   "execution_count": 75,
   "metadata": {},
   "outputs": [],
   "source": [
    "img.save(\"basilica.png\")"
   ]
  },
  {
   "cell_type": "code",
   "execution_count": null,
   "metadata": {},
   "outputs": [],
   "source": []
  }
 ],
 "metadata": {
  "kernelspec": {
   "display_name": "Python 3",
   "language": "python",
   "name": "python3"
  },
  "language_info": {
   "codemirror_mode": {
    "name": "ipython",
    "version": 3
   },
   "file_extension": ".py",
   "mimetype": "text/x-python",
   "name": "python",
   "nbconvert_exporter": "python",
   "pygments_lexer": "ipython3",
   "version": "3.8.5"
  }
 },
 "nbformat": 4,
 "nbformat_minor": 4
}
