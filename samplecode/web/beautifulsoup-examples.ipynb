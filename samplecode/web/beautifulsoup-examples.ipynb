{
 "cells": [
  {
   "cell_type": "markdown",
   "metadata": {},
   "source": [
    "# Beautiful Soup examples\n",
    "\n",
    "## MCS 275 Spring 2021 - Instructor Emily Dumas\n",
    "\n",
    "### Lecture 40\n",
    "\n",
    "Beautiful soup documentation: https://www.crummy.com/software/BeautifulSoup/bs4/doc/"
   ]
  },
  {
   "cell_type": "markdown",
   "metadata": {},
   "source": [
    "Import the module (only need to do this once)"
   ]
  },
  {
   "cell_type": "code",
   "execution_count": 1,
   "metadata": {},
   "outputs": [],
   "source": [
    "from bs4 import BeautifulSoup"
   ]
  },
  {
   "cell_type": "markdown",
   "metadata": {},
   "source": [
    "Parse a single HTML file into a DOM-like data structure in a variable `soup`:\n",
    "\n",
    "(This is one of the slide presentations from MCS 275.)"
   ]
  },
  {
   "cell_type": "code",
   "execution_count": 2,
   "metadata": {},
   "outputs": [],
   "source": [
    "with open(\"html-for-scraping/lecture40.html\") as fobj:\n",
    "    soup = BeautifulSoup(fobj,\"html.parser\")"
   ]
  },
  {
   "cell_type": "markdown",
   "metadata": {},
   "source": [
    "Get the title of that lecture (the string that is the only text node under the title tag)"
   ]
  },
  {
   "cell_type": "code",
   "execution_count": 3,
   "metadata": {},
   "outputs": [
    {
     "data": {
      "text/plain": [
       "'Lec 40: Parsing and scraping HTML'"
      ]
     },
     "execution_count": 3,
     "metadata": {},
     "output_type": "execute_result"
    }
   ],
   "source": [
    "soup.head.title.string"
   ]
  },
  {
   "cell_type": "markdown",
   "metadata": {},
   "source": [
    "How many slides were in that lecture?"
   ]
  },
  {
   "cell_type": "code",
   "execution_count": 4,
   "metadata": {},
   "outputs": [
    {
     "data": {
      "text/plain": [
       "21"
      ]
     },
     "execution_count": 4,
     "metadata": {},
     "output_type": "execute_result"
    }
   ],
   "source": [
    "# each slide is a <section> tag.\n",
    "len(soup.find_all(\"section\"))"
   ]
  },
  {
   "cell_type": "markdown",
   "metadata": {},
   "source": [
    "(This count is only approximately right; in reveal.js, nested section tags are used to create slides that appear below others, and that feature is used here.  The true slide count would be the number of section tags that don't contain other section tags.  How would you find that?)"
   ]
  },
  {
   "cell_type": "markdown",
   "metadata": {},
   "source": [
    "Let's do the same thing, but for every html file in the `html-for-scraping` directory (several of the MCS 275 lectures)."
   ]
  },
  {
   "cell_type": "code",
   "execution_count": 5,
   "metadata": {},
   "outputs": [
    {
     "name": "stdout",
     "output_type": "stream",
     "text": [
      "lecture17.html Lec 17: Quicksort\n",
      "lecture40.html Lec 40: Parsing and scraping HTML\n",
      "lecture23.html Lec 23: CSV and JSON\n",
      "lecture22.html Lec 22: set and defaultdict\n"
     ]
    }
   ],
   "source": [
    "import os\n",
    "\n",
    "DATADIR=\"html-for-scraping\"\n",
    "\n",
    "for fn in os.listdir(DATADIR):\n",
    "    if not fn.endswith(\".html\"):\n",
    "        continue\n",
    "    with open(os.path.join(DATADIR,fn)) as fobj:\n",
    "        soup = BeautifulSoup(fobj,\"html.parser\")\n",
    "    print(fn,soup.head.title.string)"
   ]
  },
  {
   "cell_type": "markdown",
   "metadata": {},
   "source": [
    "Remark: A cleaner way to get all files that end in .html would be to use `glob.glob(\"html-for-scraping/*.html\")`. But we didn't discuss the `glob` module, so I used `os.listdir`."
   ]
  },
  {
   "cell_type": "markdown",
   "metadata": {},
   "source": [
    "## Examples with example.com front page"
   ]
  },
  {
   "cell_type": "markdown",
   "metadata": {},
   "source": [
    "The next cell retrieves https://example.com/.  Be careful to avoid making frequent automated requests to any web server, and to follow a site's terms of use and robots.txt rules.  Here, I've added a 1-second delay to make sure this cell can never make more than 1 request per second."
   ]
  },
  {
   "cell_type": "code",
   "execution_count": 6,
   "metadata": {},
   "outputs": [],
   "source": [
    "from urllib.request import urlopen\n",
    "from bs4 import BeautifulSoup\n",
    "import time\n",
    "\n",
    "time.sleep(1)\n",
    "with urlopen(\"https://example.com/\") as response:\n",
    "    soup = BeautifulSoup(response,\"html.parser\")"
   ]
  },
  {
   "cell_type": "markdown",
   "metadata": {},
   "source": [
    "Note: If we were going to work with the contents of this page many times, it would be better to download it to a file and then parse the file.  That way, there would only be one network request, rather than a new request each time the program is run."
   ]
  },
  {
   "cell_type": "code",
   "execution_count": 7,
   "metadata": {},
   "outputs": [
    {
     "data": {
      "text/plain": [
       "<!DOCTYPE html>\n",
       "\n",
       "<html>\n",
       "<head>\n",
       "<title>Example Domain</title>\n",
       "<meta charset=\"utf-8\"/>\n",
       "<meta content=\"text/html; charset=utf-8\" http-equiv=\"Content-type\"/>\n",
       "<meta content=\"width=device-width, initial-scale=1\" name=\"viewport\"/>\n",
       "<style type=\"text/css\">\n",
       "    body {\n",
       "        background-color: #f0f0f2;\n",
       "        margin: 0;\n",
       "        padding: 0;\n",
       "        font-family: -apple-system, system-ui, BlinkMacSystemFont, \"Segoe UI\", \"Open Sans\", \"Helvetica Neue\", Helvetica, Arial, sans-serif;\n",
       "        \n",
       "    }\n",
       "    div {\n",
       "        width: 600px;\n",
       "        margin: 5em auto;\n",
       "        padding: 2em;\n",
       "        background-color: #fdfdff;\n",
       "        border-radius: 0.5em;\n",
       "        box-shadow: 2px 3px 7px 2px rgba(0,0,0,0.02);\n",
       "    }\n",
       "    a:link, a:visited {\n",
       "        color: #38488f;\n",
       "        text-decoration: none;\n",
       "    }\n",
       "    @media (max-width: 700px) {\n",
       "        div {\n",
       "            margin: 0 auto;\n",
       "            width: auto;\n",
       "        }\n",
       "    }\n",
       "    </style>\n",
       "</head>\n",
       "<body>\n",
       "<div>\n",
       "<h1>Example Domain</h1>\n",
       "<p>This domain is for use in illustrative examples in documents. You may use this\n",
       "    domain in literature without prior coordination or asking for permission.</p>\n",
       "<p><a href=\"https://www.iana.org/domains/example\">More information...</a></p>\n",
       "</div>\n",
       "</body>\n",
       "</html>"
      ]
     },
     "execution_count": 7,
     "metadata": {},
     "output_type": "execute_result"
    }
   ],
   "source": [
    "# printing a BeautifulSoup object shows the corresponding\n",
    "# HTML\n",
    "soup"
   ]
  },
  {
   "cell_type": "code",
   "execution_count": 8,
   "metadata": {},
   "outputs": [
    {
     "data": {
      "text/plain": [
       "bs4.BeautifulSoup"
      ]
     },
     "execution_count": 8,
     "metadata": {},
     "output_type": "execute_result"
    }
   ],
   "source": [
    "# But it's actually a BeautifulSoup object, which has\n",
    "# many methods and attributes.\n",
    "type(soup)"
   ]
  },
  {
   "cell_type": "code",
   "execution_count": 9,
   "metadata": {},
   "outputs": [
    {
     "data": {
      "text/plain": [
       "<p>This domain is for use in illustrative examples in documents. You may use this\n",
       "    domain in literature without prior coordination or asking for permission.</p>"
      ]
     },
     "execution_count": 9,
     "metadata": {},
     "output_type": "execute_result"
    }
   ],
   "source": [
    "# First p in the document\n",
    "soup.p"
   ]
  },
  {
   "cell_type": "code",
   "execution_count": 10,
   "metadata": {},
   "outputs": [
    {
     "data": {
      "text/plain": [
       "<p><a href=\"https://www.iana.org/domains/example\">More information...</a></p>"
      ]
     },
     "execution_count": 10,
     "metadata": {},
     "output_type": "execute_result"
    }
   ],
   "source": [
    "soup.find_all(\"p\")[1]  # second p in the document"
   ]
  },
  {
   "cell_type": "code",
   "execution_count": 11,
   "metadata": {},
   "outputs": [
    {
     "data": {
      "text/plain": [
       "<p>This domain is for use in illustrative examples in documents. You may use this\n",
       "    domain in literature without prior coordination or asking for permission.</p>"
      ]
     },
     "execution_count": 11,
     "metadata": {},
     "output_type": "execute_result"
    }
   ],
   "source": [
    "soup.div.p  # first p tag inside the first div"
   ]
  },
  {
   "cell_type": "code",
   "execution_count": 12,
   "metadata": {},
   "outputs": [
    {
     "data": {
      "text/plain": [
       "True"
      ]
     },
     "execution_count": 12,
     "metadata": {},
     "output_type": "execute_result"
    }
   ],
   "source": [
    "# is the first p that appears in a div actually the first p\n",
    "# in the whole document?\n",
    "soup.div.p == soup.p"
   ]
  },
  {
   "cell_type": "markdown",
   "metadata": {},
   "source": [
    "## Examples with an HTML string"
   ]
  },
  {
   "cell_type": "code",
   "execution_count": 13,
   "metadata": {},
   "outputs": [],
   "source": [
    "soup = BeautifulSoup(\"\"\"\n",
    "<html><head><title>Hello</title>\n",
    "<body><h1>Hello</h1> This is my document.\n",
    "<strong>Mine.</strong></body></html>\"\"\",\"html.parser\")"
   ]
  },
  {
   "cell_type": "code",
   "execution_count": 14,
   "metadata": {},
   "outputs": [
    {
     "data": {
      "text/plain": [
       "\n",
       "<html><head><title>Hello</title>\n",
       "<body><h1>Hello</h1> This is my document.\n",
       "<strong>Mine.</strong></body></head></html>"
      ]
     },
     "execution_count": 14,
     "metadata": {},
     "output_type": "execute_result"
    }
   ],
   "source": [
    "soup"
   ]
  },
  {
   "cell_type": "code",
   "execution_count": 15,
   "metadata": {},
   "outputs": [
    {
     "name": "stdout",
     "output_type": "stream",
     "text": [
      "<html>\n",
      " <head>\n",
      "  <title>\n",
      "   Hello\n",
      "  </title>\n",
      "  <body>\n",
      "   <h1>\n",
      "    Hello\n",
      "   </h1>\n",
      "   This is my document.\n",
      "   <strong>\n",
      "    Mine.\n",
      "   </strong>\n",
      "  </body>\n",
      " </head>\n",
      "</html>\n"
     ]
    }
   ],
   "source": [
    "print(soup.prettify())"
   ]
  },
  {
   "cell_type": "code",
   "execution_count": 16,
   "metadata": {},
   "outputs": [
    {
     "data": {
      "text/plain": [
       "<title>Hello</title>"
      ]
     },
     "execution_count": 16,
     "metadata": {},
     "output_type": "execute_result"
    }
   ],
   "source": [
    "soup.title"
   ]
  },
  {
   "cell_type": "code",
   "execution_count": 17,
   "metadata": {},
   "outputs": [
    {
     "data": {
      "text/plain": [
       "bs4.element.Tag"
      ]
     },
     "execution_count": 17,
     "metadata": {},
     "output_type": "execute_result"
    }
   ],
   "source": [
    "type(soup.title)"
   ]
  },
  {
   "cell_type": "code",
   "execution_count": 18,
   "metadata": {},
   "outputs": [
    {
     "data": {
      "text/plain": [
       "<h1>Hello</h1>"
      ]
     },
     "execution_count": 18,
     "metadata": {},
     "output_type": "execute_result"
    }
   ],
   "source": [
    "soup.h1"
   ]
  },
  {
   "cell_type": "code",
   "execution_count": 19,
   "metadata": {},
   "outputs": [
    {
     "data": {
      "text/plain": [
       "[<h1>Hello</h1>]"
      ]
     },
     "execution_count": 19,
     "metadata": {},
     "output_type": "execute_result"
    }
   ],
   "source": [
    "soup.find_all(\"h1\")"
   ]
  },
  {
   "cell_type": "markdown",
   "metadata": {},
   "source": [
    "## Examples with dumas.io"
   ]
  },
  {
   "cell_type": "code",
   "execution_count": 2,
   "metadata": {},
   "outputs": [],
   "source": [
    "from urllib.request import urlopen\n",
    "from bs4 import BeautifulSoup\n",
    "import time\n",
    "\n",
    "time.sleep(1)\n",
    "with urlopen(\"https://dumas.io/\") as response:\n",
    "    soup = BeautifulSoup(response,\"html.parser\")"
   ]
  },
  {
   "cell_type": "code",
   "execution_count": 12,
   "metadata": {},
   "outputs": [
    {
     "name": "stdout",
     "output_type": "stream",
     "text": [
      " Spring 2021 - MCS 275: Programming Tools and File Management (in Blackboard)\n",
      " Fall 2020 - MCS 260: Introduction to Computer Science\n",
      " Spring 2019 - Math 445: Introduction to Topology I\n",
      " Spring 2019 - Math 550: Differentiable Manifolds II\n",
      " Fall 2018 - Math 320: Linear Algebra I\n",
      " Spring 2018 - Math 445: Introduction to Topology I\n",
      " Fall 2017 - Math 549: Differentiable Manifolds I\n",
      " Fall 2017 - Math 210: Calculus III (primary course content is in Blackboard)\n",
      " Spring 2017 - Math 569: Representations of surface groups\n",
      " Fall 2016 - Math 180: Calculus I\n",
      " Fall 2016 - Math 320: Linear Algebra I\n",
      " Spring 2016 - Math 535: Complex Analysis I\n",
      " Fall 2015 - Math 445: Introduction to Topology I\n",
      " Fall 2015 - Math 210: Calculus III\n",
      " Fall 2014 - Math 550: Differentiable Manifolds II\n",
      " Fall 2014 - Math 180: Calculus I\n",
      " Spring 2014 - MCS 481: Computational Geometry\n",
      " Spring 2014 - Math 180: Calculus I\n",
      " Spring 2013 - Math 570: Topics in Teichmüller Theory and Geometric Structures\n",
      " Spring 2013 - Math 215: Introduction to Advanced Mathematics\n",
      " Spring 2012 - MCS 481: Computational Geometry\n",
      " Fall 2011 - Math 180: Calculus I\n",
      " Spring 2011 - MCS 481: Computational Geometry\n",
      " Fall 2010 - Math 442: Differential Geometry of Curves and Surfaces\n",
      " Spring 2010 - Math 535: Complex Analysis I\n",
      "Fall 2009 - Math 180: Calculus I\n",
      "Spring 2009 - Math 442: Differential Geometry of Curves and Surfaces\n",
      "Fall 2008 - Math 210: Calculus III\n",
      "\n",
      " Fall 2020 - MCS 260: Introduction to Computer Science\n",
      " Spring 2019 - Math 445: Introduction to Topology I\n",
      " Spring 2019 - Math 550: Differentiable Manifolds II\n",
      " Fall 2018 - Math 320: Linear Algebra I\n",
      " Spring 2018 - Math 445: Introduction to Topology I\n",
      " Fall 2017 - Math 549: Differentiable Manifolds I\n",
      " Fall 2017 - Math 210: Calculus III (primary course content is in Blackboard)\n",
      " Spring 2017 - Math 569: Representations of surface groups\n",
      " Fall 2016 - Math 180: Calculus I\n",
      " Fall 2016 - Math 320: Linear Algebra I\n",
      " Spring 2016 - Math 535: Complex Analysis I\n",
      " Fall 2015 - Math 445: Introduction to Topology I\n",
      " Fall 2015 - Math 210: Calculus III\n",
      " Fall 2014 - Math 550: Differentiable Manifolds II\n",
      " Fall 2014 - Math 180: Calculus I\n",
      " Spring 2014 - MCS 481: Computational Geometry\n",
      " Spring 2014 - Math 180: Calculus I\n",
      " Spring 2013 - Math 570: Topics in Teichmüller Theory and Geometric Structures\n",
      " Spring 2013 - Math 215: Introduction to Advanced Mathematics\n",
      " Spring 2012 - MCS 481: Computational Geometry\n",
      " Fall 2011 - Math 180: Calculus I\n",
      " Spring 2011 - MCS 481: Computational Geometry\n",
      " Fall 2010 - Math 442: Differential Geometry of Curves and Surfaces\n",
      " Spring 2010 - Math 535: Complex Analysis I\n",
      "Fall 2009 - Math 180: Calculus I\n",
      "Spring 2009 - Math 442: Differential Geometry of Curves and Surfaces\n",
      "Fall 2008 - Math 210: Calculus III\n",
      "\n",
      " Spring 2019 - Math 445: Introduction to Topology I\n",
      " Spring 2019 - Math 550: Differentiable Manifolds II\n",
      " Fall 2018 - Math 320: Linear Algebra I\n",
      " Spring 2018 - Math 445: Introduction to Topology I\n",
      " Fall 2017 - Math 549: Differentiable Manifolds I\n",
      " Fall 2017 - Math 210: Calculus III (primary course content is in Blackboard)\n",
      " Spring 2017 - Math 569: Representations of surface groups\n",
      " Fall 2016 - Math 180: Calculus I\n",
      " Fall 2016 - Math 320: Linear Algebra I\n",
      " Spring 2016 - Math 535: Complex Analysis I\n",
      " Fall 2015 - Math 445: Introduction to Topology I\n",
      " Fall 2015 - Math 210: Calculus III\n",
      " Fall 2014 - Math 550: Differentiable Manifolds II\n",
      " Fall 2014 - Math 180: Calculus I\n",
      " Spring 2014 - MCS 481: Computational Geometry\n",
      " Spring 2014 - Math 180: Calculus I\n",
      " Spring 2013 - Math 570: Topics in Teichmüller Theory and Geometric Structures\n",
      " Spring 2013 - Math 215: Introduction to Advanced Mathematics\n",
      " Spring 2012 - MCS 481: Computational Geometry\n",
      " Fall 2011 - Math 180: Calculus I\n",
      " Spring 2011 - MCS 481: Computational Geometry\n",
      " Fall 2010 - Math 442: Differential Geometry of Curves and Surfaces\n",
      " Spring 2010 - Math 535: Complex Analysis I\n",
      "Fall 2009 - Math 180: Calculus I\n",
      "Spring 2009 - Math 442: Differential Geometry of Curves and Surfaces\n",
      "Fall 2008 - Math 210: Calculus III\n",
      "\n",
      " Spring 2019 - Math 550: Differentiable Manifolds II\n",
      " Fall 2018 - Math 320: Linear Algebra I\n",
      " Spring 2018 - Math 445: Introduction to Topology I\n",
      " Fall 2017 - Math 549: Differentiable Manifolds I\n",
      " Fall 2017 - Math 210: Calculus III (primary course content is in Blackboard)\n",
      " Spring 2017 - Math 569: Representations of surface groups\n",
      " Fall 2016 - Math 180: Calculus I\n",
      " Fall 2016 - Math 320: Linear Algebra I\n",
      " Spring 2016 - Math 535: Complex Analysis I\n",
      " Fall 2015 - Math 445: Introduction to Topology I\n",
      " Fall 2015 - Math 210: Calculus III\n",
      " Fall 2014 - Math 550: Differentiable Manifolds II\n",
      " Fall 2014 - Math 180: Calculus I\n",
      " Spring 2014 - MCS 481: Computational Geometry\n",
      " Spring 2014 - Math 180: Calculus I\n",
      " Spring 2013 - Math 570: Topics in Teichmüller Theory and Geometric Structures\n",
      " Spring 2013 - Math 215: Introduction to Advanced Mathematics\n",
      " Spring 2012 - MCS 481: Computational Geometry\n",
      " Fall 2011 - Math 180: Calculus I\n",
      " Spring 2011 - MCS 481: Computational Geometry\n",
      " Fall 2010 - Math 442: Differential Geometry of Curves and Surfaces\n",
      " Spring 2010 - Math 535: Complex Analysis I\n",
      "Fall 2009 - Math 180: Calculus I\n",
      "Spring 2009 - Math 442: Differential Geometry of Curves and Surfaces\n",
      "Fall 2008 - Math 210: Calculus III\n",
      "\n",
      " Fall 2018 - Math 320: Linear Algebra I\n",
      " Spring 2018 - Math 445: Introduction to Topology I\n",
      " Fall 2017 - Math 549: Differentiable Manifolds I\n",
      " Fall 2017 - Math 210: Calculus III (primary course content is in Blackboard)\n",
      " Spring 2017 - Math 569: Representations of surface groups\n",
      " Fall 2016 - Math 180: Calculus I\n",
      " Fall 2016 - Math 320: Linear Algebra I\n",
      " Spring 2016 - Math 535: Complex Analysis I\n",
      " Fall 2015 - Math 445: Introduction to Topology I\n",
      " Fall 2015 - Math 210: Calculus III\n",
      " Fall 2014 - Math 550: Differentiable Manifolds II\n",
      " Fall 2014 - Math 180: Calculus I\n",
      " Spring 2014 - MCS 481: Computational Geometry\n",
      " Spring 2014 - Math 180: Calculus I\n",
      " Spring 2013 - Math 570: Topics in Teichmüller Theory and Geometric Structures\n",
      " Spring 2013 - Math 215: Introduction to Advanced Mathematics\n",
      " Spring 2012 - MCS 481: Computational Geometry\n",
      " Fall 2011 - Math 180: Calculus I\n",
      " Spring 2011 - MCS 481: Computational Geometry\n",
      " Fall 2010 - Math 442: Differential Geometry of Curves and Surfaces\n",
      " Spring 2010 - Math 535: Complex Analysis I\n",
      "Fall 2009 - Math 180: Calculus I\n",
      "Spring 2009 - Math 442: Differential Geometry of Curves and Surfaces\n",
      "Fall 2008 - Math 210: Calculus III\n",
      "\n",
      " Spring 2018 - Math 445: Introduction to Topology I\n",
      " Fall 2017 - Math 549: Differentiable Manifolds I\n",
      " Fall 2017 - Math 210: Calculus III (primary course content is in Blackboard)\n",
      " Spring 2017 - Math 569: Representations of surface groups\n",
      " Fall 2016 - Math 180: Calculus I\n",
      " Fall 2016 - Math 320: Linear Algebra I\n",
      " Spring 2016 - Math 535: Complex Analysis I\n",
      " Fall 2015 - Math 445: Introduction to Topology I\n",
      " Fall 2015 - Math 210: Calculus III\n",
      " Fall 2014 - Math 550: Differentiable Manifolds II\n",
      " Fall 2014 - Math 180: Calculus I\n",
      " Spring 2014 - MCS 481: Computational Geometry\n",
      " Spring 2014 - Math 180: Calculus I\n",
      " Spring 2013 - Math 570: Topics in Teichmüller Theory and Geometric Structures\n",
      " Spring 2013 - Math 215: Introduction to Advanced Mathematics\n",
      " Spring 2012 - MCS 481: Computational Geometry\n",
      " Fall 2011 - Math 180: Calculus I\n",
      " Spring 2011 - MCS 481: Computational Geometry\n",
      " Fall 2010 - Math 442: Differential Geometry of Curves and Surfaces\n",
      " Spring 2010 - Math 535: Complex Analysis I\n",
      "Fall 2009 - Math 180: Calculus I\n",
      "Spring 2009 - Math 442: Differential Geometry of Curves and Surfaces\n",
      "Fall 2008 - Math 210: Calculus III\n",
      "\n",
      " Fall 2017 - Math 549: Differentiable Manifolds I\n",
      " Fall 2017 - Math 210: Calculus III (primary course content is in Blackboard)\n",
      " Spring 2017 - Math 569: Representations of surface groups\n",
      " Fall 2016 - Math 180: Calculus I\n",
      " Fall 2016 - Math 320: Linear Algebra I\n",
      " Spring 2016 - Math 535: Complex Analysis I\n",
      " Fall 2015 - Math 445: Introduction to Topology I\n",
      " Fall 2015 - Math 210: Calculus III\n",
      " Fall 2014 - Math 550: Differentiable Manifolds II\n",
      " Fall 2014 - Math 180: Calculus I\n",
      " Spring 2014 - MCS 481: Computational Geometry\n",
      " Spring 2014 - Math 180: Calculus I\n",
      " Spring 2013 - Math 570: Topics in Teichmüller Theory and Geometric Structures\n",
      " Spring 2013 - Math 215: Introduction to Advanced Mathematics\n",
      " Spring 2012 - MCS 481: Computational Geometry\n",
      " Fall 2011 - Math 180: Calculus I\n",
      " Spring 2011 - MCS 481: Computational Geometry\n",
      " Fall 2010 - Math 442: Differential Geometry of Curves and Surfaces\n",
      " Spring 2010 - Math 535: Complex Analysis I\n",
      "Fall 2009 - Math 180: Calculus I\n",
      "Spring 2009 - Math 442: Differential Geometry of Curves and Surfaces\n",
      "Fall 2008 - Math 210: Calculus III\n",
      "\n",
      " Fall 2017 - Math 210: Calculus III (primary course content is in Blackboard)\n",
      " Spring 2017 - Math 569: Representations of surface groups\n",
      " Fall 2016 - Math 180: Calculus I\n",
      " Fall 2016 - Math 320: Linear Algebra I\n",
      " Spring 2016 - Math 535: Complex Analysis I\n",
      " Fall 2015 - Math 445: Introduction to Topology I\n",
      " Fall 2015 - Math 210: Calculus III\n",
      " Fall 2014 - Math 550: Differentiable Manifolds II\n",
      " Fall 2014 - Math 180: Calculus I\n",
      " Spring 2014 - MCS 481: Computational Geometry\n",
      " Spring 2014 - Math 180: Calculus I\n",
      " Spring 2013 - Math 570: Topics in Teichmüller Theory and Geometric Structures\n",
      " Spring 2013 - Math 215: Introduction to Advanced Mathematics\n",
      " Spring 2012 - MCS 481: Computational Geometry\n",
      " Fall 2011 - Math 180: Calculus I\n",
      " Spring 2011 - MCS 481: Computational Geometry\n",
      " Fall 2010 - Math 442: Differential Geometry of Curves and Surfaces\n",
      " Spring 2010 - Math 535: Complex Analysis I\n",
      "Fall 2009 - Math 180: Calculus I\n",
      "Spring 2009 - Math 442: Differential Geometry of Curves and Surfaces\n",
      "Fall 2008 - Math 210: Calculus III\n",
      "\n",
      " Spring 2017 - Math 569: Representations of surface groups\n",
      " Fall 2016 - Math 180: Calculus I\n",
      " Fall 2016 - Math 320: Linear Algebra I\n",
      " Spring 2016 - Math 535: Complex Analysis I\n",
      " Fall 2015 - Math 445: Introduction to Topology I\n",
      " Fall 2015 - Math 210: Calculus III\n",
      " Fall 2014 - Math 550: Differentiable Manifolds II\n",
      " Fall 2014 - Math 180: Calculus I\n",
      " Spring 2014 - MCS 481: Computational Geometry\n",
      " Spring 2014 - Math 180: Calculus I\n",
      " Spring 2013 - Math 570: Topics in Teichmüller Theory and Geometric Structures\n",
      " Spring 2013 - Math 215: Introduction to Advanced Mathematics\n",
      " Spring 2012 - MCS 481: Computational Geometry\n",
      " Fall 2011 - Math 180: Calculus I\n",
      " Spring 2011 - MCS 481: Computational Geometry\n",
      " Fall 2010 - Math 442: Differential Geometry of Curves and Surfaces\n",
      " Spring 2010 - Math 535: Complex Analysis I\n",
      "Fall 2009 - Math 180: Calculus I\n",
      "Spring 2009 - Math 442: Differential Geometry of Curves and Surfaces\n",
      "Fall 2008 - Math 210: Calculus III\n",
      "\n",
      " Fall 2016 - Math 180: Calculus I\n",
      " Fall 2016 - Math 320: Linear Algebra I\n",
      " Spring 2016 - Math 535: Complex Analysis I\n",
      " Fall 2015 - Math 445: Introduction to Topology I\n",
      " Fall 2015 - Math 210: Calculus III\n",
      " Fall 2014 - Math 550: Differentiable Manifolds II\n",
      " Fall 2014 - Math 180: Calculus I\n",
      " Spring 2014 - MCS 481: Computational Geometry\n",
      " Spring 2014 - Math 180: Calculus I\n",
      " Spring 2013 - Math 570: Topics in Teichmüller Theory and Geometric Structures\n",
      " Spring 2013 - Math 215: Introduction to Advanced Mathematics\n",
      " Spring 2012 - MCS 481: Computational Geometry\n",
      " Fall 2011 - Math 180: Calculus I\n",
      " Spring 2011 - MCS 481: Computational Geometry\n",
      " Fall 2010 - Math 442: Differential Geometry of Curves and Surfaces\n",
      " Spring 2010 - Math 535: Complex Analysis I\n",
      "Fall 2009 - Math 180: Calculus I\n",
      "Spring 2009 - Math 442: Differential Geometry of Curves and Surfaces\n",
      "Fall 2008 - Math 210: Calculus III\n",
      "\n",
      " Fall 2016 - Math 320: Linear Algebra I\n",
      " Spring 2016 - Math 535: Complex Analysis I\n",
      " Fall 2015 - Math 445: Introduction to Topology I\n",
      " Fall 2015 - Math 210: Calculus III\n",
      " Fall 2014 - Math 550: Differentiable Manifolds II\n",
      " Fall 2014 - Math 180: Calculus I\n",
      " Spring 2014 - MCS 481: Computational Geometry\n",
      " Spring 2014 - Math 180: Calculus I\n",
      " Spring 2013 - Math 570: Topics in Teichmüller Theory and Geometric Structures\n",
      " Spring 2013 - Math 215: Introduction to Advanced Mathematics\n",
      " Spring 2012 - MCS 481: Computational Geometry\n",
      " Fall 2011 - Math 180: Calculus I\n",
      " Spring 2011 - MCS 481: Computational Geometry\n",
      " Fall 2010 - Math 442: Differential Geometry of Curves and Surfaces\n",
      " Spring 2010 - Math 535: Complex Analysis I\n",
      "Fall 2009 - Math 180: Calculus I\n",
      "Spring 2009 - Math 442: Differential Geometry of Curves and Surfaces\n",
      "Fall 2008 - Math 210: Calculus III\n",
      "\n",
      " Spring 2016 - Math 535: Complex Analysis I\n",
      " Fall 2015 - Math 445: Introduction to Topology I\n",
      " Fall 2015 - Math 210: Calculus III\n",
      " Fall 2014 - Math 550: Differentiable Manifolds II\n",
      " Fall 2014 - Math 180: Calculus I\n",
      " Spring 2014 - MCS 481: Computational Geometry\n",
      " Spring 2014 - Math 180: Calculus I\n",
      " Spring 2013 - Math 570: Topics in Teichmüller Theory and Geometric Structures\n",
      " Spring 2013 - Math 215: Introduction to Advanced Mathematics\n",
      " Spring 2012 - MCS 481: Computational Geometry\n",
      " Fall 2011 - Math 180: Calculus I\n",
      " Spring 2011 - MCS 481: Computational Geometry\n",
      " Fall 2010 - Math 442: Differential Geometry of Curves and Surfaces\n",
      " Spring 2010 - Math 535: Complex Analysis I\n",
      "Fall 2009 - Math 180: Calculus I\n",
      "Spring 2009 - Math 442: Differential Geometry of Curves and Surfaces\n",
      "Fall 2008 - Math 210: Calculus III\n",
      "\n",
      " Fall 2015 - Math 445: Introduction to Topology I\n",
      " Fall 2015 - Math 210: Calculus III\n",
      " Fall 2014 - Math 550: Differentiable Manifolds II\n",
      " Fall 2014 - Math 180: Calculus I\n",
      " Spring 2014 - MCS 481: Computational Geometry\n",
      " Spring 2014 - Math 180: Calculus I\n",
      " Spring 2013 - Math 570: Topics in Teichmüller Theory and Geometric Structures\n",
      " Spring 2013 - Math 215: Introduction to Advanced Mathematics\n",
      " Spring 2012 - MCS 481: Computational Geometry\n",
      " Fall 2011 - Math 180: Calculus I\n",
      " Spring 2011 - MCS 481: Computational Geometry\n",
      " Fall 2010 - Math 442: Differential Geometry of Curves and Surfaces\n",
      " Spring 2010 - Math 535: Complex Analysis I\n",
      "Fall 2009 - Math 180: Calculus I\n",
      "Spring 2009 - Math 442: Differential Geometry of Curves and Surfaces\n",
      "Fall 2008 - Math 210: Calculus III\n",
      "\n",
      " Fall 2015 - Math 210: Calculus III\n",
      " Fall 2014 - Math 550: Differentiable Manifolds II\n",
      " Fall 2014 - Math 180: Calculus I\n",
      " Spring 2014 - MCS 481: Computational Geometry\n",
      " Spring 2014 - Math 180: Calculus I\n",
      " Spring 2013 - Math 570: Topics in Teichmüller Theory and Geometric Structures\n",
      " Spring 2013 - Math 215: Introduction to Advanced Mathematics\n",
      " Spring 2012 - MCS 481: Computational Geometry\n",
      " Fall 2011 - Math 180: Calculus I\n",
      " Spring 2011 - MCS 481: Computational Geometry\n",
      " Fall 2010 - Math 442: Differential Geometry of Curves and Surfaces\n",
      " Spring 2010 - Math 535: Complex Analysis I\n",
      "Fall 2009 - Math 180: Calculus I\n",
      "Spring 2009 - Math 442: Differential Geometry of Curves and Surfaces\n",
      "Fall 2008 - Math 210: Calculus III\n",
      "\n",
      " Fall 2014 - Math 550: Differentiable Manifolds II\n",
      " Fall 2014 - Math 180: Calculus I\n",
      " Spring 2014 - MCS 481: Computational Geometry\n",
      " Spring 2014 - Math 180: Calculus I\n",
      " Spring 2013 - Math 570: Topics in Teichmüller Theory and Geometric Structures\n",
      " Spring 2013 - Math 215: Introduction to Advanced Mathematics\n",
      " Spring 2012 - MCS 481: Computational Geometry\n",
      " Fall 2011 - Math 180: Calculus I\n",
      " Spring 2011 - MCS 481: Computational Geometry\n",
      " Fall 2010 - Math 442: Differential Geometry of Curves and Surfaces\n",
      " Spring 2010 - Math 535: Complex Analysis I\n",
      "Fall 2009 - Math 180: Calculus I\n",
      "Spring 2009 - Math 442: Differential Geometry of Curves and Surfaces\n",
      "Fall 2008 - Math 210: Calculus III\n",
      "\n",
      " Fall 2014 - Math 180: Calculus I\n",
      " Spring 2014 - MCS 481: Computational Geometry\n",
      " Spring 2014 - Math 180: Calculus I\n",
      " Spring 2013 - Math 570: Topics in Teichmüller Theory and Geometric Structures\n",
      " Spring 2013 - Math 215: Introduction to Advanced Mathematics\n",
      " Spring 2012 - MCS 481: Computational Geometry\n",
      " Fall 2011 - Math 180: Calculus I\n",
      " Spring 2011 - MCS 481: Computational Geometry\n",
      " Fall 2010 - Math 442: Differential Geometry of Curves and Surfaces\n",
      " Spring 2010 - Math 535: Complex Analysis I\n",
      "Fall 2009 - Math 180: Calculus I\n",
      "Spring 2009 - Math 442: Differential Geometry of Curves and Surfaces\n",
      "Fall 2008 - Math 210: Calculus III\n",
      "\n",
      " Spring 2014 - MCS 481: Computational Geometry\n",
      " Spring 2014 - Math 180: Calculus I\n",
      " Spring 2013 - Math 570: Topics in Teichmüller Theory and Geometric Structures\n",
      " Spring 2013 - Math 215: Introduction to Advanced Mathematics\n",
      " Spring 2012 - MCS 481: Computational Geometry\n",
      " Fall 2011 - Math 180: Calculus I\n",
      " Spring 2011 - MCS 481: Computational Geometry\n",
      " Fall 2010 - Math 442: Differential Geometry of Curves and Surfaces\n",
      " Spring 2010 - Math 535: Complex Analysis I\n",
      "Fall 2009 - Math 180: Calculus I\n",
      "Spring 2009 - Math 442: Differential Geometry of Curves and Surfaces\n",
      "Fall 2008 - Math 210: Calculus III\n",
      "\n",
      " Spring 2014 - Math 180: Calculus I\n",
      " Spring 2013 - Math 570: Topics in Teichmüller Theory and Geometric Structures\n",
      " Spring 2013 - Math 215: Introduction to Advanced Mathematics\n",
      " Spring 2012 - MCS 481: Computational Geometry\n",
      " Fall 2011 - Math 180: Calculus I\n",
      " Spring 2011 - MCS 481: Computational Geometry\n",
      " Fall 2010 - Math 442: Differential Geometry of Curves and Surfaces\n",
      " Spring 2010 - Math 535: Complex Analysis I\n",
      "Fall 2009 - Math 180: Calculus I\n",
      "Spring 2009 - Math 442: Differential Geometry of Curves and Surfaces\n",
      "Fall 2008 - Math 210: Calculus III\n",
      "\n",
      " Spring 2013 - Math 570: Topics in Teichmüller Theory and Geometric Structures\n",
      " Spring 2013 - Math 215: Introduction to Advanced Mathematics\n",
      " Spring 2012 - MCS 481: Computational Geometry\n",
      " Fall 2011 - Math 180: Calculus I\n",
      " Spring 2011 - MCS 481: Computational Geometry\n",
      " Fall 2010 - Math 442: Differential Geometry of Curves and Surfaces\n",
      " Spring 2010 - Math 535: Complex Analysis I\n",
      "Fall 2009 - Math 180: Calculus I\n",
      "Spring 2009 - Math 442: Differential Geometry of Curves and Surfaces\n",
      "Fall 2008 - Math 210: Calculus III\n",
      "\n",
      " Spring 2013 - Math 215: Introduction to Advanced Mathematics\n",
      " Spring 2012 - MCS 481: Computational Geometry\n",
      " Fall 2011 - Math 180: Calculus I\n",
      " Spring 2011 - MCS 481: Computational Geometry\n",
      " Fall 2010 - Math 442: Differential Geometry of Curves and Surfaces\n",
      " Spring 2010 - Math 535: Complex Analysis I\n",
      "Fall 2009 - Math 180: Calculus I\n",
      "Spring 2009 - Math 442: Differential Geometry of Curves and Surfaces\n",
      "Fall 2008 - Math 210: Calculus III\n",
      "\n",
      " Spring 2012 - MCS 481: Computational Geometry\n",
      " Fall 2011 - Math 180: Calculus I\n",
      " Spring 2011 - MCS 481: Computational Geometry\n",
      " Fall 2010 - Math 442: Differential Geometry of Curves and Surfaces\n",
      " Spring 2010 - Math 535: Complex Analysis I\n",
      "Fall 2009 - Math 180: Calculus I\n",
      "Spring 2009 - Math 442: Differential Geometry of Curves and Surfaces\n",
      "Fall 2008 - Math 210: Calculus III\n",
      "\n",
      " Fall 2011 - Math 180: Calculus I\n",
      " Spring 2011 - MCS 481: Computational Geometry\n",
      " Fall 2010 - Math 442: Differential Geometry of Curves and Surfaces\n",
      " Spring 2010 - Math 535: Complex Analysis I\n",
      "Fall 2009 - Math 180: Calculus I\n",
      "Spring 2009 - Math 442: Differential Geometry of Curves and Surfaces\n",
      "Fall 2008 - Math 210: Calculus III\n",
      "\n",
      " Spring 2011 - MCS 481: Computational Geometry\n",
      " Fall 2010 - Math 442: Differential Geometry of Curves and Surfaces\n",
      " Spring 2010 - Math 535: Complex Analysis I\n",
      "Fall 2009 - Math 180: Calculus I\n",
      "Spring 2009 - Math 442: Differential Geometry of Curves and Surfaces\n",
      "Fall 2008 - Math 210: Calculus III\n",
      "\n",
      " Fall 2010 - Math 442: Differential Geometry of Curves and Surfaces\n",
      " Spring 2010 - Math 535: Complex Analysis I\n",
      "Fall 2009 - Math 180: Calculus I\n",
      "Spring 2009 - Math 442: Differential Geometry of Curves and Surfaces\n",
      "Fall 2008 - Math 210: Calculus III\n",
      "\n",
      " Spring 2010 - Math 535: Complex Analysis I\n",
      "Fall 2009 - Math 180: Calculus I\n",
      "Spring 2009 - Math 442: Differential Geometry of Curves and Surfaces\n",
      "Fall 2008 - Math 210: Calculus III\n",
      "\n",
      "Fall 2009 - Math 180: Calculus I\n",
      "Spring 2009 - Math 442: Differential Geometry of Curves and Surfaces\n",
      "Fall 2008 - Math 210: Calculus III\n",
      "\n",
      "Spring 2009 - Math 442: Differential Geometry of Curves and Surfaces\n",
      "Fall 2008 - Math 210: Calculus III\n",
      "\n",
      "Fall 2008 - Math 210: Calculus III\n",
      "\n"
     ]
    }
   ],
   "source": [
    "# the div with id teaching, the first unordered list (UIC teaching)\n",
    "# inside of the first unordered list (all teaching) in that div.\n",
    "uic_teaching = soup.find(\"div\",id=\"teaching\").ul.ul\n",
    "\n",
    "# text list of courses\n",
    "for x in uic_teaching.find_all(\"li\"):\n",
    "    print(x.text)"
   ]
  },
  {
   "cell_type": "code",
   "execution_count": 14,
   "metadata": {},
   "outputs": [
    {
     "name": "stdout",
     "output_type": "stream",
     "text": [
      "Link to https://uic.blackboard.com/ultra/courses/_190696_1/cl/outline with link text 'MCS 275: Programming Tools and File Management'\n",
      "Link to /teaching/2020/fall/mcs260/ with link text 'MCS 260: Introduction to Computer Science'\n",
      "Link to /teaching/2019/spring/math445/ with link text 'Math 445: Introduction to Topology I'\n",
      "Link to /teaching/2019/spring/math550/ with link text 'Math 550: Differentiable Manifolds II'\n",
      "Link to /teaching/2018/fall/math320/ with link text 'Math 320: Linear Algebra I'\n",
      "Link to /teaching/2018/spring/math445/ with link text 'Math 445: Introduction to Topology I'\n",
      "Link to /teaching/2017/fall/math549/ with link text 'Math 549: Differentiable Manifolds I'\n",
      "Link to http://www.math.uic.edu/math210/ with link text 'Math 210: Calculus III'\n",
      "Link to /teaching/2017/spring/math569/ with link text 'Math 569: Representations of surface groups'\n",
      "Link to http://www.math.uic.edu/math180/ with link text 'Math 180: Calculus I'\n",
      "Link to /teaching/2016/fall/math320/ with link text 'Math 320: Linear Algebra I'\n",
      "Link to /teaching/2016/spring/math535/ with link text 'Math 535: Complex Analysis I'\n",
      "Link to /teaching/2015/fall/math445/ with link text 'Math 445: Introduction to Topology I'\n",
      "Link to http://www.math.uic.edu/math210/ with link text 'Math 210: Calculus III'\n",
      "Link to /teaching/2014/fall/math550/ with link text 'Math 550: Differentiable Manifolds II'\n",
      "Link to /teaching/2014/fall/math180/ with link text 'Math 180: Calculus I'\n",
      "Link to /teaching/2014/spring/mcs481/ with link text 'MCS 481: Computational Geometry'\n",
      "Link to /teaching/2014/spring/math180/ with link text 'Math 180: Calculus I'\n",
      "Link to /teaching/2013/spring/math570/ with link text 'Math 570: Topics in Teichmüller Theory and Geometric Structures'\n",
      "Link to /teaching/2013/spring/math215/ with link text 'Math 215: Introduction to Advanced Mathematics'\n",
      "Link to /teaching/2012/spring/mcs481/ with link text 'MCS 481: Computational Geometry'\n",
      "Link to /teaching/2011/spring/mcs481/ with link text 'MCS 481: Computational Geometry'\n",
      "Link to /teaching/2010/fall/math442/ with link text 'Math 442: Differential Geometry of Curves and Surfaces'\n",
      "Link to /teaching/2010/spring/math535/ with link text 'Math 535: Complex Analysis I'\n",
      "Link to /teaching/2009/spring/math442/ with link text 'Math 442: Differential Geometry of Curves and Surfaces'\n",
      "Link to /teaching/2008/fall/math210/ with link text 'Math 210: Calculus III'\n"
     ]
    }
   ],
   "source": [
    "for x in uic_teaching.find_all(\"a\"):\n",
    "    print(\"Link to {} with link text '{}'\".format(\n",
    "        x[\"href\"],\n",
    "        x.text\n",
    "    ))"
   ]
  },
  {
   "cell_type": "code",
   "execution_count": 15,
   "metadata": {},
   "outputs": [
    {
     "data": {
      "text/plain": [
       "<div id=\"acknowledgement\">\n",
       "<h3>Acknowledgement</h3>\n",
       "This material is based upon work supported by the National Science\n",
       "Foundation. Any opinions, findings, and conclusions or recommendations\n",
       "expressed in this material are those of the author and do not\n",
       "necessarily reflect the views of the National Science Foundation. \n",
       "</div>"
      ]
     },
     "execution_count": 15,
     "metadata": {},
     "output_type": "execute_result"
    }
   ],
   "source": [
    "soup.find_all(\"div\")[-1]"
   ]
  },
  {
   "cell_type": "code",
   "execution_count": 17,
   "metadata": {},
   "outputs": [],
   "source": [
    "acktag = soup.find_all(\"div\")[-1].h3"
   ]
  },
  {
   "cell_type": "code",
   "execution_count": 18,
   "metadata": {},
   "outputs": [
    {
     "data": {
      "text/plain": [
       "<div id=\"acknowledgement\">\n",
       "<h3>Acknowledgement</h3>\n",
       "This material is based upon work supported by the National Science\n",
       "Foundation. Any opinions, findings, and conclusions or recommendations\n",
       "expressed in this material are those of the author and do not\n",
       "necessarily reflect the views of the National Science Foundation. \n",
       "</div>"
      ]
     },
     "execution_count": 18,
     "metadata": {},
     "output_type": "execute_result"
    }
   ],
   "source": [
    "acktag.parent"
   ]
  },
  {
   "cell_type": "code",
   "execution_count": 20,
   "metadata": {},
   "outputs": [
    {
     "data": {
      "text/plain": [
       "'body'"
      ]
     },
     "execution_count": 20,
     "metadata": {},
     "output_type": "execute_result"
    }
   ],
   "source": [
    "acktag.parent.parent.name"
   ]
  },
  {
   "cell_type": "code",
   "execution_count": 21,
   "metadata": {},
   "outputs": [
    {
     "data": {
      "text/plain": [
       "'div'"
      ]
     },
     "execution_count": 21,
     "metadata": {},
     "output_type": "execute_result"
    }
   ],
   "source": [
    "acktag.parent.name"
   ]
  },
  {
   "cell_type": "code",
   "execution_count": 22,
   "metadata": {},
   "outputs": [
    {
     "data": {
      "text/plain": [
       "{'id': 'acknowledgement'}"
      ]
     },
     "execution_count": 22,
     "metadata": {},
     "output_type": "execute_result"
    }
   ],
   "source": [
    "acktag.parent.attrs"
   ]
  },
  {
   "cell_type": "code",
   "execution_count": 24,
   "metadata": {},
   "outputs": [
    {
     "data": {
      "text/plain": [
       "['\\n',\n",
       " <h3>Acknowledgement</h3>,\n",
       " '\\nThis material is based upon work supported by the National Science\\nFoundation. Any opinions, findings, and conclusions or recommendations\\nexpressed in this material are those of the author and do not\\nnecessarily reflect the views of the National Science Foundation. \\n']"
      ]
     },
     "execution_count": 24,
     "metadata": {},
     "output_type": "execute_result"
    }
   ],
   "source": [
    "acktag.parent.contents # will return a list"
   ]
  },
  {
   "cell_type": "markdown",
   "metadata": {},
   "source": [
    "## Academic calendar scraper development\n",
    "\n",
    "The part we did during Lecture 41"
   ]
  },
  {
   "cell_type": "code",
   "execution_count": 34,
   "metadata": {},
   "outputs": [],
   "source": [
    "import datetime"
   ]
  },
  {
   "cell_type": "code",
   "execution_count": 25,
   "metadata": {},
   "outputs": [],
   "source": [
    "from urllib.request import urlopen\n",
    "from bs4 import BeautifulSoup\n",
    "import time\n",
    "\n",
    "time.sleep(1)\n",
    "with urlopen(\"https://catalog.uic.edu/ucat/academic-calendar/\") as response:\n",
    "    soup = BeautifulSoup(response,\"html.parser\")"
   ]
  },
  {
   "cell_type": "code",
   "execution_count": 27,
   "metadata": {},
   "outputs": [
    {
     "data": {
      "text/plain": [
       "13"
      ]
     },
     "execution_count": 27,
     "metadata": {},
     "output_type": "execute_result"
    }
   ],
   "source": [
    "# How many tables are in this document?\n",
    "len(soup.find_all(\"table\"))"
   ]
  },
  {
   "cell_type": "markdown",
   "metadata": {},
   "source": [
    "Each table appears to correspond to one semester or summer.\n",
    "\n",
    "Let's iterate over them and look at each table's rows to get key dates for the session.  We'll need a function to parse dates in the string format used by the table, e.g.\n",
    "```\n",
    "September 2, M\n",
    "```"
   ]
  },
  {
   "cell_type": "code",
   "execution_count": 38,
   "metadata": {},
   "outputs": [],
   "source": [
    "def parse_datestr(year,datestr):\n",
    "    \"\"\"Take a year like \"2020\" and a date string like\n",
    "    \"January 13, M\" and convert it to a Python date object.\"\"\"\n",
    "    # Discard the day of week after the ,\n",
    "    datestr = datestr.split(\",\")[0]\n",
    "    # this looks like January 13 2020\n",
    "    # which has format \n",
    "    return datetime.datetime.strptime(\n",
    "        datestr + \" \" + year,\n",
    "        \"%B %d %Y\"\n",
    "    ).date()"
   ]
  },
  {
   "cell_type": "code",
   "execution_count": 42,
   "metadata": {
    "scrolled": true
   },
   "outputs": [
    {
     "name": "stdout",
     "output_type": "stream",
     "text": [
      "--------------------------------------\n",
      "SEMESTER: Fall Semester 2019\n",
      "2019-08-26 Instruction begins.\n",
      "2019-09-02 Labor Day holiday. No classes.\n",
      "2019-09-06 Last day to complete late registration; last day to add a course(s) or make section changes; last day to drop individual courses via XE Registration without receiving W (Withdrawn) grade on academic record. Last day to Web Drop courses via XE Registration and receive 100% cancellation of tuition and fees.\n",
      "2019-09-12 CampusCare Waiver deadline.\n",
      "2019-11-01 Last day for undergraduate students to use optional late drop in college office and receive grade of W on academic record.\n",
      "SKIPPING THIS ROW: November 28–29, Th–F Thanksgiving holiday. No classes.\n",
      "2019-12-06 Instruction ends.\n",
      "SKIPPING THIS ROW: December 9–13, M–F Final examinations.\n",
      "2019-12-18 Instructor grading deadline for 16-week courses (5 p.m.)\n",
      "2019-12-23 Grades available via my.UIC.edu\n",
      "--------------------------------------\n",
      "SEMESTER: Spring Semester 2020\n",
      "2020-01-13 Instruction begins.\n",
      "2020-01-20 Martin Luther King, Jr., Day. No classes.\n",
      "2020-01-24 Last day to complete late registration; last day to add a course(s) or make section changes; last day to drop individual courses via XE Registration without receiving W (Withdrawn) grade on academic record. Last day to Web Drop courses via XE Registration and receive 100% cancellation of tuition and fees.\n",
      "2020-02-09 CampusCare Waiver deadline.\n",
      "SKIPPING THIS ROW: March 16–27, M–F (revised) Spring vacation. No classes.\n",
      "2020-04-03 Last day for undergraduate students to use optional late drop in college office and receive grade of W on academic record.\n",
      "2020-05-01 Instruction ends.\n",
      "SKIPPING THIS ROW: May 4–8, M–F Final examinations.\n",
      "2020-05-13 Instructor grading deadline for 16-week courses (5 p.m.)\n",
      "2020-05-18 Grades available via my.UIC.edu\n",
      "--------------------------------------\n",
      "SEMESTER: Fall Semester 2020\n",
      "2020-08-24 Instruction begins.\n",
      "2020-09-04 Last day to complete late registration; last day to add a course(s) or make section changes; last day to drop individual courses via XE Registration without receiving W (Withdrawn) grade on academic record. Last day to Web Drop courses via XE Registration and receive 100% cancellation of tuition and fees.\n",
      "2020-09-07 Labor Day holiday. No classes.\n",
      "2020-09-12 CampusCare Waiver deadline.\n",
      "2020-10-30 Last day for undergraduate students to use optional late drop in college office and receive grade of W on academic record.\n",
      "2020-11-03 Election Day holiday. No classes.\n",
      "SKIPPING THIS ROW: November 26–27, Th–F Thanksgiving holiday. No classes.\n",
      "2020-12-04 Instruction ends.\n",
      "SKIPPING THIS ROW: December 7–11, M–F Final examinations.\n",
      "2020-12-16 Instructor grading deadline for 16-week courses (5 p.m.)\n",
      "2020-12-21 Grades available via my.UIC.edu\n",
      "--------------------------------------\n",
      "SEMESTER: Spring Semester 2021\n",
      "2021-01-11 Instruction begins.\n",
      "2021-01-18 Martin Luther King, Jr., Day. No classes.\n",
      "2021-01-22 Last day to complete late registration; last day to add a course(s) or make section changes; last day to drop individual courses via XE Registration without receiving W (Withdrawn) grade on academic record. Last day to Web Drop courses via XE Registration and receive 100% cancellation of tuition and fees.\n",
      "2021-02-07 CampusCare Waiver deadline.\n",
      "2021-03-19 Last day for undergraduate students to use optional late drop in college office and receive grade of W on academic record.\n",
      "SKIPPING THIS ROW: March 22–26, M–F Spring vacation. No classes.\n",
      "2021-04-30 Instruction ends.\n",
      "SKIPPING THIS ROW: May 3–7, M–F Final examinations.\n",
      "2021-05-12 Instructor grading deadline for 16-week courses (5 p.m.)\n",
      "2021-05-17 Grades available via my.UIC.edu\n",
      "--------------------------------------\n",
      "SEMESTER: Fall Semester 2021\n",
      "2021-08-23 Instruction begins.\n",
      "2021-09-03 Last day to complete late registration; last day to add a course(s) or make section changes; last day to drop individual courses via XE Registration without receiving W (Withdrawn) grade on academic record. Last day to Web Drop courses via XE Registration and receive 100% cancellation of tuition and fees.\n",
      "2021-09-06 Labor Day holiday. No classes.\n",
      "SKIPPING THIS ROW:  CampusCare Waiver deadline.\n",
      "2021-10-29 Last day for undergraduate students to use optional late drop in college office and receive grade of W on academic record.\n",
      "SKIPPING THIS ROW: November 25–26, Th–F Thanksgiving holiday. No classes.\n",
      "2021-12-03 Instruction ends.\n",
      "SKIPPING THIS ROW: December 6–10, M–F Final examinations.\n",
      "2021-12-15 Instructor grading deadline for 16-week courses (5 p.m.)\n",
      "2021-12-20 Grades available via my.UIC.edu\n",
      "--------------------------------------\n",
      "SEMESTER: Spring Semester 2022\n",
      "2022-01-10 Instruction begins.\n",
      "2022-01-17 Martin Luther King, Jr., Day. No classes.\n",
      "2022-01-21 Last day to complete late registration; last day to add a course(s) or make section changes; last day to drop individual courses via XE Registration without receiving W (Withdrawn) grade on academic record. Last day to Web Drop courses via XE Registration and receive 100% cancellation of tuition and fees.\n",
      "SKIPPING THIS ROW:  CampusCare Waiver deadline.\n",
      "2022-03-18 Last day for undergraduate students to use optional late drop in college office and receive grade of W on academic record.\n",
      "SKIPPING THIS ROW: March 21–25, M–F Spring vacation. No classes.\n",
      "2022-04-29 Instruction ends.\n",
      "SKIPPING THIS ROW: May 2–6, M–F Final examinations.\n",
      "2022-05-11 Instructor grading deadline for 16-week courses (5 p.m.)\n",
      "2022-05-16 Grades available via my.UIC.edu\n",
      "--------------------------------------\n",
      "SEMESTER: Fall Semester 2022\n",
      "2022-08-22 Instruction begins.\n",
      "2022-09-02 Last day to complete late registration; last day to add a course(s) or make section changes; last day to drop individual courses via XE Registration without receiving W (Withdrawn) grade on academic record. Last day to Web Drop courses via XE Registration and receive 100% cancellation of tuition and fees.\n",
      "2022-09-05 Labor Day holiday. No classes.\n",
      "SKIPPING THIS ROW:  CampusCare Waiver deadline.\n",
      "2022-10-28 Last day for undergraduate students to use optional late drop in college office and receive grade of W on academic record.\n",
      "SKIPPING THIS ROW: November 24–25, Th–F Thanksgiving holiday. No classes.\n",
      "2022-12-02 Instruction ends.\n",
      "SKIPPING THIS ROW: December 5–9, M–F Final examinations.\n",
      "2022-12-14 Instructor grading deadline for 16-week courses (5 p.m.)\n",
      "2022-12-19 Grades available via my.UIC.edu\n",
      "--------------------------------------\n",
      "SEMESTER: Spring Semester 2023\n",
      "2023-01-09 Instruction begins.\n",
      "2023-01-16 Martin Luther King, Jr., Day. No classes.\n",
      "2023-01-20 Last day to complete late registration; last day to add a course(s) or make section changes; last day to drop individual courses via XE Registration without receiving W (Withdrawn) grade on academic record. Last day to Web Drop courses via XE Registration and receive 100% cancellation of tuition and fees.\n",
      "SKIPPING THIS ROW:  CampusCare Waiver deadline.\n",
      "2023-03-17 Last day for undergraduate students to use optional late drop in college office and receive grade of W on academic record.\n",
      "SKIPPING THIS ROW: March 20–24, M–F Spring vacation. No classes.\n",
      "2023-04-28 Instruction ends.\n",
      "SKIPPING THIS ROW: May 1–5, M–F Final examinations.\n",
      "2023-05-10 Instructor grading deadline for 16-week courses (5 p.m.)\n",
      "2023-05-15 Grades available via my.UIC.edu\n"
     ]
    }
   ],
   "source": [
    "for t in soup.find_all(\"table\"):\n",
    "    # look for the preceding h2 to get which semester it is\n",
    "    table_heading = t.find_previous_sibling(\"h2\")\n",
    "    if \"summer\" in table_heading.text.lower():\n",
    "        # TODO: Handle summer\n",
    "        continue\n",
    "    print(\"--------------------------------------\")\n",
    "    print(\"SEMESTER:\",table_heading.text)\n",
    "    # extract the year from the table heading\n",
    "    year = table_heading.text.split()[-1]\n",
    "    # Loop to examine rows of the semester table\n",
    "    for r in t.find_all(\"tr\"):\n",
    "        if r.parent.name == \"thead\":\n",
    "            # skip header rows\n",
    "            continue\n",
    "        datestr, desc = [ x.text for x in r.find_all(\"td\") ]\n",
    "        # TODO: Handle ranges of dates.  For now, we just\n",
    "        # skip the row if parsing gives an exception due\n",
    "        # to the presence of a hyphen.\n",
    "        try: \n",
    "            date = parse_datestr(year,datestr)\n",
    "            print(date,desc)\n",
    "        except ValueError:\n",
    "            print(\"SKIPPING THIS ROW:\",datestr,desc)\n",
    "            continue\n",
    "\n",
    "# Goal: Write a CSV in the format:\n",
    "# 2019,fall,2019-08-26,Instruction begins."
   ]
  },
  {
   "cell_type": "code",
   "execution_count": 36,
   "metadata": {},
   "outputs": [],
   "source": [
    "def parse_datestr(year,datestr):\n",
    "    \"\"\"Take a year like \"2020\" and a date string like\n",
    "    \"January 13, M\" and convert it to a Python date object.\"\"\"\n",
    "    # Discard the day of week after the ,\n",
    "    datestr = datestr.split(\",\")[0]\n",
    "    # this looks like January 13 2020\n",
    "    # which has format \n",
    "    return datetime.datetime.strptime(\n",
    "        datestr + \" \" + year,\n",
    "        \"%B %d %Y\"\n",
    "    ).date()"
   ]
  },
  {
   "cell_type": "code",
   "execution_count": null,
   "metadata": {},
   "outputs": [],
   "source": []
  }
 ],
 "metadata": {
  "kernelspec": {
   "display_name": "Python 3",
   "language": "python",
   "name": "python3"
  },
  "language_info": {
   "codemirror_mode": {
    "name": "ipython",
    "version": 3
   },
   "file_extension": ".py",
   "mimetype": "text/x-python",
   "name": "python",
   "nbconvert_exporter": "python",
   "pygments_lexer": "ipython3",
   "version": "3.8.5"
  }
 },
 "nbformat": 4,
 "nbformat_minor": 4
}
