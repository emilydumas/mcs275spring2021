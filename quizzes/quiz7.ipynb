{
 "cells": [
  {
   "cell_type": "markdown",
   "metadata": {},
   "source": [
    "# Quiz 7\n",
    "\n",
    "## MCS 275 Spring 2021 - Emily Dumas"
   ]
  },
  {
   "cell_type": "markdown",
   "metadata": {},
   "source": [
    "## Instructions:\n",
    "\n",
    "### Deadline\n",
    "This quiz must be submitted in Gradescope by 12:00pm CST on Tuesday, March 2, 2021.\n",
    "\n",
    "### Topic\n",
    "\n",
    "The course topics corresponding to this quiz are **recursion with backtracking** and **sorting algorithms**.\n",
    "\n",
    "### Resources you are allowed to consult\n",
    "Quizzes are INDIVIDUAL, closed book, and only allow access to specified resources.  For this quiz you can access:\n",
    "* [The course coding standards document](https://dumas.io/teaching/2021/spring/mcs275/doc/codestd.pdf)\n",
    "* [The Python tour](https://dumas.io/teaching/2021/spring/mcs275/nbview/samplecode/python_tour.html)\n",
    "* [MCS 260 Lecture 16 slides](https://www.dumas.io/teaching/2020/fall/mcs260/slides/lecture16.html#/2) (if you want to review how to make functions that accept function arguments)\n",
    "* [Worksheet 7 Solutions](https://dumas.io/teaching/2021/spring/mcs275/nbview/worksheets/worksheet7_soln.html)\n",
    "\n",
    "\n",
    "### Point distribution\n",
    "\n",
    "Instead of the usual 2 or 3 problems, this quiz has just one problem.  The manual review of that problem for correctness is worth 8 points.   Therefore, the final grading breakdown is:\n",
    "\n",
    "| Points | Item |\n",
    "| --- | --- |\n",
    "| 3 | autograder |\n",
    "| 8 | problem 2 |\n",
    "| **11** | total |\n",
    "\n"
   ]
  },
  {
   "cell_type": "markdown",
   "metadata": {},
   "source": [
    "## (No problem number 1, as usual)\n",
    "\n",
    "The points assigned by the autograder based on syntax and docstring checking will be listed as problem 1 in Gradescope."
   ]
  },
  {
   "cell_type": "markdown",
   "metadata": {},
   "source": [
    "## Problem 2: Lumpsort\n",
    "\n",
    "Recall that mergesort uses recursive calls to repeatedly split a list into halves until the pieces are so tiny that they are already sorted (i.e. have at most one element).  It then uses merges to build successively larger sorted lists.\n",
    "\n",
    "Imagine you are instead in a situation where a function `shortsort` has been provided that can sort **short** lists, but not long ones.  This can be turned into a sorting algorithm for lists of any size, which we'll call *lumpsort*, as follows:\n",
    "* If the list is short enough, call `shortsort` to sort it.\n",
    "* Otherwise, split the list in half and handle each half with a recursive call to `lumpsort`.  Then, merge the two sorted halves with `merge_sorted_lists`.\n",
    "\n",
    "(The reason I've called it \"lumpsort\" is that it only breaks a list into \"lumps\" of a certain maximum size, whereas mergesort always pulverizes a list into atoms.)\n",
    "\n",
    "In a file called `quiz7prob2.py`, implement this algorithm in a function `lumpsort` with the following function definition:"
   ]
  },
  {
   "cell_type": "code",
   "execution_count": null,
   "metadata": {},
   "outputs": [],
   "source": [
    "def lumpsort(L,shortsort,shortmax):\n",
    "    \"\"\"Sort a list using the lumpsort algorithm.  Arguments:\n",
    "    `L` : The list to be sorted.  Modified in place.\n",
    "    `shortsort` : A function that accepts a single argument, a list,\n",
    "                  and sorts it in place.  The list must have length\n",
    "                  at most `shortmax`.\n",
    "    `shortmax` : A positive integer that is the longest length of \n",
    "                 list that `shortsort` can handle.\"\"\""
   ]
  },
  {
   "cell_type": "markdown",
   "metadata": {},
   "source": [
    "In order to receive full credit, your `lumpsort` must use exactly the argument list given here, and must follow the algorithm described above (in particular it must be recursive).\n",
    "\n",
    "You can use code from our implementation of mergesort as part of your solution, but make note of it if you do so.\n",
    "\n",
    "To make testing your function easier, here are two examples of shortsort functions you might try it with.  You can use these for testing, but don't include them in the `quiz7prob2.py` you submit."
   ]
  },
  {
   "cell_type": "code",
   "execution_count": 1,
   "metadata": {},
   "outputs": [],
   "source": [
    "# Both of these contain print() debugging statements that can be\n",
    "# removed if you prefer.\n",
    "\n",
    "def shortsort2(L):\n",
    "    \"\"\"Sort a list of length <=2 in place\"\"\"\n",
    "    print(\"shortsort2 called on list\",L)\n",
    "    if len(L)<2:\n",
    "        return\n",
    "    if L[0]>L[1]:\n",
    "        L[0],L[1] = L[1],L[0]\n",
    "        \n",
    "def shortsort_fake(L):\n",
    "    \"\"\"Sort a list of any length.  Intended to be used\n",
    "    as a drop-in for the `shortsort` argument of `lumpsort`.\n",
    "    Can be used with any value of `shortmax`.\"\"\"\n",
    "    print(\"shortsort_fake called on list\",L)\n",
    "    L.sort()"
   ]
  },
  {
   "cell_type": "markdown",
   "metadata": {},
   "source": [
    "And here are some examples of calling `lumpsort` with these functions, and the expected output.  Notice the list is broken into pieces of a specified maximum size, and the provided `shortsort` function is called for those pieces.\n",
    "\n",
    "Again, code like the examples below may help you test your function, but don't submit it.  Only submit `lumpsort` itself and whatever merge function it calls."
   ]
  },
  {
   "cell_type": "code",
   "execution_count": 30,
   "metadata": {},
   "outputs": [
    {
     "name": "stdout",
     "output_type": "stream",
     "text": [
      "BEFORE: L = [4, 3, 7, 5, 0, 2, 6, 8, 9, 1]\n",
      "shortsort2 called on list [4, 3]\n",
      "shortsort2 called on list [7]\n",
      "shortsort2 called on list [5, 0]\n",
      "shortsort2 called on list [2, 6]\n",
      "shortsort2 called on list [8]\n",
      "shortsort2 called on list [9, 1]\n",
      "AFTER: L = [0, 1, 2, 3, 4, 5, 6, 7, 8, 9]\n"
     ]
    }
   ],
   "source": [
    "L = [4, 3, 7, 5, 0, 2, 6, 8, 9, 1]\n",
    "print(\"BEFORE: L =\",L)\n",
    "# Lumps of size 2 will be handled by shortsort2\n",
    "lumpsort(L,shortsort2,2)\n",
    "print(\"AFTER: L =\",L)"
   ]
  },
  {
   "cell_type": "code",
   "execution_count": 31,
   "metadata": {},
   "outputs": [
    {
     "name": "stdout",
     "output_type": "stream",
     "text": [
      "BEFORE: L = [10, 0, 2, 1, 7, 4, 6, 5, 3, 9, 11, 8]\n",
      "shortsort2 called on list [10]\n",
      "shortsort2 called on list [0, 2]\n",
      "shortsort2 called on list [1]\n",
      "shortsort2 called on list [7, 4]\n",
      "shortsort2 called on list [6]\n",
      "shortsort2 called on list [5, 3]\n",
      "shortsort2 called on list [9]\n",
      "shortsort2 called on list [11, 8]\n",
      "AFTER: L = [0, 1, 2, 3, 4, 5, 6, 7, 8, 9, 10, 11]\n"
     ]
    }
   ],
   "source": [
    "L = [10, 0, 2, 1, 7, 4, 6, 5, 3, 9, 11, 8]\n",
    "print(\"BEFORE: L =\",L)\n",
    "# Lumps of size 2 will be handled by shortsort2\n",
    "lumpsort(L,shortsort2,2)\n",
    "print(\"AFTER: L =\",L)"
   ]
  },
  {
   "cell_type": "code",
   "execution_count": 32,
   "metadata": {},
   "outputs": [
    {
     "name": "stdout",
     "output_type": "stream",
     "text": [
      "BEFORE: L = [10, 0, 2, 1, 7, 4, 6, 5, 3, 9, 11, 8, 12]\n",
      "shortsort_fake called on list [10, 0, 2]\n",
      "shortsort_fake called on list [1, 7, 4]\n",
      "shortsort_fake called on list [6, 5, 3]\n",
      "shortsort_fake called on list [9, 11]\n",
      "shortsort_fake called on list [8, 12]\n",
      "AFTER: L = [0, 1, 2, 3, 4, 5, 6, 7, 8, 9, 10, 11, 12]\n"
     ]
    }
   ],
   "source": [
    "L = [10, 0, 2, 1, 7, 4, 6, 5, 3, 9, 11, 8, 12]\n",
    "print(\"BEFORE: L =\",L)\n",
    "# Lumps of size 3 will be handled by shortsort_fake\n",
    "lumpsort(L,shortsort_fake,3)\n",
    "print(\"AFTER: L =\",L)"
   ]
  },
  {
   "cell_type": "code",
   "execution_count": 33,
   "metadata": {},
   "outputs": [
    {
     "name": "stdout",
     "output_type": "stream",
     "text": [
      "BEFORE: L = [10, 0, 2, 1, 7, 4, 6, 5, 3, 9, 11, 8, 12]\n",
      "shortsort_fake called on list [10, 0, 2]\n",
      "shortsort_fake called on list [1, 7, 4]\n",
      "shortsort_fake called on list [6, 5, 3]\n",
      "shortsort_fake called on list [9, 11, 8, 12]\n",
      "AFTER: L = [0, 1, 2, 3, 4, 5, 6, 7, 8, 9, 10, 11, 12]\n"
     ]
    }
   ],
   "source": [
    "L = [10, 0, 2, 1, 7, 4, 6, 5, 3, 9, 11, 8, 12]\n",
    "print(\"BEFORE: L =\",L)\n",
    "# Lumps of size 4 will be handled by shortsort_fake\n",
    "lumpsort(L,shortsort_fake,4)\n",
    "print(\"AFTER: L =\",L)"
   ]
  },
  {
   "cell_type": "code",
   "execution_count": 34,
   "metadata": {},
   "outputs": [
    {
     "name": "stdout",
     "output_type": "stream",
     "text": [
      "BEFORE: L = [10, 0, 2, 1, 7, 4, 6, 5, 3, 9, 11, 8, 12]\n",
      "shortsort_fake called on list [10]\n",
      "shortsort_fake called on list [0]\n",
      "shortsort_fake called on list [2]\n",
      "shortsort_fake called on list [1]\n",
      "shortsort_fake called on list [7]\n",
      "shortsort_fake called on list [4]\n",
      "shortsort_fake called on list [6]\n",
      "shortsort_fake called on list [5]\n",
      "shortsort_fake called on list [3]\n",
      "shortsort_fake called on list [9]\n",
      "shortsort_fake called on list [11]\n",
      "shortsort_fake called on list [8]\n",
      "shortsort_fake called on list [12]\n",
      "AFTER: L = [0, 1, 2, 3, 4, 5, 6, 7, 8, 9, 10, 11, 12]\n"
     ]
    }
   ],
   "source": [
    "L = [10, 0, 2, 1, 7, 4, 6, 5, 3, 9, 11, 8, 12]\n",
    "print(\"BEFORE: L =\",L)\n",
    "# Lumps have maximum size 1, meaning they never need\n",
    "# any sorting.  In this case lumpsort just recreates\n",
    "# mergesort.\n",
    "lumpsort(L,shortsort_fake,1)\n",
    "print(\"AFTER: L =\",L)"
   ]
  },
  {
   "cell_type": "markdown",
   "metadata": {},
   "source": [
    "### Revision history\n",
    "\n",
    "* 2021-02-28 - Initial publication"
   ]
  }
 ],
 "metadata": {
  "kernelspec": {
   "display_name": "Python 3",
   "language": "python",
   "name": "python3"
  },
  "language_info": {
   "codemirror_mode": {
    "name": "ipython",
    "version": 3
   },
   "file_extension": ".py",
   "mimetype": "text/x-python",
   "name": "python",
   "nbconvert_exporter": "python",
   "pygments_lexer": "ipython3",
   "version": "3.8.5"
  }
 },
 "nbformat": 4,
 "nbformat_minor": 4
}
