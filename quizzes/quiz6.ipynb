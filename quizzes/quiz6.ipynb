{
 "cells": [
  {
   "cell_type": "markdown",
   "metadata": {},
   "source": [
    "# Quiz 6\n",
    "\n",
    "## MCS 275 Spring 2021 - Emily Dumas"
   ]
  },
  {
   "cell_type": "markdown",
   "metadata": {},
   "source": [
    "## Instructions:\n",
    "\n",
    "### Deadline\n",
    "This quiz must be submitted in Gradescope by 12:00pm CST on Tuesday, Februrary 23, 2021.\n",
    "\n",
    "### Topic\n",
    "\n",
    "This quiz is about **recursion**.\n",
    "\n",
    "### Resources you are allowed to consult\n",
    "Quizzes are INDIVIDUAL, closed book, and only allow access to specified resources.  For this quiz you can access:\n",
    "* [The course coding standards document](https://dumas.io/teaching/2021/spring/mcs275/doc/codestd.pdf)\n",
    "* [The Python tour](https://dumas.io/teaching/2021/spring/mcs275/nbview/samplecode/python_tour.html)\n",
    "* [Worksheet 6 Solutions](https://dumas.io/teaching/2021/spring/mcs275/nbview/worksheets/worksheet6_soln.html)\n",
    "* [Quiz 6](#) 😊\n",
    "\n",
    "\n",
    "### Point distribution\n",
    "\n",
    "This quiz has **2 problems** (numbered 2 and 3), each worth 4 points.   Therefore, the final grading breakdown is:\n",
    "\n",
    "| Points | Item |\n",
    "| --- | --- |\n",
    "| 3 | autograder |\n",
    "| 4 | problem 2 |\n",
    "| 4 | problem 3 |\n",
    "| **11** | total |\n",
    "\n"
   ]
  },
  {
   "cell_type": "markdown",
   "metadata": {},
   "source": [
    "## (No problem number 1, as usual)\n",
    "\n",
    "The **3 points** assigned by the autograder based on syntax and docstring checking will be listed as problem 1 in Gradescope."
   ]
  },
  {
   "cell_type": "markdown",
   "metadata": {},
   "source": [
    "## Problem 2 deleted\n",
    "\n",
    "**Everyone gets 4 points for this problem, because the original problem given here was both more difficult than I intended, and less instructive.**  I apologize for this mistake."
   ]
  },
  {
   "cell_type": "markdown",
   "metadata": {},
   "source": [
    "## Problem 3: abbc sequence\n",
    "\n",
    "Define a sequence $Q$ of integers as follows:  The first three values are\n",
    "* $Q_0 = 0$\n",
    "* $Q_1 = 1$\n",
    "* $Q_2 = 2$\n",
    "\n",
    "All subsequent terms are calculated by the following rule:\n",
    "* $Q_n = Q_{n-1} + 2 Q_{n-2} +  Q_{n-3}$\n",
    "\n",
    "In other words, if the last three terms of the sequence you've computed are `a`, `b`, and `c`, then the next term is `a+b+b+c`.\n",
    "\n",
    "The sequence therefore begins:\n",
    "```\n",
    "0, 1, 2, 4, 9, 19, 41, 88, 189, 406, 872, 1873, 4023, 8641, 18560, 39865\n",
    "```\n",
    "\n",
    "Write a **recursive** function called `abbc(n)` that takes a nonnegative integer `n` and returns the value of $Q_n$.  Save it in a file called `quiz6prob3.py` and include this file in your quiz submission."
   ]
  },
  {
   "cell_type": "markdown",
   "metadata": {},
   "source": [
    "### Revision history\n",
    "\n",
    "* 2021-02-23 Delete problem 2 after realizing `pentafactorial(n)` is not equal to `n*pentafactorial(n-5)` if you use the definition given\n",
    "* 2021-02-21 3:00pm CST - Corrected two typos in factor lists\n",
    "* 2021-02-21 12:00pm CST - Initial publication"
   ]
  }
 ],
 "metadata": {
  "kernelspec": {
   "display_name": "Python 3",
   "language": "python",
   "name": "python3"
  },
  "language_info": {
   "codemirror_mode": {
    "name": "ipython",
    "version": 3
   },
   "file_extension": ".py",
   "mimetype": "text/x-python",
   "name": "python",
   "nbconvert_exporter": "python",
   "pygments_lexer": "ipython3",
   "version": "3.8.5"
  }
 },
 "nbformat": 4,
 "nbformat_minor": 4
}
