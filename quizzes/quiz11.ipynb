{
 "cells": [
  {
   "cell_type": "markdown",
   "metadata": {},
   "source": [
    "# Quiz 11\n",
    "\n",
    "## MCS 275 Spring 2021 - Emily Dumas"
   ]
  },
  {
   "cell_type": "markdown",
   "metadata": {},
   "source": [
    "## Instructions:\n",
    "\n",
    "### Deadline\n",
    "This quiz must be submitted in Gradescope by 12:00pm CST on Tuesday, April 6, 2021.\n",
    "\n",
    "### Topic\n",
    "\n",
    "This quiz covers **matplotlib**, as discussed in Lectures 28-29.\n",
    "\n",
    "### Resources you are allowed to consult\n",
    "Quizzes are INDIVIDUAL, closed book (except where noted below), and only allow access to specified resources.  For this quiz you can access:\n",
    "* [VanderPlas](https://jakevdp.github.io/PythonDataScienceHandbook/) -- A textbook, likely the most useful for these problems!\n",
    "* [Worksheet 11 solutions](http://dumas.io/teaching/2021/spring/mcs275/nbview/worksheets/worksheet11_soln.html)\n",
    "* [Lecture 27 - Julia sets](http://dumas.io/teaching/2021/spring/mcs275/slides/lecture27.html)\n",
    "* [Lecture 28 - Matplotlib](http://dumas.io/teaching/2021/spring/mcs275/slides/lecture28.html)\n",
    "* [Lecture 29 - Matplotlib II](http://dumas.io/teaching/2021/spring/mcs275/slides/lecture29.html)\n",
    "* The following code notebooks created in Lecture:\n",
    "    * [Julia set notebook 1](https://www.dumas.io/teaching/2021/spring/mcs275/nbview/samplecode/numpy/julia.html)\n",
    "    * [Julia set notebook 2 (comparing various methods)](https://www.dumas.io/teaching/2021/spring/mcs275/nbview/samplecode/numpy/julia2.html)\n",
    "    * [Matplotlib intro notebook](https://www.dumas.io/teaching/2021/spring/mcs275/nbview/samplecode/matplotlib/mpl-intro.html)\n",
    "\n",
    "\n",
    "### Point distribution\n",
    "\n",
    "There are two problems on this quiz, numbered 2 and 3.  The point breakdown is:\n",
    "\n",
    "| Points | Item |\n",
    "| --- | --- |\n",
    "| 3 | autograder |\n",
    "| 4 | problem 2 |\n",
    "| 4 | problem 3 |\n",
    "| **11** | total |"
   ]
  },
  {
   "cell_type": "markdown",
   "metadata": {},
   "source": [
    "## No problem 1 (as usual)"
   ]
  },
  {
   "cell_type": "markdown",
   "metadata": {},
   "source": [
    "## Problem 2: Unclear implications\n",
    "\n",
    "Here is a table showing yearly values for two quantities from 1996 to 2008.\n",
    "\n",
    "| year | math PhDs    | uranium    |\n",
    "|------|------|------|\n",
    "| 1996 | 1122 | 1060 |\n",
    "| 1997 | 1123 | 1054 |\n",
    "| 1998 | 1177 | 1052 |\n",
    "| 1999 | 1083 | 933  |\n",
    "| 2000 | 1050 | 877  |\n",
    "| 2001 | 1010 | 890  |\n",
    "| 2002 | 919  | 856  |\n",
    "| 2003 | 993  | 730  |\n",
    "| 2004 | 1076 | 923  |\n",
    "| 2005 | 1205 | 1035 |\n",
    "| 2006 | 1325 | 1240 |\n",
    "| 2007 | 1393 | 1300 |\n",
    "| 2008 | 1399 | 1310 |\n",
    "\n",
    "In this table,\n",
    "* The column labeled \"math PhDs\" shows the total number of mathematics doctoral degrees awarded in the US\n",
    "* The column labeled \"uranium\" shows the total amount of uranium stored at US nuclear power plants (in units of millions of ounces)\n",
    "\n",
    "Use matplotlib to plot the variation of both quantities on the same set of axes (with the x axis showing the year).  Each quantity should be shown as a line with dots marking the individual data points.  PhDs and stored uranium should be shown in different colors.  Include a legend.\n",
    "\n",
    "The code in the cell below can be used to save some typing---it has the two rightmost columns of the table above converted to list literals.\n",
    "\n",
    "Upload **two** files for this problem:\n",
    "* `quiz11prob2.py`: The script you wrote to make the plot\n",
    "* `quiz11prob2.png` or `quiz11prob2.jpg`: An image file that shows the plot produced by your script, which can be saved by matplotlib or captured as a screenshot.\n",
    "\n",
    "**Note:** The image and script you submit must match, i.e. the image must be one that was created with the exact script you submit.\n",
    "\n",
    "*Data source for this problem: US NSF and US DOE via tylervigen.com*"
   ]
  },
  {
   "cell_type": "code",
   "execution_count": null,
   "metadata": {},
   "outputs": [],
   "source": [
    "# annual data for 1996 to 2008\n",
    "math_phds_awarded  = [1122, 1123, 1177, 1083, 1050, 1010, 919, 993, 1076, 1205, 1325, 1393, 1399]\n",
    "stored_uranium_Moz = [1060, 1054, 1052, 933, 877, 890, 856, 730, 923, 1035, 1240, 1300, 1310]"
   ]
  },
  {
   "cell_type": "markdown",
   "metadata": {},
   "source": [
    "## Problem 3: Zebra\n",
    "\n",
    "Use matplotlib to make a density plot of the region in the xy plane where $0 \\leq x \\leq 5$ and $0 \\leq y \\leq 5$, where each pixel is colored according to the value of the function\n",
    "$$ f(x,y) = \\sin( \\sin( \\sin( \\sin( \\cdots \\sin(xy - x^2) \\cdots )))) $$\n",
    "where there are a total of 100 nested copies of the $\\sin$ function.  Use a 50x50 grid of points to make the plot.\n",
    "\n",
    "(Hint: in discussion last week you used matplotlib to make a density plot of escape rates for quadratic polynomials of a complex variable in order to visualize Julia sets.  That code might be a good starting place for your work here, but this question doesn't use complex numbers at all.)\n",
    "\n",
    "Upload **two** files for this problem:\n",
    "* `quiz11prob3.py`: The script you wrote to make the plot\n",
    "* `quiz11prob3.png` or `quiz11prob3.jpg`: An image file that shows the plot produced by your script, which can be saved by matplotlib or captured as a screenshot.\n",
    "\n",
    "\n",
    "**Note:** The image and script you submit must match, i.e. the image must be one that was created with the exact script you submit."
   ]
  },
  {
   "cell_type": "markdown",
   "metadata": {},
   "source": [
    "### Revision history\n",
    "\n",
    "* 2021-04-04 Initial publication"
   ]
  }
 ],
 "metadata": {
  "kernelspec": {
   "display_name": "Python 3",
   "language": "python",
   "name": "python3"
  },
  "language_info": {
   "codemirror_mode": {
    "name": "ipython",
    "version": 3
   },
   "file_extension": ".py",
   "mimetype": "text/x-python",
   "name": "python",
   "nbconvert_exporter": "python",
   "pygments_lexer": "ipython3",
   "version": "3.8.5"
  }
 },
 "nbformat": 4,
 "nbformat_minor": 4
}
