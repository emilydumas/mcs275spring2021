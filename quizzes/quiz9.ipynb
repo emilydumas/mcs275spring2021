{
 "cells": [
  {
   "cell_type": "markdown",
   "metadata": {},
   "source": [
    "# Quiz 9\n",
    "\n",
    "## MCS 275 Spring 2021 - Emily Dumas"
   ]
  },
  {
   "cell_type": "markdown",
   "metadata": {},
   "source": [
    "## Instructions:\n",
    "\n",
    "### Deadline\n",
    "This quiz must be submitted in Gradescope by 12:00pm CST on Tuesday, March 16, 2021.\n",
    "\n",
    "### Topic\n",
    "\n",
    "The course topics corresponding to this quiz are **tree traversals**, **set**, **defaultdict**, **CSV**, and **JSON**.\n",
    "\n",
    "### Resources you are allowed to consult\n",
    "Quizzes are INDIVIDUAL, closed book, and only allow access to specified resources.  For this quiz you can access:\n",
    "* [The course coding standards document](https://dumas.io/teaching/2021/spring/mcs275/doc/codestd.pdf)\n",
    "* [The Python tour](https://dumas.io/teaching/2021/spring/mcs275/nbview/samplecode/python_tour.html)\n",
    "* [Lecture 22 slides](https://www.dumas.io/teaching/2021/spring/mcs275/slides/lecture22.html)\n",
    "* [Lecture 23 slides](https://www.dumas.io/teaching/2021/spring/mcs275/slides/lecture23.html)\n",
    "\n",
    "* [Worksheet 9 Solutions](https://dumas.io/teaching/2021/spring/mcs275/nbview/worksheets/worksheet9_soln.html)\n",
    "\n",
    "\n",
    "### Point distribution\n",
    "\n",
    "There are two problems on this quiz, numbered 2 and 3.  The point breakdown is:\n",
    "\n",
    "| Points | Item |\n",
    "| --- | --- |\n",
    "| 3 | autograder |\n",
    "| 4 | problem 2 |\n",
    "| 4 | problem 3 |\n",
    "| **11** | total |\n",
    "\n"
   ]
  },
  {
   "cell_type": "markdown",
   "metadata": {},
   "source": [
    "## No problem 1 (as usual)"
   ]
  },
  {
   "cell_type": "markdown",
   "metadata": {},
   "source": [
    "## Problem 2: CSV missing value detector\n",
    "\n",
    "Write a program that takes one command line argument, which is the filename of an existing CSV file that has a header row.  The program should read the CSV file and determine whether any of the values in its rows are equal to the empty string.  For each such \"missing value\" found, the program should print a message in this format:\n",
    "```\n",
    "Missing value in column Quiz9Score on line 58.\n",
    "```\n",
    "The line numbers should be 1-based, so line 1 refers to the header row (which you can assume does not have any missing values), line 2 refers to the first row of actual data, etc.\n",
    "\n",
    "For example, if the input CSV file is\n",
    "```\n",
    "Moon,Planet,YearDiscovered\n",
    "Phobos,Mars,1877\n",
    "Callisto,Jupiter,1610\n",
    ",Saturn,2019\n",
    "Eros,\"\",\n",
    "```\n",
    "then the expected output is\n",
    "```\n",
    "Missing value in column Moon on line 4.\n",
    "Missing value in column Planet on line 5.\n",
    "Missing value in column YearDiscovered on line 5.\n",
    "```\n",
    "\n",
    "Upload this program as `quiz9prob2.py`."
   ]
  },
  {
   "cell_type": "markdown",
   "metadata": {},
   "source": [
    "## Problem 3: Indecomposables\n",
    "\n",
    "Suppose S is a set of strings.  Let's say that a string in S is *decomposable* if it can be written as A+B where A and B are both in S.\n",
    "\n",
    "For example, in the set `{\"racecar\",\"carrot\",\"car\",\"race\",\"rot\",\"cog\",\"c\",\"a\",\"r\"}`, the string `\"racecar\"` is decomposabe because it can be written as `\"race\"+\"car\"` and `\"carrot\"` is decomposable because it can be written as `\"car\"+\"rot\"`, but none of the other elements of the set are decomposable.\n",
    "\n",
    "Write a function `indecomposables(S)` which accepts one argument, a set object `S` whose elements are strings, and which returns the set of all elements of `S` that are **not** decomposable.\n",
    "\n",
    "Use only sets in your function; do not use lists, tuples, or dictionaries.  Also, calling the function should not modify `S`.\n",
    "\n",
    "Put this function in a file `quiz9prob3.py` and upload it."
   ]
  },
  {
   "cell_type": "markdown",
   "metadata": {},
   "source": [
    "### Revision history\n",
    "\n",
    "* 2021-03-14 Initial publication"
   ]
  }
 ],
 "metadata": {
  "kernelspec": {
   "display_name": "Python 3",
   "language": "python",
   "name": "python3"
  },
  "language_info": {
   "codemirror_mode": {
    "name": "ipython",
    "version": 3
   },
   "file_extension": ".py",
   "mimetype": "text/x-python",
   "name": "python",
   "nbconvert_exporter": "python",
   "pygments_lexer": "ipython3",
   "version": "3.8.5"
  }
 },
 "nbformat": 4,
 "nbformat_minor": 4
}
