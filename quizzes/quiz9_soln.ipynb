{
 "cells": [
  {
   "cell_type": "markdown",
   "metadata": {},
   "source": [
    "# Quiz 9 Solutions\n",
    "\n",
    "## MCS 275 Spring 2021 - Emily Dumas\n",
    "### Solutions by Jennifer Vaccaro"
   ]
  },
  {
   "cell_type": "markdown",
   "metadata": {},
   "source": [
    "## Instructions:\n",
    "\n",
    "### Deadline\n",
    "This quiz must be submitted in Gradescope by 12:00pm CST on Tuesday, March 16, 2021.\n",
    "\n",
    "### Topic\n",
    "\n",
    "The course topics corresponding to this quiz are **tree traversals**, **set**, **defaultdict**, **CSV**, and **JSON**.\n",
    "\n",
    "### Resources you are allowed to consult\n",
    "Quizzes are INDIVIDUAL, closed book, and only allow access to specified resources.  For this quiz you can access:\n",
    "* [The course coding standards document](https://dumas.io/teaching/2021/spring/mcs275/doc/codestd.pdf)\n",
    "* [The Python tour](https://dumas.io/teaching/2021/spring/mcs275/nbview/samplecode/python_tour.html)\n",
    "* [Lecture 22 slides](https://www.dumas.io/teaching/2021/spring/mcs275/slides/lecture22.html)\n",
    "* [Lecture 23 slides](https://www.dumas.io/teaching/2021/spring/mcs275/slides/lecture23.html)\n",
    "\n",
    "* [Worksheet 9 Solutions](https://dumas.io/teaching/2021/spring/mcs275/nbview/worksheets/worksheet9_soln.html)\n",
    "\n",
    "\n",
    "### Point distribution\n",
    "\n",
    "There are two problems on this quiz, numbered 2 and 3.  The point breakdown is:\n",
    "\n",
    "| Points | Item |\n",
    "| --- | --- |\n",
    "| 3 | autograder |\n",
    "| 4 | problem 2 |\n",
    "| 4 | problem 3 |\n",
    "| **11** | total |\n",
    "\n"
   ]
  },
  {
   "cell_type": "markdown",
   "metadata": {},
   "source": [
    "## Problem 2: CSV missing value detector\n",
    "\n",
    "Write a program that takes one command line argument, which is the filename of an existing CSV file that has a header row.  The program should read the CSV file and determine whether any of the values in its rows are equal to the empty string.  For each such \"missing value\" found, the program should print a message in this format:\n",
    "```\n",
    "Missing value in column Quiz9Score on line 58.\n",
    "```\n",
    "The line numbers should be 1-based, so line 1 refers to the header row (which you can assume does not have any missing values), line 2 refers to the first row of actual data, etc.\n",
    "\n",
    "For example, if the input CSV file is\n",
    "```\n",
    "Moon,Planet,YearDiscovered\n",
    "Phobos,Mars,1877\n",
    "Callisto,Jupiter,1610\n",
    ",Saturn,2019\n",
    "Eros,\"\",\n",
    "```\n",
    "then the expected output is\n",
    "```\n",
    "Missing value in column Moon on line 4.\n",
    "Missing value in column Planet on line 5.\n",
    "Missing value in column YearDiscovered on line 5.\n",
    "```\n",
    "\n",
    "Upload this program as `quiz9prob2.py`."
   ]
  },
  {
   "cell_type": "code",
   "execution_count": null,
   "metadata": {},
   "outputs": [],
   "source": [
    "# MCS 275 Quiz 9 Prob 2\n",
    "# Jennifer Vaccaro\n",
    "# I completed this work myself, in accordance with the rules in the syllabus.\n",
    "\"\"\"Program that finds the missing fields in a csv defined as a command line argument\"\"\"\n",
    "\n",
    "import sys\n",
    "import csv\n",
    "\n",
    "# Open the file and create a csv DictReader object\n",
    "fname = sys.argv[1]\n",
    "with open(fname, \"rt\", newline=\"\") as f:\n",
    "    rdr = csv.DictReader(f)\n",
    "    fields = rdr.fieldnames\n",
    "\n",
    "    # Iterate through the data rows in the csv file\n",
    "    for i,row in enumerate(rdr):\n",
    "        for field in fields:\n",
    "            # If the value for a field is missing, then print a message\n",
    "            if row[field] == \"\":\n",
    "                print(\"Missing data in row {} and column {}\".format(i+2,field)) \n",
    "                # i+2 gives the correct row number"
   ]
  },
  {
   "cell_type": "markdown",
   "metadata": {},
   "source": [
    "## Problem 3: Indecomposables\n",
    "\n",
    "Suppose S is a set of strings.  Let's say that a string in S is *decomposable* if it can be written as A+B where A and B are both in S.\n",
    "\n",
    "For example, in the set `{\"racecar\",\"carrot\",\"car\",\"race\",\"rot\",\"cog\",\"c\",\"a\",\"r\"}`, the string `\"racecar\"` is decomposabe because it can be written as `\"race\"+\"car\"` and `\"carrot\"` is decomposable because it can be written as `\"car\"+\"rot\"`, but none of the other elements of the set are decomposable.\n",
    "\n",
    "Write a function `indecomposables(S)` which accepts one argument, a set object `S` whose elements are strings, and which returns the set of all elements of `S` that are **not** decomposable.\n",
    "\n",
    "Use only sets in your function; do not use lists, tuples, or dictionaries.  Also, calling the function should not modify `S`.\n",
    "\n",
    "Put this function in a file `quiz9prob3.py` and upload it."
   ]
  },
  {
   "cell_type": "markdown",
   "metadata": {},
   "source": [
    "### Solution 1: Cutting\n",
    "\n",
    "Try all the ways of cutting an element into pieces.  If any of them give A,B that are already in S, we know that element is decomposable.  Keep elements that are not found to be decomposable."
   ]
  },
  {
   "cell_type": "code",
   "execution_count": 9,
   "metadata": {},
   "outputs": [],
   "source": [
    "#MCS 275 Quiz 9 Problem 3\n",
    "# Jennifer Vaccaro\n",
    "# I completed this work myself, in accordance with the rules in the syllabus.\n",
    "\n",
    "def is_decomposable(S, x):\n",
    "    \"\"\"Given a set S and an element x of S, returns true is x is decomposable in S\"\"\"\n",
    "    # Generate all of the substrings such that A+B = x\n",
    "    for i in range(len(x)): # Forbidden construction, but clearest way in this case.\n",
    "        # If both A and B in S, then x is decomposable\n",
    "        if x[:i] in S and x[i:] in S:\n",
    "            return True\n",
    "    # If no such pairs A+B=x are both in S, then x indecomposable\n",
    "    return False\n",
    "\n",
    "def indecomposables(S):\n",
    "    \"\"\"Given a set S, returns the subset of S that is NOT decomposable\"\"\"\n",
    "    # Create a new empty set\n",
    "    S_indecom = set()\n",
    "    for x in S:\n",
    "        # If x is not decomposable, then add it to the new set\n",
    "        if not is_decomposable(S,x):\n",
    "            S_indecom.add(x)\n",
    "    return S_indecom"
   ]
  },
  {
   "cell_type": "markdown",
   "metadata": {},
   "source": [
    "### Solution 2: Joining\n",
    "\n",
    "This alternative method makes a copy of S, and then looks at each string of the form A+B for A,B in S.  Each such sum is removed from the copy, if present.  Then the remaining elements are known to be indecomposable."
   ]
  },
  {
   "cell_type": "code",
   "execution_count": 10,
   "metadata": {},
   "outputs": [],
   "source": [
    "#MCS 275 Quiz 9 Problem 3\n",
    "# Emily Dumas\n",
    "\n",
    "def indecomposables2(S):\n",
    "    \"\"\"Return the set of elements in S that are not expressible as a+b for a,b in S\"\"\"\n",
    "    T = set(S) # creates a copy of S; \n",
    "               # ( set() accepts any iterable and creates a new set from it. )\n",
    "    for a in S:\n",
    "        for b in S:\n",
    "            T.discard(a+b)\n",
    "    return T"
   ]
  },
  {
   "cell_type": "markdown",
   "metadata": {},
   "source": [
    "### Comparing the solutions\n",
    "\n",
    "Since we've shown two rather different ways to solve the problem---cutting vs joining---why might you choose one or the other?\n",
    "\n",
    "This isn't part of the quiz, but let's do a timing test to see how they behave in two extreme cases:\n",
    "1. S contains many elements, all short strings\n",
    "1. S contains a few elements, all very long"
   ]
  },
  {
   "cell_type": "code",
   "execution_count": 24,
   "metadata": {},
   "outputs": [
    {
     "name": "stdout",
     "output_type": "stream",
     "text": [
      "Generating the test data...\n",
      "cutting-based, many short strings: 0.011 s\n",
      "joining-based, many short strings: 11.222 s\n",
      "cutting-based, few long strings: 43.461 s\n",
      "joining-based, few long strings: 0.039 s\n"
     ]
    }
   ],
   "source": [
    "import random\n",
    "import time\n",
    "\n",
    "def rand_word(n):\n",
    "    \"\"\"Make a random string of length n from letters a-z\"\"\"\n",
    "    return \"\".join(random.choices(\"abcdefghijklmnopqrstuvwxyz\",k=n))\n",
    "\n",
    "def rand_short_word():\n",
    "    \"\"\"Random short string\"\"\"\n",
    "    return rand_word(10)\n",
    "\n",
    "def rand_long_word():\n",
    "    \"\"\"Random long string\"\"\"\n",
    "    return rand_word(100_000)\n",
    "\n",
    "print(\"Generating the test data...\")\n",
    "\n",
    "S_short_many = set()\n",
    "for _ in range(10_000):\n",
    "    S_short_many.add(rand_short_word())\n",
    "    \n",
    "# Now let's make sure it has at least one decomposable in it\n",
    "# (not strictly needed, but why not make sure the function\n",
    "# `indecomposables` actually removes something!)\n",
    "x = S_short_many.pop()\n",
    "y = S_short_many.pop()\n",
    "S_short_many.add(x+y)\n",
    "S_short_many.add(x)\n",
    "S_short_many.add(y)\n",
    "\n",
    "S_long_few = set()\n",
    "for _ in range(20):\n",
    "    S_long_few.add(rand_long_word())\n",
    "\n",
    "# Now let's make sure it has at least one decomposable in it\n",
    "x = S_long_few.pop()\n",
    "y = S_long_few.pop()\n",
    "S_long_few.add(x+y)\n",
    "S_long_few.add(x)\n",
    "S_long_few.add(y)\n",
    "\n",
    "\n",
    "t_start = time.time()\n",
    "T = indecomposables(S_short_many)\n",
    "t = time.time() - t_start\n",
    "print(\"cutting-based, many short strings: {:.3f} s\".format(t))\n",
    "\n",
    "t_start = time.time()\n",
    "T = indecomposables2(S_short_many)\n",
    "t = time.time() - t_start\n",
    "print(\"joining-based, many short strings: {:.3f} s\".format(t))\n",
    "\n",
    "t_start = time.time()\n",
    "T = indecomposables(S_long_few)\n",
    "t = time.time() - t_start\n",
    "print(\"cutting-based, few long strings: {:.3f} s\".format(t))\n",
    "\n",
    "t_start = time.time()\n",
    "T = indecomposables2(S_long_few)\n",
    "t = time.time() - t_start\n",
    "print(\"joining-based, few long strings: {:.3f} s\".format(t))"
   ]
  },
  {
   "cell_type": "markdown",
   "metadata": {},
   "source": [
    "Each solution is fast in one case, and slow in the other!\n",
    "\n",
    "When there are many short strings (say, 10,000 of them of length 10), the joining-based approach is extremely slow because it looks at every possible sum A+B (of which there are 100,000,000).  The cutting-based approach only needs to consider the 9 ways to split each of the 10,000 words.\n",
    "\n",
    "When there are just a few long strings (say, 20 of them, each of length 100,000) the comparison is reversed.  The joining-based approach only looks at the 20x20=400 ways you can add two elements of the set.  But the cutting-based approach needs to consider all 99,999 ways to split each of the 20 elements."
   ]
  },
  {
   "cell_type": "markdown",
   "metadata": {},
   "source": [
    "### Epilogue: A slicker way to write the joining solution\n",
    "\n",
    "There is a shorter but equivalent way to write the joining-based solution. You wouldn't be expected to come up with this one, as it uses a feature we didn't discuss in MCS 275, but I wanted to show it as a taste of a nice feature you might want to learn about later.  Python's *generator expressions* provide anonymous lazy iterables that can be used to avoid the nested for loops and explicit copying of S in the previous solution."
   ]
  },
  {
   "cell_type": "code",
   "execution_count": 11,
   "metadata": {},
   "outputs": [],
   "source": [
    "#MCS 275 Quiz 9 Problem 3\n",
    "# Emily Dumas\n",
    "\n",
    "def indecomposables2slick(S):\n",
    "    \"\"\"Return the set of elements in S that are not expressible as a+b for a,b in S\"\"\"\n",
    "    return S.difference( a+b for a in S for b in S )"
   ]
  }
 ],
 "metadata": {
  "kernelspec": {
   "display_name": "Python 3",
   "language": "python",
   "name": "python3"
  },
  "language_info": {
   "codemirror_mode": {
    "name": "ipython",
    "version": 3
   },
   "file_extension": ".py",
   "mimetype": "text/x-python",
   "name": "python",
   "nbconvert_exporter": "python",
   "pygments_lexer": "ipython3",
   "version": "3.8.5"
  }
 },
 "nbformat": 4,
 "nbformat_minor": 4
}