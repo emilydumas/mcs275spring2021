{
 "cells": [
  {
   "cell_type": "markdown",
   "metadata": {},
   "source": [
    "# Quiz 5 Solutions\n",
    "\n",
    "## MCS 275 Spring 2021 - Emily Dumas\n",
    "### Solutions by Jennifer Vaccaro"
   ]
  },
  {
   "cell_type": "markdown",
   "metadata": {},
   "source": [
    "## Problem 2: Running `puzzle.py` in `pdb`\n",
    "\n",
    "Demonstrate that you are able to run programs in `pdb` as follows:\n",
    "\n",
    "Download this Python program:\n",
    "* [puzzle.py](https://raw.githubusercontent.com/emilydumas/mcs275spring2021/master/quizzes/puzzle.py)\n",
    "\n",
    "When this program is run, it does some things and then exits with an exception.  It produces no output.\n",
    "\n",
    "Open a terminal (directly, not inside VS code).  Open the program `puzzle.py` in the Python debugger `pdb` and use the `continue` command to start it running.  It should raise an exception and enter pdb's post mortem debugging system.\n",
    "\n",
    "With that post mortem debugging session visible in your terminal window, **take a screenshot** that either includes the entire screen, or which at least includes the entire terminal window and a small amount of space around it (>5 pixels on all sides).\n",
    "\n",
    "The resulting screenshot should be an image file (with the extension `jpg`, `png`, or `bmp`).  **Include that screenshot file as part of your quiz submission to Gradescope.**"
   ]
  },
  {
   "source": [
    "![](quiz5prob2.PNG)"
   ],
   "cell_type": "markdown",
   "metadata": {}
  },
  {
   "cell_type": "markdown",
   "metadata": {},
   "source": [
    "## Problem 3: Analyzing `puzzle.py` behavior\n",
    "\n",
    "Use any method you like (pdb, print debugging, pencil + paper, ...) to find answers to these two questions:\n",
    "* A. On what line of `puzzle.py` is the exception raised that ends the program?\n",
    "* B. When the exception is raised, what is the value of the local variable `x`?\n",
    "\n",
    "Now, create a text file `quiz5prob3.txt` using VS code and type the answer to each of the questions above, along with a short explanation of how you found it.  Put each answer on a new line.\n",
    "\n",
    "**Include `quiz5prob3.txt` as part of your quiz submission to Gradescope.**\n",
    "\n",
    "To be completely clear about the format of this file, here is an example of what it should look like.  This example uses a different set of questions than the ones given above, of course.\n",
    "```\n",
    "A. 365  I counted the number of boxes in a 2021 calendar on my wall.\n",
    "\n",
    "B. 32  I started with 1 and doubled it 5 times.```\n"
   ]
  },
  {
   "source": [
    "A. 31   Because the traceback from running puzzle.py in pdb showed that the Exception was on line 31.\n",
    "\n",
    "B. 378428   I added a print statement to display the value of x immediately before hitting the Exception in line 31."
   ],
   "cell_type": "markdown",
   "metadata": {}
  }
 ],
 "metadata": {
  "kernelspec": {
   "display_name": "Python 3",
   "language": "python",
   "name": "python3"
  },
  "language_info": {
   "codemirror_mode": {
    "name": "ipython",
    "version": 3
   },
   "file_extension": ".py",
   "mimetype": "text/x-python",
   "name": "python",
   "nbconvert_exporter": "python",
   "pygments_lexer": "ipython3",
   "version": "3.8.5-final"
  }
 },
 "nbformat": 4,
 "nbformat_minor": 4
}