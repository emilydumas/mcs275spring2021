{
 "cells": [
  {
   "cell_type": "markdown",
   "metadata": {},
   "source": [
    "# Quiz 3\n",
    "\n",
    "## MCS 275 Spring 2021 - Emily Dumas"
   ]
  },
  {
   "cell_type": "markdown",
   "metadata": {},
   "source": [
    "## Instructions:\n",
    "\n",
    "### Deadline\n",
    "This quiz must be submitted in Gradescope by 12:00pm CST on Tuesday, Februrary 2, 2021.\n",
    "\n",
    "\n",
    "### Resources you are allowed to consult\n",
    "Quizzes are INDIVIDUAL, closed book, and only allow access to specified resources.  For this quiz you can access:\n",
    "* [The course coding standards document](https://dumas.io/teaching/2021/spring/mcs275/doc/codestd.pdf)\n",
    "* [The Python tour](https://dumas.io/teaching/2021/spring/mcs275/nbview/samplecode/python_tour.html)\n",
    "* [Worksheet 3 Solutions](https://dumas.io/teaching/2021/spring/mcs275/nbview/worksheets/worksheet3_soln.html)\n",
    "  \n",
    "\n",
    "### Shorter than usual\n",
    "\n",
    "There is only one problem on this quiz.  I hope a shorter quiz will give you more time to work on Project 1."
   ]
  },
  {
   "cell_type": "markdown",
   "metadata": {},
   "source": [
    "## (No problem number 1, as usual)\n",
    "\n",
    "The **3 points** assigned by the autograder based on syntax and docstring checking will be listed as problem 1 in Gradescope."
   ]
  },
  {
   "cell_type": "markdown",
   "metadata": {},
   "source": [
    "## Problem 2: Arithmetic forbidden - 4 points\n",
    "\n",
    "### THIS IS THE ONLY PROBLEM ON THE QUIZ\n",
    "\n",
    "Make a subclass of the built-in class `int` called `NoArithInt` which \"forbids arithmetic\", meaning that it is not possible to use the operations `+`, `-`, `*`, or `/` with two instances of `NoArithInt`.\n",
    "\n",
    "Save your class definition in a file called `quiz3prob2.py` and submit it.\n",
    "\n",
    "Your subclass should NOT have its own constructor, because `int` already has one that does everything needed.  The only methods in your subclass should be special methods that handle the arithmetic operations listed above.\n",
    "\n",
    "To illustrate the desired behavior, here are some statements using integers that will work:"
   ]
  },
  {
   "cell_type": "code",
   "execution_count": 11,
   "metadata": {},
   "outputs": [
    {
     "name": "stdout",
     "output_type": "stream",
     "text": [
      "20\n",
      "-10\n",
      "75\n",
      "3.0\n"
     ]
    }
   ],
   "source": [
    "# make some instances of int\n",
    "x = 5\n",
    "y = 15\n",
    "# Test that arithmetic between ints works\n",
    "print(x+y) # 20\n",
    "print(x-y) # -10\n",
    "print(x*y) # 75\n",
    "print(y/x) # 3.0"
   ]
  },
  {
   "cell_type": "markdown",
   "metadata": {},
   "source": [
    "And here are some similar statements that attempt to do arithmetic with `NoArithInt` objects, which should fail.  It is assumed here that `NoArithInt` is available in the same scope as this code is run, so you might need to change it to `quiz3prob2.NoArithInt` and add `import quiz3prob2` if you're running these statements in a separate file."
   ]
  },
  {
   "cell_type": "code",
   "execution_count": null,
   "metadata": {},
   "outputs": [],
   "source": [
    "# make some no arithmetic integers\n",
    "x = NoArithInt(5)\n",
    "y = NoArithInt(15)\n",
    "\n",
    "# Test that arithmetic between NoArithInt instances fails.\n",
    "\n",
    "# should give TypeError: unsupported operand type(s) for +: 'NoArithInt' and 'NoArithInt'\n",
    "print(x+y)\n",
    "\n",
    "# should give TypeError: unsupported operand type(s) for -: 'NoArithInt' and 'NoArithInt'\n",
    "print(x-y)\n",
    "\n",
    "# should give TypeError: unsupported operand type(s) for *: 'NoArithInt' and 'NoArithInt'\n",
    "print(x*y)\n",
    "\n",
    "# should give TypeError: unsupported operand type(s) for /: 'NoArithInt' and 'NoArithInt'\n",
    "print(y/x)\n",
    "\n",
    "# WARNING: To test the print() statements above, you'll need to run them one at a time.\n",
    "# If you just copy all of them into a file and run it, execution will stop as soon as\n",
    "# the first one raises an exception."
   ]
  }
 ],
 "metadata": {
  "kernelspec": {
   "display_name": "Python 3",
   "language": "python",
   "name": "python3"
  },
  "language_info": {
   "codemirror_mode": {
    "name": "ipython",
    "version": 3
   },
   "file_extension": ".py",
   "mimetype": "text/x-python",
   "name": "python",
   "nbconvert_exporter": "python",
   "pygments_lexer": "ipython3",
   "version": "3.8.5"
  }
 },
 "nbformat": 4,
 "nbformat_minor": 4
}
