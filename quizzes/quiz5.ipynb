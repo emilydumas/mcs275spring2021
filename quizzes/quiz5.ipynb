{
 "cells": [
  {
   "cell_type": "markdown",
   "metadata": {},
   "source": [
    "# Quiz 5\n",
    "\n",
    "## MCS 275 Spring 2021 - Emily Dumas"
   ]
  },
  {
   "cell_type": "markdown",
   "metadata": {},
   "source": [
    "## Instructions:\n",
    "\n",
    "### Deadline\n",
    "This quiz must be submitted in Gradescope by 12:00pm CST on Tuesday, Februrary 15, 2021.\n",
    "\n",
    "### Topic\n",
    "\n",
    "This quiz is about debugging Python programs and using `pdb`.\n",
    "\n",
    "### Resources you are allowed to consult\n",
    "Quizzes are INDIVIDUAL, closed book, and only allow access to specified resources.  For this quiz you can access:\n",
    "* [The course coding standards document](https://dumas.io/teaching/2021/spring/mcs275/doc/codestd.pdf)\n",
    "* [The Python tour](https://dumas.io/teaching/2021/spring/mcs275/nbview/samplecode/python_tour.html)\n",
    "* [Lecture 10 slides](http://dumas.io/teaching/2021/spring/mcs275/slides/lecture10.html)\n",
    "* [Lecture 11 slides](http://dumas.io/teaching/2021/spring/mcs275/slides/lecture11.html)\n",
    "* [Worksheet 5 Solutions](https://dumas.io/teaching/2021/spring/mcs275/nbview/worksheets/worksheet5_soln.html)\n",
    "\n",
    "Note that it is unusual for us to allow lecture slide access during quizzes, but this quiz does allow use of the slides from Lectures 10 and 11.\n",
    "\n",
    "### Point distribution\n",
    "\n",
    "This quiz has **2 problems** (numbered 2 and 3), each worth 4 points.  The autograder for this quiz is different from other quizzes, and only assigns 2 points.  Therefore, the final grading breakdown is:\n",
    "\n",
    "| Points | Item |\n",
    "| --- | --- |\n",
    "| 2 | autograder |\n",
    "| 4 | problem 2 |\n",
    "| 4 | problem 3 |\n",
    "| **10** | total |"
   ]
  },
  {
   "cell_type": "markdown",
   "metadata": {},
   "source": [
    "## (No problem number 1, as usual)\n",
    "\n",
    "The **2 points** assigned by the autograder based on the presence of the required files will be recorded as problem 1 in Gradescope."
   ]
  },
  {
   "cell_type": "markdown",
   "metadata": {},
   "source": [
    "## NOTE: You need to be able to take a screenshot\n",
    "\n",
    "To complete this quiz, you'll need to be able to capture a screenshot of your computer to an image file that you can later upload as part of the assignment.\n",
    "\n",
    "If you don't know how to do this, you can find instructions for all common operating systems at: https://www.take-a-screenshot.org/"
   ]
  },
  {
   "cell_type": "markdown",
   "metadata": {},
   "source": [
    "## Problem 2: Running `puzzle.py` in `pdb`\n",
    "\n",
    "Demonstrate that you are able to run programs in `pdb` as follows:\n",
    "\n",
    "Download this Python program:\n",
    "* [puzzle.py](https://raw.githubusercontent.com/emilydumas/mcs275spring2021/master/quizzes/puzzle.py)\n",
    "\n",
    "When this program is run, it does some things and then exits with an exception.  It produces no output.\n",
    "\n",
    "Open a terminal (directly, not inside VS code).  Open the program `puzzle.py` in the Python debugger `pdb` and use the `continue` command to start it running.  It should raise an exception and enter pdb's post mortem debugging system.\n",
    "\n",
    "With that post mortem debugging session visible in your terminal window, **take a screenshot** that either includes the entire screen, or which at least includes the entire terminal window and a small amount of space around it (>5 pixels on all sides).\n",
    "\n",
    "The resulting screenshot should be an image file (with the extension `jpg`, `png`, or `bmp`).  **Include that screenshot file as part of your quiz submission to Gradescope.**"
   ]
  },
  {
   "cell_type": "markdown",
   "metadata": {},
   "source": [
    "## Problem 3: Analyzing `puzzle.py` behavior\n",
    "\n",
    "Use any method you like (pdb, print debugging, pencil + paper, ...) to find answers to these two questions:\n",
    "* A. On what line of `puzzle.py` is the exception raised that ends the program?\n",
    "* B. When the exception is raised, what is the value of the local variable `x`?\n",
    "\n",
    "Now, create a text file `quiz5prob3.txt` using VS code and type the answer to each of the questions above, along with a short explanation of how you found it.  Put each answer on a new line.\n",
    "\n",
    "**Include `quiz5prob3.txt` as part of your quiz submission to Gradescope.**\n",
    "\n",
    "To be completely clear about the format of this file, here is an example of what it should look like.  This example uses a different set of questions than the ones given above, of course.\n",
    "```\n",
    "A. 365  I counted the number of boxes in a 2021 calendar on my wall.\n",
    "\n",
    "B. 32  I started with 1 and doubled it 5 times.```\n"
   ]
  }
 ],
 "metadata": {
  "kernelspec": {
   "display_name": "Python 3",
   "language": "python",
   "name": "python3"
  },
  "language_info": {
   "codemirror_mode": {
    "name": "ipython",
    "version": 3
   },
   "file_extension": ".py",
   "mimetype": "text/x-python",
   "name": "python",
   "nbconvert_exporter": "python",
   "pygments_lexer": "ipython3",
   "version": "3.8.5"
  }
 },
 "nbformat": 4,
 "nbformat_minor": 4
}
