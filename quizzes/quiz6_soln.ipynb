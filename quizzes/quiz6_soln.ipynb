{
 "cells": [
  {
   "cell_type": "markdown",
   "metadata": {},
   "source": [
    "# Quiz 6 Solutions\n",
    "\n",
    "## MCS 275 Spring 2021 - Emily Dumas"
   ]
  },
  {
   "cell_type": "markdown",
   "metadata": {},
   "source": [
    "## Instructions:\n",
    "\n",
    "### Deadline\n",
    "This quiz must be submitted in Gradescope by 12:00pm CST on Tuesday, Februrary 23, 2021.\n",
    "\n",
    "### Topic\n",
    "\n",
    "This quiz is about **recursion**.\n",
    "\n",
    "### Resources you are allowed to consult\n",
    "Quizzes are INDIVIDUAL, closed book, and only allow access to specified resources.  For this quiz you can access:\n",
    "* [The course coding standards document](https://dumas.io/teaching/2021/spring/mcs275/doc/codestd.pdf)\n",
    "* [The Python tour](https://dumas.io/teaching/2021/spring/mcs275/nbview/samplecode/python_tour.html)\n",
    "* [Worksheet 6 Solutions](https://dumas.io/teaching/2021/spring/mcs275/nbview/worksheets/worksheet6_soln.html)\n",
    "\n",
    "\n",
    "### Point distribution\n",
    "\n",
    "This quiz has **2 problems** (numbered 2 and 3), each worth 4 points.   Therefore, the final grading breakdown is:\n",
    "\n",
    "| Points | Item |\n",
    "| --- | --- |\n",
    "| 3 | autograder |\n",
    "| 4 | problem 2 |\n",
    "| 4 | problem 3 |\n",
    "| **11** | total |\n",
    "\n"
   ]
  },
  {
   "cell_type": "markdown",
   "metadata": {},
   "source": [
    "## (No problem number 1, as usual)\n",
    "\n",
    "The **3 points** assigned by the autograder based on syntax and docstring checking will be listed as problem 1 in Gradescope."
   ]
  },
  {
   "cell_type": "markdown",
   "metadata": {},
   "source": [
    "## Problem 2 deleted\n",
    "\n",
    "The question given on the first version of the quiz I posted was more difficult than I intended, so everyone received 4 points on that problem.\n",
    "\n",
    "Below you can find a discussion of the intended problem, the actual problem, and the solutions to both of them."
   ]
  },
  {
   "cell_type": "markdown",
   "metadata": {},
   "source": [
    "## Problem 2 as it should have been: Pentafactorial\n",
    "\n",
    "Let `n` be a positive integer.  The *pentafactorial* of `n` is the product of all the positive integers that can be obtained by subtracting multiples of 5 from `n`.\n",
    "\n",
    "Here are some examples:\n",
    "\n",
    "* `pentafactorial(17) = 17 * 12 * 7 * 2 = 2856`\n",
    "* `pentafactorial(10) = 10 * 5 = 50`\n",
    "* `pentafacotrial(21) = 21*16*11*6*1 = 22176`\n",
    "* `pentafactorial(6) = 6*1 = 6`\n",
    "* `pentafactorial(5) = 5`\n",
    "* `pentafactorial(4) = 4`\n",
    "* `pentafactorial(3) = 3`\n",
    "* `pentafactorial(2) = 2`\n",
    "* `pentafactorial(1) = 1`\n",
    "\n",
    "Write a **recursive** function named `pentafactorial(n)` that takes a positive integer `n` and returns its pentafactorial."
   ]
  },
  {
   "cell_type": "markdown",
   "metadata": {},
   "source": [
    "### Solution to Problem 2 as it should have been\n",
    "\n",
    "The key observation is that `pentafactorial(n) = n * pentafactorial(n-5)`, with the base cases that `pentafactorial(n)=n` if `n<=5`.  "
   ]
  },
  {
   "cell_type": "code",
   "execution_count": null,
   "metadata": {},
   "outputs": [],
   "source": [
    "# MCS 275 Quiz 6 Problem 2\n",
    "# Emily Dumas\n",
    "# I wrote this function following the rules in the quiz and the syllabus.\n",
    "\n",
    "def pentafactorial(n):\n",
    "    \"\"\"Product of positive integers that can\n",
    "    be obtained by subtracting multiples of 5\n",
    "    from n\"\"\"\n",
    "    if n<=5:\n",
    "        return n\n",
    "    return n*pentafactorial(n-5)"
   ]
  },
  {
   "cell_type": "code",
   "execution_count": 29,
   "metadata": {},
   "outputs": [
    {
     "name": "stdout",
     "output_type": "stream",
     "text": [
      "OK: pentafactorial(17) = 2856\n",
      "OK: pentafactorial(10) = 50\n",
      "OK: pentafactorial(21) = 22176\n",
      "OK: pentafactorial(6) = 6\n",
      "OK: pentafactorial(5) = 5\n",
      "OK: pentafactorial(4) = 4\n",
      "OK: pentafactorial(3) = 3\n",
      "OK: pentafactorial(2) = 2\n",
      "OK: pentafactorial(1) = 1\n"
     ]
    }
   ],
   "source": [
    "# A test to make sure the given function reproduces the example values.\n",
    "expected_vals = {\n",
    "    17: 2856,\n",
    "    10: 50,\n",
    "    21: 22176,\n",
    "    6: 6,\n",
    "    5: 5,\n",
    "    4: 4,\n",
    "    3: 3,\n",
    "    2: 2,\n",
    "    1: 1\n",
    "}\n",
    "\n",
    "for x in expected_vals:\n",
    "    y = pentafactorial(x)\n",
    "    if y == expected_vals[x]:\n",
    "        prefix = \"OK: \"\n",
    "    else:\n",
    "        prefix = \"ERROR: \"\n",
    "    print(prefix + \"pentafactorial({}) = {}\".format(x,y))"
   ]
  },
  {
   "cell_type": "markdown",
   "metadata": {},
   "source": [
    "## Problem 2 as originally written: Pentafactorial\n",
    "\n",
    "Here's what was actually written on the quiz when it was first released.  (But to distinguish it from the function in the intended problem, in this version of the question I've changed the name to `weird_pentafactorial`.)\n",
    "\n",
    "Let `n` be a positive integer.  The *weird pentafactorial* of `n` is the integer obtained as follows:\n",
    "* If `n` is less than 5, the weird pentafactorial of `n` is defined to be 1\n",
    "* Otherwise, the weird pentafactorial of `n` is the product of all the positive integers that can be obtained by subtracting multiples of 5 from `n`.\n",
    "\n",
    "Here are some examples:\n",
    "\n",
    "* `weird_pentafactorial(17) = 17 * 12 * 7 * 2 = 2856`\n",
    "* `weird_pentafactorial(10) = 10 * 5 = 50`\n",
    "* `weird_pentafacotrial(21) = 21*16*11*6*1 = 22176`\n",
    "* `weird_pentafactorial(6) = 6*1 = 6`\n",
    "* `weird_pentafactorial(5) = 5`\n",
    "* `weird_pentafactorial(4) = 1`\n",
    "* `weird_pentafactorial(3) = 1`\n",
    "\n",
    "(Notice this is similar to factorial, but you move downward in steps of 5 instead of steps of 1.)\n",
    "\n",
    "Write a **recursive** function named `weird_pentafactorial(n)` that takes a positive integer `n` and returns its weird pentafactorial."
   ]
  },
  {
   "cell_type": "markdown",
   "metadata": {},
   "source": [
    "### Solution to Problem 2 as originally written\n",
    "\n",
    "What's strange about `weird_pentafactorial(n)` is that it is **almost** equal to `n * weird_pentafactorial(n-5)`, but not quite.  Consider `weird_pentafactorial(8)`.  According to the definition, that would be `8*3=24` because both 8 and 3 are positive integers that can be obtained by subtracting multiples of 5 from 8.  However, `8*weird_pentafactorial(3)` is equal to `8*1=8` because the definition says that `weird_pentafactorial(3)=1`.\n",
    "\n",
    "The easiest way to handle this would be to just make a wrapper function that either gives 1 as an answer, or calls the \"true pentafactorial\" function defined earlier."
   ]
  },
  {
   "cell_type": "code",
   "execution_count": 33,
   "metadata": {},
   "outputs": [],
   "source": [
    "def weird_pentafactorial_first_attempt(n):\n",
    "    \"\"\"Product of positive integers that can\n",
    "    be obtained by subtracting multiples of 5\n",
    "    from n, with a weird special case for n<5\"\"\"\n",
    "    if n<5:\n",
    "        return 1\n",
    "    return pentafactorial(n) \n",
    "    # this call uses the function defined in the\n",
    "    # solution to the intended problem, above"
   ]
  },
  {
   "cell_type": "markdown",
   "metadata": {},
   "source": [
    "However, this technically violates the conditions given in the question, which say \"Write a **recursive** function\".  The function `weird_pentafactorial_first_attempt` above doesn't actually call itself, so it is not recursive.  (Instead, it calls another function that is recursive.)\n",
    "\n",
    "To actually do this recursively, I think the simplest way is to make a function that has an optional argument to indicate whether it is in a recursive call.  The argument defaults to `False`, so that the function can apply the special rule for `n<=5` when called by another part of the program.  But when calling itself, it passes the optional argument with a value of `True`, making it use the pentafactorial behavior instead.  Here's an implementation of that:"
   ]
  },
  {
   "cell_type": "code",
   "execution_count": 19,
   "metadata": {},
   "outputs": [],
   "source": [
    "# MCS 275 Quiz 6 Problem 2\n",
    "# Emily Dumas\n",
    "# I wrote this function following the rules in the quiz and the syllabus.\n",
    "\n",
    "def weird_pentafactorial(n,selfcall=False):\n",
    "    \"\"\"Product of positive integers that can\n",
    "    be obtained by subtracting multiples of 5\n",
    "    from n, with a weird special case for n<5\"\"\"\n",
    "    if n < 5:\n",
    "        if selfcall:\n",
    "            # To correctly handle n being a multiple of 5, we\n",
    "            # need to make it so that weird_pentafactorial(0,selfcall=True)\n",
    "            # returns 1.  Otherwise we return n.\n",
    "            return max(n,1)\n",
    "        else:\n",
    "            return 1\n",
    "    return n*weird_pentafactorial(n-5,selfcall=True)"
   ]
  },
  {
   "cell_type": "code",
   "execution_count": 36,
   "metadata": {},
   "outputs": [
    {
     "name": "stdout",
     "output_type": "stream",
     "text": [
      "OK: weird_pentafactorial(17) = 2856\n",
      "OK: weird_pentafactorial(10) = 50\n",
      "OK: weird_pentafactorial(21) = 22176\n",
      "OK: weird_pentafactorial(6) = 6\n",
      "OK: weird_pentafactorial(5) = 5\n",
      "OK: weird_pentafactorial(4) = 1 (which is weird)\n",
      "OK: weird_pentafactorial(3) = 1 (which is weird)\n"
     ]
    }
   ],
   "source": [
    "# A test to make sure the given function reproduces the example values.\n",
    "\n",
    "weird_expected_vals = {\n",
    "    17: 2856,\n",
    "    10: 50,\n",
    "    21: 22176,\n",
    "    6: 6,\n",
    "    5: 5,\n",
    "    4: 1,\n",
    "    3: 1\n",
    "}\n",
    "\n",
    "for x in weird_expected_vals:\n",
    "    y = weird_pentafactorial(x)\n",
    "    if y == weird_expected_vals[x]:\n",
    "        prefix = \"OK: \"\n",
    "    else:\n",
    "        prefix = \"ERROR: \"\n",
    "    if y != expected_vals[x]:\n",
    "        # Make note of any case where weird_penta... and penta... differ\n",
    "        suffix = \" (which is weird)\"\n",
    "    else:\n",
    "        suffix = \"\"\n",
    "    print(prefix + \"weird_pentafactorial({}) = {}\".format(x,y) + suffix)"
   ]
  },
  {
   "cell_type": "markdown",
   "metadata": {},
   "source": [
    "## Problem 3: abbc sequence\n",
    "\n",
    "Define a sequence $Q$ of integers as follows:  The first three values are\n",
    "* $Q_0 = 0$\n",
    "* $Q_1 = 1$\n",
    "* $Q_2 = 2$\n",
    "\n",
    "All subsequent terms are calculated by the following rule:\n",
    "* $Q_n = Q_{n-1} + 2 Q_{n-2} +  Q_{n-3}$\n",
    "\n",
    "In other words, if the last three terms of the sequence you've computed are `a`, `b`, and `c`, then the next term is `a+b+b+c`.\n",
    "\n",
    "The sequence therefore begins:\n",
    "```\n",
    "0, 1, 2, 4, 9, 19, 41, 88, 189, 406, 872, 1873, 4023, 8641, 18560, 39865\n",
    "```\n",
    "\n",
    "Write a **recursive** function called `abbc(n)` that takes a nonnegative integer `n` and returns the value of $Q_n$.  Save it in a file called `quiz6prob3.py` and include this file in your quiz submission."
   ]
  },
  {
   "cell_type": "code",
   "execution_count": 22,
   "metadata": {},
   "outputs": [],
   "source": [
    "# MCS 275 Quiz 6 Problem 3\n",
    "# Emily Dumas\n",
    "# I wrote this function following the rules in the quiz and the syllabus.\n",
    "\n",
    "def abbc(n):\n",
    "    \"\"\"Sequence defined by Q_n = Q_{n-1}+2*Q_{n-2}+Q_{n-3}\n",
    "    and beginning 0,1,2 for n=0,1,2\"\"\"\n",
    "    if n<=2:\n",
    "        return n\n",
    "    return abbc(n-1) + 2*abbc(n-2) + abbc(n-3)"
   ]
  },
  {
   "cell_type": "code",
   "execution_count": 26,
   "metadata": {},
   "outputs": [
    {
     "data": {
      "text/plain": [
       "[0, 1, 2, 4, 9, 19, 41, 88, 189, 406, 872, 1873, 4023, 8641, 18560, 39865]"
      ]
     },
     "execution_count": 26,
     "metadata": {},
     "output_type": "execute_result"
    }
   ],
   "source": [
    "[abbc(n) for n in range(16)]"
   ]
  },
  {
   "cell_type": "markdown",
   "metadata": {},
   "source": [
    "### Revision history\n",
    "\n",
    "* 2021-02-23 Initial publication"
   ]
  }
 ],
 "metadata": {
  "kernelspec": {
   "display_name": "Python 3",
   "language": "python",
   "name": "python3"
  },
  "language_info": {
   "codemirror_mode": {
    "name": "ipython",
    "version": 3
   },
   "file_extension": ".py",
   "mimetype": "text/x-python",
   "name": "python",
   "nbconvert_exporter": "python",
   "pygments_lexer": "ipython3",
   "version": "3.8.5"
  }
 },
 "nbformat": 4,
 "nbformat_minor": 4
}