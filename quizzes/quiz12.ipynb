{
 "cells": [
  {
   "cell_type": "markdown",
   "metadata": {},
   "source": [
    "# Quiz 12\n",
    "\n",
    "## MCS 275 Spring 2021 - Emily Dumas\n",
    "### Quiz by Jennifer Vaccaro"
   ]
  },
  {
   "cell_type": "markdown",
   "metadata": {},
   "source": [
    "### Instructions:\n",
    "\n",
    "#### Deadline\n",
    "\n",
    "This quiz must be submitted in Gradescope by 12:00pm CST on Tuesday, April 13, 2021.\n",
    "\n",
    "### Topic\n",
    "\n",
    "This quiz covers databases and the Python module **sqlite3** as discussed in Lectures 30--32.\n",
    "\n",
    "### Allowed resources:\n",
    "\n",
    "Quizzes are INDIVIDUAL, closed book, and only allow access to specified resources. For this quiz you can access:\n",
    "\n",
    "* [Lecture 30 - Databases](http://dumas.io/teaching/2021/spring/mcs275/slides/lecture30.html)\n",
    "* [Lecture 31 - SQL and SQLite](http://dumas.io/teaching/2021/spring/mcs275/slides/lecture31.html)\n",
    "* [Lecture 32 - SQL and SQLite II](http://dumas.io/teaching/2021/spring/mcs275/slides/lecture32.html)\n",
    "* Course sample code:\n",
    "    * [sqlite-work notebook](https://www.dumas.io/teaching/2021/spring/mcs275/nbview/samplecode/sql/sqlite-work.html)\n",
    "* [Worksheet 12 Solutions](https://dumas.io/teaching/2021/spring/mcs275/nbview/worksheets/worksheet12_soln.html)\n",
    "\n",
    "### Point distribution\n",
    "\n",
    "There are two problems on this quiz, numbered 2 and 3.  The point breakdown is:\n",
    "\n",
    "| Points | Item |\n",
    "| --- | --- |\n",
    "| 3 | autograder |\n",
    "| 4 | problem 2 |\n",
    "| 4 | problem 3 |\n",
    "| **11** | total |"
   ]
  },
  {
   "cell_type": "markdown",
   "metadata": {},
   "source": [
    "## No problem 1 (as usual)"
   ]
  },
  {
   "cell_type": "markdown",
   "metadata": {},
   "source": [
    "## Get the books database\n",
    "\n",
    "Problems 2 and 3 will both use a sqlite3 database `books.db`. Download it from the link below and save it into the directory where you will be working.\n",
    "* [books.db](https://www.dumas.io/teaching/2021/spring/mcs275/data/books.db)\n",
    "\n",
    "There is one table in the database, called `books`.  Each row represents a book in your collection, and your progress reading it.  The table has the following columns:\n",
    "\n",
    "* **title** : Text, title of the book\n",
    "* **author** : Text, author of the book\n",
    "* **year** : Integer, year in which the book was published\n",
    "* **num_pages** : Integer, TOTAL number of pages in the book\n",
    "* **pages_read** : Integer, number of pages that have already been read in the book\n",
    "\n",
    "Here is some sample code to show you how the table was created, which also adds one of the rows that is in the sample database you downloaded.  (The database you downloaded contains other rows that are not shown here.)"
   ]
  },
  {
   "cell_type": "code",
   "execution_count": 4,
   "metadata": {},
   "outputs": [],
   "source": [
    "# Code included for clarity about how the database columns are named,\n",
    "# you don't need to run this.\n",
    "\n",
    "import sqlite3\n",
    "\n",
    "# Open the connection\n",
    "con = sqlite3.connect(\"books.db\")\n",
    "\n",
    "# If necessary, create a table books\n",
    "con.execute(\"\"\"CREATE TABLE IF NOT EXISTS books (\n",
    "    title TEXT PRIMARY KEY, \n",
    "    author TEXT, \n",
    "    year INT, \n",
    "    num_pages INT, \n",
    "    pages_read INT\n",
    "    );\"\"\")\n",
    "# Add a row of data to the table\n",
    "con.execute(\n",
    "    \"INSERT INTO books VALUES (?,?,?,?,?);\", \n",
    "    (\"The Cat in the Hat\",\"Dr. Seuss\",1957,61,0)\n",
    ")\n",
    "\n",
    "con.commit()\n",
    "con.close()\n",
    "# If you run this code in the same directory as the provided books.db,\n",
    "# it will raise an exception because a book with that title is already\n",
    "# present, and the table requires unique titles.  That's expected\n",
    "# behavior, but your solutions to the problems should not raise similar\n",
    "# exceptions."
   ]
  },
  {
   "cell_type": "markdown",
   "metadata": {},
   "source": [
    "## Problem 2: Longest book, and books written since 1960\n",
    "\n",
    "Write a script that connects to the `books.db` books table and answers the following prompts by printing the answer to the console. Also include the answer that you found, commented out in the body of the script.\n",
    "\n",
    "### 2A\n",
    "What is the longest book (**num_pages**) in the database? Print the **title** and the number of pages.\n",
    "\n",
    "### 2B\n",
    "List five books from the database that were published after 1960 (**year**). For each, print the **title** and the **author**.\n",
    "\n",
    "Save your program to `quiz12prob2.py` and upload it to Gradescope."
   ]
  },
  {
   "cell_type": "markdown",
   "metadata": {},
   "source": [
    "## Problem 3: Flip a page\n",
    "\n",
    "Write a function `flip_page(title)` that updates the book identified by the title as if a single page has been flipped in the following way:\n",
    "\n",
    "* If **pages_read** is less than **num_pages**, then increase the **pages_read** by 1. \n",
    "* If **pages_read** is already equal to **num_pages**, then print a message like \"Finished the book: TITLE\" and set **pages_read** to zero. \n",
    "\n",
    "You may assume that titles are unique within the database. \n",
    "\n",
    "The function should both open and close a connection to the database `books.db`. Since this function modifies the database, remember to commit your changes before closing the connection.\n",
    "\n",
    "Here is some code to help you test your function.  If your function works, and if **pages_read** is initially zero (as in the database you downloaded) then this will flip pages of *The Cat in the Hat* the exact number of times needed to finish the book and return the **pages_read** count to zero.  We recommend printing the value of **pages_read** inside `flip_page` while you're testing it, so you can see this happening and debug any issues."
   ]
  },
  {
   "cell_type": "code",
   "execution_count": 3,
   "metadata": {},
   "outputs": [],
   "source": [
    "# Test code, to be added to the bottom of your script.\n",
    "\n",
    "# Flip the page in The Cat in the Hat 62 times. Since there are 61\n",
    "# pages, this should display the message that you finished the book.\n",
    "for _ in range(61):\n",
    "    flip_page(\"The Cat in the Hat\")"
   ]
  },
  {
   "cell_type": "markdown",
   "metadata": {},
   "source": [
    "\n",
    "Save your program to `quiz12prob3.py` and upload it to Gradescope."
   ]
  }
 ],
 "metadata": {
  "kernelspec": {
   "display_name": "Python 3",
   "language": "python",
   "name": "python3"
  },
  "language_info": {
   "codemirror_mode": {
    "name": "ipython",
    "version": 3
   },
   "file_extension": ".py",
   "mimetype": "text/x-python",
   "name": "python",
   "nbconvert_exporter": "python",
   "pygments_lexer": "ipython3",
   "version": "3.8.5"
  }
 },
 "nbformat": 4,
 "nbformat_minor": 2
}