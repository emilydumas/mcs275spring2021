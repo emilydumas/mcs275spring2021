{
 "cells": [
  {
   "cell_type": "markdown",
   "metadata": {},
   "source": [
    "# Quiz 4\n",
    "\n",
    "## MCS 275 Spring 2021 - Emily Dumas"
   ]
  },
  {
   "cell_type": "markdown",
   "metadata": {},
   "source": [
    "## Instructions:\n",
    "\n",
    "### Deadline\n",
    "This quiz must be submitted in Gradescope by 12:00pm CST on Tuesday, Februrary 9, 2021.\n",
    "\n",
    "### Topic\n",
    "\n",
    "This quiz focuses on the material from Worksheet 4.\n",
    "\n",
    "### Resources you are allowed to consult\n",
    "Quizzes are INDIVIDUAL, closed book, and only allow access to specified resources.  For this quiz you can access:\n",
    "* [The course coding standards document](https://dumas.io/teaching/2021/spring/mcs275/doc/codestd.pdf)\n",
    "* [The Python tour](https://dumas.io/teaching/2021/spring/mcs275/nbview/samplecode/python_tour.html)\n",
    "* [Worksheet 3 Solutions](https://dumas.io/teaching/2021/spring/mcs275/nbview/worksheets/worksheet3_soln.html)\n",
    "* [Worksheet 4 Solutions](https://dumas.io/teaching/2021/spring/mcs275/nbview/worksheets/worksheet4_soln.html)  <--- probably the most useful thing to look at!\n",
    "\n",
    "### Cite your sources\n",
    "\n",
    "If you adapt code from any course documents (e.g. worksheet solutions), you need to indicate that in the required declaration comment at the top of the source file.\n",
    "\n",
    "### Point distribution\n",
    "\n",
    "This quiz has **2 problems** (numbered 2 and 3), each worth 4 points.  Therefore, the final grading breakdown is:\n",
    "\n",
    "| Points | Item |\n",
    "| --- | --- |\n",
    "| 3 | autograder |\n",
    "| 4 | problem 2 |\n",
    "| 4 | problem 3 |\n",
    "| **11** | total |\n"
   ]
  },
  {
   "cell_type": "markdown",
   "metadata": {},
   "source": [
    "## (No problem number 1, as usual)\n",
    "\n",
    "The points assigned by the autograder based on syntax and docstring checking will be listed as problem 1 in Gradescope."
   ]
  },
  {
   "cell_type": "markdown",
   "metadata": {},
   "source": [
    "## Problem 2: Argument with maximum digit sum\n",
    "\n",
    "For the purposes of this problem, the *digit sum* of an integer is the sum of all of its decimal digits, e.g.\n",
    "* The digit sum of `1205` is `1+2+5 = 8`\n",
    "* The digit sum of `99` is `9+9 = 18`\n",
    "\n",
    "Write a function called `max_digit_sum` that takes any number of nonnegative integer arguments (but requires at least one argument), and determines which of its arguments has the largest digit sum, and returns that argument.  If several arguments are tied for largest digit sum, the function should return the one appearing earliest in the argument list.\n",
    "\n",
    "Put this function in a file called `quiz4prob2.py` and submit it.\n",
    "\n",
    "Examples:"
   ]
  },
  {
   "cell_type": "code",
   "execution_count": 8,
   "metadata": {},
   "outputs": [
    {
     "data": {
      "text/plain": [
       "99"
      ]
     },
     "execution_count": 8,
     "metadata": {},
     "output_type": "execute_result"
    }
   ],
   "source": [
    "max_digit_sum(1205,99)  # 99 has largest digit sum 18"
   ]
  },
  {
   "cell_type": "code",
   "execution_count": 9,
   "metadata": {},
   "outputs": [
    {
     "data": {
      "text/plain": [
       "156213"
      ]
     },
     "execution_count": 9,
     "metadata": {},
     "output_type": "execute_result"
    }
   ],
   "source": [
    "max_digit_sum(156213)   # just returns the only argument given"
   ]
  },
  {
   "cell_type": "code",
   "execution_count": 10,
   "metadata": {},
   "outputs": [
    {
     "data": {
      "text/plain": [
       "53"
      ]
     },
     "execution_count": 10,
     "metadata": {},
     "output_type": "execute_result"
    }
   ],
   "source": [
    "max_digit_sum(11,101,53,120,1205)\n",
    "# several arguments are tied for max digit sum of 8, so the one\n",
    "# appearing earliest is returned, 53"
   ]
  },
  {
   "cell_type": "markdown",
   "metadata": {},
   "source": [
    "## Problem 3: Decorator to require a return value\n",
    "\n",
    "In Python, a function that doesn't return a value implicitly returns the value `None`.\n",
    "\n",
    "Make a decorator called `returns_something` that checks to make sure a function returns a value that is not equal to `None`.  If the function it decorates attempts to return `None`, an exception should be raised.\n",
    "\n",
    "Put this function in a file called `quiz4prob3.py` and submit it.\n",
    "\n",
    "Here is an example of defining two functions without the decorator:"
   ]
  },
  {
   "cell_type": "code",
   "execution_count": 6,
   "metadata": {},
   "outputs": [],
   "source": [
    "def sum_plus_six(x,y):\n",
    "    \"\"\"Compute sum of x, y, and 6\"\"\"\n",
    "    return x+y+6\n",
    "\n",
    "def calculate_but_no_return(x,y):\n",
    "    \"\"\"Do some arithmetic, but don't return anything\"\"\"\n",
    "    s = x+y"
   ]
  },
  {
   "cell_type": "markdown",
   "metadata": {},
   "source": [
    "Here is the way the functions behave when defined without the decorator:"
   ]
  },
  {
   "cell_type": "code",
   "execution_count": 7,
   "metadata": {},
   "outputs": [
    {
     "data": {
      "text/plain": [
       "19"
      ]
     },
     "execution_count": 7,
     "metadata": {},
     "output_type": "execute_result"
    }
   ],
   "source": [
    "sum_plus_six(5,8)"
   ]
  },
  {
   "cell_type": "code",
   "execution_count": 8,
   "metadata": {},
   "outputs": [],
   "source": [
    "calculate_but_no_return(11,94)\n",
    "# No error will result, but no return value is obtained, either."
   ]
  },
  {
   "cell_type": "markdown",
   "metadata": {},
   "source": [
    "Now, here are the same functions defined with the decorator you have been asked to write applied to them."
   ]
  },
  {
   "cell_type": "code",
   "execution_count": 2,
   "metadata": {},
   "outputs": [],
   "source": [
    "@returns_something\n",
    "def sum_plus_six(x,y):\n",
    "    \"\"\"Compute sum of x, y, and 6\"\"\"\n",
    "    return x+y+6\n",
    "\n",
    "@returns_something\n",
    "def calculate_but_no_return(x,y):\n",
    "    \"\"\"Do some arithmetic, but don't return anything\"\"\"\n",
    "    s = x+y"
   ]
  },
  {
   "cell_type": "markdown",
   "metadata": {},
   "source": [
    "Here is the expected behavior of the functions with the decorator applied:"
   ]
  },
  {
   "cell_type": "code",
   "execution_count": 24,
   "metadata": {},
   "outputs": [
    {
     "data": {
      "text/plain": [
       "19"
      ]
     },
     "execution_count": 24,
     "metadata": {},
     "output_type": "execute_result"
    }
   ],
   "source": [
    "sum_plus_six(5,8)"
   ]
  },
  {
   "cell_type": "code",
   "execution_count": null,
   "metadata": {},
   "outputs": [],
   "source": [
    "calculate_but_no_return(11,94)\n",
    "# RUNNING THIS SHOULD RAISE AN EXCEPTION\n",
    "# because calculate_but_no_return tries to return None\n",
    "# and the decorator won't allow that.\n",
    "\n",
    "# We don't include the exception here, because the traceback\n",
    "# shows the source code of the decorator, which is what you \n",
    "# need to write!"
   ]
  }
 ],
 "metadata": {
  "kernelspec": {
   "display_name": "Python 3",
   "language": "python",
   "name": "python3"
  },
  "language_info": {
   "codemirror_mode": {
    "name": "ipython",
    "version": 3
   },
   "file_extension": ".py",
   "mimetype": "text/x-python",
   "name": "python",
   "nbconvert_exporter": "python",
   "pygments_lexer": "ipython3",
   "version": "3.8.5"
  }
 },
 "nbformat": 4,
 "nbformat_minor": 4
}
