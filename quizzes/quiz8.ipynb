{
 "cells": [
  {
   "cell_type": "markdown",
   "metadata": {},
   "source": [
    "# Quiz 8\n",
    "\n",
    "## MCS 275 Spring 2021 - Emily Dumas"
   ]
  },
  {
   "cell_type": "markdown",
   "metadata": {},
   "source": [
    "## Instructions:\n",
    "\n",
    "### Deadline\n",
    "This quiz must be submitted in Gradescope by 12:00pm CST on Tuesday, March 9, 2021.\n",
    "\n",
    "### Topic\n",
    "\n",
    "The course topics corresponding to this quiz are **trees** and **binary search trees**.\n",
    "\n",
    "### Resources you are allowed to consult\n",
    "Quizzes are INDIVIDUAL, closed book, and only allow access to specified resources.  For this quiz you can access:\n",
    "* [The course coding standards document](https://dumas.io/teaching/2021/spring/mcs275/doc/codestd.pdf)\n",
    "* [The Python tour](https://dumas.io/teaching/2021/spring/mcs275/nbview/samplecode/python_tour.html)\n",
    "* [Worksheet 8 Solutions](https://dumas.io/teaching/2021/spring/mcs275/nbview/worksheets/worksheet8_soln.html)\n",
    "* All of the [trees sample code](https://github.com/emilydumas/mcs275spring2021/tree/master/samplecode/trees)\n",
    "\n",
    "\n",
    "\n",
    "### Point distribution\n",
    "\n",
    "There are two problems on this quiz, numbered 2 and 3.  The point breakdown is:\n",
    "\n",
    "| Points | Item |\n",
    "| --- | --- |\n",
    "| 3 | autograder |\n",
    "| 4 | problem 2 |\n",
    "| 4 | problem 3 |\n",
    "| **11** | total |\n",
    "\n"
   ]
  },
  {
   "cell_type": "markdown",
   "metadata": {},
   "source": [
    "## Every problem uses module `binary`, none use module `bst`\n",
    "\n",
    "The quiz questions involve binary trees, and in your solution you should import the module [binary](https://github.com/emilydumas/mcs275spring2021/blob/master/samplecode/trees/binary.py) we developed in class.\n",
    "\n",
    "The quiz questions do **not** involve binary search trees directly, and you must not import the module [bst](https://github.com/emilydumas/mcs275spring2021/blob/master/samplecode/trees/bst.py).  (This isn't to make the questions harder; I just want to be clear that this quiz doesn't use the `BST` class at all.)"
   ]
  },
  {
   "cell_type": "markdown",
   "metadata": {},
   "source": [
    "## Submit everything in one file `quiz8.py`\n",
    "\n",
    "Put the functions request in the problems below into a single file and upload it to Gradescope.\n",
    "\n",
    "(One of these functions calls the other, so putting them in one file should make it easier for you to test them.)"
   ]
  },
  {
   "cell_type": "markdown",
   "metadata": {},
   "source": [
    "## Problem 2: Elbow test\n",
    "\n",
    "A node of a binary tree is called an **elbow** if:\n",
    "    1. It has a parent node AND\n",
    "    1. It has exactly one child (i.e. either a left child or a right child, but not both).\n",
    "\n",
    "For example, in the tree shown below the nodes labeled B, E, K, and G are the only elbows.\n",
    "\n",
    "```\n",
    "        F\n",
    "       / \\\n",
    "      /   \\\n",
    "     /     \\\n",
    "    C       K\n",
    "   / \\     / \n",
    "  B   E   G\n",
    " /   /     \\   \n",
    "A   D       I\n",
    "           / \\\n",
    "          H   J\n",
    "```\n",
    "\n",
    "Write a function `is_elbow(x)` that accepts one argument, `x`, which is either a `Node` object or `None`, and returns a boolean as follows:\n",
    "* If `x` is a `Node` that is an elbow, it returns `True`\n",
    "* Otherwise, it returns `False`"
   ]
  },
  {
   "cell_type": "markdown",
   "metadata": {},
   "source": [
    "## Problem 3: Elbow count\n",
    "\n",
    "Write a recursive function `elbow_count(x)` that accepts a `Node` object `x` that is the root of a binary tree, and returns the total number of elbows in the tree.\n",
    "\n",
    "For example, if called on the root node F of the example tree shown in the first problem on this quiz, `elbow_count` would return 4.\n",
    "\n",
    "You can use the function `is_elbow` from problem 2 (even if you didn't complete that problem).\n",
    "\n",
    "Your function should make a single pass through the tree, and should not create any data structures that grow in proportion to the number of nodes in the tree.  Passing around a fixed number of objects between recursive calls is fine, but making a list of all the nodes (or all the elbows) is not."
   ]
  },
  {
   "cell_type": "markdown",
   "metadata": {},
   "source": [
    "### Revision history\n",
    "\n",
    "* 2021-03-07 Fix count of elbows in problem 3 example\n",
    "* 2021-03-07 Fix list of elbows in problem 2 example\n",
    "* 2021-03-07 Initial publication"
   ]
  }
 ],
 "metadata": {
  "kernelspec": {
   "display_name": "Python 3",
   "language": "python",
   "name": "python3"
  },
  "language_info": {
   "codemirror_mode": {
    "name": "ipython",
    "version": 3
   },
   "file_extension": ".py",
   "mimetype": "text/x-python",
   "name": "python",
   "nbconvert_exporter": "python",
   "pygments_lexer": "ipython3",
   "version": "3.8.5"
  }
 },
 "nbformat": 4,
 "nbformat_minor": 4
}
