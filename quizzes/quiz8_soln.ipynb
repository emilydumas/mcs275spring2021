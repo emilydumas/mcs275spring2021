{
 "cells": [
  {
   "cell_type": "markdown",
   "metadata": {},
   "source": [
    "# Quiz 8 Solutions\n",
    "\n",
    "## MCS 275 Spring 2021 - Emily Dumas\n",
    "### Solutions by Jennifer Vaccaro"
   ]
  },
  {
   "cell_type": "markdown",
   "metadata": {},
   "source": [
    "## Problem 2: Elbow test\n",
    "\n",
    "A node of a binary tree is called an **elbow** if:\n",
    "    1. It has a parent node AND\n",
    "    1. It has exactly one child (i.e. either a left child or a right child, but not both).\n",
    "\n",
    "For example, in the tree shown below the nodes labeled B, E, K, and G are the only elbows.\n",
    "\n",
    "```\n",
    "        F\n",
    "       / \\\n",
    "      /   \\\n",
    "     /     \\\n",
    "    C       K\n",
    "   / \\     / \n",
    "  B   E   G\n",
    " /   /     \\   \n",
    "A   D       I\n",
    "           / \\\n",
    "          H   J\n",
    "```\n",
    "\n",
    "Write a function `is_elbow(x)` that accepts one argument, `x`, which is either a `Node` object or `None`, and returns a boolean as follows:\n",
    "* If `x` is a `Node` that is an elbow, it returns `True`\n",
    "* Otherwise, it returns `False`"
   ]
  },
  {
   "cell_type": "code",
   "execution_count": 5,
   "metadata": {},
   "outputs": [],
   "source": [
    "# Quiz 8 Problem 2\n",
    "# J Vaccaro\n",
    "# I wrote this code myself\n",
    "\n",
    "import binary\n",
    "\n",
    "def is_elbow(x):\n",
    "    \"\"\"Checks whether a node x is an elbow, i.e. whether it has a parent \n",
    "    and only one child.\"\"\"\n",
    "    if x.parent == None:\n",
    "        return False\n",
    "    if x.left != None and x.right == None:\n",
    "        return True\n",
    "    if x.right != None and x.left == None:\n",
    "        return True\n",
    "    return False"
   ]
  },
  {
   "cell_type": "code",
   "execution_count": 6,
   "metadata": {},
   "outputs": [
    {
     "output_type": "stream",
     "name": "stdout",
     "text": [
      "Elbows, should be true...\nC: True E: True F: True\nNot elbows, should be false...\nA: False B: False D: False G: False H: False\n"
     ]
    }
   ],
   "source": [
    "# Question 2 test code\n",
    "# Create a tree\n",
    "#        A\n",
    "#       / \\\n",
    "#      /   \\\n",
    "#     /     \\\n",
    "#    B       C\n",
    "#   / \\     / \n",
    "#  D   E   F\n",
    "#     /     \\   \n",
    "#    G       H\n",
    "# \n",
    "# Elbows: C, E, F\n",
    "\n",
    "A = binary.Node(\"A\")\n",
    "B = binary.Node(\"B\")\n",
    "C = binary.Node(\"C\")\n",
    "A.set_left(B)\n",
    "A.set_right(C)\n",
    "D = binary.Node(\"D\")\n",
    "E = binary.Node(\"E\")\n",
    "B.set_left(D)\n",
    "B.set_right(E)\n",
    "F = binary.Node(\"F\")\n",
    "C.set_left(F)\n",
    "G = binary.Node(\"G\")\n",
    "E.set_left(G)\n",
    "H = binary.Node(\"H\")\n",
    "F.set_right(H)\n",
    "\n",
    "print(\"Elbows, should be true...\")\n",
    "print(\"C: {} E: {} F: {}\".format(is_elbow(C),is_elbow(E),is_elbow(F)))\n",
    "print(\"Not elbows, should be false...\")\n",
    "print(\"A: {} B: {} D: {} G: {} H: {}\".format(is_elbow(A),is_elbow(B),is_elbow(D),is_elbow(G),is_elbow(H)))"
   ]
  },
  {
   "cell_type": "markdown",
   "metadata": {},
   "source": [
    "## Problem 3: Elbow count\n",
    "\n",
    "Write a recursive function `elbow_count(x)` that accepts a `Node` object `x` that is the root of a binary tree, and returns the total number of elbows in the tree.\n",
    "\n",
    "For example, if called on the root node F of the example tree shown in the first problem on this quiz, the function would return 3.\n",
    "\n",
    "You can use the function `is_elbow` from problem 2 (even if you didn't complete that problem).\n",
    "\n",
    "Your function should make a single pass through the tree, and should not create any data structures that grow in proportion to the number of nodes in the tree.  Passing around a fixed number of objects between recursive calls is fine, but making a list of all the nodes (or all the elbows) is not."
   ]
  },
  {
   "cell_type": "code",
   "execution_count": 8,
   "metadata": {},
   "outputs": [],
   "source": [
    "# Quiz 8 Problem 3\n",
    "# J Vaccaro\n",
    "# I wrote this code myself\n",
    "\n",
    "import binary\n",
    "\n",
    "def elbow_count(x):\n",
    "    \"\"\"Counts the number of elbows in a tree descending from root node x\n",
    "    recursively by counting the number of elbows 'under' each child node\"\"\"\n",
    "    if x == None:\n",
    "        return 0\n",
    "    if is_elbow(x):\n",
    "        return 1 + elbow_count(x.left) + elbow_count(x.right)\n",
    "    return elbow_count(x.left) + elbow_count(x.right)"
   ]
  },
  {
   "cell_type": "code",
   "execution_count": 10,
   "metadata": {},
   "outputs": [
    {
     "output_type": "stream",
     "name": "stdout",
     "text": [
      "3\n1\n2\n0\n"
     ]
    }
   ],
   "source": [
    "# Question 3 test code\n",
    "\n",
    "print(elbow_count(A)) # 3\n",
    "print(elbow_count(B)) # 1\n",
    "print(elbow_count(C)) # 2\n",
    "print(elbow_count(H)) # 0"
   ]
  },
  {
   "cell_type": "markdown",
   "metadata": {},
   "source": [
    "### Revision history\n",
    "\n",
    "* 2021-03-07 Fix list of elbows in problem 2 example\n",
    "* 2021-03-07 Initial publication"
   ]
  }
 ],
 "metadata": {
  "kernelspec": {
   "display_name": "Python 3",
   "language": "python",
   "name": "python3"
  },
  "language_info": {
   "codemirror_mode": {
    "name": "ipython",
    "version": 3
   },
   "file_extension": ".py",
   "mimetype": "text/x-python",
   "name": "python",
   "nbconvert_exporter": "python",
   "pygments_lexer": "ipython3",
   "version": "3.8.5-final"
  }
 },
 "nbformat": 4,
 "nbformat_minor": 4
}