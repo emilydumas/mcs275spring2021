{
 "cells": [
  {
   "cell_type": "markdown",
   "metadata": {},
   "source": [
    "# Quiz 10 Solutions\n",
    "\n",
    "## MCS 275 Spring 2021 - Emily Dumas\n",
    "### Solutions by Jennifer Vaccaro"
   ]
  },
  {
   "cell_type": "markdown",
   "metadata": {},
   "source": [
    "## Problem 2: Red to blue\n",
    "\n",
    "Write a program that reads a color bitmap image (mode RGB) from a file, finds all pixels that are pure bright red (value `(255,0,0)`), and changes such pixels to pure bright blue (value `(0,0,255)`).  All other pixels should remain unchanged.  The modified image should then be saved to an output file.\n",
    "\n",
    "The program should take two command line arguments:\n",
    "* Argument 1: The name of the input image file\n",
    "* Argument 2: The name of the output image file\n",
    "\n",
    "In case you'd like to test your program, here are a pair of images that provide sample input and expected output.  You'll want to download them and save them wherever you work on your quiz code.\n",
    "\n",
    "* [q10sampleinput.png](https://dumas.io/teaching/2021/spring/mcs275/data/q10sampleinput.png)\n",
    "* [q10sampleoutput.png](https://dumas.io/teaching/2021/spring/mcs275/data/q10sampleoutput.png)\n",
    "\n",
    "Save your program to `quiz10prob2.py` and upload it to Gradescope."
   ]
  },
  {
   "cell_type": "code",
   "execution_count": 2,
   "metadata": {},
   "outputs": [],
   "source": [
    "# Quiz 10 Problem 2\n",
    "# Jennifer Vaccaro\n",
    "# I completed this work myself, in accordance with the rules in the syllabus.\n",
    "\"\"\"Reads a PNG image from a file, converts the red pixels in it to blue, then saves the image to an output file.\"\"\"\n",
    "\n",
    "import sys\n",
    "from PIL import Image\n",
    "\n",
    "# Define the filenames and the relevant rgb values\n",
    "infile = sys.argv[1]\n",
    "outfile = sys.argv[2]\n",
    "red = (255,0,0)\n",
    "blue = (0,0,255)\n",
    "\n",
    "# Read the image, read the size\n",
    "img = Image.open(infile)\n",
    "X,Y = img.size\n",
    "\n",
    "#Iterate through the pixels. If any are red, then convert them to blue\n",
    "for x in range(X):\n",
    "    for y in range(Y):\n",
    "        rgb = img.getpixel((x,y))\n",
    "        if rgb == red:\n",
    "            img.putpixel((x,y),blue)\n",
    "\n",
    "# Save the image object\n",
    "img.save(outfile)"
   ]
  },
  {
   "cell_type": "markdown",
   "metadata": {},
   "source": [
    "## Problem 3: Explain three lines of code\n",
    "\n",
    "For this quiz problem, you need to add explanatory comments to a given code sample.\n"
   ]
  },
  {
   "cell_type": "code",
   "execution_count": 16,
   "metadata": {},
   "outputs": [
    {
     "name": "stdout",
     "output_type": "stream",
     "text": [
      "[ 2  9 16 23 30]\n",
      "31\n"
     ]
    }
   ],
   "source": [
    "# Undocumented sample\n",
    "import numpy as np\n",
    "\n",
    "A = np.arange(35).reshape(5,7)\n",
    "print(A[:,2])\n",
    "print(A[4,3])"
   ]
  },
  {
   "cell_type": "markdown",
   "metadata": {},
   "source": [
    "Here is a documented version of the same program, where every line of code is explained by a comment above it."
   ]
  },
  {
   "cell_type": "code",
   "execution_count": 86,
   "metadata": {},
   "outputs": [
    {
     "name": "stdout",
     "output_type": "stream",
     "text": [
      "[ 14  91 266 539 910]\n",
      "401.0\n"
     ]
    }
   ],
   "source": [
    "# Documented sample\n",
    "import numpy as np\n",
    "\n",
    "# Arrange the integers 0...34 in a matrix\n",
    "# with 5 rows and 7 columns.  Square each\n",
    "# one and add 10.\n",
    "A = np.arange(35).reshape(5,7)**2 + 10\n",
    "\n",
    "# Print column 2 of the matrix\n",
    "print(A[:,2])\n",
    "\n",
    "# Print the average (arithmetic mean) of \n",
    "# all the entries of the matrix\n",
    "print(np.mean(A))"
   ]
  },
  {
   "cell_type": "markdown",
   "metadata": {},
   "source": [
    "Notice that each comment is detailed enough that if you were only given the contents of the comment, you would be able to re-create the corresponding code.  (In normal programming practice you wouldn't use this many comments, nor include this much detail, but I am showing what is expected in this problem.)\n",
    "\n",
    "**Add the same kind of explanatory comments to the following program:**"
   ]
  },
  {
   "cell_type": "code",
   "execution_count": null,
   "metadata": {},
   "outputs": [],
   "source": [
    "# document this code\n",
    "import numpy as np\n",
    "\n",
    "B = np.arange(13,43,5) + np.arange(30).reshape(5,6)\n",
    "\n",
    "print(np.sum(B[::2,2::3]))\n",
    "\n",
    "print(B[1:3]**2 - 1)"
   ]
  },
  {
   "cell_type": "code",
   "execution_count": 1,
   "metadata": {},
   "outputs": [
    {
     "output_type": "stream",
     "name": "stdout",
     "text": [
      "276\n[[ 360  624  960 1368 1848 2400]\n [ 624  960 1368 1848 2400 3024]]\n"
     ]
    }
   ],
   "source": [
    "# Quiz 10 Problem 3\n",
    "# Jennifer Vaccaro\n",
    "# I documented this code myself, in accordance with the rules in the syllabus.\n",
    "\n",
    "# import numpy with the usual alias\n",
    "import numpy as np\n",
    "\n",
    "# Creates a numpy array B by aranging the integers 0,...,29 in a 5x6 matrix, \n",
    "# then adding the numpy vector 13,28,...,38 to each row. \n",
    "B = np.arange(13,43,5) + np.arange(30).reshape(5,6)\n",
    "\n",
    "# Print the sum of all elts of B which fall in even rows and columns with  \n",
    "# indices congruent to 2 (mod 3).\n",
    "print(np.sum(B[::2,2::3]))\n",
    "\n",
    "# Print the array created by elt-wise squaring the 1st and 2nd rows of B, \n",
    "# then subtracting 1.\n",
    "print(B[1:3]**2 - 1)"
   ]
  }
 ],
 "metadata": {
  "kernelspec": {
   "display_name": "Python 3",
   "language": "python",
   "name": "python3"
  },
  "language_info": {
   "codemirror_mode": {
    "name": "ipython",
    "version": 3
   },
   "file_extension": ".py",
   "mimetype": "text/x-python",
   "name": "python",
   "nbconvert_exporter": "python",
   "pygments_lexer": "ipython3",
   "version": "3.8.5"
  }
 },
 "nbformat": 4,
 "nbformat_minor": 4
}