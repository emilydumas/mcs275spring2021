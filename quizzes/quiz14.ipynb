{
 "cells": [
  {
   "cell_type": "markdown",
   "metadata": {},
   "source": [
    "# Quiz 14\n",
    "\n",
    "## MCS 275 Spring 2021 - Emily Dumas"
   ]
  },
  {
   "cell_type": "markdown",
   "metadata": {},
   "source": [
    "### Home stretch\n",
    "\n",
    "This is the last quiz in MCS 275.  Thanks for sticking with it.  You should be proud of all that you've accomplished.\n",
    "\n",
    "### Deadline\n",
    "\n",
    "This quiz must be submitted in Gradescope by 12:00pm CST on Tuesday, April 27, 2021.\n",
    "\n",
    "### Topic\n",
    "\n",
    "This quiz covers **making web applications with Flask and SQLite**.\n",
    "\n",
    "### Allowed resources:\n",
    "\n",
    "Complete this quiz individually, and only refer to the following materials.\n",
    "\n",
    "(I've tried to sort them so that the most helpful references are at the top of the list.)\n",
    "\n",
    "* [Worksheet 14 Solutions](https://dumas.io/teaching/2021/spring/mcs275/nbview/worksheets/worksheet14_soln.html)\n",
    "* [Lecture 38 - Web app wrap-up](https://dumas.io/teaching/2021/spring/mcs275/slides/lecture38.html)\n",
    "* [Lecture 32 - SQL and SQLite II](https://dumas.io/teaching/2021/spring/mcs275/slides/lecture32.html#/11)\n",
    "* [Lecture 37 - Forms](https://dumas.io/teaching/2021/spring/mcs275/slides/lecture37.html)\n",
    "* [Lecture 36 - Using Flask](https://dumas.io/teaching/2021/spring/mcs275/slides/lecture36.html)\n",
    "* [Lecture 35 - HTTP and Flask](https://dumas.io/teaching/2021/spring/mcs275/slides/lecture35.html)\n",
    "* [Lecture 34 - Planning our web apps](https://dumas.io/teaching/2021/spring/mcs275/slides/lecture34.html)\n",
    "* [Lecture 33 - HTML and CSS](https://dumas.io/teaching/2021/spring/mcs275/slides/lecture33.html)\n",
    "* Course sample code (web development directory):\n",
    "    * [web/](https://github.com/emilydumas/mcs275spring2021/tree/master/samplecode/web)\n",
    "* [Flask online documentation](https://flask.palletsprojects.com/en/1.1.x/)\n",
    "\n",
    "\n",
    "\n",
    "### Point distribution\n",
    "\n",
    "There are is just one problem on this quiz.  The point breakdown is:\n",
    "\n",
    "| Points | Item |\n",
    "| --- | --- |\n",
    "| 3 | autograder |\n",
    "| 5 | problem 2 |\n",
    "| **8** | total |"
   ]
  },
  {
   "cell_type": "markdown",
   "metadata": {},
   "source": [
    "## No problem 1 (as usual)"
   ]
  },
  {
   "cell_type": "markdown",
   "metadata": {},
   "source": [
    "## Problem 2: Whinge reset form\n",
    "\n",
    "This problem is based on the web application Whinge that we developed in Lectures 36-38 and which you worked on in Worksheet 14.  The source code for that application is available in this zip file:\n",
    "* [webapps.zip](https://dumas.io/teaching/2021/spring/mcs275/data/webapps.zip)\n",
    "\n",
    "Suppose we'd like to add another page to this application which allows an administrator to reset the database, deleting all existing posts.  This is a destructive action, so it will be protected by a layer of authentication.  Visiting `/reset/` will display a form that asks for an authentication code, and submitting that form will reset the database only if the correct code is given.  The URL that handles the submission of the form will be `/reset/confirm`, so that's the route which will contain the actual logic to check the code and reset the database.\n",
    "\n",
    "For the purposes of this quiz, the authentication code is fixed as `481516`.  (In a real application you'd have a separate login system, and perhaps use a [TOTP](https://en.wikipedia.org/wiki/Time-based_One-Time_Password)-based second layer of authentication for certain actions.)\n",
    "\n",
    "The reset form and authentication code checking functions have already been written.  All that remains is for you to write the function that receives the form data and resets the database if appropriate.  (You can either handle the reset by dropping the table and building it again, or you can delete all the rows; either is acceptable.)"
   ]
  },
  {
   "cell_type": "code",
   "execution_count": null,
   "metadata": {},
   "outputs": [],
   "source": [
    "# Add these functions to `whinge.py` to create the db reset page\n",
    "# (This is not a complete script that can run on its own.)\n",
    "\n",
    "def check_auth_code(s):\n",
    "    \"\"\"Determine whether `s` is the correct authorization code for\n",
    "    a database reset operation.\"\"\"\n",
    "    # TODO: Replace hard-coded auth code with actual TOTP algorithm\n",
    "    return s == \"481516\"\n",
    "\n",
    "@app.route(\"/reset/\")\n",
    "def db_reset_form():\n",
    "    return \"\"\"<!DOCTYPE html>\n",
    "<html>\n",
    "    <head>\n",
    "        <title>Whinge DB reset</title>\n",
    "        <link rel=\"stylesheet\" href=\"/static/whinge.css\">\n",
    "    </head>\n",
    "\n",
    "    <body>\n",
    "        <h1>Whinge</h1>\n",
    "        \n",
    "        <h2>Database reset</h2>\n",
    "        <p>This action will delete all whinges.  To proceed, enter the\n",
    "        authentication code.</p>\n",
    "         <form action=\"/reset/confirm\" method=\"post\">\n",
    "                <div>\n",
    "                    <label for=\"code\">Auth code:</label>\n",
    "                    <input type=\"text\" id=\"code\" name=\"code\">\n",
    "                </div>\n",
    "                <input type=\"submit\" value=\"Reset database\">\n",
    "            </form>\n",
    "    </body>\n",
    "    </html>\n",
    "    \"\"\"\n",
    "    \n",
    "#------------------- BEGINNING OF THE PART YOU SHOULD SUBMIT ------------------\n",
    "@app.route(\"/reset/confirm\",methods=[\"GET\",\"POST\"])\n",
    "def db_reset():\n",
    "    \"\"\"Route that handles submission of the database reset form.  The auth code\n",
    "    entered in that form is checked by `check_auth_code`.  If that function\n",
    "    returns True, all rows are deleted from table `posts`.  Otherwise, no change\n",
    "    is made to the database.  In either case, the user is redirected to the top\n",
    "    posts page.\"\"\"\n",
    "    # YOUR ASSIGNMENT IS TO DELETE THIS COMMENT AND WRITE THIS FUNCTION BODY\n",
    "    # (You may call other functions defined in whinge.py)\n",
    "\n",
    "#--------------------- END OF THE PART YOU SHOULD SUBMIT -----------------------\n"
   ]
  },
  {
   "cell_type": "markdown",
   "metadata": {},
   "source": [
    "**Write the body of the function `db_reset` so that it performs exactly as described above.**\n",
    "\n",
    "Submit the function `db_reset` to gradescopre in a file called `quiz14prob2.py`.  Do not submit the entire Whinge app, or even the entire `whinge.py` script.  Only submit the function `db_reset`.  This means that the script you submit will not work on its own.  (You'll also need to add a docstring at the top of the file `quiz14prob2.py` since the autograder requires every submitted python file to have a file-level docstring.)\n",
    "\n",
    "It is recommended that you work on this problem by adding the entire block of code shown above to `whinge.py`, which will allow you to test the reset functionality.  If you test the application before writing a body for `db_reset`, it should display the reset form when you visit http://localhost:5000/reset/ , but submitting that form will give a HTTP 500 error (internal server error).  After you finish your work, submitting the reset form should always return the user to the main page, resetting the database only if the auth code was correct."
   ]
  }
 ],
 "metadata": {
  "kernelspec": {
   "display_name": "Python 3",
   "language": "python",
   "name": "python3"
  },
  "language_info": {
   "codemirror_mode": {
    "name": "ipython",
    "version": 3
   },
   "file_extension": ".py",
   "mimetype": "text/x-python",
   "name": "python",
   "nbconvert_exporter": "python",
   "pygments_lexer": "ipython3",
   "version": "3.8.5"
  }
 },
 "nbformat": 4,
 "nbformat_minor": 2
}
