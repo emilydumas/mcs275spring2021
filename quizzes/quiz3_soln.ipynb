{
 "cells": [
  {
   "cell_type": "markdown",
   "metadata": {},
   "source": [
    "# Quiz 3 Solutions\n",
    "\n",
    "## MCS 275 Spring 2021 - Emily Dumas\n",
    "### Solutions by Jennifer Vaccaro"
   ]
  },
  {
   "cell_type": "markdown",
   "metadata": {},
   "source": [
    "## Problem 2: Arithmetic forbidden - 4 points\n",
    "\n",
    "### THIS IS THE ONLY PROBLEM ON THE QUIZ\n",
    "\n",
    "Make a subclass of the built-in class `int` called `NoArithInt` which \"forbids arithmetic\", meaning that it is not possible to use the operations `+`, `-`, `*`, or `/` with two instances of `NoArithInt`.\n",
    "\n",
    "Save your class definition in a file called `quiz3prob2.py` and submit it.\n",
    "\n",
    "Your subclass should NOT have its own constructor, because `int` already has one that does everything needed.  The only methods in your subclass should be special methods that handle the arithmetic operations listed above."
   ]
  },
  {
   "cell_type": "code",
   "execution_count": 2,
   "metadata": {},
   "outputs": [],
   "source": [
    "# MCS 275 Quiz 3 Problem 2: Minimal Solution\n",
    "# Jennifer Vaccaro\n",
    "# This code is my own work, written in \n",
    "# accordance with the rules in the syllabus.\n",
    "\n",
    "class NoArithInt(int):\n",
    "    \"\"\"Subclass of int that does not allow operators +,-,*,/\"\"\"\n",
    "    def __add__(self, other):\n",
    "        \"\"\"Return NotImplemented, since you cannot add NoArithInts.\"\"\"\n",
    "        # Always returns NotImplemented, independent of the type of other\n",
    "        return NotImplemented\n",
    "\n",
    "    def __sub__(self,other):\n",
    "        \"\"\"Return NotImplemented, since you cannot subtract NoArithInts.\"\"\"\n",
    "        return NotImplemented\n",
    "\n",
    "    def __mul__(self, other):\n",
    "        \"\"\"Return NotImplemented, since you cannot multiply NoArithInts.\"\"\"\n",
    "        return NotImplemented\n",
    "\n",
    "    def __truediv__(self, other):\n",
    "        \"\"\"Return NotImplemented, since you cannot divide NoArithInts.\"\"\"\n",
    "        return NotImplemented\n",
    "\n",
    "    #You do not need to implement radd, rmul, etc. since those will only be used when the \"left side\" of the operator is NOT a NoArithInt."
   ]
  },
  {
   "source": [
    "Here are some test cases with integers."
   ],
   "cell_type": "markdown",
   "metadata": {}
  },
  {
   "cell_type": "code",
   "execution_count": 3,
   "metadata": {},
   "outputs": [
    {
     "output_type": "stream",
     "name": "stdout",
     "text": [
      "20\n-10\n75\n3.0\n"
     ]
    }
   ],
   "source": [
    "# make some instances of int\n",
    "x = 5\n",
    "y = 15\n",
    "# Test that arithmetic between ints works\n",
    "print(x+y) # 20\n",
    "print(x-y) # -10\n",
    "print(x*y) # 75\n",
    "print(y/x) # 3.0"
   ]
  },
  {
   "cell_type": "markdown",
   "metadata": {},
   "source": [
    "And here are some similar statements that attempt to do arithmetic with `NoArithInt` objects, which should fail.  It is assumed here that `NoArithInt` is available in the same scope as this code is run, so you might need to change it to `quiz3prob2.NoArithInt` and add `import quiz3prob2` if you're running these statements in a separate file."
   ]
  },
  {
   "cell_type": "code",
   "execution_count": 4,
   "metadata": {},
   "outputs": [
    {
     "output_type": "error",
     "ename": "TypeError",
     "evalue": "unsupported operand type(s) for +: 'NoArithInt' and 'NoArithInt'",
     "traceback": [
      "\u001b[1;31m---------------------------------------------------------------------------\u001b[0m",
      "\u001b[1;31mTypeError\u001b[0m                                 Traceback (most recent call last)",
      "\u001b[1;32m<ipython-input-4-ab717b871d7d>\u001b[0m in \u001b[0;36m<module>\u001b[1;34m\u001b[0m\n\u001b[0;32m      6\u001b[0m \u001b[1;33m\u001b[0m\u001b[0m\n\u001b[0;32m      7\u001b[0m \u001b[1;31m# should give TypeError: unsupported operand type(s) for +: 'NoArithInt' and 'NoArithInt'\u001b[0m\u001b[1;33m\u001b[0m\u001b[1;33m\u001b[0m\u001b[1;33m\u001b[0m\u001b[0m\n\u001b[1;32m----> 8\u001b[1;33m \u001b[0mprint\u001b[0m\u001b[1;33m(\u001b[0m\u001b[0mx\u001b[0m\u001b[1;33m+\u001b[0m\u001b[0my\u001b[0m\u001b[1;33m)\u001b[0m\u001b[1;33m\u001b[0m\u001b[1;33m\u001b[0m\u001b[0m\n\u001b[0m\u001b[0;32m      9\u001b[0m \u001b[1;33m\u001b[0m\u001b[0m\n\u001b[0;32m     10\u001b[0m \u001b[1;31m# should give TypeError: unsupported operand type(s) for -: 'NoArithInt' and 'NoArithInt'\u001b[0m\u001b[1;33m\u001b[0m\u001b[1;33m\u001b[0m\u001b[1;33m\u001b[0m\u001b[0m\n",
      "\u001b[1;31mTypeError\u001b[0m: unsupported operand type(s) for +: 'NoArithInt' and 'NoArithInt'"
     ]
    }
   ],
   "source": [
    "# make some no arithmetic integers\n",
    "x = NoArithInt(5)\n",
    "y = NoArithInt(15)\n",
    "\n",
    "# Test that arithmetic between NoArithInt instances fails.\n",
    "\n",
    "# should give TypeError: unsupported operand type(s) for +: 'NoArithInt' and 'NoArithInt'\n",
    "print(x+y)\n",
    "\n",
    "# should give TypeError: unsupported operand type(s) for -: 'NoArithInt' and 'NoArithInt'\n",
    "print(x-y)\n",
    "\n",
    "# should give TypeError: unsupported operand type(s) for *: 'NoArithInt' and 'NoArithInt'\n",
    "print(x*y)\n",
    "\n",
    "# should give TypeError: unsupported operand type(s) for /: 'NoArithInt' and 'NoArithInt'\n",
    "print(y/x)\n",
    "\n",
    "# WARNING: To test the print() statements above, you'll need to run them one at a time.\n",
    "# If you just copy all of them into a file and run it, execution will stop as soon as\n",
    "# the first one raises an exception."
   ]
  },
  {
   "source": [
    "Here's a bonus solution, which considers a different behavior for the case when \"other\" is NOT a NoArithInt. Specifically, it uses super() to recreate the behavior of performing arithmentic between an int and other."
   ],
   "cell_type": "markdown",
   "metadata": {}
  },
  {
   "cell_type": "code",
   "execution_count": null,
   "metadata": {},
   "outputs": [],
   "source": [
    "# MCS 275 Quiz 3 Problem 2: Supplementary Solution\n",
    "# Jennifer Vaccaro\n",
    "# This code is my own work, written in \n",
    "# accordance with the rules in the syllabus.\n",
    "\n",
    "class NoArithInt(int):\n",
    "    \"\"\"Subclass of int that does not allow operators +,-,*,/\"\"\"\n",
    "    def __add__(self, other):\n",
    "        \"\"\"Return NotImplemented if other is a NoArithInt\n",
    "        otherwise, behave like an integer and add.\"\"\"\n",
    "        # Check the type of other...if it's a NoArithInt, then\n",
    "        # returning NotImplemented will raise the appropriate TypeError\n",
    "        if isinstance(other, NoArithInt):\n",
    "            return NotImplemented\n",
    "        else:\n",
    "            # otherwise, add the \"other\" item to self as if \n",
    "            # self is an integer, using super()\n",
    "            return super().__add__(other)\n",
    "            \n",
    "    def __sub__(self,other):\n",
    "        \"\"\"Return NotImplemented if other is a NoArithInt\n",
    "        otherwise, behave like an integer and subtract.\"\"\"\n",
    "        if isinstance(other, NoArithInt):\n",
    "            return NotImplemented\n",
    "        else:\n",
    "            return super().__sub__(other)\n",
    "\n",
    "    def __mul__(self, other):\n",
    "        \"\"\"Return NotImplemented if other is a NoArithInt\n",
    "        otherwise, behave like an integer and multiply.\"\"\"\n",
    "        if isinstance(other, NoArithInt):\n",
    "            return NotImplemented\n",
    "        else:\n",
    "            return super().__mul__(other)\n",
    "\n",
    "    def __truediv__(self, other):\n",
    "        \"\"\"Return NotImplemented if other is a NoArithInt\n",
    "        otherwise, behave like an integer and divide.\"\"\"\n",
    "        if isinstance(other, NoArithInt):\n",
    "            return NotImplemented\n",
    "        else:\n",
    "            return super().__truediv__(other)\n",
    "    \n",
    "    #Again, you do not need to implement radd, rmul, etc., but this solution means that operators will behave commutatively."
   ]
  },
  {
   "source": [
    "Finally, here are some test cases that check the behavior if arithmetic is used between a NoArithInt and another type."
   ],
   "cell_type": "markdown",
   "metadata": {}
  },
  {
   "cell_type": "code",
   "execution_count": 5,
   "metadata": {},
   "outputs": [
    {
     "output_type": "stream",
     "name": "stdout",
     "text": [
      "20\n20\n18.5\n18.5\n"
     ]
    },
    {
     "output_type": "error",
     "ename": "TypeError",
     "evalue": "unsupported operand type(s) for +: 'NoArithInt' and 'str'",
     "traceback": [
      "\u001b[1;31m---------------------------------------------------------------------------\u001b[0m",
      "\u001b[1;31mTypeError\u001b[0m                                 Traceback (most recent call last)",
      "\u001b[1;32m<ipython-input-5-372de2a3130e>\u001b[0m in \u001b[0;36m<module>\u001b[1;34m\u001b[0m\n\u001b[0;32m      7\u001b[0m \u001b[0mprint\u001b[0m\u001b[1;33m(\u001b[0m\u001b[0mb\u001b[0m\u001b[1;33m+\u001b[0m\u001b[0mx\u001b[0m\u001b[1;33m)\u001b[0m \u001b[1;31m# float + NoArithInt, should be 18.5\u001b[0m\u001b[1;33m\u001b[0m\u001b[1;33m\u001b[0m\u001b[0m\n\u001b[0;32m      8\u001b[0m \u001b[0mprint\u001b[0m\u001b[1;33m(\u001b[0m\u001b[0mx\u001b[0m\u001b[1;33m+\u001b[0m\u001b[0mb\u001b[0m\u001b[1;33m)\u001b[0m \u001b[1;31m# NoArithInt + float, should be 18.5\u001b[0m\u001b[1;33m\u001b[0m\u001b[1;33m\u001b[0m\u001b[0m\n\u001b[1;32m----> 9\u001b[1;33m \u001b[0mprint\u001b[0m\u001b[1;33m(\u001b[0m\u001b[0mx\u001b[0m\u001b[1;33m+\u001b[0m\u001b[0mc\u001b[0m\u001b[1;33m)\u001b[0m \u001b[1;31m# NoArithInt + string, should fail.\u001b[0m\u001b[1;33m\u001b[0m\u001b[1;33m\u001b[0m\u001b[0m\n\u001b[0m",
      "\u001b[1;31mTypeError\u001b[0m: unsupported operand type(s) for +: 'NoArithInt' and 'str'"
     ]
    }
   ],
   "source": [
    "a = 5\n",
    "b = 3.5\n",
    "c = \"hello!\"\n",
    "x = NoArithInt(15)\n",
    "print(a+x) # int + NoArithInt, should be 20\n",
    "print(x+a) # NoArithInt + int, should be 20\n",
    "print(b+x) # float + NoArithInt, should be 18.5\n",
    "print(x+b) # NoArithInt + float, should be 18.5\n",
    "print(x+c) # NoArithInt + string, should fail (like an int would!)"
   ]
  }
 ],
 "metadata": {
  "kernelspec": {
   "display_name": "Python 3",
   "language": "python",
   "name": "python3"
  },
  "language_info": {
   "codemirror_mode": {
    "name": "ipython",
    "version": 3
   },
   "file_extension": ".py",
   "mimetype": "text/x-python",
   "name": "python",
   "nbconvert_exporter": "python",
   "pygments_lexer": "ipython3",
   "version": "3.8.5-final"
  }
 },
 "nbformat": 4,
 "nbformat_minor": 4
}