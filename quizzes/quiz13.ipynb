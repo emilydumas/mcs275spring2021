{
 "cells": [
  {
   "cell_type": "markdown",
   "metadata": {},
   "source": [
    "# Quiz 13\n",
    "\n",
    "## MCS 275 Spring 2021 - Emily Dumas"
   ]
  },
  {
   "cell_type": "markdown",
   "metadata": {},
   "source": [
    "### Instructions:\n",
    "\n",
    "#### Deadline\n",
    "\n",
    "This quiz must be submitted in Gradescope by 12:00pm CST on Tuesday, April 20, 2021.\n",
    "\n",
    "### Topic\n",
    "\n",
    "This quiz covers **HTML**, **CSS**, and the basics of the Python web framework **Flask**.\n",
    "\n",
    "### Allowed resources:\n",
    "\n",
    "Quizzes are INDIVIDUAL, closed book, and only allow access to specified resources. For this quiz you can access:\n",
    "\n",
    "* [Lecture 33 - HTML and CSS](http://dumas.io/teaching/2021/spring/mcs275/slides/lecture33.html)\n",
    "* [Lecture 34 - Planning our web apps](http://dumas.io/teaching/2021/spring/mcs275/slides/lecture34.html)\n",
    "* [Lecture 35 - HTTP and Flask](http://dumas.io/teaching/2021/spring/mcs275/slides/lecture35.html)\n",
    "* [Lecture 36 - Using Flask](http://dumas.io/teaching/2021/spring/mcs275/slides/lecture36.html)\n",
    "* Course sample code (web development directory):\n",
    "    * [web/](https://github.com/emilydumas/mcs275spring2021/tree/master/samplecode/web)\n",
    "* [Worksheet 13 Solutions](https://dumas.io/teaching/2021/spring/mcs275/nbview/worksheets/worksheet13_soln.html)\n",
    "\n",
    "### Point distribution\n",
    "\n",
    "There are two problems on this quiz, numbered 2 and 3.  The point breakdown is:\n",
    "\n",
    "| Points | Item |\n",
    "| --- | --- |\n",
    "| 3 | autograder |\n",
    "| 4 | problem 2 |\n",
    "| 4 | problem 3 |\n",
    "| **11** | total |"
   ]
  },
  {
   "cell_type": "markdown",
   "metadata": {},
   "source": [
    "## No problem 1 (as usual)"
   ]
  },
  {
   "cell_type": "markdown",
   "metadata": {},
   "source": [
    "## Problem 2: HTML squares report\n",
    "\n",
    "Write a Python program `quiz13prob2.py` that takes a single command line argument, a positive integer `n`, and which generates a HTML file that has a **title**, a **header** (h1), and contains an **unordered list** of the first `n` perfect squares.  It should save the output to a file called `squares.html`.\n",
    "\n",
    "For example, running\n",
    "```\n",
    "python3 quiz13prob2.py 5\n",
    "```\n",
    "should create a file `squares.html` that when opened in a browser looks similar to the screenshot below.\n",
    "\n",
    "![Screenshot of squares HTML](squares-screenshot.png)\n",
    "\n",
    "Due to differences between browsers, a correct HTML file may look slightly different from this screenshot.  (You *don't* need to use any CSS to achieve a more precise match.)\n",
    "\n",
    "Also, browsers are often willing to render invalid HTML, so loading your HTML in a browser is not a perfect test of its correctness.  Be sure to manually inspect the contents and check that each opening tag has a corresponding closing tag, for example."
   ]
  },
  {
   "cell_type": "markdown",
   "metadata": {},
   "source": [
    "## Problem 3: Is it Friday yet?\n",
    "\n",
    "Make a Flask application `quiz13prob3.py` that has a single route, `/`, which returns an HTML document whose body contains either\n",
    "```\n",
    "<h1 class=\"encouraging\">Yes, it's Friday!</h1>\n",
    "```\n",
    "or\n",
    "```\n",
    "<h1 class=\"disappointing\">No, it isn't Friday.</h1>\n",
    "```\n",
    "according to whether or not it is Friday at the time the request is served.  Include an inline CSS stylesheet in the document header (in a `<style>` tag) which ensures that \"Yes, it's Friday!\" will always appear in **large green text** while \"No, it isn't Friday.\" will always appear in **small red text**.  The same stylesheet should be included no matter what day of week it is; you must use the `class` attributes of the `h1` tags to ensure different syles are applied to the two possible messages."
   ]
  },
  {
   "cell_type": "markdown",
   "metadata": {},
   "source": [
    "**Note:** We haven't worked with Python's `datetime` module very much in MCS 275, though it is often covered in MCS 260. For the purposes of this problem, it should be enough to know the following way to get the current day of week:"
   ]
  },
  {
   "cell_type": "code",
   "execution_count": 7,
   "metadata": {},
   "outputs": [
    {
     "data": {
      "text/plain": [
       "5"
      ]
     },
     "execution_count": 7,
     "metadata": {},
     "output_type": "execute_result"
    }
   ],
   "source": [
    "import datetime\n",
    "\n",
    "datetime.datetime.now().weekday()  # returns an integer, 0=Mon, 1=Tue ..., 4=Fri, 5=Sat, 6=Sun"
   ]
  }
 ],
 "metadata": {
  "kernelspec": {
   "display_name": "Python 3",
   "language": "python",
   "name": "python3"
  },
  "language_info": {
   "codemirror_mode": {
    "name": "ipython",
    "version": 3
   },
   "file_extension": ".py",
   "mimetype": "text/x-python",
   "name": "python",
   "nbconvert_exporter": "python",
   "pygments_lexer": "ipython3",
   "version": "3.8.5"
  }
 },
 "nbformat": 4,
 "nbformat_minor": 2
}
